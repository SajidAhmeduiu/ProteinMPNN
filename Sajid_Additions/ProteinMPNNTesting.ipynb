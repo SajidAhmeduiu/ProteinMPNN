{
  "nbformat": 4,
  "nbformat_minor": 0,
  "metadata": {
    "colab": {
      "name": "ProteinMPNNTesting.ipynb",
      "provenance": [],
      "collapsed_sections": [],
      "machine_shape": "hm"
    },
    "kernelspec": {
      "name": "python3",
      "display_name": "Python 3"
    },
    "language_info": {
      "name": "python"
    },
    "accelerator": "GPU",
    "gpuClass": "standard",
    "widgets": {
      "application/vnd.jupyter.widget-state+json": {
        "504a31c8fcad4d309544b023cde675d1": {
          "model_module": "@jupyter-widgets/controls",
          "model_name": "HBoxModel",
          "model_module_version": "1.5.0",
          "state": {
            "_dom_classes": [],
            "_model_module": "@jupyter-widgets/controls",
            "_model_module_version": "1.5.0",
            "_model_name": "HBoxModel",
            "_view_count": null,
            "_view_module": "@jupyter-widgets/controls",
            "_view_module_version": "1.5.0",
            "_view_name": "HBoxView",
            "box_style": "",
            "children": [
              "IPY_MODEL_16ff406740ba41cfa9526eb85e7b7c7d",
              "IPY_MODEL_1d2759eb3bc0490bbfcad594dc4d866a",
              "IPY_MODEL_fc879f9766d94240952d881138278e81"
            ],
            "layout": "IPY_MODEL_d59d969374314262a71a08e84a9adaad"
          }
        },
        "16ff406740ba41cfa9526eb85e7b7c7d": {
          "model_module": "@jupyter-widgets/controls",
          "model_name": "HTMLModel",
          "model_module_version": "1.5.0",
          "state": {
            "_dom_classes": [],
            "_model_module": "@jupyter-widgets/controls",
            "_model_module_version": "1.5.0",
            "_model_name": "HTMLModel",
            "_view_count": null,
            "_view_module": "@jupyter-widgets/controls",
            "_view_module_version": "1.5.0",
            "_view_name": "HTMLView",
            "description": "",
            "description_tooltip": null,
            "layout": "IPY_MODEL_025a087728e5441d8d66f85fcfdb830d",
            "placeholder": "​",
            "style": "IPY_MODEL_0352ed08ce034841a3690f0c0492aa1f",
            "value": ""
          }
        },
        "1d2759eb3bc0490bbfcad594dc4d866a": {
          "model_module": "@jupyter-widgets/controls",
          "model_name": "FloatProgressModel",
          "model_module_version": "1.5.0",
          "state": {
            "_dom_classes": [],
            "_model_module": "@jupyter-widgets/controls",
            "_model_module_version": "1.5.0",
            "_model_name": "FloatProgressModel",
            "_view_count": null,
            "_view_module": "@jupyter-widgets/controls",
            "_view_module_version": "1.5.0",
            "_view_name": "ProgressView",
            "bar_style": "success",
            "description": "",
            "description_tooltip": null,
            "layout": "IPY_MODEL_42ffbe7945174cfea7104cfcbd0caa53",
            "max": 1,
            "min": 0,
            "orientation": "horizontal",
            "style": "IPY_MODEL_8ed1d1de558c4006ac7d520659456300",
            "value": 1
          }
        },
        "fc879f9766d94240952d881138278e81": {
          "model_module": "@jupyter-widgets/controls",
          "model_name": "HTMLModel",
          "model_module_version": "1.5.0",
          "state": {
            "_dom_classes": [],
            "_model_module": "@jupyter-widgets/controls",
            "_model_module_version": "1.5.0",
            "_model_name": "HTMLModel",
            "_view_count": null,
            "_view_module": "@jupyter-widgets/controls",
            "_view_module_version": "1.5.0",
            "_view_name": "HTMLView",
            "description": "",
            "description_tooltip": null,
            "layout": "IPY_MODEL_aaa32b111a244721ab650eb53a9aced2",
            "placeholder": "​",
            "style": "IPY_MODEL_a7eda7595b9a4ca9926b94824a3071fd",
            "value": " 2648/? [00:00&lt;00:00, 67490.56it/s]"
          }
        },
        "d59d969374314262a71a08e84a9adaad": {
          "model_module": "@jupyter-widgets/base",
          "model_name": "LayoutModel",
          "model_module_version": "1.2.0",
          "state": {
            "_model_module": "@jupyter-widgets/base",
            "_model_module_version": "1.2.0",
            "_model_name": "LayoutModel",
            "_view_count": null,
            "_view_module": "@jupyter-widgets/base",
            "_view_module_version": "1.2.0",
            "_view_name": "LayoutView",
            "align_content": null,
            "align_items": null,
            "align_self": null,
            "border": null,
            "bottom": null,
            "display": null,
            "flex": null,
            "flex_flow": null,
            "grid_area": null,
            "grid_auto_columns": null,
            "grid_auto_flow": null,
            "grid_auto_rows": null,
            "grid_column": null,
            "grid_gap": null,
            "grid_row": null,
            "grid_template_areas": null,
            "grid_template_columns": null,
            "grid_template_rows": null,
            "height": null,
            "justify_content": null,
            "justify_items": null,
            "left": null,
            "margin": null,
            "max_height": null,
            "max_width": null,
            "min_height": null,
            "min_width": null,
            "object_fit": null,
            "object_position": null,
            "order": null,
            "overflow": null,
            "overflow_x": null,
            "overflow_y": null,
            "padding": null,
            "right": null,
            "top": null,
            "visibility": null,
            "width": null
          }
        },
        "025a087728e5441d8d66f85fcfdb830d": {
          "model_module": "@jupyter-widgets/base",
          "model_name": "LayoutModel",
          "model_module_version": "1.2.0",
          "state": {
            "_model_module": "@jupyter-widgets/base",
            "_model_module_version": "1.2.0",
            "_model_name": "LayoutModel",
            "_view_count": null,
            "_view_module": "@jupyter-widgets/base",
            "_view_module_version": "1.2.0",
            "_view_name": "LayoutView",
            "align_content": null,
            "align_items": null,
            "align_self": null,
            "border": null,
            "bottom": null,
            "display": null,
            "flex": null,
            "flex_flow": null,
            "grid_area": null,
            "grid_auto_columns": null,
            "grid_auto_flow": null,
            "grid_auto_rows": null,
            "grid_column": null,
            "grid_gap": null,
            "grid_row": null,
            "grid_template_areas": null,
            "grid_template_columns": null,
            "grid_template_rows": null,
            "height": null,
            "justify_content": null,
            "justify_items": null,
            "left": null,
            "margin": null,
            "max_height": null,
            "max_width": null,
            "min_height": null,
            "min_width": null,
            "object_fit": null,
            "object_position": null,
            "order": null,
            "overflow": null,
            "overflow_x": null,
            "overflow_y": null,
            "padding": null,
            "right": null,
            "top": null,
            "visibility": null,
            "width": null
          }
        },
        "0352ed08ce034841a3690f0c0492aa1f": {
          "model_module": "@jupyter-widgets/controls",
          "model_name": "DescriptionStyleModel",
          "model_module_version": "1.5.0",
          "state": {
            "_model_module": "@jupyter-widgets/controls",
            "_model_module_version": "1.5.0",
            "_model_name": "DescriptionStyleModel",
            "_view_count": null,
            "_view_module": "@jupyter-widgets/base",
            "_view_module_version": "1.2.0",
            "_view_name": "StyleView",
            "description_width": ""
          }
        },
        "42ffbe7945174cfea7104cfcbd0caa53": {
          "model_module": "@jupyter-widgets/base",
          "model_name": "LayoutModel",
          "model_module_version": "1.2.0",
          "state": {
            "_model_module": "@jupyter-widgets/base",
            "_model_module_version": "1.2.0",
            "_model_name": "LayoutModel",
            "_view_count": null,
            "_view_module": "@jupyter-widgets/base",
            "_view_module_version": "1.2.0",
            "_view_name": "LayoutView",
            "align_content": null,
            "align_items": null,
            "align_self": null,
            "border": null,
            "bottom": null,
            "display": null,
            "flex": null,
            "flex_flow": null,
            "grid_area": null,
            "grid_auto_columns": null,
            "grid_auto_flow": null,
            "grid_auto_rows": null,
            "grid_column": null,
            "grid_gap": null,
            "grid_row": null,
            "grid_template_areas": null,
            "grid_template_columns": null,
            "grid_template_rows": null,
            "height": null,
            "justify_content": null,
            "justify_items": null,
            "left": null,
            "margin": null,
            "max_height": null,
            "max_width": null,
            "min_height": null,
            "min_width": null,
            "object_fit": null,
            "object_position": null,
            "order": null,
            "overflow": null,
            "overflow_x": null,
            "overflow_y": null,
            "padding": null,
            "right": null,
            "top": null,
            "visibility": null,
            "width": "20px"
          }
        },
        "8ed1d1de558c4006ac7d520659456300": {
          "model_module": "@jupyter-widgets/controls",
          "model_name": "ProgressStyleModel",
          "model_module_version": "1.5.0",
          "state": {
            "_model_module": "@jupyter-widgets/controls",
            "_model_module_version": "1.5.0",
            "_model_name": "ProgressStyleModel",
            "_view_count": null,
            "_view_module": "@jupyter-widgets/base",
            "_view_module_version": "1.2.0",
            "_view_name": "StyleView",
            "bar_color": null,
            "description_width": ""
          }
        },
        "aaa32b111a244721ab650eb53a9aced2": {
          "model_module": "@jupyter-widgets/base",
          "model_name": "LayoutModel",
          "model_module_version": "1.2.0",
          "state": {
            "_model_module": "@jupyter-widgets/base",
            "_model_module_version": "1.2.0",
            "_model_name": "LayoutModel",
            "_view_count": null,
            "_view_module": "@jupyter-widgets/base",
            "_view_module_version": "1.2.0",
            "_view_name": "LayoutView",
            "align_content": null,
            "align_items": null,
            "align_self": null,
            "border": null,
            "bottom": null,
            "display": null,
            "flex": null,
            "flex_flow": null,
            "grid_area": null,
            "grid_auto_columns": null,
            "grid_auto_flow": null,
            "grid_auto_rows": null,
            "grid_column": null,
            "grid_gap": null,
            "grid_row": null,
            "grid_template_areas": null,
            "grid_template_columns": null,
            "grid_template_rows": null,
            "height": null,
            "justify_content": null,
            "justify_items": null,
            "left": null,
            "margin": null,
            "max_height": null,
            "max_width": null,
            "min_height": null,
            "min_width": null,
            "object_fit": null,
            "object_position": null,
            "order": null,
            "overflow": null,
            "overflow_x": null,
            "overflow_y": null,
            "padding": null,
            "right": null,
            "top": null,
            "visibility": null,
            "width": null
          }
        },
        "a7eda7595b9a4ca9926b94824a3071fd": {
          "model_module": "@jupyter-widgets/controls",
          "model_name": "DescriptionStyleModel",
          "model_module_version": "1.5.0",
          "state": {
            "_model_module": "@jupyter-widgets/controls",
            "_model_module_version": "1.5.0",
            "_model_name": "DescriptionStyleModel",
            "_view_count": null,
            "_view_module": "@jupyter-widgets/base",
            "_view_module_version": "1.2.0",
            "_view_name": "StyleView",
            "description_width": ""
          }
        },
        "f298eb87ada0423881fec1d72bad5d8f": {
          "model_module": "@jupyter-widgets/controls",
          "model_name": "HBoxModel",
          "model_module_version": "1.5.0",
          "state": {
            "_dom_classes": [],
            "_model_module": "@jupyter-widgets/controls",
            "_model_module_version": "1.5.0",
            "_model_name": "HBoxModel",
            "_view_count": null,
            "_view_module": "@jupyter-widgets/controls",
            "_view_module_version": "1.5.0",
            "_view_name": "HBoxView",
            "box_style": "",
            "children": [
              "IPY_MODEL_96bc9eeaf4bb4e8589c6bc692f7503c2",
              "IPY_MODEL_bf8fdac7ab0345e790981b47c694b516",
              "IPY_MODEL_38b09c9bb8634346ae4b27c99f492e8a"
            ],
            "layout": "IPY_MODEL_6320a2e30e3548e99df64413c0d9b173"
          }
        },
        "96bc9eeaf4bb4e8589c6bc692f7503c2": {
          "model_module": "@jupyter-widgets/controls",
          "model_name": "HTMLModel",
          "model_module_version": "1.5.0",
          "state": {
            "_dom_classes": [],
            "_model_module": "@jupyter-widgets/controls",
            "_model_module_version": "1.5.0",
            "_model_name": "HTMLModel",
            "_view_count": null,
            "_view_module": "@jupyter-widgets/controls",
            "_view_module_version": "1.5.0",
            "_view_name": "HTMLView",
            "description": "",
            "description_tooltip": null,
            "layout": "IPY_MODEL_475142fbb4fa48fbb62397e21a602b71",
            "placeholder": "​",
            "style": "IPY_MODEL_a00e78c874304f159d814f6dc1cb3215",
            "value": "100%"
          }
        },
        "bf8fdac7ab0345e790981b47c694b516": {
          "model_module": "@jupyter-widgets/controls",
          "model_name": "FloatProgressModel",
          "model_module_version": "1.5.0",
          "state": {
            "_dom_classes": [],
            "_model_module": "@jupyter-widgets/controls",
            "_model_module_version": "1.5.0",
            "_model_name": "FloatProgressModel",
            "_view_count": null,
            "_view_module": "@jupyter-widgets/controls",
            "_view_module_version": "1.5.0",
            "_view_name": "ProgressView",
            "bar_style": "success",
            "description": "",
            "description_tooltip": null,
            "layout": "IPY_MODEL_3760ed5cf03b464cb25e84fd903c9f8a",
            "max": 131,
            "min": 0,
            "orientation": "horizontal",
            "style": "IPY_MODEL_e7c81f7e59804a5cb6be544dd789b22c",
            "value": 131
          }
        },
        "38b09c9bb8634346ae4b27c99f492e8a": {
          "model_module": "@jupyter-widgets/controls",
          "model_name": "HTMLModel",
          "model_module_version": "1.5.0",
          "state": {
            "_dom_classes": [],
            "_model_module": "@jupyter-widgets/controls",
            "_model_module_version": "1.5.0",
            "_model_name": "HTMLModel",
            "_view_count": null,
            "_view_module": "@jupyter-widgets/controls",
            "_view_module_version": "1.5.0",
            "_view_name": "HTMLView",
            "description": "",
            "description_tooltip": null,
            "layout": "IPY_MODEL_caf88f36bc394d36a35eacc71ce88ac8",
            "placeholder": "​",
            "style": "IPY_MODEL_16c3b8a8bdc641fb8723e5385e35cb06",
            "value": " 131/131 [00:02&lt;00:00, 37.51it/s]"
          }
        },
        "6320a2e30e3548e99df64413c0d9b173": {
          "model_module": "@jupyter-widgets/base",
          "model_name": "LayoutModel",
          "model_module_version": "1.2.0",
          "state": {
            "_model_module": "@jupyter-widgets/base",
            "_model_module_version": "1.2.0",
            "_model_name": "LayoutModel",
            "_view_count": null,
            "_view_module": "@jupyter-widgets/base",
            "_view_module_version": "1.2.0",
            "_view_name": "LayoutView",
            "align_content": null,
            "align_items": null,
            "align_self": null,
            "border": null,
            "bottom": null,
            "display": null,
            "flex": null,
            "flex_flow": null,
            "grid_area": null,
            "grid_auto_columns": null,
            "grid_auto_flow": null,
            "grid_auto_rows": null,
            "grid_column": null,
            "grid_gap": null,
            "grid_row": null,
            "grid_template_areas": null,
            "grid_template_columns": null,
            "grid_template_rows": null,
            "height": null,
            "justify_content": null,
            "justify_items": null,
            "left": null,
            "margin": null,
            "max_height": null,
            "max_width": null,
            "min_height": null,
            "min_width": null,
            "object_fit": null,
            "object_position": null,
            "order": null,
            "overflow": null,
            "overflow_x": null,
            "overflow_y": null,
            "padding": null,
            "right": null,
            "top": null,
            "visibility": null,
            "width": null
          }
        },
        "475142fbb4fa48fbb62397e21a602b71": {
          "model_module": "@jupyter-widgets/base",
          "model_name": "LayoutModel",
          "model_module_version": "1.2.0",
          "state": {
            "_model_module": "@jupyter-widgets/base",
            "_model_module_version": "1.2.0",
            "_model_name": "LayoutModel",
            "_view_count": null,
            "_view_module": "@jupyter-widgets/base",
            "_view_module_version": "1.2.0",
            "_view_name": "LayoutView",
            "align_content": null,
            "align_items": null,
            "align_self": null,
            "border": null,
            "bottom": null,
            "display": null,
            "flex": null,
            "flex_flow": null,
            "grid_area": null,
            "grid_auto_columns": null,
            "grid_auto_flow": null,
            "grid_auto_rows": null,
            "grid_column": null,
            "grid_gap": null,
            "grid_row": null,
            "grid_template_areas": null,
            "grid_template_columns": null,
            "grid_template_rows": null,
            "height": null,
            "justify_content": null,
            "justify_items": null,
            "left": null,
            "margin": null,
            "max_height": null,
            "max_width": null,
            "min_height": null,
            "min_width": null,
            "object_fit": null,
            "object_position": null,
            "order": null,
            "overflow": null,
            "overflow_x": null,
            "overflow_y": null,
            "padding": null,
            "right": null,
            "top": null,
            "visibility": null,
            "width": null
          }
        },
        "a00e78c874304f159d814f6dc1cb3215": {
          "model_module": "@jupyter-widgets/controls",
          "model_name": "DescriptionStyleModel",
          "model_module_version": "1.5.0",
          "state": {
            "_model_module": "@jupyter-widgets/controls",
            "_model_module_version": "1.5.0",
            "_model_name": "DescriptionStyleModel",
            "_view_count": null,
            "_view_module": "@jupyter-widgets/base",
            "_view_module_version": "1.2.0",
            "_view_name": "StyleView",
            "description_width": ""
          }
        },
        "3760ed5cf03b464cb25e84fd903c9f8a": {
          "model_module": "@jupyter-widgets/base",
          "model_name": "LayoutModel",
          "model_module_version": "1.2.0",
          "state": {
            "_model_module": "@jupyter-widgets/base",
            "_model_module_version": "1.2.0",
            "_model_name": "LayoutModel",
            "_view_count": null,
            "_view_module": "@jupyter-widgets/base",
            "_view_module_version": "1.2.0",
            "_view_name": "LayoutView",
            "align_content": null,
            "align_items": null,
            "align_self": null,
            "border": null,
            "bottom": null,
            "display": null,
            "flex": null,
            "flex_flow": null,
            "grid_area": null,
            "grid_auto_columns": null,
            "grid_auto_flow": null,
            "grid_auto_rows": null,
            "grid_column": null,
            "grid_gap": null,
            "grid_row": null,
            "grid_template_areas": null,
            "grid_template_columns": null,
            "grid_template_rows": null,
            "height": null,
            "justify_content": null,
            "justify_items": null,
            "left": null,
            "margin": null,
            "max_height": null,
            "max_width": null,
            "min_height": null,
            "min_width": null,
            "object_fit": null,
            "object_position": null,
            "order": null,
            "overflow": null,
            "overflow_x": null,
            "overflow_y": null,
            "padding": null,
            "right": null,
            "top": null,
            "visibility": null,
            "width": null
          }
        },
        "e7c81f7e59804a5cb6be544dd789b22c": {
          "model_module": "@jupyter-widgets/controls",
          "model_name": "ProgressStyleModel",
          "model_module_version": "1.5.0",
          "state": {
            "_model_module": "@jupyter-widgets/controls",
            "_model_module_version": "1.5.0",
            "_model_name": "ProgressStyleModel",
            "_view_count": null,
            "_view_module": "@jupyter-widgets/base",
            "_view_module_version": "1.2.0",
            "_view_name": "StyleView",
            "bar_color": null,
            "description_width": ""
          }
        },
        "caf88f36bc394d36a35eacc71ce88ac8": {
          "model_module": "@jupyter-widgets/base",
          "model_name": "LayoutModel",
          "model_module_version": "1.2.0",
          "state": {
            "_model_module": "@jupyter-widgets/base",
            "_model_module_version": "1.2.0",
            "_model_name": "LayoutModel",
            "_view_count": null,
            "_view_module": "@jupyter-widgets/base",
            "_view_module_version": "1.2.0",
            "_view_name": "LayoutView",
            "align_content": null,
            "align_items": null,
            "align_self": null,
            "border": null,
            "bottom": null,
            "display": null,
            "flex": null,
            "flex_flow": null,
            "grid_area": null,
            "grid_auto_columns": null,
            "grid_auto_flow": null,
            "grid_auto_rows": null,
            "grid_column": null,
            "grid_gap": null,
            "grid_row": null,
            "grid_template_areas": null,
            "grid_template_columns": null,
            "grid_template_rows": null,
            "height": null,
            "justify_content": null,
            "justify_items": null,
            "left": null,
            "margin": null,
            "max_height": null,
            "max_width": null,
            "min_height": null,
            "min_width": null,
            "object_fit": null,
            "object_position": null,
            "order": null,
            "overflow": null,
            "overflow_x": null,
            "overflow_y": null,
            "padding": null,
            "right": null,
            "top": null,
            "visibility": null,
            "width": null
          }
        },
        "16c3b8a8bdc641fb8723e5385e35cb06": {
          "model_module": "@jupyter-widgets/controls",
          "model_name": "DescriptionStyleModel",
          "model_module_version": "1.5.0",
          "state": {
            "_model_module": "@jupyter-widgets/controls",
            "_model_module_version": "1.5.0",
            "_model_name": "DescriptionStyleModel",
            "_view_count": null,
            "_view_module": "@jupyter-widgets/base",
            "_view_module_version": "1.2.0",
            "_view_name": "StyleView",
            "description_width": ""
          }
        },
        "dd95fca41c8649b7acb65c1dee19ad42": {
          "model_module": "@jupyter-widgets/controls",
          "model_name": "HBoxModel",
          "model_module_version": "1.5.0",
          "state": {
            "_dom_classes": [],
            "_model_module": "@jupyter-widgets/controls",
            "_model_module_version": "1.5.0",
            "_model_name": "HBoxModel",
            "_view_count": null,
            "_view_module": "@jupyter-widgets/controls",
            "_view_module_version": "1.5.0",
            "_view_name": "HBoxView",
            "box_style": "",
            "children": [
              "IPY_MODEL_2ec2a820ab5847d1a996f22ab72610d2",
              "IPY_MODEL_13b84fc523a94b6d9174b7630be231da",
              "IPY_MODEL_c7fcf93271d34e568a8f8c88b640cea3"
            ],
            "layout": "IPY_MODEL_db01f99bd198440ea3548a71adc909d1"
          }
        },
        "2ec2a820ab5847d1a996f22ab72610d2": {
          "model_module": "@jupyter-widgets/controls",
          "model_name": "HTMLModel",
          "model_module_version": "1.5.0",
          "state": {
            "_dom_classes": [],
            "_model_module": "@jupyter-widgets/controls",
            "_model_module_version": "1.5.0",
            "_model_name": "HTMLModel",
            "_view_count": null,
            "_view_module": "@jupyter-widgets/controls",
            "_view_module_version": "1.5.0",
            "_view_name": "HTMLView",
            "description": "",
            "description_tooltip": null,
            "layout": "IPY_MODEL_f35415017cfe4dd781b8ea1becee0692",
            "placeholder": "​",
            "style": "IPY_MODEL_df138b08f20440cdad25bf9403374674",
            "value": ""
          }
        },
        "13b84fc523a94b6d9174b7630be231da": {
          "model_module": "@jupyter-widgets/controls",
          "model_name": "FloatProgressModel",
          "model_module_version": "1.5.0",
          "state": {
            "_dom_classes": [],
            "_model_module": "@jupyter-widgets/controls",
            "_model_module_version": "1.5.0",
            "_model_name": "FloatProgressModel",
            "_view_count": null,
            "_view_module": "@jupyter-widgets/controls",
            "_view_module_version": "1.5.0",
            "_view_name": "ProgressView",
            "bar_style": "danger",
            "description": "",
            "description_tooltip": null,
            "layout": "IPY_MODEL_cea6e862af814456a9914077ddcdd5ba",
            "max": 1,
            "min": 0,
            "orientation": "horizontal",
            "style": "IPY_MODEL_4a42b9d80a2b4e62b6e8afbaece7adaf",
            "value": 1
          }
        },
        "c7fcf93271d34e568a8f8c88b640cea3": {
          "model_module": "@jupyter-widgets/controls",
          "model_name": "HTMLModel",
          "model_module_version": "1.5.0",
          "state": {
            "_dom_classes": [],
            "_model_module": "@jupyter-widgets/controls",
            "_model_module_version": "1.5.0",
            "_model_name": "HTMLModel",
            "_view_count": null,
            "_view_module": "@jupyter-widgets/controls",
            "_view_module_version": "1.5.0",
            "_view_name": "HTMLView",
            "description": "",
            "description_tooltip": null,
            "layout": "IPY_MODEL_0735cc9e87d04d7f8f86ba22f3a4628d",
            "placeholder": "​",
            "style": "IPY_MODEL_6c3c37ed7d3143638e4cf7fbeb03b083",
            "value": " 71/? [00:23&lt;00:00,  3.47it/s]"
          }
        },
        "db01f99bd198440ea3548a71adc909d1": {
          "model_module": "@jupyter-widgets/base",
          "model_name": "LayoutModel",
          "model_module_version": "1.2.0",
          "state": {
            "_model_module": "@jupyter-widgets/base",
            "_model_module_version": "1.2.0",
            "_model_name": "LayoutModel",
            "_view_count": null,
            "_view_module": "@jupyter-widgets/base",
            "_view_module_version": "1.2.0",
            "_view_name": "LayoutView",
            "align_content": null,
            "align_items": null,
            "align_self": null,
            "border": null,
            "bottom": null,
            "display": null,
            "flex": null,
            "flex_flow": null,
            "grid_area": null,
            "grid_auto_columns": null,
            "grid_auto_flow": null,
            "grid_auto_rows": null,
            "grid_column": null,
            "grid_gap": null,
            "grid_row": null,
            "grid_template_areas": null,
            "grid_template_columns": null,
            "grid_template_rows": null,
            "height": null,
            "justify_content": null,
            "justify_items": null,
            "left": null,
            "margin": null,
            "max_height": null,
            "max_width": null,
            "min_height": null,
            "min_width": null,
            "object_fit": null,
            "object_position": null,
            "order": null,
            "overflow": null,
            "overflow_x": null,
            "overflow_y": null,
            "padding": null,
            "right": null,
            "top": null,
            "visibility": null,
            "width": null
          }
        },
        "f35415017cfe4dd781b8ea1becee0692": {
          "model_module": "@jupyter-widgets/base",
          "model_name": "LayoutModel",
          "model_module_version": "1.2.0",
          "state": {
            "_model_module": "@jupyter-widgets/base",
            "_model_module_version": "1.2.0",
            "_model_name": "LayoutModel",
            "_view_count": null,
            "_view_module": "@jupyter-widgets/base",
            "_view_module_version": "1.2.0",
            "_view_name": "LayoutView",
            "align_content": null,
            "align_items": null,
            "align_self": null,
            "border": null,
            "bottom": null,
            "display": null,
            "flex": null,
            "flex_flow": null,
            "grid_area": null,
            "grid_auto_columns": null,
            "grid_auto_flow": null,
            "grid_auto_rows": null,
            "grid_column": null,
            "grid_gap": null,
            "grid_row": null,
            "grid_template_areas": null,
            "grid_template_columns": null,
            "grid_template_rows": null,
            "height": null,
            "justify_content": null,
            "justify_items": null,
            "left": null,
            "margin": null,
            "max_height": null,
            "max_width": null,
            "min_height": null,
            "min_width": null,
            "object_fit": null,
            "object_position": null,
            "order": null,
            "overflow": null,
            "overflow_x": null,
            "overflow_y": null,
            "padding": null,
            "right": null,
            "top": null,
            "visibility": null,
            "width": null
          }
        },
        "df138b08f20440cdad25bf9403374674": {
          "model_module": "@jupyter-widgets/controls",
          "model_name": "DescriptionStyleModel",
          "model_module_version": "1.5.0",
          "state": {
            "_model_module": "@jupyter-widgets/controls",
            "_model_module_version": "1.5.0",
            "_model_name": "DescriptionStyleModel",
            "_view_count": null,
            "_view_module": "@jupyter-widgets/base",
            "_view_module_version": "1.2.0",
            "_view_name": "StyleView",
            "description_width": ""
          }
        },
        "cea6e862af814456a9914077ddcdd5ba": {
          "model_module": "@jupyter-widgets/base",
          "model_name": "LayoutModel",
          "model_module_version": "1.2.0",
          "state": {
            "_model_module": "@jupyter-widgets/base",
            "_model_module_version": "1.2.0",
            "_model_name": "LayoutModel",
            "_view_count": null,
            "_view_module": "@jupyter-widgets/base",
            "_view_module_version": "1.2.0",
            "_view_name": "LayoutView",
            "align_content": null,
            "align_items": null,
            "align_self": null,
            "border": null,
            "bottom": null,
            "display": null,
            "flex": null,
            "flex_flow": null,
            "grid_area": null,
            "grid_auto_columns": null,
            "grid_auto_flow": null,
            "grid_auto_rows": null,
            "grid_column": null,
            "grid_gap": null,
            "grid_row": null,
            "grid_template_areas": null,
            "grid_template_columns": null,
            "grid_template_rows": null,
            "height": null,
            "justify_content": null,
            "justify_items": null,
            "left": null,
            "margin": null,
            "max_height": null,
            "max_width": null,
            "min_height": null,
            "min_width": null,
            "object_fit": null,
            "object_position": null,
            "order": null,
            "overflow": null,
            "overflow_x": null,
            "overflow_y": null,
            "padding": null,
            "right": null,
            "top": null,
            "visibility": null,
            "width": "20px"
          }
        },
        "4a42b9d80a2b4e62b6e8afbaece7adaf": {
          "model_module": "@jupyter-widgets/controls",
          "model_name": "ProgressStyleModel",
          "model_module_version": "1.5.0",
          "state": {
            "_model_module": "@jupyter-widgets/controls",
            "_model_module_version": "1.5.0",
            "_model_name": "ProgressStyleModel",
            "_view_count": null,
            "_view_module": "@jupyter-widgets/base",
            "_view_module_version": "1.2.0",
            "_view_name": "StyleView",
            "bar_color": null,
            "description_width": ""
          }
        },
        "0735cc9e87d04d7f8f86ba22f3a4628d": {
          "model_module": "@jupyter-widgets/base",
          "model_name": "LayoutModel",
          "model_module_version": "1.2.0",
          "state": {
            "_model_module": "@jupyter-widgets/base",
            "_model_module_version": "1.2.0",
            "_model_name": "LayoutModel",
            "_view_count": null,
            "_view_module": "@jupyter-widgets/base",
            "_view_module_version": "1.2.0",
            "_view_name": "LayoutView",
            "align_content": null,
            "align_items": null,
            "align_self": null,
            "border": null,
            "bottom": null,
            "display": null,
            "flex": null,
            "flex_flow": null,
            "grid_area": null,
            "grid_auto_columns": null,
            "grid_auto_flow": null,
            "grid_auto_rows": null,
            "grid_column": null,
            "grid_gap": null,
            "grid_row": null,
            "grid_template_areas": null,
            "grid_template_columns": null,
            "grid_template_rows": null,
            "height": null,
            "justify_content": null,
            "justify_items": null,
            "left": null,
            "margin": null,
            "max_height": null,
            "max_width": null,
            "min_height": null,
            "min_width": null,
            "object_fit": null,
            "object_position": null,
            "order": null,
            "overflow": null,
            "overflow_x": null,
            "overflow_y": null,
            "padding": null,
            "right": null,
            "top": null,
            "visibility": null,
            "width": null
          }
        },
        "6c3c37ed7d3143638e4cf7fbeb03b083": {
          "model_module": "@jupyter-widgets/controls",
          "model_name": "DescriptionStyleModel",
          "model_module_version": "1.5.0",
          "state": {
            "_model_module": "@jupyter-widgets/controls",
            "_model_module_version": "1.5.0",
            "_model_name": "DescriptionStyleModel",
            "_view_count": null,
            "_view_module": "@jupyter-widgets/base",
            "_view_module_version": "1.2.0",
            "_view_name": "StyleView",
            "description_width": ""
          }
        }
      }
    }
  },
  "cells": [
    {
      "cell_type": "code",
      "execution_count": null,
      "metadata": {
        "colab": {
          "base_uri": "https://localhost:8080/"
        },
        "id": "j_wbcvVBv0QJ",
        "outputId": "6916cd76-5f3e-478f-b85b-1324c67f62fb"
      },
      "outputs": [
        {
          "output_type": "stream",
          "name": "stdout",
          "text": [
            "Mounted at /content/drive\n"
          ]
        }
      ],
      "source": [
        "from google.colab import drive\n",
        "drive.mount('/content/drive',force_remount=True)\n",
        "import sys \n",
        "installation_path = \"/content/drive/MyDrive/Colab_Installations_V2\"\n",
        "# The path is being modified so that everything installed in the installation path can now be used without re-installing (in this case, I just need biopython)\n",
        "sys.path.insert(0,installation_path)\n",
        "protein_mpnn_path = \"/content/drive/MyDrive/Protein_MPNN_Digging/ProteinMPNN/vanilla_proteinmpnn\"\n",
        "sys.path.insert(0,protein_mpnn_path)"
      ]
    },
    {
      "cell_type": "code",
      "source": [
        "%cd /content/drive/MyDrive/Protein_MPNN_Digging"
      ],
      "metadata": {
        "colab": {
          "base_uri": "https://localhost:8080/"
        },
        "id": "TgTOgsabxBaC",
        "outputId": "6348c2c0-b8e4-4a8d-a8f6-9451716839a1"
      },
      "execution_count": null,
      "outputs": [
        {
          "output_type": "stream",
          "name": "stdout",
          "text": [
            "/content/drive/MyDrive/Protein_MPNN_Digging\n"
          ]
        }
      ]
    },
    {
      "cell_type": "code",
      "source": [
        "import re\n",
        "import matplotlib.pyplot as plt\n",
        "import shutil\n",
        "import warnings\n",
        "import numpy as np\n",
        "import torch\n",
        "from torch import optim\n",
        "from torch.utils.data import DataLoader\n",
        "from torch.utils.data.dataset import random_split, Subset\n",
        "import copy\n",
        "import torch.nn as nn\n",
        "import torch.nn.functional as F\n",
        "import random\n",
        "import os\n",
        "from protein_mpnn_utils import loss_nll, loss_smoothed, gather_edges, gather_nodes, gather_nodes_t, cat_neighbors_nodes, _scores, _S_to_seq, tied_featurize, parse_PDB\n",
        "from protein_mpnn_utils import StructureDataset, StructureDatasetPDB, ProteinMPNN\n",
        "from Bio.PDB import *\n",
        "\n",
        "device = torch.device(\"cuda\" if (torch.cuda.is_available()) else \"cpu\")"
      ],
      "metadata": {
        "id": "jX5ScMeGyLcy"
      },
      "execution_count": null,
      "outputs": []
    },
    {
      "cell_type": "code",
      "source": [
        "import pandas as pd\n",
        "from tqdm.notebook import tqdm\n",
        "from Bio.PDB.Polypeptide import *"
      ],
      "metadata": {
        "id": "NBjszWagtiYL"
      },
      "execution_count": null,
      "outputs": []
    },
    {
      "cell_type": "code",
      "source": [
        "weights_path = os.path.join(protein_mpnn_path,\"vanilla_model_weights\")\n",
        "model_name = \"v_48_020\"\n",
        "checkpoint_path = os.path.join(weights_path,model_name+\".pt\")"
      ],
      "metadata": {
        "id": "Z6ZHe2IIyy1G"
      },
      "execution_count": null,
      "outputs": []
    },
    {
      "cell_type": "code",
      "source": [
        "# Now, load and dig into the checkpoint object\n",
        "checkpoint = torch.load(checkpoint_path, map_location=device) "
      ],
      "metadata": {
        "id": "JPE_pX8tzdUO"
      },
      "execution_count": null,
      "outputs": []
    },
    {
      "cell_type": "code",
      "source": [
        "hidden_dim = 128\n",
        "num_layers = 3 \n",
        "# Seems like, backbone_noise is set to 0 at inference path which seems logical\n",
        "backbone_noise=0.00\n",
        "mpnn_model = ProteinMPNN(num_letters=21, node_features=hidden_dim, edge_features=hidden_dim, hidden_dim=hidden_dim, num_encoder_layers=num_layers, num_decoder_layers=num_layers, augment_eps=backbone_noise, k_neighbors=checkpoint['num_edges'])\n",
        "mpnn_model.to(device)\n",
        "mpnn_model.load_state_dict(checkpoint['model_state_dict'])\n",
        "mpnn_model.eval()"
      ],
      "metadata": {
        "id": "QBgBJd3J0N_S"
      },
      "execution_count": null,
      "outputs": []
    },
    {
      "cell_type": "code",
      "source": [
        "print(checkpoint['model_state_dict'].keys())"
      ],
      "metadata": {
        "colab": {
          "base_uri": "https://localhost:8080/"
        },
        "id": "1pYLpMQS-ill",
        "outputId": "f614c91b-8c5c-44a0-ff2c-50d04dc8a68c"
      },
      "execution_count": null,
      "outputs": [
        {
          "output_type": "stream",
          "name": "stdout",
          "text": [
            "odict_keys(['features.embeddings.linear.weight', 'features.embeddings.linear.bias', 'features.edge_embedding.weight', 'features.norm_edges.weight', 'features.norm_edges.bias', 'W_e.weight', 'W_e.bias', 'W_s.weight', 'encoder_layers.0.norm1.weight', 'encoder_layers.0.norm1.bias', 'encoder_layers.0.norm2.weight', 'encoder_layers.0.norm2.bias', 'encoder_layers.0.norm3.weight', 'encoder_layers.0.norm3.bias', 'encoder_layers.0.W1.weight', 'encoder_layers.0.W1.bias', 'encoder_layers.0.W2.weight', 'encoder_layers.0.W2.bias', 'encoder_layers.0.W3.weight', 'encoder_layers.0.W3.bias', 'encoder_layers.0.W11.weight', 'encoder_layers.0.W11.bias', 'encoder_layers.0.W12.weight', 'encoder_layers.0.W12.bias', 'encoder_layers.0.W13.weight', 'encoder_layers.0.W13.bias', 'encoder_layers.0.dense.W_in.weight', 'encoder_layers.0.dense.W_in.bias', 'encoder_layers.0.dense.W_out.weight', 'encoder_layers.0.dense.W_out.bias', 'encoder_layers.1.norm1.weight', 'encoder_layers.1.norm1.bias', 'encoder_layers.1.norm2.weight', 'encoder_layers.1.norm2.bias', 'encoder_layers.1.norm3.weight', 'encoder_layers.1.norm3.bias', 'encoder_layers.1.W1.weight', 'encoder_layers.1.W1.bias', 'encoder_layers.1.W2.weight', 'encoder_layers.1.W2.bias', 'encoder_layers.1.W3.weight', 'encoder_layers.1.W3.bias', 'encoder_layers.1.W11.weight', 'encoder_layers.1.W11.bias', 'encoder_layers.1.W12.weight', 'encoder_layers.1.W12.bias', 'encoder_layers.1.W13.weight', 'encoder_layers.1.W13.bias', 'encoder_layers.1.dense.W_in.weight', 'encoder_layers.1.dense.W_in.bias', 'encoder_layers.1.dense.W_out.weight', 'encoder_layers.1.dense.W_out.bias', 'encoder_layers.2.norm1.weight', 'encoder_layers.2.norm1.bias', 'encoder_layers.2.norm2.weight', 'encoder_layers.2.norm2.bias', 'encoder_layers.2.norm3.weight', 'encoder_layers.2.norm3.bias', 'encoder_layers.2.W1.weight', 'encoder_layers.2.W1.bias', 'encoder_layers.2.W2.weight', 'encoder_layers.2.W2.bias', 'encoder_layers.2.W3.weight', 'encoder_layers.2.W3.bias', 'encoder_layers.2.W11.weight', 'encoder_layers.2.W11.bias', 'encoder_layers.2.W12.weight', 'encoder_layers.2.W12.bias', 'encoder_layers.2.W13.weight', 'encoder_layers.2.W13.bias', 'encoder_layers.2.dense.W_in.weight', 'encoder_layers.2.dense.W_in.bias', 'encoder_layers.2.dense.W_out.weight', 'encoder_layers.2.dense.W_out.bias', 'decoder_layers.0.norm1.weight', 'decoder_layers.0.norm1.bias', 'decoder_layers.0.norm2.weight', 'decoder_layers.0.norm2.bias', 'decoder_layers.0.W1.weight', 'decoder_layers.0.W1.bias', 'decoder_layers.0.W2.weight', 'decoder_layers.0.W2.bias', 'decoder_layers.0.W3.weight', 'decoder_layers.0.W3.bias', 'decoder_layers.0.dense.W_in.weight', 'decoder_layers.0.dense.W_in.bias', 'decoder_layers.0.dense.W_out.weight', 'decoder_layers.0.dense.W_out.bias', 'decoder_layers.1.norm1.weight', 'decoder_layers.1.norm1.bias', 'decoder_layers.1.norm2.weight', 'decoder_layers.1.norm2.bias', 'decoder_layers.1.W1.weight', 'decoder_layers.1.W1.bias', 'decoder_layers.1.W2.weight', 'decoder_layers.1.W2.bias', 'decoder_layers.1.W3.weight', 'decoder_layers.1.W3.bias', 'decoder_layers.1.dense.W_in.weight', 'decoder_layers.1.dense.W_in.bias', 'decoder_layers.1.dense.W_out.weight', 'decoder_layers.1.dense.W_out.bias', 'decoder_layers.2.norm1.weight', 'decoder_layers.2.norm1.bias', 'decoder_layers.2.norm2.weight', 'decoder_layers.2.norm2.bias', 'decoder_layers.2.W1.weight', 'decoder_layers.2.W1.bias', 'decoder_layers.2.W2.weight', 'decoder_layers.2.W2.bias', 'decoder_layers.2.W3.weight', 'decoder_layers.2.W3.bias', 'decoder_layers.2.dense.W_in.weight', 'decoder_layers.2.dense.W_in.bias', 'decoder_layers.2.dense.W_out.weight', 'decoder_layers.2.dense.W_out.bias', 'W_out.weight', 'W_out.bias'])\n"
          ]
        }
      ]
    },
    {
      "cell_type": "code",
      "source": [
        "# Parse and create dictionaries for all the mutations in PremPS 2648\n",
        "# This dictionary will be a dictionary of dictionaries, where outer-dict keys will be pdbid+mutchain and inner-dict keys will be (wild+pos+mut) and ddg\n",
        "# the icodes can be brought to picture later\n",
        "git_url = \"https://raw.githubusercontent.com/SajidAhmeduiu/PremPS/main/Datasets/S2648/S2648.txt\"\n",
        "dataset =  pd.read_csv(git_url,delimiter=\"\\t\")\n",
        "\n",
        "pdbIds = list(dataset[\"PDB Id\"])\n",
        "mutChains = list(dataset[\"Mutated Chain\"])\n",
        "mutations = list(dataset[\"Mutation_PDB\"])\n",
        "ddgs = list(dataset[\"DDGexp\"])\n",
        "\n",
        "two_level_dict = {}\n",
        "\n",
        "for pdbId, mutChain, mutation, ddg in tqdm(zip(pdbIds,mutChains,mutations,ddgs)):\n",
        "    pos = [int(s) for s in re.findall('-?\\d+',mutation)][0]\n",
        "    wild = mutation[0]\n",
        "    mut = mutation[len(mutation)-1]\n",
        "\n",
        "    pdbId = pdbId.lower()\n",
        "\n",
        "    inner_dict = {}\n",
        "    inner_dict[\"mut\"] = f\"{wild}{pos}{mut}\"\n",
        "    inner_dict[\"ddg\"] = float(ddg)\n",
        "    outer_key = f\"{pdbId}{mutChain}\"\n",
        "    if outer_key not in two_level_dict:\n",
        "        two_level_dict[f\"{pdbId}{mutChain}\"] = [inner_dict]\n",
        "    else:\n",
        "        two_level_dict[f\"{pdbId}{mutChain}\"].append(inner_dict)"
      ],
      "metadata": {
        "colab": {
          "base_uri": "https://localhost:8080/",
          "height": 49,
          "referenced_widgets": [
            "504a31c8fcad4d309544b023cde675d1",
            "16ff406740ba41cfa9526eb85e7b7c7d",
            "1d2759eb3bc0490bbfcad594dc4d866a",
            "fc879f9766d94240952d881138278e81",
            "d59d969374314262a71a08e84a9adaad",
            "025a087728e5441d8d66f85fcfdb830d",
            "0352ed08ce034841a3690f0c0492aa1f",
            "42ffbe7945174cfea7104cfcbd0caa53",
            "8ed1d1de558c4006ac7d520659456300",
            "aaa32b111a244721ab650eb53a9aced2",
            "a7eda7595b9a4ca9926b94824a3071fd"
          ]
        },
        "id": "vP_unq7_sXrn",
        "outputId": "b5b9d4a3-448b-4d2b-8a63-385b5c1102f8"
      },
      "execution_count": null,
      "outputs": [
        {
          "output_type": "display_data",
          "data": {
            "text/plain": [
              "0it [00:00, ?it/s]"
            ],
            "application/vnd.jupyter.widget-view+json": {
              "version_major": 2,
              "version_minor": 0,
              "model_id": "504a31c8fcad4d309544b023cde675d1"
            }
          },
          "metadata": {}
        }
      ]
    },
    {
      "cell_type": "code",
      "source": [
        "# create a seqres to position mapping dictionary\n",
        "# This dictionary will be a dictionary of dictionaries, where outer-dict keys will be pdbid+mutchain and inner-dict key will be (wild+pos) and value of 0-indexed position\n",
        "# the icodes can be brought to picture later\n",
        "mapping_dict = {}\n",
        "pdbDirectory = \"/content/drive/MyDrive/ACCRE_PyRun_Setup/S_2648_PDB_Files\"\n",
        "parser = PDBParser(QUIET=True)\n",
        "# some proteins need to be skipped for now due to ICODE related discrapency\n",
        "proteins_to_skip = []\n",
        "\n",
        "for filename in tqdm(os.listdir(pdbDirectory)):\n",
        "    filepath = os.path.join(pdbDirectory,filename)\n",
        "    structure = parser.get_structure(id=filename.split(\".\")[0],file=filepath)\n",
        "    model = structure[0]\n",
        "    inner_dict = {}\n",
        "    outer_key = filename.split(\".\")[0]\n",
        "    skip_flag = False\n",
        "    # single chain-assumption in action again\n",
        "    for chain in model:\n",
        "        for i,residue in enumerate(chain):\n",
        "            inner_key = f\"{three_to_one(residue.get_resname())}{residue.get_id()[1]}\"\n",
        "            if inner_key not in inner_dict:\n",
        "                inner_dict[inner_key] = i\n",
        "            else:\n",
        "                # For \"2immA:N31\" and \"1lveA:S27\", I have been fucked\n",
        "                # Need to think whether this will effect other positions or I can just avoid these two-protein related mutations for now?\n",
        "                # Let me just avoid these two proteins for now\n",
        "                print(\"YOU HAVE JUST BEEN FUCKED BY ICODE\")\n",
        "                print(f\"{outer_key}:{inner_key}\")\n",
        "                skip_flag = True\n",
        "    # The ICODE related problematic proteins will not be considered for now\n",
        "    if not skip_flag:\n",
        "        mapping_dict[outer_key] = inner_dict\n",
        "    else:\n",
        "        proteins_to_skip.append(outer_key)"
      ],
      "metadata": {
        "colab": {
          "base_uri": "https://localhost:8080/",
          "height": 185,
          "referenced_widgets": [
            "f298eb87ada0423881fec1d72bad5d8f",
            "96bc9eeaf4bb4e8589c6bc692f7503c2",
            "bf8fdac7ab0345e790981b47c694b516",
            "38b09c9bb8634346ae4b27c99f492e8a",
            "6320a2e30e3548e99df64413c0d9b173",
            "475142fbb4fa48fbb62397e21a602b71",
            "a00e78c874304f159d814f6dc1cb3215",
            "3760ed5cf03b464cb25e84fd903c9f8a",
            "e7c81f7e59804a5cb6be544dd789b22c",
            "caf88f36bc394d36a35eacc71ce88ac8",
            "16c3b8a8bdc641fb8723e5385e35cb06"
          ]
        },
        "id": "vxARThyX3VYv",
        "outputId": "84264042-917b-4c63-ed68-249b08a819ca"
      },
      "execution_count": null,
      "outputs": [
        {
          "output_type": "display_data",
          "data": {
            "text/plain": [
              "  0%|          | 0/131 [00:00<?, ?it/s]"
            ],
            "application/vnd.jupyter.widget-view+json": {
              "version_major": 2,
              "version_minor": 0,
              "model_id": "f298eb87ada0423881fec1d72bad5d8f"
            }
          },
          "metadata": {}
        },
        {
          "output_type": "stream",
          "name": "stdout",
          "text": [
            "YOU HAVE JUST BEEN FUCKED BY ICODE\n",
            "1lveA:S27\n",
            "YOU HAVE JUST BEEN FUCKED BY ICODE\n",
            "1lveA:S27\n",
            "YOU HAVE JUST BEEN FUCKED BY ICODE\n",
            "2immA:N31\n",
            "YOU HAVE JUST BEEN FUCKED BY ICODE\n",
            "2immA:N31\n"
          ]
        }
      ]
    },
    {
      "cell_type": "code",
      "source": [
        "# read in the PDB files from the directory where the S_2648 PDB Files are stored, and set-them up one by one for featuirization, and passing through the model\n",
        "pdbDirectory = \"/content/drive/MyDrive/ACCRE_PyRun_Setup/S_2648_PDB_Files\"\n",
        "parser = PDBParser(QUIET=True)\n",
        "entered = 0\n",
        "wtf_chains = []\n",
        "for i,filename in enumerate(os.listdir(pdbDirectory)):\n",
        "    #ICODE related problematic proteins will be skipped from analysis for now\n",
        "    if filename.split(\".\")[0] not in proteins_to_skip:\n",
        "        filepath = os.path.join(pdbDirectory,filename)\n",
        "        structure = parser.get_structure(id=filename.split(\".\")[0],file=filepath)\n",
        "        model = structure[0]\n",
        "        \n",
        "        # Since there is only one chain, and that same chain is both fixed designable for different residues, extracting that name, and putting them in pertinent lists\n",
        "        chain_name = list(model.child_dict.keys())[0]\n",
        "        fixed_chain_list = []\n",
        "        # the trick is to put the single chain as designable chain, and then create the \"fixed_positions_dict\" dictionary  \n",
        "        designed_chain_list = [chain_name]\n",
        "        chain_list = list(set(designed_chain_list + fixed_chain_list))\n",
        "\n",
        "        # Using the programs custome PDB parser for processing the PDB files\n",
        "        pdb_dict_list = parse_PDB(filepath, input_chain_list=chain_list)\n",
        "        # tacking max_length parameter value from the original colab notebook since I need to process all residues at the same time\n",
        "        # all the PDB files can technically be processed together and put inside the dataset_valid list-like object, but right now\n",
        "        # I am trying to keep everything consistent\n",
        "        # Each element of dataset_valid is a dictionary \n",
        "        dataset_valid = StructureDatasetPDB(pdb_dict_list, truncate=None, max_length=20000)\n",
        "\n",
        "        # At this point, probably need to put None values in a lot of parameters that are not relevant to my usecase, but need to be sent to featurizer before running model forward\n",
        "        # For now, I will not tie positions together\n",
        "        tied_positions_dict = None\n",
        "        pssm_dict = None\n",
        "        omit_AA_dict = None\n",
        "        bias_AA_dict = None\n",
        "        tied_positions_dict = None\n",
        "        bias_by_res_dict = None\n",
        "        alphabet = 'ACDEFGHIKLMNPQRSTVWYX'\n",
        "        bias_AAs_np = np.zeros(len(alphabet))\n",
        "        \n",
        "        # I do not even think temperature is necessary for my usecase since I am not trying to generate sequences,\n",
        "        # still keeping a value for code consistency\n",
        "        temperatures = [0.1]\n",
        "\n",
        "        # This \"chain_id_dict\" seems like a parameter that definitely has some effect on  \n",
        "        chain_id_dict = {}\n",
        "        chain_id_dict[pdb_dict_list[0]['name']]= (designed_chain_list, fixed_chain_list)\n",
        "\n",
        "        BATCH_COPIES = 1   \n",
        "        \n",
        "        # print(chain_id_dict)\n",
        "        # Simplying the sequence generation loop\n",
        "        protein = dataset_valid[0]\n",
        "        wildtype_seq = protein[f\"seq_chain_{designed_chain_list[0]}\"]\n",
        "        # print(wildtype_seq)\n",
        "        # only need to mask the mutated position position in \"wildtype_seq\" for now\n",
        "\n",
        "        # \"muts_for_prot\" is a list with information about all the mutations in \"protein\", whose sequence only version is \"wildtype_seq\" \n",
        "        muts_for_prot = two_level_dict[filename.split(\".\")[0]]\n",
        "        # \"cur_map_dict\" will give the 0-based sequence index for the mutations, which will be almost directly used for masking and then running the model\n",
        "        # Now, for the last time need to make sure whether the fixed positions need to be 0-indexed or 1-indexed\n",
        "        cur_map_dict = mapping_dict[filename.split(\".\")[0]]\n",
        "        check = False\n",
        "        for mut in muts_for_prot:\n",
        "            wild_aa = mut[\"mut\"][0]\n",
        "            seq_pos = cur_map_dict[mut[\"mut\"][0:-1]]\n",
        "            # print(f\"{wild_aa},{wildtype_seq[seq_pos]}\")\n",
        "            if wild_aa!=wildtype_seq[seq_pos]:\n",
        "                if not check:\n",
        "                    wtf_chains.append(filename.split(\".\")[0])\n",
        "                    check = True\n",
        "                # print(\"WTF is going on?\")\n",
        "                # entered = entered + 1\n",
        "        \n",
        "# print(entered)"
      ],
      "metadata": {
        "id": "RNoHfApzBYoE"
      },
      "execution_count": null,
      "outputs": []
    },
    {
      "cell_type": "code",
      "source": [
        "# read in the PDB files from the directory where the S_2648 PDB Files are stored, and set-them up one by one for featuirization, and passing through the model\n",
        "pdbDirectory = \"/content/drive/MyDrive/ACCRE_PyRun_Setup/S_2648_PDB_Files\"\n",
        "parser = PDBParser(QUIET=True)\n",
        "for i,filename in tqdm(enumerate(os.listdir(pdbDirectory))):\n",
        "    #ICODE related problematic proteins will be skipped from analysis for now\n",
        "    if filename.split(\".\")[0] not in proteins_to_skip:\n",
        "        if i > 70:\n",
        "            break\n",
        "        filepath = os.path.join(pdbDirectory,filename)\n",
        "        structure = parser.get_structure(id=filename.split(\".\")[0],file=filepath)\n",
        "        model = structure[0]\n",
        "        \n",
        "        # Since there is only one chain, and that same chain is both fixed designable for different residues, extracting that name, and putting them in pertinent lists\n",
        "        chain_name = list(model.child_dict.keys())[0]\n",
        "        fixed_chain_list = []\n",
        "        # the trick is to put the single chain as designable chain, and then create the \"fixed_positions_dict\" dictionary  \n",
        "        designed_chain_list = [chain_name]\n",
        "        chain_list = list(set(designed_chain_list + fixed_chain_list))\n",
        "\n",
        "        # Using the programs custome PDB parser for processing the PDB files\n",
        "        pdb_dict_list = parse_PDB(filepath, input_chain_list=chain_list)\n",
        "        # tacking max_length parameter value from the original colab notebook since I need to process all residues at the same time\n",
        "        # all the PDB files can technically be processed together and put inside the dataset_valid list-like object, but right now\n",
        "        # I am trying to keep everything consistent\n",
        "        # Each element of dataset_valid is a dictionary \n",
        "        dataset_valid = StructureDatasetPDB(pdb_dict_list, truncate=None, max_length=20000)\n",
        "\n",
        "        # Simplying the sequence generation loop\n",
        "        protein = dataset_valid[0]\n",
        "        wildtype_seq = protein[f\"seq_chain_{designed_chain_list[0]}\"]\n",
        "\n",
        "        # If there are gaps in the wildtype_seq \"seq\", remove those positions from both the \"seq\", \"\" and ('coords_chain_{designed_chain_list[0]}'), \n",
        "        # and ('seq_chain_{designed_chain_list[0]}') of the \"protein\"\n",
        "        # print(protein.keys())\n",
        "        # protein is a dict with keys(['seq_chain_A', 'coords_chain_A', 'name', 'num_of_chains', 'seq'])\n",
        "        # \"seq_chain\" and \"seq_all\" are both strings of the same length where gapped positions need to be identified and removed\n",
        "        seq_chain = protein[f\"seq_chain_{designed_chain_list[0]}\"]\n",
        "        seq_all = protein[f\"seq\"]\n",
        "        # \"coordinates_chain\" is a dict with keys(['N_chain_A', 'CA_chain_A', 'C_chain_A', 'O_chain_A'])\n",
        "        coordinates_chain = protein[f\"coords_chain_{designed_chain_list[0]}\"]\n",
        "        \n",
        "        # The following four variables are lists of length equal to seq_chain and seq_all length\n",
        "        # Therefore, the gapped positions can be retrived from seq_chain and removed from everything accordingly\n",
        "        N_chain = coordinates_chain[f\"N_chain_{designed_chain_list[0]}\"]\n",
        "        CA_chain = coordinates_chain[f\"CA_chain_{designed_chain_list[0]}\"]\n",
        "        C_chain = coordinates_chain[f\"C_chain_{designed_chain_list[0]}\"]\n",
        "        O_chain = coordinates_chain[f\"O_chain_{designed_chain_list[0]}\"]\n",
        "\n",
        "        # delete everything related to gapped positions now\n",
        "        # at first, find out the positions that are gapped\n",
        "        N_chain = [v for i,v in enumerate(N_chain) if seq_chain[i] != \"-\"]\n",
        "        CA_chain = [v for i,v in enumerate(CA_chain) if seq_chain[i] != \"-\"]\n",
        "        C_chain = [v for i,v in enumerate(C_chain) if seq_chain[i] != \"-\"]\n",
        "        O_chain = [v for i,v in enumerate(O_chain) if seq_chain[i] != \"-\"]\n",
        "        seq_all = [v for i,v in enumerate(seq_all) if seq_chain[i] != \"-\"]\n",
        "        seq_chain = [v for i,v in enumerate(seq_chain) if seq_chain[i] != \"-\"]\n",
        "\n",
        "        # Now, finally, pack everything back to the dictionary \"protein\"\n",
        "        protein[f\"seq_chain_{designed_chain_list[0]}\"] = seq_chain\n",
        "        protein[f\"seq\"] = seq_all\n",
        "        coordinates_chain[f\"N_chain_{designed_chain_list[0]}\"] = N_chain\n",
        "        coordinates_chain[f\"CA_chain_{designed_chain_list[0]}\"] = CA_chain\n",
        "        coordinates_chain[f\"C_chain_{designed_chain_list[0]}\"] = C_chain\n",
        "        coordinates_chain[f\"O_chain_{designed_chain_list[0]}\"] = O_chain\n",
        "        protein[f\"coords_chain_{designed_chain_list[0]}\"] = coordinates_chain\n",
        "\n",
        "        # At this point, probably need to put None values in a lot of parameters that are not relevant to my usecase, but need to be sent to featurizer before running model forward\n",
        "        # For now, I will not tie positions together\n",
        "        tied_positions_dict = None\n",
        "        pssm_dict = None\n",
        "        omit_AA_dict = None\n",
        "        bias_AA_dict = None\n",
        "        tied_positions_dict = None\n",
        "        bias_by_res_dict = None\n",
        "        alphabet = 'ACDEFGHIKLMNPQRSTVWYX'\n",
        "        bias_AAs_np = np.zeros(len(alphabet))\n",
        "\n",
        "        chain_id_dict = {}\n",
        "        chain_id_dict[pdb_dict_list[0]['name']]= (designed_chain_list, fixed_chain_list)\n",
        "\n",
        "        BATCH_COPIES = 1\n",
        "\n",
        "        batch_clones = [copy.deepcopy(protein) for i in range(BATCH_COPIES)]\n",
        "\n",
        "        # \"muts_for_prot\" is a list with information about all the mutations in \"protein\", whose sequence only version is \"wildtype_seq\" \n",
        "        muts_for_prot = two_level_dict[filename.split(\".\")[0]]\n",
        "        # \"cur_map_dict\" will give the 0-based sequence index for the mutations, which will be almost directly used for masking and then running the model\n",
        "        # 1-based indexing needed for the fixed position\n",
        "        cur_map_dict = mapping_dict[filename.split(\".\")[0]]\n",
        "\n",
        "        for mut in muts_for_prot:\n",
        "            wild_aa = mut[\"mut\"][0]\n",
        "            # (+1) because we need to pass 1-based indexing to tied_featurize() method\n",
        "            seq_pos = cur_map_dict[mut[\"mut\"][0:-1]] + 1\n",
        "            # only need to mask the mutated position position in \"wildtype_seq\" for now\n",
        "            fixed_positions_dict = {}\n",
        "            fixed_positions_dict[protein[\"name\"]] = {}\n",
        "            fixed_positions_dict[protein[\"name\"]][filename.split(\".\")[0][-1]] = [seq_pos]\n",
        "            X, S, mask, lengths, chain_M, chain_encoding_all, chain_list_list, visible_list_list, masked_list_list, masked_chain_length_list_list, chain_M_pos, \\\n",
        "            omit_AA_mask, residue_idx, dihedral_mask, tied_pos_list_of_lists_list, pssm_coef, pssm_bias, pssm_log_odds_all, bias_by_res_all, tied_beta  \\\n",
        "            = tied_featurize(batch_clones, device, chain_id_dict, fixed_positions_dict, omit_AA_dict, tied_positions_dict, pssm_dict, bias_by_res_dict)\n",
        "            randn_1 = torch.randn(chain_M.shape, device=X.device)\n",
        "            log_probs = mpnn_model(X, S, mask, chain_M*chain_M_pos, residue_idx, chain_encoding_all, randn_1)\n",
        "            # Adding the log_probs to the same inner dictionary where DDG values exist for easier comparison\n",
        "            mut[\"log_prob\"] = log_probs.cpu().data.numpy()"
      ],
      "metadata": {
        "colab": {
          "base_uri": "https://localhost:8080/",
          "height": 49,
          "referenced_widgets": [
            "dd95fca41c8649b7acb65c1dee19ad42",
            "2ec2a820ab5847d1a996f22ab72610d2",
            "13b84fc523a94b6d9174b7630be231da",
            "c7fcf93271d34e568a8f8c88b640cea3",
            "db01f99bd198440ea3548a71adc909d1",
            "f35415017cfe4dd781b8ea1becee0692",
            "df138b08f20440cdad25bf9403374674",
            "cea6e862af814456a9914077ddcdd5ba",
            "4a42b9d80a2b4e62b6e8afbaece7adaf",
            "0735cc9e87d04d7f8f86ba22f3a4628d",
            "6c3c37ed7d3143638e4cf7fbeb03b083"
          ]
        },
        "id": "b8cEsTK1EQ9J",
        "outputId": "28670023-4efb-4c73-b518-06c11286bf84"
      },
      "execution_count": null,
      "outputs": [
        {
          "output_type": "display_data",
          "data": {
            "text/plain": [
              "0it [00:00, ?it/s]"
            ],
            "application/vnd.jupyter.widget-view+json": {
              "version_major": 2,
              "version_minor": 0,
              "model_id": "dd95fca41c8649b7acb65c1dee19ad42"
            }
          },
          "metadata": {}
        }
      ]
    },
    {
      "cell_type": "code",
      "source": [
        "# Save the incomplete \"two_level_dict\" as pickle file for a quick dirty comparison\n",
        "# import pickle\n",
        "# with open(\"res_dict.pickle\",\"wb\") as f:\n",
        "#     pickle.dump(two_level_dict,f)"
      ],
      "metadata": {
        "id": "rXvc5PDmIQyF"
      },
      "execution_count": null,
      "outputs": []
    },
    {
      "cell_type": "code",
      "source": [
        "# import pickle\n",
        "# with open(\"res_dict.pickle\",\"rb\") as f:\n",
        "#     two_level_dict = pickle.load(f)"
      ],
      "metadata": {
        "id": "QVXEWT9ye7NP"
      },
      "execution_count": null,
      "outputs": []
    },
    {
      "cell_type": "code",
      "source": [
        "proteins_to_skip"
      ],
      "metadata": {
        "colab": {
          "base_uri": "https://localhost:8080/"
        },
        "id": "_C9nXDz0m7-X",
        "outputId": "1bb057c9-a491-44c6-f7ca-e1a87f6d588c"
      },
      "execution_count": null,
      "outputs": [
        {
          "output_type": "execute_result",
          "data": {
            "text/plain": [
              "['1lveA', '2immA']"
            ]
          },
          "metadata": {},
          "execution_count": 22
        }
      ]
    },
    {
      "cell_type": "code",
      "source": [
        "print(len(mapping_dict),len(two_level_dict))"
      ],
      "metadata": {
        "colab": {
          "base_uri": "https://localhost:8080/"
        },
        "id": "XkriZJrhn-wn",
        "outputId": "84a43cd8-df1a-4f26-a795-b41768056278"
      },
      "execution_count": null,
      "outputs": [
        {
          "output_type": "stream",
          "name": "stdout",
          "text": [
            "129 132\n"
          ]
        }
      ]
    },
    {
      "cell_type": "code",
      "source": [
        "from scipy.stats import entropy\n",
        "alpha_list = list(\"ACDEFGHIKLMNPQRSTVWYX\")\n",
        "# The following dictionary will be used for fetching out the log-probabilities corresponding to the wild-type and mutated residues at the mutation positions\n",
        "aa_to_N = {a:n for n,a in enumerate(alpha_list)}\n",
        "# This list will contain the experimental ddg values for the mutations for which two-level dict contains information regarding log_probabilities\n",
        "true_vals = []\n",
        "# This list will contain (wild_proba,mut_proba) tuples for the mutations for which two-level dict contains information regarding log_probabilities\n",
        "wild_mut_log_probabilities = []\n",
        "# saving max probabilites for debugging\n",
        "max_log_probabilities = []\n",
        "# Want to add entropy of the position with some kind of weight (maybe, just a for loop for checking weight combinations that sum to 1?)\n",
        "position_entropies = []\n",
        "for prot,muts in two_level_dict.items():\n",
        "    if prot not in proteins_to_skip:\n",
        "        try:\n",
        "            cur_map_dict = mapping_dict[prot]\n",
        "        except:\n",
        "            continue\n",
        "        for mut in muts:\n",
        "            # only fetching those mutations that have corresponding log-probabilities calculated and saved as values of \"log_prob\" key\n",
        "            if \"log_prob\" in mut:\n",
        "                wild = mut[\"mut\"][0] \n",
        "                alternate = mut[\"mut\"][-1]\n",
        "                true_vals.append(mut[\"ddg\"])\n",
        "                sequence_index_of_mutation = cur_map_dict[mut[\"mut\"][0:-1]]\n",
        "                position_log_probabilities = mut[\"log_prob\"][0,sequence_index_of_mutation,:]\n",
        "                wild_mut_log_probabilities.append((position_log_probabilities[aa_to_N[wild]],position_log_probabilities[aa_to_N[alternate]]))\n",
        "                max_log_probabilities.append(position_log_probabilities.max())\n",
        "                position_entropies.append(entropy(np.exp(position_log_probabilities)))\n",
        "    # Take only those mutations where \"log_prob\" is available and make a quick comparison for correlation plot\n",
        "    # Next, read in PSSM, and do same\n",
        "    # Then tree-way plot\n",
        "    # Then linear regression with PSSM + log_prob for the specific positions\n",
        "    # Then log-prob to probability distribution, and entropy calculation"
      ],
      "metadata": {
        "id": "7m4jsITsJHmE"
      },
      "execution_count": null,
      "outputs": []
    },
    {
      "cell_type": "code",
      "source": [
        "# let us also look at the energy of the most probable amino acid in those mutation positions\n",
        "wild_energies = []\n",
        "mut_energies = []\n",
        "min_energies = []\n",
        "experimental_energies = []\n",
        "entropy_conservations = []\n",
        "# Now, add entropy of the position\n",
        "for true, estimate, max_prob, entropy_conservation in zip(true_vals,wild_mut_log_probabilities,max_log_probabilities,position_entropies):\n",
        "    experimental_energies.append(true)\n",
        "    wild_energies.append(estimate[0]*-1)\n",
        "    mut_energies.append(estimate[1]*-1)\n",
        "    min_energies.append(max_prob*-1)\n",
        "    entropy_conservations.append(entropy_conservation*-1)"
      ],
      "metadata": {
        "id": "vn-AjUmcoYDF"
      },
      "execution_count": null,
      "outputs": []
    },
    {
      "cell_type": "code",
      "source": [
        "from scipy.stats import pearsonr"
      ],
      "metadata": {
        "id": "TwMx2ZMs60Pz"
      },
      "execution_count": null,
      "outputs": []
    },
    {
      "cell_type": "code",
      "source": [
        "wild_energies = np.array(wild_energies)\n",
        "mut_energies = np.array(mut_energies)\n",
        "min_energies = np.array(min_energies)\n",
        "experimental_energies = np.array(experimental_energies)\n",
        "mut_wild_predictions = mut_energies - wild_energies\n",
        "mut_min_predictions = mut_energies - min_energies\n",
        "entropy_predictions = np.array(entropy_conservations)\n",
        "print(pearsonr(experimental_energies,mut_wild_predictions))\n",
        "print(pearsonr(experimental_energies,mut_min_predictions))\n",
        "print(pearsonr(experimental_energies,entropy_predictions))"
      ],
      "metadata": {
        "colab": {
          "base_uri": "https://localhost:8080/"
        },
        "id": "1jrRRaEi7fJY",
        "outputId": "14f353e2-8e99-4449-f4ef-9b5a54ba708a"
      },
      "execution_count": null,
      "outputs": [
        {
          "output_type": "stream",
          "name": "stdout",
          "text": [
            "(0.5039796931516946, 1.1540078589851597e-118)\n",
            "(0.47514244445972786, 7.216792853340412e-104)\n",
            "(0.36357299179696995, 2.1792875788131823e-58)\n"
          ]
        }
      ]
    },
    {
      "cell_type": "code",
      "source": [
        "# Now combine \"mut_wild_predictions\" and \"entropy_predictions\" using weight combinations from 0 to 1 in 0.05 increments so that they some to one\n",
        "# so, when one weight is x, the other weight is automatically (1-x)\n",
        "# The keys of this dictionary will be (term1_coeff,term2_coeff) tuples, and values will be the observed correlations \n",
        "coefficient_result_dictionary = {}\n",
        "for i in np.arange(0.0,1.000001,0.005):\n",
        "    term1_coeff = round(i,2)\n",
        "    term2_coeff = round((1.000001 - i),2)\n",
        "    local_preds = (term1_coeff*mut_wild_predictions) + (term2_coeff*entropy_predictions)\n",
        "    coefficient_result_dictionary[(term1_coeff,term2_coeff)] = round(pearsonr(experimental_energies,local_preds)[0],2) "
      ],
      "metadata": {
        "id": "xI2DgnlzMh6H"
      },
      "execution_count": null,
      "outputs": []
    },
    {
      "cell_type": "code",
      "source": [
        "coefficient_result_dictionary"
      ],
      "metadata": {
        "colab": {
          "base_uri": "https://localhost:8080/"
        },
        "id": "pUMxNOmfUwX3",
        "outputId": "6ea27cf8-16e0-4962-a788-40e1b8ff3071"
      },
      "execution_count": null,
      "outputs": [
        {
          "output_type": "execute_result",
          "data": {
            "text/plain": [
              "{(0.0, 1.0): 0.36,\n",
              " (0.01, 0.99): 0.37,\n",
              " (0.02, 0.98): 0.38,\n",
              " (0.02, 0.99): 0.38,\n",
              " (0.03, 0.97): 0.39,\n",
              " (0.04, 0.96): 0.4,\n",
              " (0.04, 0.97): 0.4,\n",
              " (0.05, 0.95): 0.41,\n",
              " (0.06, 0.94): 0.41,\n",
              " (0.06, 0.95): 0.41,\n",
              " (0.07, 0.93): 0.42,\n",
              " (0.08, 0.92): 0.43,\n",
              " (0.08, 0.93): 0.42,\n",
              " (0.09, 0.91): 0.43,\n",
              " (0.1, 0.9): 0.44,\n",
              " (0.1, 0.91): 0.44,\n",
              " (0.11, 0.89): 0.44,\n",
              " (0.12, 0.88): 0.45,\n",
              " (0.12, 0.89): 0.45,\n",
              " (0.13, 0.87): 0.45,\n",
              " (0.14, 0.86): 0.46,\n",
              " (0.14, 0.87): 0.46,\n",
              " (0.15, 0.85): 0.46,\n",
              " (0.16, 0.84): 0.46,\n",
              " (0.16, 0.85): 0.46,\n",
              " (0.17, 0.83): 0.47,\n",
              " (0.18, 0.82): 0.47,\n",
              " (0.18, 0.83): 0.47,\n",
              " (0.19, 0.81): 0.47,\n",
              " (0.2, 0.8): 0.48,\n",
              " (0.2, 0.81): 0.48,\n",
              " (0.21, 0.79): 0.48,\n",
              " (0.22, 0.78): 0.48,\n",
              " (0.22, 0.79): 0.48,\n",
              " (0.23, 0.77): 0.48,\n",
              " (0.24, 0.76): 0.49,\n",
              " (0.24, 0.77): 0.49,\n",
              " (0.25, 0.75): 0.49,\n",
              " (0.26, 0.74): 0.49,\n",
              " (0.26, 0.75): 0.49,\n",
              " (0.27, 0.73): 0.49,\n",
              " (0.28, 0.72): 0.49,\n",
              " (0.28, 0.73): 0.49,\n",
              " (0.29, 0.71): 0.5,\n",
              " (0.29, 0.72): 0.5,\n",
              " (0.3, 0.7): 0.5,\n",
              " (0.3, 0.71): 0.5,\n",
              " (0.31, 0.69): 0.5,\n",
              " (0.32, 0.68): 0.5,\n",
              " (0.32, 0.69): 0.5,\n",
              " (0.33, 0.67): 0.5,\n",
              " (0.34, 0.66): 0.5,\n",
              " (0.34, 0.67): 0.5,\n",
              " (0.35, 0.65): 0.5,\n",
              " (0.36, 0.64): 0.5,\n",
              " (0.36, 0.65): 0.5,\n",
              " (0.37, 0.63): 0.5,\n",
              " (0.38, 0.62): 0.51,\n",
              " (0.38, 0.63): 0.5,\n",
              " (0.39, 0.61): 0.51,\n",
              " (0.4, 0.6): 0.51,\n",
              " (0.4, 0.61): 0.51,\n",
              " (0.41, 0.59): 0.51,\n",
              " (0.42, 0.58): 0.51,\n",
              " (0.42, 0.59): 0.51,\n",
              " (0.43, 0.57): 0.51,\n",
              " (0.44, 0.56): 0.51,\n",
              " (0.44, 0.57): 0.51,\n",
              " (0.45, 0.55): 0.51,\n",
              " (0.46, 0.54): 0.51,\n",
              " (0.46, 0.55): 0.51,\n",
              " (0.47, 0.53): 0.51,\n",
              " (0.48, 0.52): 0.51,\n",
              " (0.48, 0.53): 0.51,\n",
              " (0.49, 0.51): 0.51,\n",
              " (0.5, 0.5): 0.51,\n",
              " (0.5, 0.51): 0.51,\n",
              " (0.51, 0.49): 0.51,\n",
              " (0.52, 0.48): 0.51,\n",
              " (0.52, 0.49): 0.51,\n",
              " (0.53, 0.47): 0.51,\n",
              " (0.54, 0.46): 0.51,\n",
              " (0.54, 0.47): 0.51,\n",
              " (0.55, 0.45): 0.51,\n",
              " (0.55, 0.46): 0.51,\n",
              " (0.56, 0.44): 0.51,\n",
              " (0.56, 0.45): 0.51,\n",
              " (0.57, 0.43): 0.51,\n",
              " (0.57, 0.44): 0.51,\n",
              " (0.58, 0.42): 0.51,\n",
              " (0.58, 0.43): 0.51,\n",
              " (0.59, 0.41): 0.51,\n",
              " (0.6, 0.4): 0.51,\n",
              " (0.6, 0.41): 0.51,\n",
              " (0.61, 0.39): 0.51,\n",
              " (0.62, 0.38): 0.51,\n",
              " (0.62, 0.39): 0.51,\n",
              " (0.63, 0.37): 0.51,\n",
              " (0.64, 0.36): 0.51,\n",
              " (0.64, 0.37): 0.51,\n",
              " (0.65, 0.35): 0.51,\n",
              " (0.66, 0.34): 0.51,\n",
              " (0.66, 0.35): 0.51,\n",
              " (0.67, 0.33): 0.51,\n",
              " (0.68, 0.32): 0.51,\n",
              " (0.68, 0.33): 0.51,\n",
              " (0.69, 0.31): 0.51,\n",
              " (0.7, 0.3): 0.51,\n",
              " (0.7, 0.31): 0.51,\n",
              " (0.71, 0.29): 0.51,\n",
              " (0.72, 0.28): 0.51,\n",
              " (0.72, 0.29): 0.51,\n",
              " (0.73, 0.27): 0.51,\n",
              " (0.74, 0.26): 0.51,\n",
              " (0.74, 0.27): 0.51,\n",
              " (0.75, 0.25): 0.51,\n",
              " (0.76, 0.24): 0.51,\n",
              " (0.76, 0.25): 0.51,\n",
              " (0.77, 0.23): 0.51,\n",
              " (0.78, 0.22): 0.51,\n",
              " (0.78, 0.23): 0.51,\n",
              " (0.79, 0.21): 0.51,\n",
              " (0.8, 0.2): 0.51,\n",
              " (0.8, 0.21): 0.51,\n",
              " (0.81, 0.19): 0.51,\n",
              " (0.82, 0.18): 0.51,\n",
              " (0.82, 0.19): 0.51,\n",
              " (0.83, 0.17): 0.51,\n",
              " (0.84, 0.16): 0.51,\n",
              " (0.84, 0.17): 0.51,\n",
              " (0.85, 0.15): 0.51,\n",
              " (0.86, 0.14): 0.51,\n",
              " (0.86, 0.15): 0.51,\n",
              " (0.87, 0.13): 0.51,\n",
              " (0.88, 0.12): 0.51,\n",
              " (0.88, 0.13): 0.51,\n",
              " (0.89, 0.11): 0.51,\n",
              " (0.9, 0.1): 0.51,\n",
              " (0.9, 0.11): 0.51,\n",
              " (0.91, 0.09): 0.51,\n",
              " (0.92, 0.08): 0.51,\n",
              " (0.92, 0.09): 0.51,\n",
              " (0.93, 0.07): 0.51,\n",
              " (0.94, 0.06): 0.51,\n",
              " (0.94, 0.07): 0.51,\n",
              " (0.95, 0.05): 0.5,\n",
              " (0.96, 0.04): 0.5,\n",
              " (0.96, 0.05): 0.5,\n",
              " (0.97, 0.03): 0.5,\n",
              " (0.98, 0.02): 0.5,\n",
              " (0.98, 0.03): 0.5,\n",
              " (0.99, 0.01): 0.5,\n",
              " (1.0, 0.0): 0.5,\n",
              " (1.0, 0.01): 0.5}"
            ]
          },
          "metadata": {},
          "execution_count": 122
        }
      ]
    },
    {
      "cell_type": "code",
      "source": [
        "# let me get PSSM values and do some comparison quickly\n",
        "# getting the PSSM extraction functions from my custom model data processing scripts\n",
        "from string import ascii_uppercase\n",
        "\n",
        "# In rare cases, some PDB files number chains with 1,2,3 instead of A,B,C\n",
        "def convertChainFromAlphabetToNumber(alphabet):\n",
        "    mappingDict = {ch:(idx+1) for idx,ch in enumerate(ascii_uppercase)}\n",
        "    return str(mappingDict[alphabet])\n",
        "\n",
        "# Before executing this function, the PSSM files with naming format \"pdbIdchain.pssm\" needs to be stored\n",
        "# in the pssm_dir\n",
        "def returnPSSMArray(pdbIdPlusChain,pssm_dir=\"train_pssm_dir\",convert_upper = False):\n",
        "#     Currently, assuming that the pssm file names contain pdbId in upper case\n",
        "    if convert_upper:\n",
        "        fileName = pdbIdPlusChain.upper() + \".pssm\"\n",
        "    else:\n",
        "        fileName = pdbIdPlusChain + \".pssm\"\n",
        "    try:\n",
        "        fullPath = os.path.join(pssm_dir,fileName)\n",
        "        f = open(fullPath)\n",
        "    except:\n",
        "        fileName = pdbIdPlusChain[0:4].upper() + str(convertChainFromAlphabetToNumber(pdbIdPlusChain[4])) + \".pssm\" \n",
        "        fullPath = os.path.join(pssm_dir,fileName)\n",
        "        f = open(fullPath)\n",
        "        \n",
        "# #     all the target lines in the PSSM files have (2+20+20+2=44) strings after line.split()\n",
        "    target_lines = [line.split() for line in f.readlines() if (len(line.split()))==44]\n",
        "    number_of_residues = len(target_lines)\n",
        "    \n",
        "    pssm_features = np.zeros((number_of_residues,20))\n",
        "\n",
        "    for idx,line in enumerate(target_lines):\n",
        "        pssm_features[idx,:] = line[2:22]\n",
        "\n",
        "    f.close()\n",
        "    \n",
        "    return pssm_features\n",
        "\n",
        "# This function also seems necessary for extracting the two pssm values\n",
        "# Must review the three pssm feature functions (this one and the two above) later\n",
        "# These functions seem to be taking up a lot of time....must review\n",
        "def returnPSSMMapping(residue):\n",
        "    pssm_letter_to_index_dict = {\"A\" : 0,   \n",
        "    \"R\" : 1,\n",
        "    \"N\" : 2,\n",
        "    \"D\" : 3,\n",
        "    \"C\" : 4,\n",
        "    \"Q\" : 5,\n",
        "    \"E\" : 6,\n",
        "    \"G\" : 7,\n",
        "    \"H\" : 8,\n",
        "    \"I\" : 9,\n",
        "    \"L\" : 10,\n",
        "    \"K\" : 11,\n",
        "    \"M\" : 12,\n",
        "    \"F\" : 13,\n",
        "    \"P\" : 14,\n",
        "    \"S\" : 15,\n",
        "    \"T\" : 16,\n",
        "    \"W\" : 17,\n",
        "    \"Y\" : 18,\n",
        "    \"V\" : 19}\n",
        "\n",
        "    return pssm_letter_to_index_dict[residue]\n",
        "\n",
        "\n",
        "# I will add PSSM values to the two-level dictionary for places where log_prob is available\n",
        "pssmDirectory = \"/content/drive/MyDrive/ACCRE_PyRun_Setup/S_2648_pssm_dir\"\n",
        "for prot,muts in two_level_dict.items():\n",
        "    if prot not in proteins_to_skip:\n",
        "        try:\n",
        "            cur_map_dict = mapping_dict[prot]\n",
        "        except:\n",
        "            continue\n",
        "        for mut in muts:\n",
        "            # only fetching those mutations that have corresponding log-probabilities calculated and saved as values of \"log_prob\" key\n",
        "            if \"log_prob\" in mut:\n",
        "                wild = mut[\"mut\"][0] \n",
        "                alternate = mut[\"mut\"][-1]\n",
        "                sequence_index_of_mutation = cur_map_dict[mut[\"mut\"][0:-1]]\n",
        "                pdbId = prot[0:-1]\n",
        "                mutChain = prot[-1]\n",
        "                pssm_array = returnPSSMArray(pdbId + mutChain,pssm_dir=pssmDirectory,convert_upper = False)\n",
        "                position_pssm = pssm_array[sequence_index_of_mutation]\n",
        "                wild_pssm = position_pssm[returnPSSMMapping(wild)] \n",
        "                alternate_pssm = position_pssm[returnPSSMMapping(alternate)]\n",
        "                mut[\"wild_pssm\"] = wild_pssm\n",
        "                mut[\"alternate_pssm\"] = alternate_pssm"
      ],
      "metadata": {
        "id": "eBgpxQx4ispc"
      },
      "execution_count": null,
      "outputs": []
    },
    {
      "cell_type": "code",
      "source": [
        "pssm_predictions = []\n",
        "for prot,muts in two_level_dict.items():\n",
        "    if prot not in proteins_to_skip:\n",
        "        try:\n",
        "            cur_map_dict = mapping_dict[prot]\n",
        "        except:\n",
        "            continue\n",
        "        for mut in muts:\n",
        "            # only fetching those mutations that have corresponding log-probabilities calculated and saved as values of \"log_prob\" key\n",
        "            if \"log_prob\" in mut:\n",
        "                pssm_predictions.append((mut[\"wild_pssm\"]-mut[\"alternate_pssm\"]))"
      ],
      "metadata": {
        "id": "xOkQhEQzn32m"
      },
      "execution_count": null,
      "outputs": []
    },
    {
      "cell_type": "code",
      "source": [
        "wild_energies = np.array(wild_energies)\n",
        "mut_energies = np.array(mut_energies)\n",
        "min_energies = np.array(min_energies)\n",
        "experimental_energies = np.array(experimental_energies)\n",
        "mut_wild_predictions = mut_energies - wild_energies\n",
        "mut_min_predictions = mut_energies - min_energies\n",
        "entropy_predictions = np.array(entropy_conservations)\n",
        "pssm_predictions = np.array(pssm_predictions)\n",
        "print(pearsonr(experimental_energies,mut_wild_predictions))\n",
        "print(pearsonr(experimental_energies,entropy_predictions))\n",
        "print(pearsonr(experimental_energies,pssm_predictions))"
      ],
      "metadata": {
        "colab": {
          "base_uri": "https://localhost:8080/"
        },
        "id": "5Tyw_4erpj1C",
        "outputId": "c0a40b71-d878-4690-c4be-95ec46dd220d"
      },
      "execution_count": null,
      "outputs": [
        {
          "output_type": "stream",
          "name": "stdout",
          "text": [
            "(0.5039796931516946, 1.1540078589851597e-118)\n",
            "(0.36357299179696995, 2.1792875788131823e-58)\n",
            "(0.27925546194094136, 3.467385570005848e-34)\n"
          ]
        }
      ]
    },
    {
      "cell_type": "code",
      "source": [
        "import matplotlib.pyplot as plt\n",
        "\n",
        "fig = plt.figure(figsize=(6,4))\n",
        "ax = fig.add_axes([0,0,1,1])\n",
        "# versions = [1,4,5,7,Run_21]\n",
        "methods = ['PMPNN_DEP','PMPNN_ET','PMPNN_DEP_ET','PSSM_DEC']\n",
        "vals = [0.50,0.36,0.51,0.28]\n",
        "plt.ylabel(\"Pearson Correlation\",fontsize=18)\n",
        "plt.xlabel(\"Informative Features\",fontsize=18)\n",
        "plt.xticks(fontsize=18, rotation=90)\n",
        "plt.yticks(fontsize=18)\n",
        "plt.ylim(0.10,0.54)\n",
        "ax.bar(methods,vals,color=\"maroon\",width=0.3)\n",
        "plt.show()"
      ],
      "metadata": {
        "colab": {
          "base_uri": "https://localhost:8080/",
          "height": 489
        },
        "id": "sirQvLLnyerw",
        "outputId": "8b02c15d-5dc9-4a1e-d258-5d15b978bb3d"
      },
      "execution_count": null,
      "outputs": [
        {
          "output_type": "display_data",
          "data": {
            "text/plain": [
              "<Figure size 432x288 with 1 Axes>"
            ],
            "image/png": "[encoded data removed]"
          },
          "metadata": {
            "needs_background": "light"
          }
        }
      ]
    },
    {
      "cell_type": "code",
      "source": [
        "import pandas as pd\n",
        "import seaborn as sns\n",
        "\n",
        "mut_wild_predictions = np.array(mut_energies - wild_energies)\n",
        "entropy_predictions = np.array(entropy_conservations)\n",
        "first_second_combined = 0.5*mut_wild_predictions + 0.5*entropy_predictions\n",
        "pssm_predictions = np.array(pssm_predictions)\n",
        "\n",
        "df_Ssym = pd.DataFrame(\n",
        "    {'P_DP': mut_wild_predictions,\n",
        "     'P_ET': entropy_predictions,\n",
        "     'P_DP_ET':first_second_combined,\n",
        "     'P_DEC': pssm_predictions\n",
        "    })\n",
        "corr = df_Ssym.corr()\n",
        "\n",
        "sns.set(font_scale=1.4)\n",
        "sns.heatmap(corr, \n",
        "        xticklabels=corr.columns,\n",
        "        yticklabels=corr.columns)"
      ],
      "metadata": {
        "colab": {
          "base_uri": "https://localhost:8080/",
          "height": 297
        },
        "id": "QlQuGW7f7KDy",
        "outputId": "1d05888a-7b68-46b9-f43f-baf92beb5469"
      },
      "execution_count": null,
      "outputs": [
        {
          "output_type": "execute_result",
          "data": {
            "text/plain": [
              "<matplotlib.axes._subplots.AxesSubplot at 0x7fd388f71f10>"
            ]
          },
          "metadata": {},
          "execution_count": 121
        },
        {
          "output_type": "display_data",
          "data": {
            "text/plain": [
              "<Figure size 432x288 with 2 Axes>"
            ],
            "image/png": "[encoded data removed]"
          },
          "metadata": {}
        }
      ]
    },
    {
      "cell_type": "code",
      "source": [
        "import matplotlib.pyplot as plt\n",
        "from mpl_toolkits.mplot3d import Axes3D\n",
        "x = np.array([i for (i,j) in coefficient_result_dictionary.keys()])\n",
        "y = np.array([j for (i,j) in coefficient_result_dictionary.keys()])\n",
        "X_g, Y_g = np.meshgrid(x, y)\n",
        "correlations_vals = np.array([i for i in coefficient_result_dictionary.values()]).reshape(-1,1)\n",
        "fig = plt.figure(figsize=(10,8))\n",
        "ax = Axes3D(fig)\n",
        "ax.plot_surface(X_g, Y_g, correlations_vals,label=\"Linear Combination Correlations\",color=\"maroon\")\n",
        "# ax.legend()\n",
        "ax.set_xlabel(\"(ALT-WILD) Coefficients\",fontsize=16)\n",
        "ax.set_ylabel(\"ENTROPY Coefficients\",fontsize=16)\n",
        "# set z ticks and labels\n",
        "# ax.set_zticks([-2, 0, 2])\n",
        "# change fontsize\n",
        "# for t in ax.zaxis.get_major_ticks(): t.label.set_fontsize(10)\n",
        "# disable auto rotation\n",
        "ax.zaxis.set_rotate_label(False) \n",
        "ax.set_zlabel('Correlation Values', fontsize=16, rotation = 88)\n",
        "# plt.zlabel(\"ENTROPY Coefficients\",fontsize=16)\n",
        "plt.show()"
      ],
      "metadata": {
        "colab": {
          "base_uri": "https://localhost:8080/",
          "height": 607
        },
        "id": "kJHvCXBvWVlj",
        "outputId": "a5b64bcd-2e40-42ac-f3ca-f7c6b81f0b64"
      },
      "execution_count": null,
      "outputs": [
        {
          "output_type": "display_data",
          "data": {
            "text/plain": [
              "<Figure size 720x576 with 1 Axes>"
            ],
            "image/png": "[encoded data removed]"
          },
          "metadata": {
            "needs_background": "light"
          }
        }
      ]
    },
    {
      "cell_type": "code",
      "source": [
        "print(X_g.shape)"
      ],
      "metadata": {
        "colab": {
          "base_uri": "https://localhost:8080/"
        },
        "id": "Earj_SgkYXL5",
        "outputId": "e26f7664-5b4a-40fb-927a-fecfe7c518c9"
      },
      "execution_count": null,
      "outputs": [
        {
          "output_type": "stream",
          "name": "stdout",
          "text": [
            "(154, 154)\n"
          ]
        }
      ]
    },
    {
      "cell_type": "code",
      "source": [
        "print(correlations_vals.shape)"
      ],
      "metadata": {
        "colab": {
          "base_uri": "https://localhost:8080/"
        },
        "id": "KHSJ2aABYhxf",
        "outputId": "46d7ccc0-78d2-418f-d325-2f829b8cf2ec"
      },
      "execution_count": null,
      "outputs": [
        {
          "output_type": "stream",
          "name": "stdout",
          "text": [
            "(154,)\n"
          ]
        }
      ]
    },
    {
      "cell_type": "code",
      "source": [
        "# import time\n",
        "\n",
        "# def parse_PDB_biounits_local(x, atoms=['N', 'CA', 'C'], chain=None):\n",
        "#     '''\n",
        "#     input:  x = PDB filename\n",
        "#             atoms = atoms to extract (optional)\n",
        "#     output: (length, atoms, coords=(x,y,z)), sequence\n",
        "#     '''\n",
        "\n",
        "#     alpha_1 = list(\"ARNDCQEGHILKMFPSTWYV-\")\n",
        "#     states = len(alpha_1)\n",
        "#     alpha_3 = ['ALA', 'ARG', 'ASN', 'ASP', 'CYS', 'GLN', 'GLU', 'GLY', 'HIS', 'ILE',\n",
        "#                'LEU', 'LYS', 'MET', 'PHE', 'PRO', 'SER', 'THR', 'TRP', 'TYR', 'VAL', 'GAP']\n",
        "\n",
        "#     # The following dictionaries are mapping from one-letter to 0-20 index,\n",
        "#     # three-letter to 0-20 index,\n",
        "#     # 0-20 index to one-letter,\n",
        "#     # one-letter to three-letter, and vice-versa\n",
        "#     aa_1_N = {a: n for n, a in enumerate(alpha_1)}\n",
        "#     aa_3_N = {a: n for n, a in enumerate(alpha_3)}\n",
        "#     aa_N_1 = {n: a for n, a in enumerate(alpha_1)}\n",
        "#     aa_1_3 = {a: b for a, b in zip(alpha_1, alpha_3)}\n",
        "#     aa_3_1 = {b: a for a, b in zip(alpha_1, alpha_3)}\n",
        "\n",
        "#     def AA_to_N(x):\n",
        "#         # [\"ARND\"] -> [[0,1,2,3]]\n",
        "#         x = np.array(x);\n",
        "#         if x.ndim == 0: x = x[None]\n",
        "#         return [[aa_1_N.get(a, states - 1) for a in y] for y in x]\n",
        "\n",
        "#     def N_to_AA(x):\n",
        "#         # [[0,1,2,3]] -> [\"ARND\"]\n",
        "#         x = np.array(x);\n",
        "#         if x.ndim == 1: x = x[None]\n",
        "#         return [\"\".join([aa_N_1.get(a, \"-\") for a in y]) for y in x]\n",
        "\n",
        "#     xyz, seq, min_resn, max_resn = {}, {}, 1e6, -1e6\n",
        "#     for line in open(x, \"rb\"):\n",
        "#         line = line.decode(\"utf-8\", \"ignore\").rstrip()\n",
        "\n",
        "#         if line[:6] == \"HETATM\" and line[17:17 + 3] == \"MSE\":\n",
        "#             line = line.replace(\"HETATM\", \"ATOM  \")\n",
        "#             line = line.replace(\"MSE\", \"MET\")\n",
        "\n",
        "#         if line[:4] == \"ATOM\":\n",
        "#             ch = line[21:22]\n",
        "#             # This is definitely where things are going wrong\n",
        "#             # since {'': 'LEU'} this cannot be the correct format; where the fuck is the residue number?\n",
        "#             if ch == chain or chain is None:\n",
        "#                 atom = line[12:12 + 4].strip()\n",
        "#                 resi = line[17:17 + 3]\n",
        "#                 resn = line[22:22 + 5].strip()\n",
        "#                 x, y, z = [float(line[i:(i + 8)]) for i in [30, 38, 46]]\n",
        "\n",
        "#                 if resn[-1].isalpha():\n",
        "#                     resa, resn = resn[-1], int(resn[:-1]) - 1\n",
        "#                 else:\n",
        "#                     resa, resn = \"\", int(resn) - 1\n",
        "#                 #         resn = int(resn)\n",
        "#                 if resn < min_resn:\n",
        "#                     min_resn = resn\n",
        "#                 if resn > max_resn:\n",
        "#                     max_resn = resn\n",
        "#                 if resn not in xyz:\n",
        "#                     xyz[resn] = {}\n",
        "#                 if resa not in xyz[resn]:\n",
        "#                     xyz[resn][resa] = {}\n",
        "#                 if resn not in seq:\n",
        "#                     seq[resn] = {}\n",
        "#                 if resa not in seq[resn]:\n",
        "#                     seq[resn][resa] = resi\n",
        "\n",
        "#                 if atom not in xyz[resn][resa]:\n",
        "#                     xyz[resn][resa][atom] = np.array([x, y, z])\n",
        "\n",
        "#     # convert to numpy arrays, fill in missing values\n",
        "#     seq_, xyz_ = [], []\n",
        "#     try:\n",
        "#         for resn in range(min_resn, max_resn + 1):\n",
        "#             if resn in seq:\n",
        "#                 # \"seq_\" is the [0,20] tokenized version of the sequence\n",
        "#                 # 20 for any non-natural type\n",
        "#                 for k in sorted(seq[resn]): seq_.append(aa_3_N.get(seq[resn][k], 20))\n",
        "#             else:\n",
        "#                 seq_.append(20)\n",
        "#             if resn in xyz:\n",
        "#                 for k in sorted(xyz[resn]):\n",
        "#                     for atom in atoms:\n",
        "#                         if atom in xyz[resn][k]:\n",
        "#                             xyz_.append(xyz[resn][k][atom])\n",
        "#                         else:\n",
        "#                             xyz_.append(np.full(3, np.nan))\n",
        "#             else:\n",
        "#                 for atom in atoms: xyz_.append(np.full(3, np.nan))\n",
        "#         print(f\"Printed from inside mpnn parser:{seq_}\")\n",
        "#         for i,v in enumerate(seq_):\n",
        "#             if v > 19:\n",
        "#                 print(f\"This is where the shit is happening from\")\n",
        "#                 # print(f\"{(N_to_AA(np.array(seq_)))[i]}\")\n",
        "#                 # Why the fuck will a list and its numpy array versions not have the same length?\n",
        "#                 # print(f\"{len(seq_)},{len(N_to_AA(np.array(seq_))[0])}\")\n",
        "#                 # why is 126 giving a key error?\n",
        "#                 print(seq[i],(N_to_AA(np.array(seq_)))[0][i],seq_[i])\n",
        "#         # \"N_to_AA(np.array(seq_)\" is the single letter [all 20, -] version of the sequence\n",
        "#         return np.array(xyz_).reshape(-1, len(atoms), 3), N_to_AA(np.array(seq_))\n",
        "#     except TypeError:\n",
        "#         return 'no_chain', 'no_chain'\n",
        "\n",
        "\n",
        "# ### calling signature\n",
        "# # pdb_dict_list = parse_PDB(pdb_path, input_chain_list=chain_list)\n",
        "# def parse_PDB_local(path_to_pdb, input_chain_list=None):\n",
        "#     c = 0\n",
        "#     pdb_dict_list = []\n",
        "#     init_alphabet = ['A', 'B', 'C', 'D', 'E', 'F', 'G', 'H', 'I', 'J', 'K', 'L', 'M', 'N', 'O', 'P', 'Q', 'R', 'S', 'T',\n",
        "#                      'U', 'V', 'W', 'X', 'Y', 'Z', 'a', 'b', 'c', 'd', 'e', 'f', 'g', 'h', 'i', 'j', 'k', 'l', 'm', 'n',\n",
        "#                      'o', 'p', 'q', 'r', 's', 't', 'u', 'v', 'w', 'x', 'y', 'z']\n",
        "#     extra_alphabet = [str(item) for item in list(np.arange(300))]\n",
        "#     chain_alphabet = init_alphabet + extra_alphabet\n",
        "\n",
        "#     if input_chain_list:\n",
        "#         chain_alphabet = input_chain_list\n",
        "\n",
        "#     biounit_names = [path_to_pdb]\n",
        "#     # Each of the biounits is a separate PDB file, so for running with a single PDB file like from colab, this loop will be executed only once\n",
        "#     for biounit in biounit_names:\n",
        "#         my_dict = {}\n",
        "#         s = 0\n",
        "#         concat_seq = ''\n",
        "#         concat_N = []\n",
        "#         concat_CA = []\n",
        "#         concat_C = []\n",
        "#         concat_O = []\n",
        "#         concat_mask = []\n",
        "#         coords_dict = {}\n",
        "#         # This loop will be executed only once for single chain DDG type cases\n",
        "#         for letter in chain_alphabet:\n",
        "#             xyz, seq = parse_PDB_biounits_local(biounit, atoms=['N', 'CA', 'C', 'O'], chain=letter)\n",
        "#             if type(xyz) != str:\n",
        "#                 concat_seq += seq[0]\n",
        "#                 my_dict['seq_chain_' + letter] = seq[0]\n",
        "#                 coords_dict_chain = {}\n",
        "#                 coords_dict_chain['N_chain_' + letter] = xyz[:, 0, :].tolist()\n",
        "#                 coords_dict_chain['CA_chain_' + letter] = xyz[:, 1, :].tolist()\n",
        "#                 coords_dict_chain['C_chain_' + letter] = xyz[:, 2, :].tolist()\n",
        "#                 coords_dict_chain['O_chain_' + letter] = xyz[:, 3, :].tolist()\n",
        "#                 my_dict['coords_chain_' + letter] = coords_dict_chain\n",
        "#                 s += 1\n",
        "#         fi = biounit.rfind(\"/\")\n",
        "#         my_dict['name'] = biounit[(fi + 1):-4]\n",
        "#         my_dict['num_of_chains'] = s\n",
        "#         my_dict['seq'] = concat_seq\n",
        "#         if s <= len(chain_alphabet):\n",
        "#             pdb_dict_list.append(my_dict)\n",
        "#             c += 1\n",
        "#     return pdb_dict_list\n",
        "\n",
        "# class StructureDatasetPDB_local():\n",
        "#     def __init__(self, pdb_dict_list, verbose=True, truncate=None, max_length=100,\n",
        "#         alphabet='ACDEFGHIKLMNPQRSTVWYX-'):\n",
        "#         alphabet_set = set([a for a in alphabet])\n",
        "#         discard_count = {\n",
        "#             'bad_chars': 0,\n",
        "#             'too_long': 0,\n",
        "#             'bad_seq_length': 0\n",
        "#         }\n",
        "\n",
        "#         self.data = []\n",
        "\n",
        "#         start = time.time()\n",
        "#         # elements of pdb_dict_list are dictionaries containing information regarding a specific pdb file\n",
        "#         for i, entry in enumerate(pdb_dict_list):\n",
        "#             seq = entry['seq']\n",
        "#             name = entry['name']\n",
        "\n",
        "#             bad_chars = set([s for s in seq]).difference(alphabet_set)\n",
        "#             if len(bad_chars) == 0:\n",
        "#                 if len(entry['seq']) <= max_length:\n",
        "#                     self.data.append(entry)\n",
        "#                 else:\n",
        "#                     discard_count['too_long'] += 1\n",
        "#             else:\n",
        "#                 discard_count['bad_chars'] += 1\n",
        "\n",
        "#             # Truncate early\n",
        "#             if truncate is not None and len(self.data) == truncate:\n",
        "#                 return\n",
        "\n",
        "#             if verbose and (i + 1) % 1000 == 0:\n",
        "#                 elapsed = time.time() - start\n",
        "\n",
        "#             #print('Discarded', discard_count)\n",
        "#     def __len__(self):\n",
        "#         return len(self.data)\n",
        "\n",
        "#     def __getitem__(self, idx):\n",
        "#         return self.data[idx]"
      ],
      "metadata": {
        "id": "QvVyUya7CyrY"
      },
      "execution_count": null,
      "outputs": []
    },
    {
      "cell_type": "code",
      "source": [
        "# # For these wtf_chains, compare the sequences recovered by my parsing function and MPNN parsing function\\\n",
        "# pdbDirectory = \"/content/drive/MyDrive/ACCRE_PyRun_Setup/S_2648_PDB_Files\"\n",
        "# parser = PDBParser(QUIET=True)\n",
        "# for chain in wtf_chains:\n",
        "#     my_seq = \"\".join([key[0] for key, val in mapping_dict[chain].items()])\n",
        "    \n",
        "#     filename = f\"{chain}.pdb\"\n",
        "#     filepath = os.path.join(pdbDirectory,filename)\n",
        "#     structure = parser.get_structure(id=filename.split(\".\")[0],file=filepath)\n",
        "#     model = structure[0] \n",
        "#     # Since there is only one chain, and that same chain is both fixed designable for different residues, extracting that name, and putting them in pertinent lists\n",
        "#     chain_name = list(model.child_dict.keys())[0]\n",
        "#     fixed_chain_list = []\n",
        "#     # the trick is to put the single chain as designable chain, and then create the \"fixed_positions_dict\" dictionary  \n",
        "#     designed_chain_list = [chain_name]\n",
        "#     chain_list = list(set(designed_chain_list + fixed_chain_list))\n",
        "#     # Using the programs custome PDB parser for processing the PDB files\n",
        "#     dataset_valid = StructureDatasetPDB(pdb_dict_list, truncate=None, max_length=20000)\n",
        "#     protein = dataset_valid[0]\n",
        "#     wildtype_seq = protein[f\"seq_chain_{designed_chain_list[0]}\"]\n",
        "#     mpnn_seq = wildtype_seq\n",
        "#     print(f\"chain:{chain}\")\n",
        "#     print(f\"my_seq:{my_seq}\")\n",
        "#     print(f\"mpnn_seq:{mpnn_seq}\")\n",
        "#     # Let me see if the sequences can be perfectly aligned by removing gaps from the mpnn_seq\n",
        "#     gap_removed_mpnn_seq = \"\".join(ele for ele in mpnn_seq if ele!=\"-\")\n",
        "#     print(f\"gap_removed_mpnn_seq:{gap_removed_mpnn_seq}\")\n",
        "#     for i,j in zip(my_seq,gap_removed_mpnn_seq):\n",
        "#         if i!=j:\n",
        "#             print(\"Still problems,DAMN\")\n",
        "#             break\n",
        "#     print(\"................................\")\n",
        "#     print(\"................................\")\n",
        "#     # WTF are these gaps doing here in these protein mpnn parsed sequences?????\n",
        "#     # need to check the PDB parsing codeblock \n",
        "#     # Seems like gaps have been inserted at \"RANDOM\" places due to some weird reason\n",
        "#     # one solution could be to take the gapless sequence and map it somehow, which should be fairly simple\n",
        "#     # but why are there gaps in the first place?\n",
        "#     # what is the utility of these gaps?\n",
        "#     # These gaps are inserted in the \"parse_PDB_biounits()\" function of the utils.py file\n",
        "#     # But, why?\n",
        "#     # seems like something is getting mapped to \"GAP/-/20\" through the function  N_to_AA(x), maybe through AA_to_N(x), but why? which entry does not have a corresponding value in the dictionaries?"
      ],
      "metadata": {
        "id": "EU7mghlwW3Y2"
      },
      "execution_count": null,
      "outputs": []
    },
    {
      "cell_type": "code",
      "source": [
        "# Now, have to trace the function protein_mpnn_utils.tied_featurize\n",
        "# after tracing and understanding this function in a workable way, I can run through model forward, get probabilities, play around, find simple correlation\n",
        "# submit batch jobs, and then move onto other ideas listed in my workbook, add those slides to the presentation to be shown to Jens in a week\n",
        "# seems like full-chain design vs. specific position design is the issue here\n",
        "# Where is the key to going from full-chain-design to specific-position-design?\n",
        "# Dig into the \"mask\" and \"chain_M\" variables of the forward method of \"ProteinMPNN\" for figuring out how to control \"designable\" vs. \"fixed\" residues\n",
        "# How to populate the \"fixed_positions_dict\" dictionary? putting the only chain as designable and populating this dictionary \n",
        "# seems like \"fixed_pos_list\"  can be an 1-indexed integer list corresponding to positions in \"chain_seq\"\n",
        "# I think, \"fixed_position_mask\" and \"chain_mask\" interact with each other at some point\n",
        "# very possibly, there could be an element-wise product going on at some point during decoding, which prevents fixed_positions in designable chains from being masked out"
      ],
      "metadata": {
        "id": "BsBbQLQBTQ-F"
      },
      "execution_count": null,
      "outputs": []
    },
    {
      "cell_type": "code",
      "source": [
        ""
      ],
      "metadata": {
        "id": "UxZHhzLTSvQA"
      },
      "execution_count": null,
      "outputs": []
    }
  ]
}