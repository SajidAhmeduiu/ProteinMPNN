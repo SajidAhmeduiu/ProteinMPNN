{
  "nbformat": 4,
  "nbformat_minor": 0,
  "metadata": {
    "colab": {
      "name": "Quick_Dirty_MPNN_ML.ipynb",
      "provenance": [],
      "collapsed_sections": []
    },
    "kernelspec": {
      "name": "python3",
      "display_name": "Python 3"
    },
    "language_info": {
      "name": "python"
    },
    "gpuClass": "standard",
    "widgets": {
      "application/vnd.jupyter.widget-state+json": {
        "fd19a2c75b5045ceae05993eb22ba3cc": {
          "model_module": "@jupyter-widgets/controls",
          "model_name": "HBoxModel",
          "model_module_version": "1.5.0",
          "state": {
            "_dom_classes": [],
            "_model_module": "@jupyter-widgets/controls",
            "_model_module_version": "1.5.0",
            "_model_name": "HBoxModel",
            "_view_count": null,
            "_view_module": "@jupyter-widgets/controls",
            "_view_module_version": "1.5.0",
            "_view_name": "HBoxView",
            "box_style": "",
            "children": [
              "IPY_MODEL_740a2b20a29d4c90a920d7d59a1cb240",
              "IPY_MODEL_22cc44c0b03f4c329c0cc4bc941bbf9f",
              "IPY_MODEL_aa577f3f5c554f868f05e3dbcf9af9f6"
            ],
            "layout": "IPY_MODEL_037d321afc9949dab2bfbd82f6ec2191"
          }
        },
        "740a2b20a29d4c90a920d7d59a1cb240": {
          "model_module": "@jupyter-widgets/controls",
          "model_name": "HTMLModel",
          "model_module_version": "1.5.0",
          "state": {
            "_dom_classes": [],
            "_model_module": "@jupyter-widgets/controls",
            "_model_module_version": "1.5.0",
            "_model_name": "HTMLModel",
            "_view_count": null,
            "_view_module": "@jupyter-widgets/controls",
            "_view_module_version": "1.5.0",
            "_view_name": "HTMLView",
            "description": "",
            "description_tooltip": null,
            "layout": "IPY_MODEL_40d464a4f63d48dca17395ca3dd141f5",
            "placeholder": "​",
            "style": "IPY_MODEL_64fecb62187c4e0fb8060aee3b01e83d",
            "value": "100%"
          }
        },
        "22cc44c0b03f4c329c0cc4bc941bbf9f": {
          "model_module": "@jupyter-widgets/controls",
          "model_name": "FloatProgressModel",
          "model_module_version": "1.5.0",
          "state": {
            "_dom_classes": [],
            "_model_module": "@jupyter-widgets/controls",
            "_model_module_version": "1.5.0",
            "_model_name": "FloatProgressModel",
            "_view_count": null,
            "_view_module": "@jupyter-widgets/controls",
            "_view_module_version": "1.5.0",
            "_view_name": "ProgressView",
            "bar_style": "success",
            "description": "",
            "description_tooltip": null,
            "layout": "IPY_MODEL_e495a22ad98b4318bc05ccaf088744df",
            "max": 131,
            "min": 0,
            "orientation": "horizontal",
            "style": "IPY_MODEL_bf1d5873c2ce47cab19dab1fc0c9bd1b",
            "value": 131
          }
        },
        "aa577f3f5c554f868f05e3dbcf9af9f6": {
          "model_module": "@jupyter-widgets/controls",
          "model_name": "HTMLModel",
          "model_module_version": "1.5.0",
          "state": {
            "_dom_classes": [],
            "_model_module": "@jupyter-widgets/controls",
            "_model_module_version": "1.5.0",
            "_model_name": "HTMLModel",
            "_view_count": null,
            "_view_module": "@jupyter-widgets/controls",
            "_view_module_version": "1.5.0",
            "_view_name": "HTMLView",
            "description": "",
            "description_tooltip": null,
            "layout": "IPY_MODEL_7a8df5f9f5544b6385d637b89570edd2",
            "placeholder": "​",
            "style": "IPY_MODEL_e652b6d8cf8f4b04b00134a3033e1e1d",
            "value": " 131/131 [00:06&lt;00:00, 21.14it/s]"
          }
        },
        "037d321afc9949dab2bfbd82f6ec2191": {
          "model_module": "@jupyter-widgets/base",
          "model_name": "LayoutModel",
          "model_module_version": "1.2.0",
          "state": {
            "_model_module": "@jupyter-widgets/base",
            "_model_module_version": "1.2.0",
            "_model_name": "LayoutModel",
            "_view_count": null,
            "_view_module": "@jupyter-widgets/base",
            "_view_module_version": "1.2.0",
            "_view_name": "LayoutView",
            "align_content": null,
            "align_items": null,
            "align_self": null,
            "border": null,
            "bottom": null,
            "display": null,
            "flex": null,
            "flex_flow": null,
            "grid_area": null,
            "grid_auto_columns": null,
            "grid_auto_flow": null,
            "grid_auto_rows": null,
            "grid_column": null,
            "grid_gap": null,
            "grid_row": null,
            "grid_template_areas": null,
            "grid_template_columns": null,
            "grid_template_rows": null,
            "height": null,
            "justify_content": null,
            "justify_items": null,
            "left": null,
            "margin": null,
            "max_height": null,
            "max_width": null,
            "min_height": null,
            "min_width": null,
            "object_fit": null,
            "object_position": null,
            "order": null,
            "overflow": null,
            "overflow_x": null,
            "overflow_y": null,
            "padding": null,
            "right": null,
            "top": null,
            "visibility": null,
            "width": null
          }
        },
        "40d464a4f63d48dca17395ca3dd141f5": {
          "model_module": "@jupyter-widgets/base",
          "model_name": "LayoutModel",
          "model_module_version": "1.2.0",
          "state": {
            "_model_module": "@jupyter-widgets/base",
            "_model_module_version": "1.2.0",
            "_model_name": "LayoutModel",
            "_view_count": null,
            "_view_module": "@jupyter-widgets/base",
            "_view_module_version": "1.2.0",
            "_view_name": "LayoutView",
            "align_content": null,
            "align_items": null,
            "align_self": null,
            "border": null,
            "bottom": null,
            "display": null,
            "flex": null,
            "flex_flow": null,
            "grid_area": null,
            "grid_auto_columns": null,
            "grid_auto_flow": null,
            "grid_auto_rows": null,
            "grid_column": null,
            "grid_gap": null,
            "grid_row": null,
            "grid_template_areas": null,
            "grid_template_columns": null,
            "grid_template_rows": null,
            "height": null,
            "justify_content": null,
            "justify_items": null,
            "left": null,
            "margin": null,
            "max_height": null,
            "max_width": null,
            "min_height": null,
            "min_width": null,
            "object_fit": null,
            "object_position": null,
            "order": null,
            "overflow": null,
            "overflow_x": null,
            "overflow_y": null,
            "padding": null,
            "right": null,
            "top": null,
            "visibility": null,
            "width": null
          }
        },
        "64fecb62187c4e0fb8060aee3b01e83d": {
          "model_module": "@jupyter-widgets/controls",
          "model_name": "DescriptionStyleModel",
          "model_module_version": "1.5.0",
          "state": {
            "_model_module": "@jupyter-widgets/controls",
            "_model_module_version": "1.5.0",
            "_model_name": "DescriptionStyleModel",
            "_view_count": null,
            "_view_module": "@jupyter-widgets/base",
            "_view_module_version": "1.2.0",
            "_view_name": "StyleView",
            "description_width": ""
          }
        },
        "e495a22ad98b4318bc05ccaf088744df": {
          "model_module": "@jupyter-widgets/base",
          "model_name": "LayoutModel",
          "model_module_version": "1.2.0",
          "state": {
            "_model_module": "@jupyter-widgets/base",
            "_model_module_version": "1.2.0",
            "_model_name": "LayoutModel",
            "_view_count": null,
            "_view_module": "@jupyter-widgets/base",
            "_view_module_version": "1.2.0",
            "_view_name": "LayoutView",
            "align_content": null,
            "align_items": null,
            "align_self": null,
            "border": null,
            "bottom": null,
            "display": null,
            "flex": null,
            "flex_flow": null,
            "grid_area": null,
            "grid_auto_columns": null,
            "grid_auto_flow": null,
            "grid_auto_rows": null,
            "grid_column": null,
            "grid_gap": null,
            "grid_row": null,
            "grid_template_areas": null,
            "grid_template_columns": null,
            "grid_template_rows": null,
            "height": null,
            "justify_content": null,
            "justify_items": null,
            "left": null,
            "margin": null,
            "max_height": null,
            "max_width": null,
            "min_height": null,
            "min_width": null,
            "object_fit": null,
            "object_position": null,
            "order": null,
            "overflow": null,
            "overflow_x": null,
            "overflow_y": null,
            "padding": null,
            "right": null,
            "top": null,
            "visibility": null,
            "width": null
          }
        },
        "bf1d5873c2ce47cab19dab1fc0c9bd1b": {
          "model_module": "@jupyter-widgets/controls",
          "model_name": "ProgressStyleModel",
          "model_module_version": "1.5.0",
          "state": {
            "_model_module": "@jupyter-widgets/controls",
            "_model_module_version": "1.5.0",
            "_model_name": "ProgressStyleModel",
            "_view_count": null,
            "_view_module": "@jupyter-widgets/base",
            "_view_module_version": "1.2.0",
            "_view_name": "StyleView",
            "bar_color": null,
            "description_width": ""
          }
        },
        "7a8df5f9f5544b6385d637b89570edd2": {
          "model_module": "@jupyter-widgets/base",
          "model_name": "LayoutModel",
          "model_module_version": "1.2.0",
          "state": {
            "_model_module": "@jupyter-widgets/base",
            "_model_module_version": "1.2.0",
            "_model_name": "LayoutModel",
            "_view_count": null,
            "_view_module": "@jupyter-widgets/base",
            "_view_module_version": "1.2.0",
            "_view_name": "LayoutView",
            "align_content": null,
            "align_items": null,
            "align_self": null,
            "border": null,
            "bottom": null,
            "display": null,
            "flex": null,
            "flex_flow": null,
            "grid_area": null,
            "grid_auto_columns": null,
            "grid_auto_flow": null,
            "grid_auto_rows": null,
            "grid_column": null,
            "grid_gap": null,
            "grid_row": null,
            "grid_template_areas": null,
            "grid_template_columns": null,
            "grid_template_rows": null,
            "height": null,
            "justify_content": null,
            "justify_items": null,
            "left": null,
            "margin": null,
            "max_height": null,
            "max_width": null,
            "min_height": null,
            "min_width": null,
            "object_fit": null,
            "object_position": null,
            "order": null,
            "overflow": null,
            "overflow_x": null,
            "overflow_y": null,
            "padding": null,
            "right": null,
            "top": null,
            "visibility": null,
            "width": null
          }
        },
        "e652b6d8cf8f4b04b00134a3033e1e1d": {
          "model_module": "@jupyter-widgets/controls",
          "model_name": "DescriptionStyleModel",
          "model_module_version": "1.5.0",
          "state": {
            "_model_module": "@jupyter-widgets/controls",
            "_model_module_version": "1.5.0",
            "_model_name": "DescriptionStyleModel",
            "_view_count": null,
            "_view_module": "@jupyter-widgets/base",
            "_view_module_version": "1.2.0",
            "_view_name": "StyleView",
            "description_width": ""
          }
        },
        "8c13888ed13e4279b5c99355694b43d3": {
          "model_module": "@jupyter-widgets/controls",
          "model_name": "HBoxModel",
          "model_module_version": "1.5.0",
          "state": {
            "_dom_classes": [],
            "_model_module": "@jupyter-widgets/controls",
            "_model_module_version": "1.5.0",
            "_model_name": "HBoxModel",
            "_view_count": null,
            "_view_module": "@jupyter-widgets/controls",
            "_view_module_version": "1.5.0",
            "_view_name": "HBoxView",
            "box_style": "",
            "children": [
              "IPY_MODEL_14846a00ca534a0ab4ab4150f0ff1cc3",
              "IPY_MODEL_7f9504efeecb436593a400c9dbb7fd13",
              "IPY_MODEL_52df52f39f3c48228d143f8f4f28386b"
            ],
            "layout": "IPY_MODEL_776978f914a147ae8b5dd1ecfa5f1b1a"
          }
        },
        "14846a00ca534a0ab4ab4150f0ff1cc3": {
          "model_module": "@jupyter-widgets/controls",
          "model_name": "HTMLModel",
          "model_module_version": "1.5.0",
          "state": {
            "_dom_classes": [],
            "_model_module": "@jupyter-widgets/controls",
            "_model_module_version": "1.5.0",
            "_model_name": "HTMLModel",
            "_view_count": null,
            "_view_module": "@jupyter-widgets/controls",
            "_view_module_version": "1.5.0",
            "_view_name": "HTMLView",
            "description": "",
            "description_tooltip": null,
            "layout": "IPY_MODEL_9a7670235d6a4c068e73eaf42ff5f0cd",
            "placeholder": "​",
            "style": "IPY_MODEL_658703d9778e4cf7a851e4c2bf5a64a6",
            "value": "100%"
          }
        },
        "7f9504efeecb436593a400c9dbb7fd13": {
          "model_module": "@jupyter-widgets/controls",
          "model_name": "FloatProgressModel",
          "model_module_version": "1.5.0",
          "state": {
            "_dom_classes": [],
            "_model_module": "@jupyter-widgets/controls",
            "_model_module_version": "1.5.0",
            "_model_name": "FloatProgressModel",
            "_view_count": null,
            "_view_module": "@jupyter-widgets/controls",
            "_view_module_version": "1.5.0",
            "_view_name": "ProgressView",
            "bar_style": "success",
            "description": "",
            "description_tooltip": null,
            "layout": "IPY_MODEL_cac6ef14fa7f49d7a0dd0e38e9a89f26",
            "max": 195,
            "min": 0,
            "orientation": "horizontal",
            "style": "IPY_MODEL_2d6f39ab8735444484f671279c419095",
            "value": 195
          }
        },
        "52df52f39f3c48228d143f8f4f28386b": {
          "model_module": "@jupyter-widgets/controls",
          "model_name": "HTMLModel",
          "model_module_version": "1.5.0",
          "state": {
            "_dom_classes": [],
            "_model_module": "@jupyter-widgets/controls",
            "_model_module_version": "1.5.0",
            "_model_name": "HTMLModel",
            "_view_count": null,
            "_view_module": "@jupyter-widgets/controls",
            "_view_module_version": "1.5.0",
            "_view_name": "HTMLView",
            "description": "",
            "description_tooltip": null,
            "layout": "IPY_MODEL_c96019baed5c4dd3a23797edd93c3c34",
            "placeholder": "​",
            "style": "IPY_MODEL_73761fcb15744da3a8c34cbd2bf8a6ea",
            "value": " 195/195 [00:07&lt;00:00, 33.10it/s]"
          }
        },
        "776978f914a147ae8b5dd1ecfa5f1b1a": {
          "model_module": "@jupyter-widgets/base",
          "model_name": "LayoutModel",
          "model_module_version": "1.2.0",
          "state": {
            "_model_module": "@jupyter-widgets/base",
            "_model_module_version": "1.2.0",
            "_model_name": "LayoutModel",
            "_view_count": null,
            "_view_module": "@jupyter-widgets/base",
            "_view_module_version": "1.2.0",
            "_view_name": "LayoutView",
            "align_content": null,
            "align_items": null,
            "align_self": null,
            "border": null,
            "bottom": null,
            "display": null,
            "flex": null,
            "flex_flow": null,
            "grid_area": null,
            "grid_auto_columns": null,
            "grid_auto_flow": null,
            "grid_auto_rows": null,
            "grid_column": null,
            "grid_gap": null,
            "grid_row": null,
            "grid_template_areas": null,
            "grid_template_columns": null,
            "grid_template_rows": null,
            "height": null,
            "justify_content": null,
            "justify_items": null,
            "left": null,
            "margin": null,
            "max_height": null,
            "max_width": null,
            "min_height": null,
            "min_width": null,
            "object_fit": null,
            "object_position": null,
            "order": null,
            "overflow": null,
            "overflow_x": null,
            "overflow_y": null,
            "padding": null,
            "right": null,
            "top": null,
            "visibility": null,
            "width": null
          }
        },
        "9a7670235d6a4c068e73eaf42ff5f0cd": {
          "model_module": "@jupyter-widgets/base",
          "model_name": "LayoutModel",
          "model_module_version": "1.2.0",
          "state": {
            "_model_module": "@jupyter-widgets/base",
            "_model_module_version": "1.2.0",
            "_model_name": "LayoutModel",
            "_view_count": null,
            "_view_module": "@jupyter-widgets/base",
            "_view_module_version": "1.2.0",
            "_view_name": "LayoutView",
            "align_content": null,
            "align_items": null,
            "align_self": null,
            "border": null,
            "bottom": null,
            "display": null,
            "flex": null,
            "flex_flow": null,
            "grid_area": null,
            "grid_auto_columns": null,
            "grid_auto_flow": null,
            "grid_auto_rows": null,
            "grid_column": null,
            "grid_gap": null,
            "grid_row": null,
            "grid_template_areas": null,
            "grid_template_columns": null,
            "grid_template_rows": null,
            "height": null,
            "justify_content": null,
            "justify_items": null,
            "left": null,
            "margin": null,
            "max_height": null,
            "max_width": null,
            "min_height": null,
            "min_width": null,
            "object_fit": null,
            "object_position": null,
            "order": null,
            "overflow": null,
            "overflow_x": null,
            "overflow_y": null,
            "padding": null,
            "right": null,
            "top": null,
            "visibility": null,
            "width": null
          }
        },
        "658703d9778e4cf7a851e4c2bf5a64a6": {
          "model_module": "@jupyter-widgets/controls",
          "model_name": "DescriptionStyleModel",
          "model_module_version": "1.5.0",
          "state": {
            "_model_module": "@jupyter-widgets/controls",
            "_model_module_version": "1.5.0",
            "_model_name": "DescriptionStyleModel",
            "_view_count": null,
            "_view_module": "@jupyter-widgets/base",
            "_view_module_version": "1.2.0",
            "_view_name": "StyleView",
            "description_width": ""
          }
        },
        "cac6ef14fa7f49d7a0dd0e38e9a89f26": {
          "model_module": "@jupyter-widgets/base",
          "model_name": "LayoutModel",
          "model_module_version": "1.2.0",
          "state": {
            "_model_module": "@jupyter-widgets/base",
            "_model_module_version": "1.2.0",
            "_model_name": "LayoutModel",
            "_view_count": null,
            "_view_module": "@jupyter-widgets/base",
            "_view_module_version": "1.2.0",
            "_view_name": "LayoutView",
            "align_content": null,
            "align_items": null,
            "align_self": null,
            "border": null,
            "bottom": null,
            "display": null,
            "flex": null,
            "flex_flow": null,
            "grid_area": null,
            "grid_auto_columns": null,
            "grid_auto_flow": null,
            "grid_auto_rows": null,
            "grid_column": null,
            "grid_gap": null,
            "grid_row": null,
            "grid_template_areas": null,
            "grid_template_columns": null,
            "grid_template_rows": null,
            "height": null,
            "justify_content": null,
            "justify_items": null,
            "left": null,
            "margin": null,
            "max_height": null,
            "max_width": null,
            "min_height": null,
            "min_width": null,
            "object_fit": null,
            "object_position": null,
            "order": null,
            "overflow": null,
            "overflow_x": null,
            "overflow_y": null,
            "padding": null,
            "right": null,
            "top": null,
            "visibility": null,
            "width": null
          }
        },
        "2d6f39ab8735444484f671279c419095": {
          "model_module": "@jupyter-widgets/controls",
          "model_name": "ProgressStyleModel",
          "model_module_version": "1.5.0",
          "state": {
            "_model_module": "@jupyter-widgets/controls",
            "_model_module_version": "1.5.0",
            "_model_name": "ProgressStyleModel",
            "_view_count": null,
            "_view_module": "@jupyter-widgets/base",
            "_view_module_version": "1.2.0",
            "_view_name": "StyleView",
            "bar_color": null,
            "description_width": ""
          }
        },
        "c96019baed5c4dd3a23797edd93c3c34": {
          "model_module": "@jupyter-widgets/base",
          "model_name": "LayoutModel",
          "model_module_version": "1.2.0",
          "state": {
            "_model_module": "@jupyter-widgets/base",
            "_model_module_version": "1.2.0",
            "_model_name": "LayoutModel",
            "_view_count": null,
            "_view_module": "@jupyter-widgets/base",
            "_view_module_version": "1.2.0",
            "_view_name": "LayoutView",
            "align_content": null,
            "align_items": null,
            "align_self": null,
            "border": null,
            "bottom": null,
            "display": null,
            "flex": null,
            "flex_flow": null,
            "grid_area": null,
            "grid_auto_columns": null,
            "grid_auto_flow": null,
            "grid_auto_rows": null,
            "grid_column": null,
            "grid_gap": null,
            "grid_row": null,
            "grid_template_areas": null,
            "grid_template_columns": null,
            "grid_template_rows": null,
            "height": null,
            "justify_content": null,
            "justify_items": null,
            "left": null,
            "margin": null,
            "max_height": null,
            "max_width": null,
            "min_height": null,
            "min_width": null,
            "object_fit": null,
            "object_position": null,
            "order": null,
            "overflow": null,
            "overflow_x": null,
            "overflow_y": null,
            "padding": null,
            "right": null,
            "top": null,
            "visibility": null,
            "width": null
          }
        },
        "73761fcb15744da3a8c34cbd2bf8a6ea": {
          "model_module": "@jupyter-widgets/controls",
          "model_name": "DescriptionStyleModel",
          "model_module_version": "1.5.0",
          "state": {
            "_model_module": "@jupyter-widgets/controls",
            "_model_module_version": "1.5.0",
            "_model_name": "DescriptionStyleModel",
            "_view_count": null,
            "_view_module": "@jupyter-widgets/base",
            "_view_module_version": "1.2.0",
            "_view_name": "StyleView",
            "description_width": ""
          }
        },
        "5231a60bee0245eaa068ab8b24e971a6": {
          "model_module": "@jupyter-widgets/controls",
          "model_name": "HBoxModel",
          "model_module_version": "1.5.0",
          "state": {
            "_dom_classes": [],
            "_model_module": "@jupyter-widgets/controls",
            "_model_module_version": "1.5.0",
            "_model_name": "HBoxModel",
            "_view_count": null,
            "_view_module": "@jupyter-widgets/controls",
            "_view_module_version": "1.5.0",
            "_view_name": "HBoxView",
            "box_style": "",
            "children": [
              "IPY_MODEL_aa06fa739cc74a139a37ae4c51f070f8",
              "IPY_MODEL_efe47e8cd1ce445f86a4752b24a280ed",
              "IPY_MODEL_372f4dcb85434191bb2188dfe375faba"
            ],
            "layout": "IPY_MODEL_129fb2da32594000aed3c2b957778bf2"
          }
        },
        "aa06fa739cc74a139a37ae4c51f070f8": {
          "model_module": "@jupyter-widgets/controls",
          "model_name": "HTMLModel",
          "model_module_version": "1.5.0",
          "state": {
            "_dom_classes": [],
            "_model_module": "@jupyter-widgets/controls",
            "_model_module_version": "1.5.0",
            "_model_name": "HTMLModel",
            "_view_count": null,
            "_view_module": "@jupyter-widgets/controls",
            "_view_module_version": "1.5.0",
            "_view_name": "HTMLView",
            "description": "",
            "description_tooltip": null,
            "layout": "IPY_MODEL_9c1f7ad2bd2b4af5afd4854948ba0c82",
            "placeholder": "​",
            "style": "IPY_MODEL_3b1551ab1b6b42c2a0458971b3f09df7",
            "value": "100%"
          }
        },
        "efe47e8cd1ce445f86a4752b24a280ed": {
          "model_module": "@jupyter-widgets/controls",
          "model_name": "FloatProgressModel",
          "model_module_version": "1.5.0",
          "state": {
            "_dom_classes": [],
            "_model_module": "@jupyter-widgets/controls",
            "_model_module_version": "1.5.0",
            "_model_name": "FloatProgressModel",
            "_view_count": null,
            "_view_module": "@jupyter-widgets/controls",
            "_view_module_version": "1.5.0",
            "_view_name": "ProgressView",
            "bar_style": "success",
            "description": "",
            "description_tooltip": null,
            "layout": "IPY_MODEL_6ee708e83a6a42618d8011410cfd779f",
            "max": 93,
            "min": 0,
            "orientation": "horizontal",
            "style": "IPY_MODEL_e18f1bde85a6401d9be3d9c74d5cca96",
            "value": 93
          }
        },
        "372f4dcb85434191bb2188dfe375faba": {
          "model_module": "@jupyter-widgets/controls",
          "model_name": "HTMLModel",
          "model_module_version": "1.5.0",
          "state": {
            "_dom_classes": [],
            "_model_module": "@jupyter-widgets/controls",
            "_model_module_version": "1.5.0",
            "_model_name": "HTMLModel",
            "_view_count": null,
            "_view_module": "@jupyter-widgets/controls",
            "_view_module_version": "1.5.0",
            "_view_name": "HTMLView",
            "description": "",
            "description_tooltip": null,
            "layout": "IPY_MODEL_5cbcc1f87fa242c2a2ccee8025e6cb69",
            "placeholder": "​",
            "style": "IPY_MODEL_a2d3c56867064873800f8fbfc6113307",
            "value": " 93/93 [00:33&lt;00:00,  2.88it/s]"
          }
        },
        "129fb2da32594000aed3c2b957778bf2": {
          "model_module": "@jupyter-widgets/base",
          "model_name": "LayoutModel",
          "model_module_version": "1.2.0",
          "state": {
            "_model_module": "@jupyter-widgets/base",
            "_model_module_version": "1.2.0",
            "_model_name": "LayoutModel",
            "_view_count": null,
            "_view_module": "@jupyter-widgets/base",
            "_view_module_version": "1.2.0",
            "_view_name": "LayoutView",
            "align_content": null,
            "align_items": null,
            "align_self": null,
            "border": null,
            "bottom": null,
            "display": null,
            "flex": null,
            "flex_flow": null,
            "grid_area": null,
            "grid_auto_columns": null,
            "grid_auto_flow": null,
            "grid_auto_rows": null,
            "grid_column": null,
            "grid_gap": null,
            "grid_row": null,
            "grid_template_areas": null,
            "grid_template_columns": null,
            "grid_template_rows": null,
            "height": null,
            "justify_content": null,
            "justify_items": null,
            "left": null,
            "margin": null,
            "max_height": null,
            "max_width": null,
            "min_height": null,
            "min_width": null,
            "object_fit": null,
            "object_position": null,
            "order": null,
            "overflow": null,
            "overflow_x": null,
            "overflow_y": null,
            "padding": null,
            "right": null,
            "top": null,
            "visibility": null,
            "width": null
          }
        },
        "9c1f7ad2bd2b4af5afd4854948ba0c82": {
          "model_module": "@jupyter-widgets/base",
          "model_name": "LayoutModel",
          "model_module_version": "1.2.0",
          "state": {
            "_model_module": "@jupyter-widgets/base",
            "_model_module_version": "1.2.0",
            "_model_name": "LayoutModel",
            "_view_count": null,
            "_view_module": "@jupyter-widgets/base",
            "_view_module_version": "1.2.0",
            "_view_name": "LayoutView",
            "align_content": null,
            "align_items": null,
            "align_self": null,
            "border": null,
            "bottom": null,
            "display": null,
            "flex": null,
            "flex_flow": null,
            "grid_area": null,
            "grid_auto_columns": null,
            "grid_auto_flow": null,
            "grid_auto_rows": null,
            "grid_column": null,
            "grid_gap": null,
            "grid_row": null,
            "grid_template_areas": null,
            "grid_template_columns": null,
            "grid_template_rows": null,
            "height": null,
            "justify_content": null,
            "justify_items": null,
            "left": null,
            "margin": null,
            "max_height": null,
            "max_width": null,
            "min_height": null,
            "min_width": null,
            "object_fit": null,
            "object_position": null,
            "order": null,
            "overflow": null,
            "overflow_x": null,
            "overflow_y": null,
            "padding": null,
            "right": null,
            "top": null,
            "visibility": null,
            "width": null
          }
        },
        "3b1551ab1b6b42c2a0458971b3f09df7": {
          "model_module": "@jupyter-widgets/controls",
          "model_name": "DescriptionStyleModel",
          "model_module_version": "1.5.0",
          "state": {
            "_model_module": "@jupyter-widgets/controls",
            "_model_module_version": "1.5.0",
            "_model_name": "DescriptionStyleModel",
            "_view_count": null,
            "_view_module": "@jupyter-widgets/base",
            "_view_module_version": "1.2.0",
            "_view_name": "StyleView",
            "description_width": ""
          }
        },
        "6ee708e83a6a42618d8011410cfd779f": {
          "model_module": "@jupyter-widgets/base",
          "model_name": "LayoutModel",
          "model_module_version": "1.2.0",
          "state": {
            "_model_module": "@jupyter-widgets/base",
            "_model_module_version": "1.2.0",
            "_model_name": "LayoutModel",
            "_view_count": null,
            "_view_module": "@jupyter-widgets/base",
            "_view_module_version": "1.2.0",
            "_view_name": "LayoutView",
            "align_content": null,
            "align_items": null,
            "align_self": null,
            "border": null,
            "bottom": null,
            "display": null,
            "flex": null,
            "flex_flow": null,
            "grid_area": null,
            "grid_auto_columns": null,
            "grid_auto_flow": null,
            "grid_auto_rows": null,
            "grid_column": null,
            "grid_gap": null,
            "grid_row": null,
            "grid_template_areas": null,
            "grid_template_columns": null,
            "grid_template_rows": null,
            "height": null,
            "justify_content": null,
            "justify_items": null,
            "left": null,
            "margin": null,
            "max_height": null,
            "max_width": null,
            "min_height": null,
            "min_width": null,
            "object_fit": null,
            "object_position": null,
            "order": null,
            "overflow": null,
            "overflow_x": null,
            "overflow_y": null,
            "padding": null,
            "right": null,
            "top": null,
            "visibility": null,
            "width": null
          }
        },
        "e18f1bde85a6401d9be3d9c74d5cca96": {
          "model_module": "@jupyter-widgets/controls",
          "model_name": "ProgressStyleModel",
          "model_module_version": "1.5.0",
          "state": {
            "_model_module": "@jupyter-widgets/controls",
            "_model_module_version": "1.5.0",
            "_model_name": "ProgressStyleModel",
            "_view_count": null,
            "_view_module": "@jupyter-widgets/base",
            "_view_module_version": "1.2.0",
            "_view_name": "StyleView",
            "bar_color": null,
            "description_width": ""
          }
        },
        "5cbcc1f87fa242c2a2ccee8025e6cb69": {
          "model_module": "@jupyter-widgets/base",
          "model_name": "LayoutModel",
          "model_module_version": "1.2.0",
          "state": {
            "_model_module": "@jupyter-widgets/base",
            "_model_module_version": "1.2.0",
            "_model_name": "LayoutModel",
            "_view_count": null,
            "_view_module": "@jupyter-widgets/base",
            "_view_module_version": "1.2.0",
            "_view_name": "LayoutView",
            "align_content": null,
            "align_items": null,
            "align_self": null,
            "border": null,
            "bottom": null,
            "display": null,
            "flex": null,
            "flex_flow": null,
            "grid_area": null,
            "grid_auto_columns": null,
            "grid_auto_flow": null,
            "grid_auto_rows": null,
            "grid_column": null,
            "grid_gap": null,
            "grid_row": null,
            "grid_template_areas": null,
            "grid_template_columns": null,
            "grid_template_rows": null,
            "height": null,
            "justify_content": null,
            "justify_items": null,
            "left": null,
            "margin": null,
            "max_height": null,
            "max_width": null,
            "min_height": null,
            "min_width": null,
            "object_fit": null,
            "object_position": null,
            "order": null,
            "overflow": null,
            "overflow_x": null,
            "overflow_y": null,
            "padding": null,
            "right": null,
            "top": null,
            "visibility": null,
            "width": null
          }
        },
        "a2d3c56867064873800f8fbfc6113307": {
          "model_module": "@jupyter-widgets/controls",
          "model_name": "DescriptionStyleModel",
          "model_module_version": "1.5.0",
          "state": {
            "_model_module": "@jupyter-widgets/controls",
            "_model_module_version": "1.5.0",
            "_model_name": "DescriptionStyleModel",
            "_view_count": null,
            "_view_module": "@jupyter-widgets/base",
            "_view_module_version": "1.2.0",
            "_view_name": "StyleView",
            "description_width": ""
          }
        },
        "5a6332df38154245ad9b37ad3a981b3d": {
          "model_module": "@jupyter-widgets/controls",
          "model_name": "HBoxModel",
          "model_module_version": "1.5.0",
          "state": {
            "_dom_classes": [],
            "_model_module": "@jupyter-widgets/controls",
            "_model_module_version": "1.5.0",
            "_model_name": "HBoxModel",
            "_view_count": null,
            "_view_module": "@jupyter-widgets/controls",
            "_view_module_version": "1.5.0",
            "_view_name": "HBoxView",
            "box_style": "",
            "children": [
              "IPY_MODEL_30ea79a8f3544aa8a570435a5d18d164",
              "IPY_MODEL_b2829bb553694a4ca6aac8f57f9df099",
              "IPY_MODEL_2938b9de209141b486adccc824c078f9"
            ],
            "layout": "IPY_MODEL_44e3c23653be428498ea9efa4ce6491f"
          }
        },
        "30ea79a8f3544aa8a570435a5d18d164": {
          "model_module": "@jupyter-widgets/controls",
          "model_name": "HTMLModel",
          "model_module_version": "1.5.0",
          "state": {
            "_dom_classes": [],
            "_model_module": "@jupyter-widgets/controls",
            "_model_module_version": "1.5.0",
            "_model_name": "HTMLModel",
            "_view_count": null,
            "_view_module": "@jupyter-widgets/controls",
            "_view_module_version": "1.5.0",
            "_view_name": "HTMLView",
            "description": "",
            "description_tooltip": null,
            "layout": "IPY_MODEL_d363dc04e9ae43dfbc26c5002aedf908",
            "placeholder": "​",
            "style": "IPY_MODEL_1c6f480dc44e463ebf1041d26321c538",
            "value": "100%"
          }
        },
        "b2829bb553694a4ca6aac8f57f9df099": {
          "model_module": "@jupyter-widgets/controls",
          "model_name": "FloatProgressModel",
          "model_module_version": "1.5.0",
          "state": {
            "_dom_classes": [],
            "_model_module": "@jupyter-widgets/controls",
            "_model_module_version": "1.5.0",
            "_model_name": "FloatProgressModel",
            "_view_count": null,
            "_view_module": "@jupyter-widgets/controls",
            "_view_module_version": "1.5.0",
            "_view_name": "ProgressView",
            "bar_style": "success",
            "description": "",
            "description_tooltip": null,
            "layout": "IPY_MODEL_cfd91153981043aa8c0747f915256018",
            "max": 357,
            "min": 0,
            "orientation": "horizontal",
            "style": "IPY_MODEL_6a2c6ee76c784b30a127e7aa1b7e5337",
            "value": 357
          }
        },
        "2938b9de209141b486adccc824c078f9": {
          "model_module": "@jupyter-widgets/controls",
          "model_name": "HTMLModel",
          "model_module_version": "1.5.0",
          "state": {
            "_dom_classes": [],
            "_model_module": "@jupyter-widgets/controls",
            "_model_module_version": "1.5.0",
            "_model_name": "HTMLModel",
            "_view_count": null,
            "_view_module": "@jupyter-widgets/controls",
            "_view_module_version": "1.5.0",
            "_view_name": "HTMLView",
            "description": "",
            "description_tooltip": null,
            "layout": "IPY_MODEL_de1f64c7d544419d84732c9ed71f9248",
            "placeholder": "​",
            "style": "IPY_MODEL_de2eb87dcb8b4574a792eb8a65e70390",
            "value": " 357/357 [00:15&lt;00:00, 31.17it/s]"
          }
        },
        "44e3c23653be428498ea9efa4ce6491f": {
          "model_module": "@jupyter-widgets/base",
          "model_name": "LayoutModel",
          "model_module_version": "1.2.0",
          "state": {
            "_model_module": "@jupyter-widgets/base",
            "_model_module_version": "1.2.0",
            "_model_name": "LayoutModel",
            "_view_count": null,
            "_view_module": "@jupyter-widgets/base",
            "_view_module_version": "1.2.0",
            "_view_name": "LayoutView",
            "align_content": null,
            "align_items": null,
            "align_self": null,
            "border": null,
            "bottom": null,
            "display": null,
            "flex": null,
            "flex_flow": null,
            "grid_area": null,
            "grid_auto_columns": null,
            "grid_auto_flow": null,
            "grid_auto_rows": null,
            "grid_column": null,
            "grid_gap": null,
            "grid_row": null,
            "grid_template_areas": null,
            "grid_template_columns": null,
            "grid_template_rows": null,
            "height": null,
            "justify_content": null,
            "justify_items": null,
            "left": null,
            "margin": null,
            "max_height": null,
            "max_width": null,
            "min_height": null,
            "min_width": null,
            "object_fit": null,
            "object_position": null,
            "order": null,
            "overflow": null,
            "overflow_x": null,
            "overflow_y": null,
            "padding": null,
            "right": null,
            "top": null,
            "visibility": null,
            "width": null
          }
        },
        "d363dc04e9ae43dfbc26c5002aedf908": {
          "model_module": "@jupyter-widgets/base",
          "model_name": "LayoutModel",
          "model_module_version": "1.2.0",
          "state": {
            "_model_module": "@jupyter-widgets/base",
            "_model_module_version": "1.2.0",
            "_model_name": "LayoutModel",
            "_view_count": null,
            "_view_module": "@jupyter-widgets/base",
            "_view_module_version": "1.2.0",
            "_view_name": "LayoutView",
            "align_content": null,
            "align_items": null,
            "align_self": null,
            "border": null,
            "bottom": null,
            "display": null,
            "flex": null,
            "flex_flow": null,
            "grid_area": null,
            "grid_auto_columns": null,
            "grid_auto_flow": null,
            "grid_auto_rows": null,
            "grid_column": null,
            "grid_gap": null,
            "grid_row": null,
            "grid_template_areas": null,
            "grid_template_columns": null,
            "grid_template_rows": null,
            "height": null,
            "justify_content": null,
            "justify_items": null,
            "left": null,
            "margin": null,
            "max_height": null,
            "max_width": null,
            "min_height": null,
            "min_width": null,
            "object_fit": null,
            "object_position": null,
            "order": null,
            "overflow": null,
            "overflow_x": null,
            "overflow_y": null,
            "padding": null,
            "right": null,
            "top": null,
            "visibility": null,
            "width": null
          }
        },
        "1c6f480dc44e463ebf1041d26321c538": {
          "model_module": "@jupyter-widgets/controls",
          "model_name": "DescriptionStyleModel",
          "model_module_version": "1.5.0",
          "state": {
            "_model_module": "@jupyter-widgets/controls",
            "_model_module_version": "1.5.0",
            "_model_name": "DescriptionStyleModel",
            "_view_count": null,
            "_view_module": "@jupyter-widgets/base",
            "_view_module_version": "1.2.0",
            "_view_name": "StyleView",
            "description_width": ""
          }
        },
        "cfd91153981043aa8c0747f915256018": {
          "model_module": "@jupyter-widgets/base",
          "model_name": "LayoutModel",
          "model_module_version": "1.2.0",
          "state": {
            "_model_module": "@jupyter-widgets/base",
            "_model_module_version": "1.2.0",
            "_model_name": "LayoutModel",
            "_view_count": null,
            "_view_module": "@jupyter-widgets/base",
            "_view_module_version": "1.2.0",
            "_view_name": "LayoutView",
            "align_content": null,
            "align_items": null,
            "align_self": null,
            "border": null,
            "bottom": null,
            "display": null,
            "flex": null,
            "flex_flow": null,
            "grid_area": null,
            "grid_auto_columns": null,
            "grid_auto_flow": null,
            "grid_auto_rows": null,
            "grid_column": null,
            "grid_gap": null,
            "grid_row": null,
            "grid_template_areas": null,
            "grid_template_columns": null,
            "grid_template_rows": null,
            "height": null,
            "justify_content": null,
            "justify_items": null,
            "left": null,
            "margin": null,
            "max_height": null,
            "max_width": null,
            "min_height": null,
            "min_width": null,
            "object_fit": null,
            "object_position": null,
            "order": null,
            "overflow": null,
            "overflow_x": null,
            "overflow_y": null,
            "padding": null,
            "right": null,
            "top": null,
            "visibility": null,
            "width": null
          }
        },
        "6a2c6ee76c784b30a127e7aa1b7e5337": {
          "model_module": "@jupyter-widgets/controls",
          "model_name": "ProgressStyleModel",
          "model_module_version": "1.5.0",
          "state": {
            "_model_module": "@jupyter-widgets/controls",
            "_model_module_version": "1.5.0",
            "_model_name": "ProgressStyleModel",
            "_view_count": null,
            "_view_module": "@jupyter-widgets/base",
            "_view_module_version": "1.2.0",
            "_view_name": "StyleView",
            "bar_color": null,
            "description_width": ""
          }
        },
        "de1f64c7d544419d84732c9ed71f9248": {
          "model_module": "@jupyter-widgets/base",
          "model_name": "LayoutModel",
          "model_module_version": "1.2.0",
          "state": {
            "_model_module": "@jupyter-widgets/base",
            "_model_module_version": "1.2.0",
            "_model_name": "LayoutModel",
            "_view_count": null,
            "_view_module": "@jupyter-widgets/base",
            "_view_module_version": "1.2.0",
            "_view_name": "LayoutView",
            "align_content": null,
            "align_items": null,
            "align_self": null,
            "border": null,
            "bottom": null,
            "display": null,
            "flex": null,
            "flex_flow": null,
            "grid_area": null,
            "grid_auto_columns": null,
            "grid_auto_flow": null,
            "grid_auto_rows": null,
            "grid_column": null,
            "grid_gap": null,
            "grid_row": null,
            "grid_template_areas": null,
            "grid_template_columns": null,
            "grid_template_rows": null,
            "height": null,
            "justify_content": null,
            "justify_items": null,
            "left": null,
            "margin": null,
            "max_height": null,
            "max_width": null,
            "min_height": null,
            "min_width": null,
            "object_fit": null,
            "object_position": null,
            "order": null,
            "overflow": null,
            "overflow_x": null,
            "overflow_y": null,
            "padding": null,
            "right": null,
            "top": null,
            "visibility": null,
            "width": null
          }
        },
        "de2eb87dcb8b4574a792eb8a65e70390": {
          "model_module": "@jupyter-widgets/controls",
          "model_name": "DescriptionStyleModel",
          "model_module_version": "1.5.0",
          "state": {
            "_model_module": "@jupyter-widgets/controls",
            "_model_module_version": "1.5.0",
            "_model_name": "DescriptionStyleModel",
            "_view_count": null,
            "_view_module": "@jupyter-widgets/base",
            "_view_module_version": "1.2.0",
            "_view_name": "StyleView",
            "description_width": ""
          }
        }
      }
    }
  },
  "cells": [
    {
      "cell_type": "code",
      "execution_count": 2,
      "metadata": {
        "colab": {
          "base_uri": "https://localhost:8080/"
        },
        "id": "z-3O_CSy0kbu",
        "outputId": "36263713-3f17-4dba-ab91-4626d8b20917"
      },
      "outputs": [
        {
          "output_type": "stream",
          "name": "stdout",
          "text": [
            "Mounted at /content/drive\n"
          ]
        }
      ],
      "source": [
        "from google.colab import drive\n",
        "drive.mount('/content/drive',force_remount=True)\n",
        "import sys \n",
        "installation_path = \"/content/drive/MyDrive/Colab_Installations_V2\"\n",
        "# The path is being modified so that everything installed in the installation path can now be used without re-installing (in this case, I just need biopython)\n",
        "sys.path.append(installation_path)\n",
        "protein_mpnn_path = \"/content/drive/MyDrive/Protein_MPNN_Digging/ProteinMPNN/vanilla_proteinmpnn\"\n",
        "sys.path.insert(0,protein_mpnn_path)"
      ]
    },
    {
      "cell_type": "code",
      "source": [
        "%cd /content/drive/MyDrive/Protein_MPNN_Digging"
      ],
      "metadata": {
        "colab": {
          "base_uri": "https://localhost:8080/"
        },
        "id": "TNgSmOLs1JNK",
        "outputId": "b3dd4a30-a55a-43c2-deff-c8f1970d777c"
      },
      "execution_count": 3,
      "outputs": [
        {
          "output_type": "stream",
          "name": "stdout",
          "text": [
            "/content/drive/MyDrive/Protein_MPNN_Digging\n"
          ]
        }
      ]
    },
    {
      "cell_type": "code",
      "source": [
        "import numpy as np\n",
        "import pickle\n",
        "import os\n",
        "from tqdm.notebook import tqdm\n",
        "from Bio.PDB.Polypeptide import *\n",
        "from Bio.PDB import *"
      ],
      "metadata": {
        "id": "QunB2AQp1Phc"
      },
      "execution_count": 4,
      "outputs": []
    },
    {
      "cell_type": "code",
      "source": [
        "from sklearn.linear_model import LinearRegression\n",
        "from sklearn.linear_model import Ridge\n",
        "from sklearn.ensemble import RandomForestRegressor\n",
        "# from sklearn.linear_model import Ridge\n",
        "from scipy.stats import entropy\n",
        "from scipy.special import softmax\n",
        "from scipy.special import kl_div\n",
        "from scipy.stats import pearsonr\n",
        "from sklearn.svm import SVR\n",
        "from sklearn.preprocessing import Normalizer\n",
        "from sklearn.ensemble import GradientBoostingRegressor"
      ],
      "metadata": {
        "id": "RznMX4ZbCSC5"
      },
      "execution_count": null,
      "outputs": []
    },
    {
      "cell_type": "code",
      "source": [
        "with open(\"S_2648_pmppn_info_dict.pickle\",\"rb\") as f:\n",
        "    S_2648_two_level_dict = pickle.load(f)\n",
        "with open(\"S_921_pmppn_info_dict.pickle\",\"rb\") as f:\n",
        "    S_921_two_level_dict = pickle.load(f)\n",
        "with open(\"S_669_pmppn_info_dict.pickle\",\"rb\") as f:\n",
        "    S_669_two_level_dict = pickle.load(f)\n",
        "with open(\"Ssym_pmppn_info_dict.pickle\",\"rb\") as f:\n",
        "    Ssym_two_level_dict = pickle.load(f)"
      ],
      "metadata": {
        "id": "1xXiKO7O1U-e"
      },
      "execution_count": null,
      "outputs": []
    },
    {
      "cell_type": "code",
      "source": [
        "list_two_level_dict = [S_2648_two_level_dict,S_921_two_level_dict,S_669_two_level_dict,Ssym_two_level_dict]\n",
        "list_dataset_names = [\"S_2648\",\"S_921\",\"S_669\",\"Ssym\"]"
      ],
      "metadata": {
        "id": "16wtwdw139yY"
      },
      "execution_count": null,
      "outputs": []
    },
    {
      "cell_type": "code",
      "source": [
        "list_mapping_dict = []\n",
        "list_proteins_to_skip = []\n",
        "\n",
        "for name in list_dataset_names:\n",
        "    mapping_dict = {}\n",
        "    pdbDirectory = f\"/content/drive/MyDrive/ACCRE_PyRun_Setup/{name}_PDB_Files\"\n",
        "    parser = PDBParser(QUIET=True)\n",
        "    # some proteins need to be skipped for now due to ICODE related discrapency\n",
        "    proteins_to_skip = []\n",
        "\n",
        "    for filename in tqdm(os.listdir(pdbDirectory)):\n",
        "        filepath = os.path.join(pdbDirectory,filename)\n",
        "        structure = parser.get_structure(id=filename.split(\".\")[0],file=filepath)\n",
        "        model = structure[0]\n",
        "        inner_dict = {}\n",
        "        outer_key = filename.split(\".\")[0]\n",
        "        skip_flag = False\n",
        "        # single chain-assumption in action again\n",
        "        for chain in model:\n",
        "            for i,residue in enumerate(chain):\n",
        "                inner_key = f\"{three_to_one(residue.get_resname())}{residue.get_id()[1]}\"\n",
        "                if inner_key not in inner_dict:\n",
        "                    inner_dict[inner_key] = i\n",
        "                else:\n",
        "                    # For \"2immA:N31\" and \"1lveA:S27\", I have been fucked\n",
        "                    # Need to think whether this will effect other positions or I can just avoid these two-protein related mutations for now?\n",
        "                    # Let me just avoid these two proteins for now\n",
        "                    print(\"YOU HAVE JUST BEEN FUCKED BY ICODE\")\n",
        "                    print(f\"{outer_key}:{inner_key}\")\n",
        "                    skip_flag = True\n",
        "        # The ICODE related problematic proteins will not be considered for now\n",
        "        if not skip_flag:\n",
        "            mapping_dict[outer_key] = inner_dict\n",
        "        else:\n",
        "            proteins_to_skip.append(outer_key)\n",
        "    list_proteins_to_skip.append(proteins_to_skip)\n",
        "    list_mapping_dict.append(mapping_dict)"
      ],
      "metadata": {
        "colab": {
          "base_uri": "https://localhost:8080/",
          "height": 281,
          "referenced_widgets": [
            "fd19a2c75b5045ceae05993eb22ba3cc",
            "740a2b20a29d4c90a920d7d59a1cb240",
            "22cc44c0b03f4c329c0cc4bc941bbf9f",
            "aa577f3f5c554f868f05e3dbcf9af9f6",
            "037d321afc9949dab2bfbd82f6ec2191",
            "40d464a4f63d48dca17395ca3dd141f5",
            "64fecb62187c4e0fb8060aee3b01e83d",
            "e495a22ad98b4318bc05ccaf088744df",
            "bf1d5873c2ce47cab19dab1fc0c9bd1b",
            "7a8df5f9f5544b6385d637b89570edd2",
            "e652b6d8cf8f4b04b00134a3033e1e1d",
            "8c13888ed13e4279b5c99355694b43d3",
            "14846a00ca534a0ab4ab4150f0ff1cc3",
            "7f9504efeecb436593a400c9dbb7fd13",
            "52df52f39f3c48228d143f8f4f28386b",
            "776978f914a147ae8b5dd1ecfa5f1b1a",
            "9a7670235d6a4c068e73eaf42ff5f0cd",
            "658703d9778e4cf7a851e4c2bf5a64a6",
            "cac6ef14fa7f49d7a0dd0e38e9a89f26",
            "2d6f39ab8735444484f671279c419095",
            "c96019baed5c4dd3a23797edd93c3c34",
            "73761fcb15744da3a8c34cbd2bf8a6ea",
            "5231a60bee0245eaa068ab8b24e971a6",
            "aa06fa739cc74a139a37ae4c51f070f8",
            "efe47e8cd1ce445f86a4752b24a280ed",
            "372f4dcb85434191bb2188dfe375faba",
            "129fb2da32594000aed3c2b957778bf2",
            "9c1f7ad2bd2b4af5afd4854948ba0c82",
            "3b1551ab1b6b42c2a0458971b3f09df7",
            "6ee708e83a6a42618d8011410cfd779f",
            "e18f1bde85a6401d9be3d9c74d5cca96",
            "5cbcc1f87fa242c2a2ccee8025e6cb69",
            "a2d3c56867064873800f8fbfc6113307",
            "5a6332df38154245ad9b37ad3a981b3d",
            "30ea79a8f3544aa8a570435a5d18d164",
            "b2829bb553694a4ca6aac8f57f9df099",
            "2938b9de209141b486adccc824c078f9",
            "44e3c23653be428498ea9efa4ce6491f",
            "d363dc04e9ae43dfbc26c5002aedf908",
            "1c6f480dc44e463ebf1041d26321c538",
            "cfd91153981043aa8c0747f915256018",
            "6a2c6ee76c784b30a127e7aa1b7e5337",
            "de1f64c7d544419d84732c9ed71f9248",
            "de2eb87dcb8b4574a792eb8a65e70390"
          ]
        },
        "id": "_w7Ufm7t3mR-",
        "outputId": "315ee807-6608-477c-9774-7f319f484426"
      },
      "execution_count": null,
      "outputs": [
        {
          "output_type": "display_data",
          "data": {
            "text/plain": [
              "  0%|          | 0/131 [00:00<?, ?it/s]"
            ],
            "application/vnd.jupyter.widget-view+json": {
              "version_major": 2,
              "version_minor": 0,
              "model_id": "fd19a2c75b5045ceae05993eb22ba3cc"
            }
          },
          "metadata": {}
        },
        {
          "output_type": "stream",
          "name": "stdout",
          "text": [
            "YOU HAVE JUST BEEN FUCKED BY ICODE\n",
            "1lveA:S27\n",
            "YOU HAVE JUST BEEN FUCKED BY ICODE\n",
            "1lveA:S27\n",
            "YOU HAVE JUST BEEN FUCKED BY ICODE\n",
            "2immA:N31\n",
            "YOU HAVE JUST BEEN FUCKED BY ICODE\n",
            "2immA:N31\n"
          ]
        },
        {
          "output_type": "display_data",
          "data": {
            "text/plain": [
              "  0%|          | 0/195 [00:00<?, ?it/s]"
            ],
            "application/vnd.jupyter.widget-view+json": {
              "version_major": 2,
              "version_minor": 0,
              "model_id": "8c13888ed13e4279b5c99355694b43d3"
            }
          },
          "metadata": {}
        },
        {
          "output_type": "display_data",
          "data": {
            "text/plain": [
              "  0%|          | 0/93 [00:00<?, ?it/s]"
            ],
            "application/vnd.jupyter.widget-view+json": {
              "version_major": 2,
              "version_minor": 0,
              "model_id": "5231a60bee0245eaa068ab8b24e971a6"
            }
          },
          "metadata": {}
        },
        {
          "output_type": "display_data",
          "data": {
            "text/plain": [
              "  0%|          | 0/357 [00:00<?, ?it/s]"
            ],
            "application/vnd.jupyter.widget-view+json": {
              "version_major": 2,
              "version_minor": 0,
              "model_id": "5a6332df38154245ad9b37ad3a981b3d"
            }
          },
          "metadata": {}
        }
      ]
    },
    {
      "cell_type": "code",
      "source": [
        "# let me get PSSM values and do some comparison quickly\n",
        "# getting the PSSM extraction functions from my custom model data processing scripts\n",
        "from string import ascii_uppercase\n",
        "\n",
        "# In rare cases, some PDB files number chains with 1,2,3 instead of A,B,C\n",
        "def convertChainFromAlphabetToNumber(alphabet):\n",
        "    mappingDict = {ch:(idx+1) for idx,ch in enumerate(ascii_uppercase)}\n",
        "    return str(mappingDict[alphabet])\n",
        "\n",
        "# Before executing this function, the PSSM files with naming format \"pdbIdchain.pssm\" needs to be stored\n",
        "# in the pssm_dir\n",
        "def returnPSSMArray(pdbIdPlusChain,pssm_dir=\"train_pssm_dir\",convert_upper = False):\n",
        "#     Currently, assuming that the pssm file names contain pdbId in upper case\n",
        "    if convert_upper:\n",
        "        fileName = pdbIdPlusChain.upper() + \".pssm\"\n",
        "    else:\n",
        "        fileName = pdbIdPlusChain + \".pssm\"\n",
        "    try:\n",
        "        fullPath = os.path.join(pssm_dir,fileName)\n",
        "        f = open(fullPath)\n",
        "    except:\n",
        "        fileName = pdbIdPlusChain[0:4].upper() + str(convertChainFromAlphabetToNumber(pdbIdPlusChain[4])) + \".pssm\" \n",
        "        fullPath = os.path.join(pssm_dir,fileName)\n",
        "        f = open(fullPath)\n",
        "        \n",
        "# #     all the target lines in the PSSM files have (2+20+20+2=44) strings after line.split()\n",
        "    target_lines = [line.split() for line in f.readlines() if (len(line.split()))==44]\n",
        "    number_of_residues = len(target_lines)\n",
        "    \n",
        "    pssm_features = np.zeros((number_of_residues,20))\n",
        "\n",
        "    for idx,line in enumerate(target_lines):\n",
        "        pssm_features[idx,:] = line[2:22]\n",
        "\n",
        "    f.close()\n",
        "    \n",
        "    return pssm_features\n",
        "\n",
        "# This function also seems necessary for extracting the two pssm values\n",
        "# Must review the three pssm feature functions (this one and the two above) later\n",
        "# These functions seem to be taking up a lot of time....must review\n",
        "def returnPSSMMapping(residue):\n",
        "    pssm_letter_to_index_dict = {\"A\" : 0,   \n",
        "    \"R\" : 1,\n",
        "    \"N\" : 2,\n",
        "    \"D\" : 3,\n",
        "    \"C\" : 4,\n",
        "    \"Q\" : 5,\n",
        "    \"E\" : 6,\n",
        "    \"G\" : 7,\n",
        "    \"H\" : 8,\n",
        "    \"I\" : 9,\n",
        "    \"L\" : 10,\n",
        "    \"K\" : 11,\n",
        "    \"M\" : 12,\n",
        "    \"F\" : 13,\n",
        "    \"P\" : 14,\n",
        "    \"S\" : 15,\n",
        "    \"T\" : 16,\n",
        "    \"W\" : 17,\n",
        "    \"Y\" : 18,\n",
        "    \"V\" : 19}\n",
        "\n",
        "    return pssm_letter_to_index_dict[residue]\n",
        "\n",
        "for mapping_dict,name,two_level_dict,proteins_to_skip in zip(list_mapping_dict,list_dataset_names,list_two_level_dict,list_proteins_to_skip):\n",
        "    # I will add PSSM values to the two-level dictionary for places where log_prob is available\n",
        "    pssmDirectory = f\"/content/drive/MyDrive/ACCRE_PyRun_Setup/{name}_pssm_dir\"\n",
        "    for prot,muts in two_level_dict.items():\n",
        "        if prot not in proteins_to_skip:\n",
        "            try:\n",
        "                cur_map_dict = mapping_dict[prot]\n",
        "            except:\n",
        "                continue\n",
        "            for mut in muts:\n",
        "                # only fetching those mutations that have corresponding log-probabilities calculated and saved as values of \"log_prob\" key\n",
        "                if \"log_prob\" in mut:\n",
        "                    wild = mut[\"mut\"][0] \n",
        "                    alternate = mut[\"mut\"][-1]\n",
        "                    sequence_index_of_mutation = cur_map_dict[mut[\"mut\"][0:-1]]\n",
        "                    pdbId = prot[0:-1]\n",
        "                    mutChain = prot[-1]\n",
        "                    pssm_array = returnPSSMArray(pdbId + mutChain,pssm_dir=pssmDirectory,convert_upper = False)\n",
        "                    position_pssm = pssm_array[sequence_index_of_mutation]\n",
        "                    wild_pssm = position_pssm[returnPSSMMapping(wild)] \n",
        "                    alternate_pssm = position_pssm[returnPSSMMapping(alternate)]\n",
        "                    mut[\"wild_pssm\"] = wild_pssm\n",
        "                    mut[\"alternate_pssm\"] = alternate_pssm"
      ],
      "metadata": {
        "id": "v6ILTmRD2ZoU"
      },
      "execution_count": null,
      "outputs": []
    },
    {
      "cell_type": "code",
      "source": [
        "# Create the six numpy arrays here, and then perform training on the next cell\n",
        "X_2648 = []\n",
        "y_2648 = []\n",
        "X_921 = []\n",
        "y_921 = []\n",
        "X_669 = []\n",
        "y_669 = []\n",
        "X_Ssym = []\n",
        "y_Ssym = []\n",
        "\n",
        "# This list will correspond to the \"list_mapping_dict,list_dataset_names,list_two_level_dict,list_proteins_to_skip\" lists in the above cells, \n",
        "# and hold (X,y) tuples corresponding to the three datasets in the same order as those lists\n",
        "# currently, I intend to train, and test the model on \"mut_wild_predictions\",\"entropy_predictions\", \"neighbor_energy_change_predictions\", \"neighbor_forward_KL_predictions\", \n",
        "# and \"neighbor_backward_KL_predictions\" \n",
        "# fourth and fifth features can probably be reduced to one feature by (0.5*fourth_feature+0.5*fifth_feature) since both of them are extremely correlated\n",
        "list_X = [X_2648,X_921,X_669,X_Ssym]\n",
        "list_y = [y_2648,y_921,y_669,y_Ssym]\n",
        "\n",
        "#######\n",
        "alpha_tok = \"ACDEFGHIKLMNPQRSTVWYX\"\n",
        "aa_1_N = {a:n for n,a in enumerate(alpha_tok)}\n",
        "for X,y,two_level_dict,mapping_dict,proteins_to_skip in zip(list_X,list_y,list_two_level_dict,list_mapping_dict,list_proteins_to_skip):\n",
        "    for prot,muts in two_level_dict.items():\n",
        "        if prot not in proteins_to_skip:\n",
        "            try:\n",
        "                cur_map_dict = mapping_dict[prot]\n",
        "            except:\n",
        "                continue\n",
        "            for mut in muts:\n",
        "                 # This \"cur_X\" will hold the features for the current mutation under-processing in the current inner loop iteration\n",
        "                cur_X = []\n",
        "                wild = mut[\"mut\"][0] \n",
        "                alternate = mut[\"mut\"][-1]\n",
        "                y.append(mut[\"ddg\"])\n",
        "                sequence_index_of_mutation = cur_map_dict[mut[\"mut\"][0:-1]]\n",
        "                position_log_probabilities = mut[\"log_prob\"][0,sequence_index_of_mutation,:]\n",
        "                \n",
        "                ### first feature addition\n",
        "                mut_wild_prediction = (-1*position_log_probabilities[aa_1_N[alternate]]) - (-1*position_log_probabilities[aa_1_N[wild]])\n",
        "                cur_X.append(mut_wild_prediction)\n",
        "                ### first feature addition\n",
        "                \n",
        "                ### second feature addition\n",
        "                entropy_prediction = entropy(np.exp(position_log_probabilities))\n",
        "                cur_X.append(-1*entropy_prediction)\n",
        "                ### second feature addition\n",
        "\n",
        "                # These 0-based neighbor indices will be used for extracting the log-probabilities corresponding to the neighbor positions\n",
        "                n_indices= mut[\"top_15_neighbor_indices\"]\n",
        "                # The neighbor weights will be used here for multiplying \n",
        "                n_weights = mut[\"top_15_attention_weights\"].reshape(-1,1)\n",
        "\n",
        "                # Now, calculate neighbor energy changes, and then weighted sum them after extracting specific log_probabilities\n",
        "                # for mutant center, and wildtype center impacted versions for the top neighbor positions\n",
        "                neighbor_w_log_probabilities = mut[\"w_n_log_prob\"]\n",
        "                neighbor_m_log_probabilities = mut[\"m_n_log_prob\"]\n",
        "                neighbor_amino_a_identities = mut[\"neighbor_aa_identities\"]\n",
        "                # The \"local_neighbor_log_prob_vals\" will be a list of negative log-probability differences(a.k.a. energy differences)\n",
        "                local_neighbor_log_prob_vals = []\n",
        "                local_neighbor_forward_KL_vals = []\n",
        "                local_neighbor_backward_KL_vals = []\n",
        "                # For example, selecting the numbers from the first 5 iterations of this loop will give neighbor energy change corresponding to the first 5 neighbors\n",
        "                for neighbor_w, neighbor_m, neighbor_aa  in zip(neighbor_w_log_probabilities,neighbor_m_log_probabilities,neighbor_amino_a_identities):\n",
        "                    # get the amino acid identity for the neighbor position, run it through the mapping dictionary, get the log probabilities from those positions,\n",
        "                    # \"neighbor_w\" and \"neighbor_m\" arrays will directly give the log probabilities that need to be substracted to get the energy (put (-1) before thoese numbers?...think a bit)\n",
        "                    neighbor_index = aa_1_N[neighbor_aa]\n",
        "                    local_neighbor_log_prob_vals.append((-1*neighbor_m[neighbor_index])-(-1*neighbor_w[neighbor_index]))\n",
        "                    # summing the output of \"kl_div\", because one number comes for every positions in the currently processing neighbor distribution,\n",
        "                    # and I want to take the total deviation in that distribution \n",
        "                    local_neighbor_forward_KL_vals.append(kl_div(np.exp(neighbor_w),np.exp(neighbor_m)).sum())\n",
        "                    local_neighbor_backward_KL_vals.append(kl_div(np.exp(neighbor_m),np.exp(neighbor_w)).sum())\n",
        "\n",
        "                ### third feature addition\n",
        "                weighted_neighbor_entropy_prediction = (np.array(local_neighbor_log_prob_vals[0:15])*softmax(n_weights[0:15])).sum()\n",
        "                cur_X.append(weighted_neighbor_entropy_prediction)\n",
        "                ### third feature addition\n",
        "\n",
        "                ### fourth feature addition\n",
        "                weighted_neighbor_forward_KL_prediction = (np.array(local_neighbor_forward_KL_vals[0:15])*softmax(n_weights[0:15])).sum()\n",
        "                cur_X.append(weighted_neighbor_forward_KL_prediction)\n",
        "                ### fourth feature addition\n",
        "\n",
        "                ### fifth feature addition\n",
        "                weighted_neighbor_backward_KL_prediction = (np.array(local_neighbor_backward_KL_vals[0:15])*softmax(n_weights[0:15])).sum()\n",
        "                cur_X.append(weighted_neighbor_backward_KL_prediction)\n",
        "                ### fifth feature addition\n",
        "\n",
        "                ### adding the two PSSM features\n",
        "                cur_X.append(mut[\"wild_pssm\"]-mut[\"alternate_pssm\"])\n",
        "                ### adding the two PSSM features\n",
        "                X.append(np.array(cur_X))"
      ],
      "metadata": {
        "id": "srnDpZEeCNAX"
      },
      "execution_count": null,
      "outputs": []
    },
    {
      "cell_type": "code",
      "source": [
        "S_2648_X = np.array(list_X[0])\n",
        "S_2648_y = np.array(list_y[0])\n",
        "S_921_X = np.array(list_X[1])\n",
        "S_921_y = np.array(list_y[1])\n",
        "S_669_X = np.array(list_X[2])\n",
        "S_669_y = np.array(list_y[2])\n",
        "# Flipping the signs of the experimental DDG values in S_669_y to get coherent correlations (positive and higher is better)\n",
        "S_669_y = S_669_y * (-1)\n",
        "Ssym_X = np.array(list_X[3])\n",
        "Ssym_y = np.array(list_y[3])"
      ],
      "metadata": {
        "id": "lbpD9XARa6Kb"
      },
      "execution_count": null,
      "outputs": []
    },
    {
      "cell_type": "code",
      "source": [
        "# quick dirty testing to see whether dictionary saving of the features have worked, or not\n",
        "import pickle\n",
        "with open(\"Ssym_full_feature_dict.pickle\",\"rb\") as f:\n",
        "    t_dict = pickle.load(f)\n",
        "t_feat = []\n",
        "t_val = []\n",
        "t_skip = list_proteins_to_skip[-1]\n",
        "for prot,muts in t_dict.items():\n",
        "    if prot not in t_skip:\n",
        "        # we are now traversing the list \"muts\", which has information regarding all the mutations on a specific protein, \"prot\" \n",
        "        for mut in muts:\n",
        "            t_feat.append(mut[\"ddg\"])\n",
        "            t_val.append(mut[\"alternate_pssm\"]-mut[\"wild_pssm\"])\n",
        "print(pearsonr(np.array(t_val),np.array(t_feat)))"
      ],
      "metadata": {
        "colab": {
          "base_uri": "https://localhost:8080/"
        },
        "id": "LWR1i-ry6Sop",
        "outputId": "17aed93d-3be2-454e-f9c1-c2241d1644c3"
      },
      "execution_count": 86,
      "outputs": [
        {
          "output_type": "stream",
          "name": "stdout",
          "text": [
            "(-0.25485992422573917, 1.7969755175311432e-06)\n"
          ]
        }
      ]
    },
    {
      "cell_type": "code",
      "source": [
        "}print(\"S_921 single-feature correlations at a glance\")\n",
        "print(pearsonr(S_921_y,S_921_X[:,0]))\n",
        "print(pearsonr(S_921_y,S_921_X[:,1]))\n",
        "print(pearsonr(S_921_y,S_921_X[:,2]))\n",
        "print(pearsonr(S_921_y,S_921_X[:,3]))\n",
        "print(pearsonr(S_921_y,S_921_X[:,4]))\n",
        "print(pearsonr(S_921_y,S_921_X[:,-1]))\n",
        "print(\".............................................\")\n",
        "\n",
        "print(\"S_669 single-feature correlations at a glance\")\n",
        "print(pearsonr(S_669_y,S_669_X[:,0]))\n",
        "print(pearsonr(S_669_y,S_669_X[:,1]))\n",
        "print(pearsonr(S_669_y,S_669_X[:,2]))\n",
        "print(pearsonr(S_669_y,S_669_X[:,3]))\n",
        "print(pearsonr(S_669_y,S_669_X[:,4]))\n",
        "print(pearsonr(S_669_y,S_669_X[:,-1]))\n",
        "print(\".............................................\")\n",
        "\n",
        "print(\"S_2648 single-feature correlations at a glance\")\n",
        "print(pearsonr(S_2648_y,S_2648_X[:,0]))\n",
        "print(pearsonr(S_2648_y,S_2648_X[:,1]))\n",
        "print(pearsonr(S_2648_y,S_2648_X[:,2]))\n",
        "print(pearsonr(S_2648_y,S_2648_X[:,3]))\n",
        "print(pearsonr(S_2648_y,S_2648_X[:,4]))\n",
        "print(pearsonr(S_2648_y,S_2648_X[:,-1]))\n",
        "print(\".............................................\")\n",
        "\n",
        "print(\"Ssym single-feature correlations at a glance\")\n",
        "print(pearsonr(Ssym_y,Ssym_X[:,0]))\n",
        "print(pearsonr(Ssym_y,Ssym_X[:,1]))\n",
        "print(pearsonr(Ssym_y,Ssym_X[:,2]))\n",
        "print(pearsonr(Ssym_y,Ssym_X[:,3]))\n",
        "print(pearsonr(Ssym_y,Ssym_X[:,4]))\n",
        "print(pearsonr(Ssym_y,Ssym_X[:,-1]))\n",
        "print(\".............................................\")"
      ],
      "metadata": {
        "colab": {
          "base_uri": "https://localhost:8080/"
        },
        "id": "M3qElU26b3yL",
        "outputId": "0d46f679-8f8b-4d80-8e74-3fa80c80c52a"
      },
      "execution_count": 74,
      "outputs": [
        {
          "output_type": "stream",
          "name": "stdout",
          "text": [
            "S_921 single-feature correlations at a glance\n",
            "(0.6441949275101646, 4.197628384942669e-109)\n",
            "(0.2558421609543604, 3.1365846164886655e-15)\n",
            "(0.437681171507952, 2.1878261091647976e-44)\n",
            "(0.3121729665217345, 2.884837358775896e-22)\n",
            "(0.3927292979111014, 2.4800280644811723e-35)\n",
            "(0.5145587134119901, 2.1316560964554222e-63)\n",
            ".............................................\n",
            "S_669 single-feature correlations at a glance\n",
            "(0.33765558573837523, 1.772522028540666e-18)\n",
            "(0.26048284702580865, 2.3531867527057347e-11)\n",
            "(0.18795423751117238, 1.7456892815458912e-06)\n",
            "(0.33503660186553375, 3.3591731770954463e-18)\n",
            "(0.3546264904588711, 2.4222666946646233e-20)\n",
            "(0.1760175004428737, 7.741516443498937e-06)\n",
            ".............................................\n",
            "S_2648 single-feature correlations at a glance\n",
            "(0.5046657755393072, 2.4008447333492008e-169)\n",
            "(0.3517800116434, 3.516441939464636e-77)\n",
            "(0.304002185256651, 3.8146414892394183e-57)\n",
            "(0.21403439183637213, 1.5872556482974816e-28)\n",
            "(0.25260740505184043, 2.0101930704841394e-39)\n",
            "(0.2752044285125163, 9.492115203744281e-47)\n",
            ".............................................\n",
            "Ssym single-feature correlations at a glance\n",
            "(0.5691505320825779, 9.470472056933177e-31)\n",
            "(0.37074964364691887, 1.3868840070743129e-12)\n",
            "(0.34736987961241783, 3.9124738990316014e-11)\n",
            "(0.1454322053169457, 0.00705994023543486)\n",
            "(0.18181698780926273, 0.0007294192339227357)\n",
            "(0.25485992422573917, 1.7969755175311432e-06)\n",
            ".............................................\n"
          ]
        }
      ]
    },
    {
      "cell_type": "code",
      "source": [
        "# Let us try to add some reverse mutants quickly\n",
        "S_2648_X_aug = []\n",
        "S_2648_y_aug = []\n",
        "for X,y in zip(S_2648_X,S_2648_y):\n",
        "    S_2648_X_aug.append(X)\n",
        "    S_2648_X_aug.append(-1*X)\n",
        "    S_2648_y_aug.append(y)\n",
        "    S_2648_y_aug.append(-1*y)\n",
        "S_2648_X_aug = np.array(S_2648_X_aug)\n",
        "S_2648_y_aug = np.array(S_2648_y_aug)\n",
        "\n",
        "S_921_X_aug = []\n",
        "S_921_y_aug = []\n",
        "for X,y in zip(S_921_X,S_921_y):\n",
        "    S_921_X_aug.append(X)\n",
        "    S_921_X_aug.append(-1*X)\n",
        "    S_921_y_aug.append(y)\n",
        "    S_921_y_aug.append(-1*y)\n",
        "S_921_X_aug = np.array(S_921_X_aug)\n",
        "S_921_y_aug = np.array(S_921_y_aug)\n",
        "\n",
        "S_669_X_aug = []\n",
        "S_669_y_aug = []\n",
        "for X,y in zip(S_669_X,S_669_y):\n",
        "    S_669_X_aug.append(X)\n",
        "    S_669_X_aug.append(-1*X)\n",
        "    S_669_y_aug.append(y)\n",
        "    S_669_y_aug.append(-1*y)\n",
        "S_669_X_aug = np.array(S_669_X_aug)\n",
        "S_669_y_aug = np.array(S_669_y_aug)\n",
        "\n",
        "Ssym_X_aug = []\n",
        "Ssym_y_aug = []\n",
        "for X,y in zip(Ssym_X,Ssym_y):\n",
        "    Ssym_X_aug.append(X)\n",
        "    Ssym_X_aug.append(-1*X)\n",
        "    Ssym_y_aug.append(y)\n",
        "    Ssym_y_aug.append(-1*y)\n",
        "Ssym_X_aug = np.array(Ssym_X_aug)\n",
        "Ssym_y_aug = np.array(Ssym_y_aug)"
      ],
      "metadata": {
        "id": "kEUyTUizkC4E"
      },
      "execution_count": null,
      "outputs": []
    },
    {
      "cell_type": "code",
      "source": [
        "# Now, traing linear regression on S_2648, and test on S_921 and S_669\n",
        "# the setting reg = Ridge(alpha=0.2,normalize=True).fit(S_2648_X_aug[:,[0,2,4,5]], S_2648_y_aug) seems quite good\n",
        "# Ridge(alpha=0.25,normalize=True).fit(S_2648_X_aug[:,[0,2,4,5]], S_2648_y_aug) is also good\n",
        "# Ridge(alpha=0,normalize=True) is also not bad\n",
        "reg = Ridge(alpha=0,normalize=True).fit(S_669_X_aug[:,[0,2,4,5]], S_669_y_aug)\n",
        "print(pearsonr(S_2648_y,reg.predict(S_2648_X[:,[0,2,4,5]])))\n",
        "print(pearsonr(S_921_y_aug,reg.predict(S_921_X_aug[:,[0,2,4,5]])))\n",
        "print(pearsonr(S_669_y_aug,reg.predict(S_669_X_aug[:,[0,2,4,5]])))\n",
        "print(pearsonr(Ssym_y_aug,reg.predict(Ssym_X_aug[:,[0,2,4,5]])))"
      ],
      "metadata": {
        "colab": {
          "base_uri": "https://localhost:8080/"
        },
        "id": "-FZdA0Paf3KR",
        "outputId": "975e5d36-ad87-4d05-aa29-eee3d2d772d0"
      },
      "execution_count": null,
      "outputs": [
        {
          "output_type": "stream",
          "name": "stdout",
          "text": [
            "(0.4832532690335158, 2.0398666299936044e-153)\n",
            "(0.724232540206807, 2.3830207176529067e-299)\n",
            "(0.6193673565561999, 4.921820803949098e-136)\n",
            "(0.6744746488870841, 6.154354491219317e-92)\n"
          ]
        },
        {
          "output_type": "stream",
          "name": "stderr",
          "text": [
            "/usr/local/lib/python3.7/dist-packages/sklearn/linear_model/_base.py:145: FutureWarning: 'normalize' was deprecated in version 1.0 and will be removed in 1.2.\n",
            "If you wish to scale the data, use Pipeline with a StandardScaler in a preprocessing stage. To reproduce the previous behavior:\n",
            "\n",
            "from sklearn.pipeline import make_pipeline\n",
            "\n",
            "model = make_pipeline(StandardScaler(with_mean=False), Ridge())\n",
            "\n",
            "If you wish to pass a sample_weight parameter, you need to pass it as a fit parameter to each step of the pipeline as follows:\n",
            "\n",
            "kwargs = {s[0] + '__sample_weight': sample_weight for s in model.steps}\n",
            "model.fit(X, y, **kwargs)\n",
            "\n",
            "Set parameter alpha to: original_alpha * n_samples. \n",
            "  FutureWarning,\n"
          ]
        }
      ]
    },
    {
      "cell_type": "code",
      "source": [
        "print(reg.coef_)\n",
        "print(reg.intercept_)"
      ],
      "metadata": {
        "colab": {
          "base_uri": "https://localhost:8080/"
        },
        "id": "92YVUcqra6eD",
        "outputId": "f65d3b76-6015-459d-dc0b-14567d69fe7a"
      },
      "execution_count": null,
      "outputs": [
        {
          "output_type": "stream",
          "name": "stdout",
          "text": [
            "[0.17360795 0.00180166 0.78120299 0.03388041]\n",
            "0.0\n"
          ]
        }
      ]
    },
    {
      "cell_type": "code",
      "source": [
        "sv = SVR(C=50000)\n",
        "normalizer = Normalizer()\n",
        "normalizer.fit(S_2648_X_aug[:,[0,2,4,5]])\n",
        "sv.fit(normalizer.transform(S_2648_X_aug[:,[0,2,4,5]]),S_2648_y_aug)\n",
        "print(pearsonr(S_2648_y,sv.predict(normalizer.transform(S_2648_X[:,[0,2,4,5]]))))\n",
        "print(pearsonr(S_921_y_aug,sv.predict(normalizer.transform(S_921_X_aug[:,[0,2,4,5]]))))\n",
        "print(pearsonr(S_669_y_aug,sv.predict(normalizer.transform(S_669_X_aug[:,[0,2,4,5]]))))\n",
        "print(pearsonr(Ssym_y_aug,sv.predict(normalizer.transform(Ssym_X_aug[:,[0,2,4,5]]))))"
      ],
      "metadata": {
        "colab": {
          "base_uri": "https://localhost:8080/"
        },
        "id": "U_JnRuB4UL5g",
        "outputId": "22fa1592-7a2c-4671-8ca2-ba5f69b2b469"
      },
      "execution_count": null,
      "outputs": [
        {
          "output_type": "stream",
          "name": "stdout",
          "text": [
            "(0.49341056142252027, 7.846291916351464e-161)\n",
            "(0.6130594343744621, 1.4211506158078185e-190)\n",
            "(0.4967697799969245, 1.783272204920996e-80)\n",
            "(0.6531245627269202, 2.0437393473422155e-84)\n"
          ]
        }
      ]
    },
    {
      "cell_type": "code",
      "source": [
        "gbr = GradientBoostingRegressor(min_samples_split=70)\n",
        "gbr.fit(Ssym_X_aug[:,[0,2,4,5]],Ssym_y_aug)\n",
        "print(pearsonr(S_2648_y,gbr.predict(S_2648_X[:,[0,2,4,5]])))\n",
        "print(pearsonr(S_921_y_aug,gbr.predict(S_921_X_aug[:,[0,2,4,5]])))\n",
        "print(pearsonr(S_669_y_aug,gbr.predict(S_669_X_aug[:,[0,2,4,5]])))\n",
        "print(pearsonr(Ssym_y_aug,gbr.predict(Ssym_X_aug[:,[0,2,4,5]])))"
      ],
      "metadata": {
        "colab": {
          "base_uri": "https://localhost:8080/"
        },
        "id": "mmP7q4UFZKJn",
        "outputId": "70b38ad7-4527-4de0-ba6f-726641b4080f"
      },
      "execution_count": null,
      "outputs": [
        {
          "output_type": "stream",
          "name": "stdout",
          "text": [
            "(0.5047609507610759, 2.0276729097383117e-169)\n",
            "(0.7552747118628999, 0.0)\n",
            "(0.5483764179940949, 4.502626762627943e-101)\n",
            "(0.8645156870258635, 6.096424897148414e-206)\n"
          ]
        }
      ]
    },
    {
      "cell_type": "code",
      "source": [
        "gbr.feature_importances_"
      ],
      "metadata": {
        "colab": {
          "base_uri": "https://localhost:8080/"
        },
        "id": "04CYnxe9g3HB",
        "outputId": "3e8f5fad-5cd3-4cdb-a1e0-ed1cc796b98b"
      },
      "execution_count": null,
      "outputs": [
        {
          "output_type": "execute_result",
          "data": {
            "text/plain": [
              "array([0.75844459, 0.08660043, 0.04745311, 0.10750187])"
            ]
          },
          "metadata": {},
          "execution_count": 73
        }
      ]
    },
    {
      "cell_type": "code",
      "source": [
        "# Now, traing linear regression on S_2648, and test on S_921 and S_669\n",
        "rf = RandomForestRegressor(min_samples_split=32).fit(S_2648_X_aug[:,[0,2,4,5]],S_2648_y_aug)\n",
        "print(pearsonr(S_2648_y,rf.predict(S_2648_X[:,[0,2,4,5]])))\n",
        "print(pearsonr(S_921_y_aug,rf.predict(S_921_X_aug[:,[0,2,4,5]])))\n",
        "print(pearsonr(S_669_y_aug,rf.predict(S_669_X_aug[:,[0,2,4,5]])))"
      ],
      "metadata": {
        "colab": {
          "base_uri": "https://localhost:8080/"
        },
        "id": "DwFTHtO1o2l-",
        "outputId": "77f026d6-b664-4259-e572-618f5de63710"
      },
      "execution_count": null,
      "outputs": [
        {
          "output_type": "stream",
          "name": "stdout",
          "text": [
            "(0.7673360988690586, 0.0)\n",
            "(0.75238603932414, 0.0)\n",
            "(0.579911151448481, 1.5225141857589223e-115)\n"
          ]
        }
      ]
    },
    {
      "cell_type": "code",
      "source": [
        "rf.feature_importances_"
      ],
      "metadata": {
        "colab": {
          "base_uri": "https://localhost:8080/"
        },
        "id": "S-wiraZ5qCCn",
        "outputId": "647000e6-497c-473b-bbba-09935943d57b"
      },
      "execution_count": null,
      "outputs": [
        {
          "output_type": "execute_result",
          "data": {
            "text/plain": [
              "array([0.65339947, 0.07879502, 0.19869529, 0.06911022])"
            ]
          },
          "metadata": {},
          "execution_count": 168
        }
      ]
    }
  ]
}