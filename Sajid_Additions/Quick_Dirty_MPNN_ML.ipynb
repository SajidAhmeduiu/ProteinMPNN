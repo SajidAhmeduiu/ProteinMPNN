{
  "nbformat": 4,
  "nbformat_minor": 0,
  "metadata": {
    "colab": {
      "name": "Quick_Dirty_MPNN_ML.ipynb",
      "provenance": [],
      "collapsed_sections": []
    },
    "kernelspec": {
      "name": "python3",
      "display_name": "Python 3"
    },
    "language_info": {
      "name": "python"
    },
    "gpuClass": "standard",
    "widgets": {
      "application/vnd.jupyter.widget-state+json": {
        "a0cb0fd84efb47f58c21072b87cc907e": {
          "model_module": "@jupyter-widgets/controls",
          "model_name": "HBoxModel",
          "model_module_version": "1.5.0",
          "state": {
            "_dom_classes": [],
            "_model_module": "@jupyter-widgets/controls",
            "_model_module_version": "1.5.0",
            "_model_name": "HBoxModel",
            "_view_count": null,
            "_view_module": "@jupyter-widgets/controls",
            "_view_module_version": "1.5.0",
            "_view_name": "HBoxView",
            "box_style": "",
            "children": [
              "IPY_MODEL_1318665392fb4f3ab1e556f478cd621c",
              "IPY_MODEL_250602eb20e54760aff544880f830d72",
              "IPY_MODEL_4a5ce5803c90486c86fdbe3868f110c8"
            ],
            "layout": "IPY_MODEL_02f03235f07840adac6862f42ded7a26"
          }
        },
        "1318665392fb4f3ab1e556f478cd621c": {
          "model_module": "@jupyter-widgets/controls",
          "model_name": "HTMLModel",
          "model_module_version": "1.5.0",
          "state": {
            "_dom_classes": [],
            "_model_module": "@jupyter-widgets/controls",
            "_model_module_version": "1.5.0",
            "_model_name": "HTMLModel",
            "_view_count": null,
            "_view_module": "@jupyter-widgets/controls",
            "_view_module_version": "1.5.0",
            "_view_name": "HTMLView",
            "description": "",
            "description_tooltip": null,
            "layout": "IPY_MODEL_71826a7d824844269424c1f85a7779b6",
            "placeholder": "​",
            "style": "IPY_MODEL_ffbdeb067e5e4481bc854253c2e89a9f",
            "value": "100%"
          }
        },
        "250602eb20e54760aff544880f830d72": {
          "model_module": "@jupyter-widgets/controls",
          "model_name": "FloatProgressModel",
          "model_module_version": "1.5.0",
          "state": {
            "_dom_classes": [],
            "_model_module": "@jupyter-widgets/controls",
            "_model_module_version": "1.5.0",
            "_model_name": "FloatProgressModel",
            "_view_count": null,
            "_view_module": "@jupyter-widgets/controls",
            "_view_module_version": "1.5.0",
            "_view_name": "ProgressView",
            "bar_style": "success",
            "description": "",
            "description_tooltip": null,
            "layout": "IPY_MODEL_59756b963b254b0da86a1edf5cf62f10",
            "max": 131,
            "min": 0,
            "orientation": "horizontal",
            "style": "IPY_MODEL_37400f53e71049cc90e4b4cf007b44fe",
            "value": 131
          }
        },
        "4a5ce5803c90486c86fdbe3868f110c8": {
          "model_module": "@jupyter-widgets/controls",
          "model_name": "HTMLModel",
          "model_module_version": "1.5.0",
          "state": {
            "_dom_classes": [],
            "_model_module": "@jupyter-widgets/controls",
            "_model_module_version": "1.5.0",
            "_model_name": "HTMLModel",
            "_view_count": null,
            "_view_module": "@jupyter-widgets/controls",
            "_view_module_version": "1.5.0",
            "_view_name": "HTMLView",
            "description": "",
            "description_tooltip": null,
            "layout": "IPY_MODEL_558c24e242ec484a9a94f54a69279241",
            "placeholder": "​",
            "style": "IPY_MODEL_c17b083cb42a4b1aa02e4e6a50a9ab03",
            "value": " 131/131 [00:05&lt;00:00, 23.71it/s]"
          }
        },
        "02f03235f07840adac6862f42ded7a26": {
          "model_module": "@jupyter-widgets/base",
          "model_name": "LayoutModel",
          "model_module_version": "1.2.0",
          "state": {
            "_model_module": "@jupyter-widgets/base",
            "_model_module_version": "1.2.0",
            "_model_name": "LayoutModel",
            "_view_count": null,
            "_view_module": "@jupyter-widgets/base",
            "_view_module_version": "1.2.0",
            "_view_name": "LayoutView",
            "align_content": null,
            "align_items": null,
            "align_self": null,
            "border": null,
            "bottom": null,
            "display": null,
            "flex": null,
            "flex_flow": null,
            "grid_area": null,
            "grid_auto_columns": null,
            "grid_auto_flow": null,
            "grid_auto_rows": null,
            "grid_column": null,
            "grid_gap": null,
            "grid_row": null,
            "grid_template_areas": null,
            "grid_template_columns": null,
            "grid_template_rows": null,
            "height": null,
            "justify_content": null,
            "justify_items": null,
            "left": null,
            "margin": null,
            "max_height": null,
            "max_width": null,
            "min_height": null,
            "min_width": null,
            "object_fit": null,
            "object_position": null,
            "order": null,
            "overflow": null,
            "overflow_x": null,
            "overflow_y": null,
            "padding": null,
            "right": null,
            "top": null,
            "visibility": null,
            "width": null
          }
        },
        "71826a7d824844269424c1f85a7779b6": {
          "model_module": "@jupyter-widgets/base",
          "model_name": "LayoutModel",
          "model_module_version": "1.2.0",
          "state": {
            "_model_module": "@jupyter-widgets/base",
            "_model_module_version": "1.2.0",
            "_model_name": "LayoutModel",
            "_view_count": null,
            "_view_module": "@jupyter-widgets/base",
            "_view_module_version": "1.2.0",
            "_view_name": "LayoutView",
            "align_content": null,
            "align_items": null,
            "align_self": null,
            "border": null,
            "bottom": null,
            "display": null,
            "flex": null,
            "flex_flow": null,
            "grid_area": null,
            "grid_auto_columns": null,
            "grid_auto_flow": null,
            "grid_auto_rows": null,
            "grid_column": null,
            "grid_gap": null,
            "grid_row": null,
            "grid_template_areas": null,
            "grid_template_columns": null,
            "grid_template_rows": null,
            "height": null,
            "justify_content": null,
            "justify_items": null,
            "left": null,
            "margin": null,
            "max_height": null,
            "max_width": null,
            "min_height": null,
            "min_width": null,
            "object_fit": null,
            "object_position": null,
            "order": null,
            "overflow": null,
            "overflow_x": null,
            "overflow_y": null,
            "padding": null,
            "right": null,
            "top": null,
            "visibility": null,
            "width": null
          }
        },
        "ffbdeb067e5e4481bc854253c2e89a9f": {
          "model_module": "@jupyter-widgets/controls",
          "model_name": "DescriptionStyleModel",
          "model_module_version": "1.5.0",
          "state": {
            "_model_module": "@jupyter-widgets/controls",
            "_model_module_version": "1.5.0",
            "_model_name": "DescriptionStyleModel",
            "_view_count": null,
            "_view_module": "@jupyter-widgets/base",
            "_view_module_version": "1.2.0",
            "_view_name": "StyleView",
            "description_width": ""
          }
        },
        "59756b963b254b0da86a1edf5cf62f10": {
          "model_module": "@jupyter-widgets/base",
          "model_name": "LayoutModel",
          "model_module_version": "1.2.0",
          "state": {
            "_model_module": "@jupyter-widgets/base",
            "_model_module_version": "1.2.0",
            "_model_name": "LayoutModel",
            "_view_count": null,
            "_view_module": "@jupyter-widgets/base",
            "_view_module_version": "1.2.0",
            "_view_name": "LayoutView",
            "align_content": null,
            "align_items": null,
            "align_self": null,
            "border": null,
            "bottom": null,
            "display": null,
            "flex": null,
            "flex_flow": null,
            "grid_area": null,
            "grid_auto_columns": null,
            "grid_auto_flow": null,
            "grid_auto_rows": null,
            "grid_column": null,
            "grid_gap": null,
            "grid_row": null,
            "grid_template_areas": null,
            "grid_template_columns": null,
            "grid_template_rows": null,
            "height": null,
            "justify_content": null,
            "justify_items": null,
            "left": null,
            "margin": null,
            "max_height": null,
            "max_width": null,
            "min_height": null,
            "min_width": null,
            "object_fit": null,
            "object_position": null,
            "order": null,
            "overflow": null,
            "overflow_x": null,
            "overflow_y": null,
            "padding": null,
            "right": null,
            "top": null,
            "visibility": null,
            "width": null
          }
        },
        "37400f53e71049cc90e4b4cf007b44fe": {
          "model_module": "@jupyter-widgets/controls",
          "model_name": "ProgressStyleModel",
          "model_module_version": "1.5.0",
          "state": {
            "_model_module": "@jupyter-widgets/controls",
            "_model_module_version": "1.5.0",
            "_model_name": "ProgressStyleModel",
            "_view_count": null,
            "_view_module": "@jupyter-widgets/base",
            "_view_module_version": "1.2.0",
            "_view_name": "StyleView",
            "bar_color": null,
            "description_width": ""
          }
        },
        "558c24e242ec484a9a94f54a69279241": {
          "model_module": "@jupyter-widgets/base",
          "model_name": "LayoutModel",
          "model_module_version": "1.2.0",
          "state": {
            "_model_module": "@jupyter-widgets/base",
            "_model_module_version": "1.2.0",
            "_model_name": "LayoutModel",
            "_view_count": null,
            "_view_module": "@jupyter-widgets/base",
            "_view_module_version": "1.2.0",
            "_view_name": "LayoutView",
            "align_content": null,
            "align_items": null,
            "align_self": null,
            "border": null,
            "bottom": null,
            "display": null,
            "flex": null,
            "flex_flow": null,
            "grid_area": null,
            "grid_auto_columns": null,
            "grid_auto_flow": null,
            "grid_auto_rows": null,
            "grid_column": null,
            "grid_gap": null,
            "grid_row": null,
            "grid_template_areas": null,
            "grid_template_columns": null,
            "grid_template_rows": null,
            "height": null,
            "justify_content": null,
            "justify_items": null,
            "left": null,
            "margin": null,
            "max_height": null,
            "max_width": null,
            "min_height": null,
            "min_width": null,
            "object_fit": null,
            "object_position": null,
            "order": null,
            "overflow": null,
            "overflow_x": null,
            "overflow_y": null,
            "padding": null,
            "right": null,
            "top": null,
            "visibility": null,
            "width": null
          }
        },
        "c17b083cb42a4b1aa02e4e6a50a9ab03": {
          "model_module": "@jupyter-widgets/controls",
          "model_name": "DescriptionStyleModel",
          "model_module_version": "1.5.0",
          "state": {
            "_model_module": "@jupyter-widgets/controls",
            "_model_module_version": "1.5.0",
            "_model_name": "DescriptionStyleModel",
            "_view_count": null,
            "_view_module": "@jupyter-widgets/base",
            "_view_module_version": "1.2.0",
            "_view_name": "StyleView",
            "description_width": ""
          }
        },
        "e6ad6e97f66e45b18c628f85bf39274a": {
          "model_module": "@jupyter-widgets/controls",
          "model_name": "HBoxModel",
          "model_module_version": "1.5.0",
          "state": {
            "_dom_classes": [],
            "_model_module": "@jupyter-widgets/controls",
            "_model_module_version": "1.5.0",
            "_model_name": "HBoxModel",
            "_view_count": null,
            "_view_module": "@jupyter-widgets/controls",
            "_view_module_version": "1.5.0",
            "_view_name": "HBoxView",
            "box_style": "",
            "children": [
              "IPY_MODEL_63cf891c55a140d7929589a57f761183",
              "IPY_MODEL_69f6c6f672b143b398eb8ddeb0012944",
              "IPY_MODEL_19ca9883049a4bfe89a2a333b9fa55d0"
            ],
            "layout": "IPY_MODEL_7295ba97dee947ecbfe67a98dd6b0c71"
          }
        },
        "63cf891c55a140d7929589a57f761183": {
          "model_module": "@jupyter-widgets/controls",
          "model_name": "HTMLModel",
          "model_module_version": "1.5.0",
          "state": {
            "_dom_classes": [],
            "_model_module": "@jupyter-widgets/controls",
            "_model_module_version": "1.5.0",
            "_model_name": "HTMLModel",
            "_view_count": null,
            "_view_module": "@jupyter-widgets/controls",
            "_view_module_version": "1.5.0",
            "_view_name": "HTMLView",
            "description": "",
            "description_tooltip": null,
            "layout": "IPY_MODEL_7eaf5207c2e949ffbf22c9eb6f981706",
            "placeholder": "​",
            "style": "IPY_MODEL_043f7240c7924655a684d6c5bbde5735",
            "value": "100%"
          }
        },
        "69f6c6f672b143b398eb8ddeb0012944": {
          "model_module": "@jupyter-widgets/controls",
          "model_name": "FloatProgressModel",
          "model_module_version": "1.5.0",
          "state": {
            "_dom_classes": [],
            "_model_module": "@jupyter-widgets/controls",
            "_model_module_version": "1.5.0",
            "_model_name": "FloatProgressModel",
            "_view_count": null,
            "_view_module": "@jupyter-widgets/controls",
            "_view_module_version": "1.5.0",
            "_view_name": "ProgressView",
            "bar_style": "success",
            "description": "",
            "description_tooltip": null,
            "layout": "IPY_MODEL_f7ef8a6f194b4430b02c60d27b74e985",
            "max": 195,
            "min": 0,
            "orientation": "horizontal",
            "style": "IPY_MODEL_be6e6f0dc37340f58386d864a4b29aa8",
            "value": 195
          }
        },
        "19ca9883049a4bfe89a2a333b9fa55d0": {
          "model_module": "@jupyter-widgets/controls",
          "model_name": "HTMLModel",
          "model_module_version": "1.5.0",
          "state": {
            "_dom_classes": [],
            "_model_module": "@jupyter-widgets/controls",
            "_model_module_version": "1.5.0",
            "_model_name": "HTMLModel",
            "_view_count": null,
            "_view_module": "@jupyter-widgets/controls",
            "_view_module_version": "1.5.0",
            "_view_name": "HTMLView",
            "description": "",
            "description_tooltip": null,
            "layout": "IPY_MODEL_1fff4f54e9a9439eab62a0a750639a66",
            "placeholder": "​",
            "style": "IPY_MODEL_27edc86ff208466c9fd53159ed6cbab5",
            "value": " 195/195 [00:07&lt;00:00, 32.39it/s]"
          }
        },
        "7295ba97dee947ecbfe67a98dd6b0c71": {
          "model_module": "@jupyter-widgets/base",
          "model_name": "LayoutModel",
          "model_module_version": "1.2.0",
          "state": {
            "_model_module": "@jupyter-widgets/base",
            "_model_module_version": "1.2.0",
            "_model_name": "LayoutModel",
            "_view_count": null,
            "_view_module": "@jupyter-widgets/base",
            "_view_module_version": "1.2.0",
            "_view_name": "LayoutView",
            "align_content": null,
            "align_items": null,
            "align_self": null,
            "border": null,
            "bottom": null,
            "display": null,
            "flex": null,
            "flex_flow": null,
            "grid_area": null,
            "grid_auto_columns": null,
            "grid_auto_flow": null,
            "grid_auto_rows": null,
            "grid_column": null,
            "grid_gap": null,
            "grid_row": null,
            "grid_template_areas": null,
            "grid_template_columns": null,
            "grid_template_rows": null,
            "height": null,
            "justify_content": null,
            "justify_items": null,
            "left": null,
            "margin": null,
            "max_height": null,
            "max_width": null,
            "min_height": null,
            "min_width": null,
            "object_fit": null,
            "object_position": null,
            "order": null,
            "overflow": null,
            "overflow_x": null,
            "overflow_y": null,
            "padding": null,
            "right": null,
            "top": null,
            "visibility": null,
            "width": null
          }
        },
        "7eaf5207c2e949ffbf22c9eb6f981706": {
          "model_module": "@jupyter-widgets/base",
          "model_name": "LayoutModel",
          "model_module_version": "1.2.0",
          "state": {
            "_model_module": "@jupyter-widgets/base",
            "_model_module_version": "1.2.0",
            "_model_name": "LayoutModel",
            "_view_count": null,
            "_view_module": "@jupyter-widgets/base",
            "_view_module_version": "1.2.0",
            "_view_name": "LayoutView",
            "align_content": null,
            "align_items": null,
            "align_self": null,
            "border": null,
            "bottom": null,
            "display": null,
            "flex": null,
            "flex_flow": null,
            "grid_area": null,
            "grid_auto_columns": null,
            "grid_auto_flow": null,
            "grid_auto_rows": null,
            "grid_column": null,
            "grid_gap": null,
            "grid_row": null,
            "grid_template_areas": null,
            "grid_template_columns": null,
            "grid_template_rows": null,
            "height": null,
            "justify_content": null,
            "justify_items": null,
            "left": null,
            "margin": null,
            "max_height": null,
            "max_width": null,
            "min_height": null,
            "min_width": null,
            "object_fit": null,
            "object_position": null,
            "order": null,
            "overflow": null,
            "overflow_x": null,
            "overflow_y": null,
            "padding": null,
            "right": null,
            "top": null,
            "visibility": null,
            "width": null
          }
        },
        "043f7240c7924655a684d6c5bbde5735": {
          "model_module": "@jupyter-widgets/controls",
          "model_name": "DescriptionStyleModel",
          "model_module_version": "1.5.0",
          "state": {
            "_model_module": "@jupyter-widgets/controls",
            "_model_module_version": "1.5.0",
            "_model_name": "DescriptionStyleModel",
            "_view_count": null,
            "_view_module": "@jupyter-widgets/base",
            "_view_module_version": "1.2.0",
            "_view_name": "StyleView",
            "description_width": ""
          }
        },
        "f7ef8a6f194b4430b02c60d27b74e985": {
          "model_module": "@jupyter-widgets/base",
          "model_name": "LayoutModel",
          "model_module_version": "1.2.0",
          "state": {
            "_model_module": "@jupyter-widgets/base",
            "_model_module_version": "1.2.0",
            "_model_name": "LayoutModel",
            "_view_count": null,
            "_view_module": "@jupyter-widgets/base",
            "_view_module_version": "1.2.0",
            "_view_name": "LayoutView",
            "align_content": null,
            "align_items": null,
            "align_self": null,
            "border": null,
            "bottom": null,
            "display": null,
            "flex": null,
            "flex_flow": null,
            "grid_area": null,
            "grid_auto_columns": null,
            "grid_auto_flow": null,
            "grid_auto_rows": null,
            "grid_column": null,
            "grid_gap": null,
            "grid_row": null,
            "grid_template_areas": null,
            "grid_template_columns": null,
            "grid_template_rows": null,
            "height": null,
            "justify_content": null,
            "justify_items": null,
            "left": null,
            "margin": null,
            "max_height": null,
            "max_width": null,
            "min_height": null,
            "min_width": null,
            "object_fit": null,
            "object_position": null,
            "order": null,
            "overflow": null,
            "overflow_x": null,
            "overflow_y": null,
            "padding": null,
            "right": null,
            "top": null,
            "visibility": null,
            "width": null
          }
        },
        "be6e6f0dc37340f58386d864a4b29aa8": {
          "model_module": "@jupyter-widgets/controls",
          "model_name": "ProgressStyleModel",
          "model_module_version": "1.5.0",
          "state": {
            "_model_module": "@jupyter-widgets/controls",
            "_model_module_version": "1.5.0",
            "_model_name": "ProgressStyleModel",
            "_view_count": null,
            "_view_module": "@jupyter-widgets/base",
            "_view_module_version": "1.2.0",
            "_view_name": "StyleView",
            "bar_color": null,
            "description_width": ""
          }
        },
        "1fff4f54e9a9439eab62a0a750639a66": {
          "model_module": "@jupyter-widgets/base",
          "model_name": "LayoutModel",
          "model_module_version": "1.2.0",
          "state": {
            "_model_module": "@jupyter-widgets/base",
            "_model_module_version": "1.2.0",
            "_model_name": "LayoutModel",
            "_view_count": null,
            "_view_module": "@jupyter-widgets/base",
            "_view_module_version": "1.2.0",
            "_view_name": "LayoutView",
            "align_content": null,
            "align_items": null,
            "align_self": null,
            "border": null,
            "bottom": null,
            "display": null,
            "flex": null,
            "flex_flow": null,
            "grid_area": null,
            "grid_auto_columns": null,
            "grid_auto_flow": null,
            "grid_auto_rows": null,
            "grid_column": null,
            "grid_gap": null,
            "grid_row": null,
            "grid_template_areas": null,
            "grid_template_columns": null,
            "grid_template_rows": null,
            "height": null,
            "justify_content": null,
            "justify_items": null,
            "left": null,
            "margin": null,
            "max_height": null,
            "max_width": null,
            "min_height": null,
            "min_width": null,
            "object_fit": null,
            "object_position": null,
            "order": null,
            "overflow": null,
            "overflow_x": null,
            "overflow_y": null,
            "padding": null,
            "right": null,
            "top": null,
            "visibility": null,
            "width": null
          }
        },
        "27edc86ff208466c9fd53159ed6cbab5": {
          "model_module": "@jupyter-widgets/controls",
          "model_name": "DescriptionStyleModel",
          "model_module_version": "1.5.0",
          "state": {
            "_model_module": "@jupyter-widgets/controls",
            "_model_module_version": "1.5.0",
            "_model_name": "DescriptionStyleModel",
            "_view_count": null,
            "_view_module": "@jupyter-widgets/base",
            "_view_module_version": "1.2.0",
            "_view_name": "StyleView",
            "description_width": ""
          }
        },
        "031e36458ce542338969ff7192d3da25": {
          "model_module": "@jupyter-widgets/controls",
          "model_name": "HBoxModel",
          "model_module_version": "1.5.0",
          "state": {
            "_dom_classes": [],
            "_model_module": "@jupyter-widgets/controls",
            "_model_module_version": "1.5.0",
            "_model_name": "HBoxModel",
            "_view_count": null,
            "_view_module": "@jupyter-widgets/controls",
            "_view_module_version": "1.5.0",
            "_view_name": "HBoxView",
            "box_style": "",
            "children": [
              "IPY_MODEL_631dbfedeced40d4b99e913fab8c5d62",
              "IPY_MODEL_22b15d611cc4406382fbb38ed0519904",
              "IPY_MODEL_cf144373e29f46d5b8b3a7feeea707ab"
            ],
            "layout": "IPY_MODEL_c161d9f8cae943359bd21d44f24405df"
          }
        },
        "631dbfedeced40d4b99e913fab8c5d62": {
          "model_module": "@jupyter-widgets/controls",
          "model_name": "HTMLModel",
          "model_module_version": "1.5.0",
          "state": {
            "_dom_classes": [],
            "_model_module": "@jupyter-widgets/controls",
            "_model_module_version": "1.5.0",
            "_model_name": "HTMLModel",
            "_view_count": null,
            "_view_module": "@jupyter-widgets/controls",
            "_view_module_version": "1.5.0",
            "_view_name": "HTMLView",
            "description": "",
            "description_tooltip": null,
            "layout": "IPY_MODEL_bf9e71abae6c454ab28feab37d2078ee",
            "placeholder": "​",
            "style": "IPY_MODEL_0f71f465edf4468eb77dd669e5d64aaa",
            "value": "100%"
          }
        },
        "22b15d611cc4406382fbb38ed0519904": {
          "model_module": "@jupyter-widgets/controls",
          "model_name": "FloatProgressModel",
          "model_module_version": "1.5.0",
          "state": {
            "_dom_classes": [],
            "_model_module": "@jupyter-widgets/controls",
            "_model_module_version": "1.5.0",
            "_model_name": "FloatProgressModel",
            "_view_count": null,
            "_view_module": "@jupyter-widgets/controls",
            "_view_module_version": "1.5.0",
            "_view_name": "ProgressView",
            "bar_style": "success",
            "description": "",
            "description_tooltip": null,
            "layout": "IPY_MODEL_91b304a1d17a44638da453a6aa738c27",
            "max": 93,
            "min": 0,
            "orientation": "horizontal",
            "style": "IPY_MODEL_d094b2226a2443fb95ce3b212d97f3ee",
            "value": 93
          }
        },
        "cf144373e29f46d5b8b3a7feeea707ab": {
          "model_module": "@jupyter-widgets/controls",
          "model_name": "HTMLModel",
          "model_module_version": "1.5.0",
          "state": {
            "_dom_classes": [],
            "_model_module": "@jupyter-widgets/controls",
            "_model_module_version": "1.5.0",
            "_model_name": "HTMLModel",
            "_view_count": null,
            "_view_module": "@jupyter-widgets/controls",
            "_view_module_version": "1.5.0",
            "_view_name": "HTMLView",
            "description": "",
            "description_tooltip": null,
            "layout": "IPY_MODEL_430c0bc154b143bf826e4e024a711d4c",
            "placeholder": "​",
            "style": "IPY_MODEL_34ac4bd381f94b51818a2ab541cf9948",
            "value": " 93/93 [00:21&lt;00:00,  4.39it/s]"
          }
        },
        "c161d9f8cae943359bd21d44f24405df": {
          "model_module": "@jupyter-widgets/base",
          "model_name": "LayoutModel",
          "model_module_version": "1.2.0",
          "state": {
            "_model_module": "@jupyter-widgets/base",
            "_model_module_version": "1.2.0",
            "_model_name": "LayoutModel",
            "_view_count": null,
            "_view_module": "@jupyter-widgets/base",
            "_view_module_version": "1.2.0",
            "_view_name": "LayoutView",
            "align_content": null,
            "align_items": null,
            "align_self": null,
            "border": null,
            "bottom": null,
            "display": null,
            "flex": null,
            "flex_flow": null,
            "grid_area": null,
            "grid_auto_columns": null,
            "grid_auto_flow": null,
            "grid_auto_rows": null,
            "grid_column": null,
            "grid_gap": null,
            "grid_row": null,
            "grid_template_areas": null,
            "grid_template_columns": null,
            "grid_template_rows": null,
            "height": null,
            "justify_content": null,
            "justify_items": null,
            "left": null,
            "margin": null,
            "max_height": null,
            "max_width": null,
            "min_height": null,
            "min_width": null,
            "object_fit": null,
            "object_position": null,
            "order": null,
            "overflow": null,
            "overflow_x": null,
            "overflow_y": null,
            "padding": null,
            "right": null,
            "top": null,
            "visibility": null,
            "width": null
          }
        },
        "bf9e71abae6c454ab28feab37d2078ee": {
          "model_module": "@jupyter-widgets/base",
          "model_name": "LayoutModel",
          "model_module_version": "1.2.0",
          "state": {
            "_model_module": "@jupyter-widgets/base",
            "_model_module_version": "1.2.0",
            "_model_name": "LayoutModel",
            "_view_count": null,
            "_view_module": "@jupyter-widgets/base",
            "_view_module_version": "1.2.0",
            "_view_name": "LayoutView",
            "align_content": null,
            "align_items": null,
            "align_self": null,
            "border": null,
            "bottom": null,
            "display": null,
            "flex": null,
            "flex_flow": null,
            "grid_area": null,
            "grid_auto_columns": null,
            "grid_auto_flow": null,
            "grid_auto_rows": null,
            "grid_column": null,
            "grid_gap": null,
            "grid_row": null,
            "grid_template_areas": null,
            "grid_template_columns": null,
            "grid_template_rows": null,
            "height": null,
            "justify_content": null,
            "justify_items": null,
            "left": null,
            "margin": null,
            "max_height": null,
            "max_width": null,
            "min_height": null,
            "min_width": null,
            "object_fit": null,
            "object_position": null,
            "order": null,
            "overflow": null,
            "overflow_x": null,
            "overflow_y": null,
            "padding": null,
            "right": null,
            "top": null,
            "visibility": null,
            "width": null
          }
        },
        "0f71f465edf4468eb77dd669e5d64aaa": {
          "model_module": "@jupyter-widgets/controls",
          "model_name": "DescriptionStyleModel",
          "model_module_version": "1.5.0",
          "state": {
            "_model_module": "@jupyter-widgets/controls",
            "_model_module_version": "1.5.0",
            "_model_name": "DescriptionStyleModel",
            "_view_count": null,
            "_view_module": "@jupyter-widgets/base",
            "_view_module_version": "1.2.0",
            "_view_name": "StyleView",
            "description_width": ""
          }
        },
        "91b304a1d17a44638da453a6aa738c27": {
          "model_module": "@jupyter-widgets/base",
          "model_name": "LayoutModel",
          "model_module_version": "1.2.0",
          "state": {
            "_model_module": "@jupyter-widgets/base",
            "_model_module_version": "1.2.0",
            "_model_name": "LayoutModel",
            "_view_count": null,
            "_view_module": "@jupyter-widgets/base",
            "_view_module_version": "1.2.0",
            "_view_name": "LayoutView",
            "align_content": null,
            "align_items": null,
            "align_self": null,
            "border": null,
            "bottom": null,
            "display": null,
            "flex": null,
            "flex_flow": null,
            "grid_area": null,
            "grid_auto_columns": null,
            "grid_auto_flow": null,
            "grid_auto_rows": null,
            "grid_column": null,
            "grid_gap": null,
            "grid_row": null,
            "grid_template_areas": null,
            "grid_template_columns": null,
            "grid_template_rows": null,
            "height": null,
            "justify_content": null,
            "justify_items": null,
            "left": null,
            "margin": null,
            "max_height": null,
            "max_width": null,
            "min_height": null,
            "min_width": null,
            "object_fit": null,
            "object_position": null,
            "order": null,
            "overflow": null,
            "overflow_x": null,
            "overflow_y": null,
            "padding": null,
            "right": null,
            "top": null,
            "visibility": null,
            "width": null
          }
        },
        "d094b2226a2443fb95ce3b212d97f3ee": {
          "model_module": "@jupyter-widgets/controls",
          "model_name": "ProgressStyleModel",
          "model_module_version": "1.5.0",
          "state": {
            "_model_module": "@jupyter-widgets/controls",
            "_model_module_version": "1.5.0",
            "_model_name": "ProgressStyleModel",
            "_view_count": null,
            "_view_module": "@jupyter-widgets/base",
            "_view_module_version": "1.2.0",
            "_view_name": "StyleView",
            "bar_color": null,
            "description_width": ""
          }
        },
        "430c0bc154b143bf826e4e024a711d4c": {
          "model_module": "@jupyter-widgets/base",
          "model_name": "LayoutModel",
          "model_module_version": "1.2.0",
          "state": {
            "_model_module": "@jupyter-widgets/base",
            "_model_module_version": "1.2.0",
            "_model_name": "LayoutModel",
            "_view_count": null,
            "_view_module": "@jupyter-widgets/base",
            "_view_module_version": "1.2.0",
            "_view_name": "LayoutView",
            "align_content": null,
            "align_items": null,
            "align_self": null,
            "border": null,
            "bottom": null,
            "display": null,
            "flex": null,
            "flex_flow": null,
            "grid_area": null,
            "grid_auto_columns": null,
            "grid_auto_flow": null,
            "grid_auto_rows": null,
            "grid_column": null,
            "grid_gap": null,
            "grid_row": null,
            "grid_template_areas": null,
            "grid_template_columns": null,
            "grid_template_rows": null,
            "height": null,
            "justify_content": null,
            "justify_items": null,
            "left": null,
            "margin": null,
            "max_height": null,
            "max_width": null,
            "min_height": null,
            "min_width": null,
            "object_fit": null,
            "object_position": null,
            "order": null,
            "overflow": null,
            "overflow_x": null,
            "overflow_y": null,
            "padding": null,
            "right": null,
            "top": null,
            "visibility": null,
            "width": null
          }
        },
        "34ac4bd381f94b51818a2ab541cf9948": {
          "model_module": "@jupyter-widgets/controls",
          "model_name": "DescriptionStyleModel",
          "model_module_version": "1.5.0",
          "state": {
            "_model_module": "@jupyter-widgets/controls",
            "_model_module_version": "1.5.0",
            "_model_name": "DescriptionStyleModel",
            "_view_count": null,
            "_view_module": "@jupyter-widgets/base",
            "_view_module_version": "1.2.0",
            "_view_name": "StyleView",
            "description_width": ""
          }
        },
        "6dca384ae2214e1687ba53b3c0fd9368": {
          "model_module": "@jupyter-widgets/controls",
          "model_name": "HBoxModel",
          "model_module_version": "1.5.0",
          "state": {
            "_dom_classes": [],
            "_model_module": "@jupyter-widgets/controls",
            "_model_module_version": "1.5.0",
            "_model_name": "HBoxModel",
            "_view_count": null,
            "_view_module": "@jupyter-widgets/controls",
            "_view_module_version": "1.5.0",
            "_view_name": "HBoxView",
            "box_style": "",
            "children": [
              "IPY_MODEL_4ca920d227d84afe80feefbeafd597ed",
              "IPY_MODEL_b35f457ea5ff47d185398ffb53b3084c",
              "IPY_MODEL_ace95ab8a10145038bbcf00524322aa4"
            ],
            "layout": "IPY_MODEL_772647893d6440e68487ffb283c8d5a6"
          }
        },
        "4ca920d227d84afe80feefbeafd597ed": {
          "model_module": "@jupyter-widgets/controls",
          "model_name": "HTMLModel",
          "model_module_version": "1.5.0",
          "state": {
            "_dom_classes": [],
            "_model_module": "@jupyter-widgets/controls",
            "_model_module_version": "1.5.0",
            "_model_name": "HTMLModel",
            "_view_count": null,
            "_view_module": "@jupyter-widgets/controls",
            "_view_module_version": "1.5.0",
            "_view_name": "HTMLView",
            "description": "",
            "description_tooltip": null,
            "layout": "IPY_MODEL_4786a5ca9d3644e1bffe97ee953213cc",
            "placeholder": "​",
            "style": "IPY_MODEL_8bd772c4205c497c839f959c325f29db",
            "value": "100%"
          }
        },
        "b35f457ea5ff47d185398ffb53b3084c": {
          "model_module": "@jupyter-widgets/controls",
          "model_name": "FloatProgressModel",
          "model_module_version": "1.5.0",
          "state": {
            "_dom_classes": [],
            "_model_module": "@jupyter-widgets/controls",
            "_model_module_version": "1.5.0",
            "_model_name": "FloatProgressModel",
            "_view_count": null,
            "_view_module": "@jupyter-widgets/controls",
            "_view_module_version": "1.5.0",
            "_view_name": "ProgressView",
            "bar_style": "success",
            "description": "",
            "description_tooltip": null,
            "layout": "IPY_MODEL_03897f6c5527418a8b5b272f7709e6e5",
            "max": 357,
            "min": 0,
            "orientation": "horizontal",
            "style": "IPY_MODEL_1cf1fb7fb78c4d7fb3917b55c46f1bf8",
            "value": 357
          }
        },
        "ace95ab8a10145038bbcf00524322aa4": {
          "model_module": "@jupyter-widgets/controls",
          "model_name": "HTMLModel",
          "model_module_version": "1.5.0",
          "state": {
            "_dom_classes": [],
            "_model_module": "@jupyter-widgets/controls",
            "_model_module_version": "1.5.0",
            "_model_name": "HTMLModel",
            "_view_count": null,
            "_view_module": "@jupyter-widgets/controls",
            "_view_module_version": "1.5.0",
            "_view_name": "HTMLView",
            "description": "",
            "description_tooltip": null,
            "layout": "IPY_MODEL_6a8b4fbbfc6d40d1aec31ff871ff2937",
            "placeholder": "​",
            "style": "IPY_MODEL_c7d911b83369407984540e34dcb760c3",
            "value": " 357/357 [00:14&lt;00:00, 32.85it/s]"
          }
        },
        "772647893d6440e68487ffb283c8d5a6": {
          "model_module": "@jupyter-widgets/base",
          "model_name": "LayoutModel",
          "model_module_version": "1.2.0",
          "state": {
            "_model_module": "@jupyter-widgets/base",
            "_model_module_version": "1.2.0",
            "_model_name": "LayoutModel",
            "_view_count": null,
            "_view_module": "@jupyter-widgets/base",
            "_view_module_version": "1.2.0",
            "_view_name": "LayoutView",
            "align_content": null,
            "align_items": null,
            "align_self": null,
            "border": null,
            "bottom": null,
            "display": null,
            "flex": null,
            "flex_flow": null,
            "grid_area": null,
            "grid_auto_columns": null,
            "grid_auto_flow": null,
            "grid_auto_rows": null,
            "grid_column": null,
            "grid_gap": null,
            "grid_row": null,
            "grid_template_areas": null,
            "grid_template_columns": null,
            "grid_template_rows": null,
            "height": null,
            "justify_content": null,
            "justify_items": null,
            "left": null,
            "margin": null,
            "max_height": null,
            "max_width": null,
            "min_height": null,
            "min_width": null,
            "object_fit": null,
            "object_position": null,
            "order": null,
            "overflow": null,
            "overflow_x": null,
            "overflow_y": null,
            "padding": null,
            "right": null,
            "top": null,
            "visibility": null,
            "width": null
          }
        },
        "4786a5ca9d3644e1bffe97ee953213cc": {
          "model_module": "@jupyter-widgets/base",
          "model_name": "LayoutModel",
          "model_module_version": "1.2.0",
          "state": {
            "_model_module": "@jupyter-widgets/base",
            "_model_module_version": "1.2.0",
            "_model_name": "LayoutModel",
            "_view_count": null,
            "_view_module": "@jupyter-widgets/base",
            "_view_module_version": "1.2.0",
            "_view_name": "LayoutView",
            "align_content": null,
            "align_items": null,
            "align_self": null,
            "border": null,
            "bottom": null,
            "display": null,
            "flex": null,
            "flex_flow": null,
            "grid_area": null,
            "grid_auto_columns": null,
            "grid_auto_flow": null,
            "grid_auto_rows": null,
            "grid_column": null,
            "grid_gap": null,
            "grid_row": null,
            "grid_template_areas": null,
            "grid_template_columns": null,
            "grid_template_rows": null,
            "height": null,
            "justify_content": null,
            "justify_items": null,
            "left": null,
            "margin": null,
            "max_height": null,
            "max_width": null,
            "min_height": null,
            "min_width": null,
            "object_fit": null,
            "object_position": null,
            "order": null,
            "overflow": null,
            "overflow_x": null,
            "overflow_y": null,
            "padding": null,
            "right": null,
            "top": null,
            "visibility": null,
            "width": null
          }
        },
        "8bd772c4205c497c839f959c325f29db": {
          "model_module": "@jupyter-widgets/controls",
          "model_name": "DescriptionStyleModel",
          "model_module_version": "1.5.0",
          "state": {
            "_model_module": "@jupyter-widgets/controls",
            "_model_module_version": "1.5.0",
            "_model_name": "DescriptionStyleModel",
            "_view_count": null,
            "_view_module": "@jupyter-widgets/base",
            "_view_module_version": "1.2.0",
            "_view_name": "StyleView",
            "description_width": ""
          }
        },
        "03897f6c5527418a8b5b272f7709e6e5": {
          "model_module": "@jupyter-widgets/base",
          "model_name": "LayoutModel",
          "model_module_version": "1.2.0",
          "state": {
            "_model_module": "@jupyter-widgets/base",
            "_model_module_version": "1.2.0",
            "_model_name": "LayoutModel",
            "_view_count": null,
            "_view_module": "@jupyter-widgets/base",
            "_view_module_version": "1.2.0",
            "_view_name": "LayoutView",
            "align_content": null,
            "align_items": null,
            "align_self": null,
            "border": null,
            "bottom": null,
            "display": null,
            "flex": null,
            "flex_flow": null,
            "grid_area": null,
            "grid_auto_columns": null,
            "grid_auto_flow": null,
            "grid_auto_rows": null,
            "grid_column": null,
            "grid_gap": null,
            "grid_row": null,
            "grid_template_areas": null,
            "grid_template_columns": null,
            "grid_template_rows": null,
            "height": null,
            "justify_content": null,
            "justify_items": null,
            "left": null,
            "margin": null,
            "max_height": null,
            "max_width": null,
            "min_height": null,
            "min_width": null,
            "object_fit": null,
            "object_position": null,
            "order": null,
            "overflow": null,
            "overflow_x": null,
            "overflow_y": null,
            "padding": null,
            "right": null,
            "top": null,
            "visibility": null,
            "width": null
          }
        },
        "1cf1fb7fb78c4d7fb3917b55c46f1bf8": {
          "model_module": "@jupyter-widgets/controls",
          "model_name": "ProgressStyleModel",
          "model_module_version": "1.5.0",
          "state": {
            "_model_module": "@jupyter-widgets/controls",
            "_model_module_version": "1.5.0",
            "_model_name": "ProgressStyleModel",
            "_view_count": null,
            "_view_module": "@jupyter-widgets/base",
            "_view_module_version": "1.2.0",
            "_view_name": "StyleView",
            "bar_color": null,
            "description_width": ""
          }
        },
        "6a8b4fbbfc6d40d1aec31ff871ff2937": {
          "model_module": "@jupyter-widgets/base",
          "model_name": "LayoutModel",
          "model_module_version": "1.2.0",
          "state": {
            "_model_module": "@jupyter-widgets/base",
            "_model_module_version": "1.2.0",
            "_model_name": "LayoutModel",
            "_view_count": null,
            "_view_module": "@jupyter-widgets/base",
            "_view_module_version": "1.2.0",
            "_view_name": "LayoutView",
            "align_content": null,
            "align_items": null,
            "align_self": null,
            "border": null,
            "bottom": null,
            "display": null,
            "flex": null,
            "flex_flow": null,
            "grid_area": null,
            "grid_auto_columns": null,
            "grid_auto_flow": null,
            "grid_auto_rows": null,
            "grid_column": null,
            "grid_gap": null,
            "grid_row": null,
            "grid_template_areas": null,
            "grid_template_columns": null,
            "grid_template_rows": null,
            "height": null,
            "justify_content": null,
            "justify_items": null,
            "left": null,
            "margin": null,
            "max_height": null,
            "max_width": null,
            "min_height": null,
            "min_width": null,
            "object_fit": null,
            "object_position": null,
            "order": null,
            "overflow": null,
            "overflow_x": null,
            "overflow_y": null,
            "padding": null,
            "right": null,
            "top": null,
            "visibility": null,
            "width": null
          }
        },
        "c7d911b83369407984540e34dcb760c3": {
          "model_module": "@jupyter-widgets/controls",
          "model_name": "DescriptionStyleModel",
          "model_module_version": "1.5.0",
          "state": {
            "_model_module": "@jupyter-widgets/controls",
            "_model_module_version": "1.5.0",
            "_model_name": "DescriptionStyleModel",
            "_view_count": null,
            "_view_module": "@jupyter-widgets/base",
            "_view_module_version": "1.2.0",
            "_view_name": "StyleView",
            "description_width": ""
          }
        }
      }
    }
  },
  "cells": [
    {
      "cell_type": "code",
      "execution_count": 1,
      "metadata": {
        "colab": {
          "base_uri": "https://localhost:8080/"
        },
        "id": "z-3O_CSy0kbu",
        "outputId": "dd7242a7-da56-4d41-fbb5-823e94137fa4"
      },
      "outputs": [
        {
          "output_type": "stream",
          "name": "stdout",
          "text": [
            "Mounted at /content/drive\n"
          ]
        }
      ],
      "source": [
        "from google.colab import drive\n",
        "drive.mount('/content/drive',force_remount=True)\n",
        "import sys \n",
        "installation_path = \"/content/drive/MyDrive/Colab_Installations_V2\"\n",
        "# The path is being modified so that everything installed in the installation path can now be used without re-installing (in this case, I just need biopython)\n",
        "sys.path.append(installation_path)\n",
        "protein_mpnn_path = \"/content/drive/MyDrive/Protein_MPNN_Digging/ProteinMPNN/vanilla_proteinmpnn\"\n",
        "sys.path.insert(0,protein_mpnn_path)"
      ]
    },
    {
      "cell_type": "code",
      "source": [
        "%cd /content/drive/MyDrive/Protein_MPNN_Digging"
      ],
      "metadata": {
        "colab": {
          "base_uri": "https://localhost:8080/"
        },
        "id": "TNgSmOLs1JNK",
        "outputId": "fb21ed14-84c9-4dd2-e168-9440dc53e2ba"
      },
      "execution_count": 2,
      "outputs": [
        {
          "output_type": "stream",
          "name": "stdout",
          "text": [
            "/content/drive/MyDrive/Protein_MPNN_Digging\n"
          ]
        }
      ]
    },
    {
      "cell_type": "code",
      "source": [
        "import numpy as np\n",
        "import pickle\n",
        "import os\n",
        "from tqdm.notebook import tqdm\n",
        "from Bio.PDB.Polypeptide import *\n",
        "from Bio.PDB import *\n",
        "import random"
      ],
      "metadata": {
        "id": "QunB2AQp1Phc"
      },
      "execution_count": 3,
      "outputs": []
    },
    {
      "cell_type": "code",
      "source": [
        "from sklearn.linear_model import LinearRegression\n",
        "from sklearn.linear_model import Ridge\n",
        "from sklearn.linear_model import Lasso\n",
        "from sklearn.ensemble import RandomForestRegressor\n",
        "# from sklearn.linear_model import Ridge\n",
        "from scipy.stats import entropy\n",
        "from scipy.special import softmax\n",
        "from scipy.special import kl_div\n",
        "from scipy.stats import pearsonr\n",
        "from sklearn.svm import SVR\n",
        "from sklearn.preprocessing import Normalizer\n",
        "from sklearn.ensemble import GradientBoostingRegressor"
      ],
      "metadata": {
        "id": "RznMX4ZbCSC5"
      },
      "execution_count": 4,
      "outputs": []
    },
    {
      "cell_type": "code",
      "source": [
        "with open(\"S_2648_full_feature_dict.pickle\",\"rb\") as f:\n",
        "    S_2648_two_level_dict = pickle.load(f)\n",
        "with open(\"S_921_full_feature_dict.pickle\",\"rb\") as f:\n",
        "    S_921_two_level_dict = pickle.load(f)\n",
        "with open(\"S_669_full_feature_dict.pickle\",\"rb\") as f:\n",
        "    S_669_two_level_dict = pickle.load(f)\n",
        "with open(\"Ssym_full_feature_dict.pickle\",\"rb\") as f:\n",
        "    Ssym_two_level_dict = pickle.load(f)"
      ],
      "metadata": {
        "id": "1xXiKO7O1U-e"
      },
      "execution_count": 5,
      "outputs": []
    },
    {
      "cell_type": "code",
      "source": [
        "list_two_level_dict = [S_2648_two_level_dict,S_921_two_level_dict,S_669_two_level_dict,Ssym_two_level_dict]\n",
        "list_dataset_names = [\"S_2648\",\"S_921\",\"S_669\",\"Ssym\"]"
      ],
      "metadata": {
        "id": "16wtwdw139yY"
      },
      "execution_count": 6,
      "outputs": []
    },
    {
      "cell_type": "code",
      "source": [
        "list_mapping_dict = []\n",
        "list_proteins_to_skip = []\n",
        "\n",
        "for name in list_dataset_names:\n",
        "    mapping_dict = {}\n",
        "    pdbDirectory = f\"/content/drive/MyDrive/ACCRE_PyRun_Setup/{name}_PDB_Files\"\n",
        "    parser = PDBParser(QUIET=True)\n",
        "    # some proteins need to be skipped for now due to ICODE related discrapency\n",
        "    proteins_to_skip = []\n",
        "\n",
        "    for filename in tqdm(os.listdir(pdbDirectory)):\n",
        "        filepath = os.path.join(pdbDirectory,filename)\n",
        "        structure = parser.get_structure(id=filename.split(\".\")[0],file=filepath)\n",
        "        model = structure[0]\n",
        "        inner_dict = {}\n",
        "        outer_key = filename.split(\".\")[0]\n",
        "        skip_flag = False\n",
        "        # single chain-assumption in action again\n",
        "        for chain in model:\n",
        "            for i,residue in enumerate(chain):\n",
        "                inner_key = f\"{three_to_one(residue.get_resname())}{residue.get_id()[1]}\"\n",
        "                if inner_key not in inner_dict:\n",
        "                    inner_dict[inner_key] = i\n",
        "                else:\n",
        "                    # For \"2immA:N31\" and \"1lveA:S27\", I have been fucked\n",
        "                    # Need to think whether this will effect other positions or I can just avoid these two-protein related mutations for now?\n",
        "                    # Let me just avoid these two proteins for now\n",
        "                    print(\"YOU HAVE JUST BEEN FUCKED BY ICODE\")\n",
        "                    print(f\"{outer_key}:{inner_key}\")\n",
        "                    skip_flag = True\n",
        "        # The ICODE related problematic proteins will not be considered for now\n",
        "        if not skip_flag:\n",
        "            mapping_dict[outer_key] = inner_dict\n",
        "        else:\n",
        "            proteins_to_skip.append(outer_key)\n",
        "    list_proteins_to_skip.append(proteins_to_skip)\n",
        "    list_mapping_dict.append(mapping_dict)"
      ],
      "metadata": {
        "colab": {
          "base_uri": "https://localhost:8080/",
          "height": 281,
          "referenced_widgets": [
            "a0cb0fd84efb47f58c21072b87cc907e",
            "1318665392fb4f3ab1e556f478cd621c",
            "250602eb20e54760aff544880f830d72",
            "4a5ce5803c90486c86fdbe3868f110c8",
            "02f03235f07840adac6862f42ded7a26",
            "71826a7d824844269424c1f85a7779b6",
            "ffbdeb067e5e4481bc854253c2e89a9f",
            "59756b963b254b0da86a1edf5cf62f10",
            "37400f53e71049cc90e4b4cf007b44fe",
            "558c24e242ec484a9a94f54a69279241",
            "c17b083cb42a4b1aa02e4e6a50a9ab03",
            "e6ad6e97f66e45b18c628f85bf39274a",
            "63cf891c55a140d7929589a57f761183",
            "69f6c6f672b143b398eb8ddeb0012944",
            "19ca9883049a4bfe89a2a333b9fa55d0",
            "7295ba97dee947ecbfe67a98dd6b0c71",
            "7eaf5207c2e949ffbf22c9eb6f981706",
            "043f7240c7924655a684d6c5bbde5735",
            "f7ef8a6f194b4430b02c60d27b74e985",
            "be6e6f0dc37340f58386d864a4b29aa8",
            "1fff4f54e9a9439eab62a0a750639a66",
            "27edc86ff208466c9fd53159ed6cbab5",
            "031e36458ce542338969ff7192d3da25",
            "631dbfedeced40d4b99e913fab8c5d62",
            "22b15d611cc4406382fbb38ed0519904",
            "cf144373e29f46d5b8b3a7feeea707ab",
            "c161d9f8cae943359bd21d44f24405df",
            "bf9e71abae6c454ab28feab37d2078ee",
            "0f71f465edf4468eb77dd669e5d64aaa",
            "91b304a1d17a44638da453a6aa738c27",
            "d094b2226a2443fb95ce3b212d97f3ee",
            "430c0bc154b143bf826e4e024a711d4c",
            "34ac4bd381f94b51818a2ab541cf9948",
            "6dca384ae2214e1687ba53b3c0fd9368",
            "4ca920d227d84afe80feefbeafd597ed",
            "b35f457ea5ff47d185398ffb53b3084c",
            "ace95ab8a10145038bbcf00524322aa4",
            "772647893d6440e68487ffb283c8d5a6",
            "4786a5ca9d3644e1bffe97ee953213cc",
            "8bd772c4205c497c839f959c325f29db",
            "03897f6c5527418a8b5b272f7709e6e5",
            "1cf1fb7fb78c4d7fb3917b55c46f1bf8",
            "6a8b4fbbfc6d40d1aec31ff871ff2937",
            "c7d911b83369407984540e34dcb760c3"
          ]
        },
        "id": "_w7Ufm7t3mR-",
        "outputId": "e027a94a-cda7-4bc8-916b-6de887a87553"
      },
      "execution_count": 7,
      "outputs": [
        {
          "output_type": "display_data",
          "data": {
            "text/plain": [
              "  0%|          | 0/131 [00:00<?, ?it/s]"
            ],
            "application/vnd.jupyter.widget-view+json": {
              "version_major": 2,
              "version_minor": 0,
              "model_id": "a0cb0fd84efb47f58c21072b87cc907e"
            }
          },
          "metadata": {}
        },
        {
          "output_type": "stream",
          "name": "stdout",
          "text": [
            "YOU HAVE JUST BEEN FUCKED BY ICODE\n",
            "1lveA:S27\n",
            "YOU HAVE JUST BEEN FUCKED BY ICODE\n",
            "1lveA:S27\n",
            "YOU HAVE JUST BEEN FUCKED BY ICODE\n",
            "2immA:N31\n",
            "YOU HAVE JUST BEEN FUCKED BY ICODE\n",
            "2immA:N31\n"
          ]
        },
        {
          "output_type": "display_data",
          "data": {
            "text/plain": [
              "  0%|          | 0/195 [00:00<?, ?it/s]"
            ],
            "application/vnd.jupyter.widget-view+json": {
              "version_major": 2,
              "version_minor": 0,
              "model_id": "e6ad6e97f66e45b18c628f85bf39274a"
            }
          },
          "metadata": {}
        },
        {
          "output_type": "display_data",
          "data": {
            "text/plain": [
              "  0%|          | 0/93 [00:00<?, ?it/s]"
            ],
            "application/vnd.jupyter.widget-view+json": {
              "version_major": 2,
              "version_minor": 0,
              "model_id": "031e36458ce542338969ff7192d3da25"
            }
          },
          "metadata": {}
        },
        {
          "output_type": "display_data",
          "data": {
            "text/plain": [
              "  0%|          | 0/357 [00:00<?, ?it/s]"
            ],
            "application/vnd.jupyter.widget-view+json": {
              "version_major": 2,
              "version_minor": 0,
              "model_id": "6dca384ae2214e1687ba53b3c0fd9368"
            }
          },
          "metadata": {}
        }
      ]
    },
    {
      "cell_type": "code",
      "source": [
        "# Create the six numpy arrays here, and then perform training on the next cell\n",
        "X_2648 = []\n",
        "y_2648 = []\n",
        "X_921 = []\n",
        "y_921 = []\n",
        "X_669 = []\n",
        "y_669 = []\n",
        "X_Ssym = []\n",
        "y_Ssym = []\n",
        "\n",
        "# This list will correspond to the \"list_mapping_dict,list_dataset_names,list_two_level_dict,list_proteins_to_skip\" lists in the above cells, \n",
        "# and hold (X,y) tuples corresponding to the three datasets in the same order as those lists\n",
        "# currently, I intend to train, and test the model on \"mut_wild_predictions\",\"entropy_predictions\", \"neighbor_energy_change_predictions\", \"neighbor_forward_KL_predictions\", \n",
        "# and \"neighbor_backward_KL_predictions\" \n",
        "# fourth and fifth features can probably be reduced to one feature by (0.5*fourth_feature+0.5*fifth_feature) since both of them are extremely correlated\n",
        "list_X = [X_2648,X_921,X_669,X_Ssym]\n",
        "list_y = [y_2648,y_921,y_669,y_Ssym]\n",
        "\n",
        "#######\n",
        "alpha_tok = \"ACDEFGHIKLMNPQRSTVWYX\"\n",
        "aa_1_N = {a:n for n,a in enumerate(alpha_tok)}\n",
        "for X,y,two_level_dict,mapping_dict,proteins_to_skip in zip(list_X,list_y,list_two_level_dict,list_mapping_dict,list_proteins_to_skip):\n",
        "    for prot,muts in two_level_dict.items():\n",
        "        if prot not in proteins_to_skip:\n",
        "            try:\n",
        "                cur_map_dict = mapping_dict[prot]\n",
        "            except:\n",
        "                continue\n",
        "            for mut in muts:\n",
        "                # adding the label to \"y\" at first\n",
        "                y.append(mut[\"ddg\"])\n",
        "\n",
        "                # This \"cur_X\" will hold the features for the current mutation under-processing in the current inner loop iteration\n",
        "                cur_X = []\n",
        "                \n",
        "                ### first feature addition (mutation position energy-change)\n",
        "                center_mut_wild_energy = mut[\"center_mut_wild_energy\"]\n",
        "                cur_X.append(center_mut_wild_energy)\n",
        "                ### first feature addition\n",
        "                \n",
        "                ### second feature addition (mutation position entropy)\n",
        "                center_entropy = mut[\"center_entropy\"]\n",
        "                cur_X.append(center_entropy)\n",
        "                ### second feature addition\n",
        "\n",
        "                ### third feature addition (neighbor wildtype energy-change due to mutation)\n",
        "                weighted_neighbor_energy_changes = mut[\"V2_backward_weighted_neighbor_energy_changes\"]\n",
        "                cur_X.append(weighted_neighbor_energy_changes)\n",
        "                ### third feature addition\n",
        "\n",
        "                ### fourth feature addition (forward KL of neighbors due to mutation at center)\n",
        "                weighted_neighbor_forward_KL = mut[\"weighted_neighbor_forward_KL\"]\n",
        "                cur_X.append(weighted_neighbor_forward_KL)\n",
        "                ### fourth feature addition\n",
        "\n",
        "                ### fifth feature addition (backward KL of neighbors due to mutation at center)\n",
        "                weighted_neighbor_backward_KL = mut[\"V2_backward_weighted_neighbor_backward_KL\"]\n",
        "                cur_X.append(weighted_neighbor_backward_KL)\n",
        "                ### fifth feature addition\n",
        "\n",
        "                ### sixth feature(PSSM features) addition\n",
        "                pssm_feature = mut[\"wild_pssm\"]-mut[\"alternate_pssm\"]\n",
        "                cur_X.append(pssm_feature)\n",
        "                ### adding the two PSSM features\n",
        "\n",
        "                ### seventh feature addition (entropy-change of neighbors due to mutation at center)\n",
        "                weighted_neighbor_entropy_changes = mut[\"V2_backward_weighted_neighbor_entropy_changes\"]\n",
        "                cur_X.append(weighted_neighbor_entropy_changes)\n",
        "                ### seventh feature addition \n",
        "\n",
        "                ### eigth feature addition (w/m attention change)\n",
        "                center_neighbor_weight_check_w_m = mut[\"center_neighbor_weight_check_w_m\"]\n",
        "                cur_X.append(center_neighbor_weight_check_w_m)\n",
        "                ### eigth feature addition \n",
        "\n",
        "                X.append(np.array(cur_X))"
      ],
      "metadata": {
        "id": "srnDpZEeCNAX"
      },
      "execution_count": 8,
      "outputs": []
    },
    {
      "cell_type": "code",
      "source": [
        "S_2648_X = np.array(list_X[0])\n",
        "S_2648_y = np.array(list_y[0])\n",
        "S_921_X = np.array(list_X[1])\n",
        "S_921_y = np.array(list_y[1])\n",
        "S_669_X = np.array(list_X[2])\n",
        "S_669_y = np.array(list_y[2])\n",
        "# Flipping the signs of the experimental DDG values in S_669_y to get coherent correlations (positive and higher is better)\n",
        "S_669_y = S_669_y * (-1)\n",
        "Ssym_X = np.array(list_X[3])\n",
        "Ssym_y = np.array(list_y[3])"
      ],
      "metadata": {
        "id": "lbpD9XARa6Kb"
      },
      "execution_count": 9,
      "outputs": []
    },
    {
      "cell_type": "code",
      "source": [
        "print(\"S_921 single-feature correlations at a glance\")\n",
        "print(pearsonr(S_921_y,S_921_X[:,0]))\n",
        "print(pearsonr(S_921_y,S_921_X[:,1]))\n",
        "print(pearsonr(S_921_y,S_921_X[:,2]))\n",
        "print(pearsonr(S_921_y,S_921_X[:,3]))\n",
        "print(pearsonr(S_921_y,S_921_X[:,4]))\n",
        "print(pearsonr(S_921_y,S_921_X[:,5]))\n",
        "print(pearsonr(S_921_y,S_921_X[:,6]))\n",
        "print(\".............................................\")\n",
        "\n",
        "print(\"S_669 single-feature correlations at a glance\")\n",
        "print(pearsonr(S_669_y,S_669_X[:,0]))\n",
        "print(pearsonr(S_669_y,S_669_X[:,1]))\n",
        "print(pearsonr(S_669_y,S_669_X[:,2]))\n",
        "print(pearsonr(S_669_y,S_669_X[:,3]))\n",
        "print(pearsonr(S_669_y,S_669_X[:,4]))\n",
        "print(pearsonr(S_669_y,S_669_X[:,5]))\n",
        "print(pearsonr(S_669_y,S_669_X[:,6]))\n",
        "print(\".............................................\")\n",
        "\n",
        "print(\"S_2648 single-feature correlations at a glance\")\n",
        "print(pearsonr(S_2648_y,S_2648_X[:,0]))\n",
        "print(pearsonr(S_2648_y,S_2648_X[:,1]))\n",
        "print(pearsonr(S_2648_y,S_2648_X[:,2]))\n",
        "print(pearsonr(S_2648_y,S_2648_X[:,3]))\n",
        "print(pearsonr(S_2648_y,S_2648_X[:,4]))\n",
        "print(pearsonr(S_2648_y,S_2648_X[:,5]))\n",
        "print(pearsonr(S_2648_y,S_2648_X[:,6]))\n",
        "print(\".............................................\")\n",
        "\n",
        "print(\"Ssym single-feature correlations at a glance\")\n",
        "print(pearsonr(Ssym_y,Ssym_X[:,0]))\n",
        "print(pearsonr(Ssym_y,Ssym_X[:,1]))\n",
        "print(pearsonr(Ssym_y,Ssym_X[:,2]))\n",
        "print(pearsonr(Ssym_y,Ssym_X[:,3]))\n",
        "print(pearsonr(Ssym_y,Ssym_X[:,4]))\n",
        "print(pearsonr(Ssym_y,Ssym_X[:,5]))\n",
        "print(pearsonr(Ssym_y,Ssym_X[:,6]))\n",
        "print(\".............................................\")"
      ],
      "metadata": {
        "colab": {
          "base_uri": "https://localhost:8080/"
        },
        "id": "M3qElU26b3yL",
        "outputId": "7de51272-2ebf-42c4-95ca-bec98b3f9cd8"
      },
      "execution_count": 10,
      "outputs": [
        {
          "output_type": "stream",
          "name": "stdout",
          "text": [
            "S_921 single-feature correlations at a glance\n",
            "(0.6441949275101646, 4.197628384942669e-109)\n",
            "(0.2558421609543604, 3.1365846164886655e-15)\n",
            "(0.4246158386026147, 1.3026594673519176e-41)\n",
            "(0.3134337286123688, 1.9228114031719706e-22)\n",
            "(0.3823972745976371, 1.9347320512062632e-33)\n",
            "(0.5145587134119901, 2.1316560964554222e-63)\n",
            "(0.45208768082866796, 1.369524145760863e-47)\n",
            ".............................................\n",
            "S_669 single-feature correlations at a glance\n",
            "(0.33765558573837523, 1.772522028540666e-18)\n",
            "(0.26048284702580865, 2.3531867527057347e-11)\n",
            "(0.1840383857546425, 2.8761043604547314e-06)\n",
            "(0.33492161096653633, 3.4543143279502605e-18)\n",
            "(0.35931713121897724, 7.056787490196558e-21)\n",
            "(0.1760175004428737, 7.741516443498937e-06)\n",
            "(0.17517328176139838, 8.570165531743268e-06)\n",
            ".............................................\n",
            "S_2648 single-feature correlations at a glance\n",
            "(0.5046657755393072, 2.4008447333492008e-169)\n",
            "(0.3517800116434, 3.516441939464636e-77)\n",
            "(0.3021493043376491, 1.9371178527136337e-56)\n",
            "(0.21506272445083335, 8.622733497357982e-29)\n",
            "(0.24485252938100538, 4.512076931480806e-37)\n",
            "(0.2752044285125163, 9.492115203744281e-47)\n",
            "(0.3092645336746983, 3.5398896152928775e-59)\n",
            ".............................................\n",
            "Ssym single-feature correlations at a glance\n",
            "(0.5691505320825779, 9.470472056933177e-31)\n",
            "(0.37074964364691887, 1.3868840070743129e-12)\n",
            "(0.34623894609848127, 4.567065405698718e-11)\n",
            "(0.13951599035877324, 0.009785936392794304)\n",
            "(0.16690520503298148, 0.0019544364404150334)\n",
            "(0.25485992422573917, 1.7969755175311432e-06)\n",
            "(0.37782797942192164, 4.777487252593011e-13)\n",
            ".............................................\n"
          ]
        }
      ]
    },
    {
      "cell_type": "code",
      "source": [
        "# Let us try to add some reverse mutants quickly\n",
        "S_2648_X_aug = []\n",
        "S_2648_y_aug = []\n",
        "for X,y in zip(S_2648_X,S_2648_y):\n",
        "    S_2648_X_aug.append(X)\n",
        "    S_2648_X_aug.append(-1*X)\n",
        "    S_2648_y_aug.append(y)\n",
        "    S_2648_y_aug.append(-1*y)\n",
        "S_2648_X_aug = np.array(S_2648_X_aug)\n",
        "S_2648_y_aug = np.array(S_2648_y_aug)\n",
        "\n",
        "S_921_X_aug = []\n",
        "S_921_y_aug = []\n",
        "for X,y in zip(S_921_X,S_921_y):\n",
        "    S_921_X_aug.append(X)\n",
        "    S_921_X_aug.append(-1*X)\n",
        "    S_921_y_aug.append(y)\n",
        "    S_921_y_aug.append(-1*y)\n",
        "S_921_X_aug = np.array(S_921_X_aug)\n",
        "S_921_y_aug = np.array(S_921_y_aug)\n",
        "\n",
        "S_669_X_aug = []\n",
        "S_669_y_aug = []\n",
        "for X,y in zip(S_669_X,S_669_y):\n",
        "    S_669_X_aug.append(X)\n",
        "    S_669_X_aug.append(-1*X)\n",
        "    S_669_y_aug.append(y)\n",
        "    S_669_y_aug.append(-1*y)\n",
        "S_669_X_aug = np.array(S_669_X_aug)\n",
        "S_669_y_aug = np.array(S_669_y_aug)\n",
        "\n",
        "Ssym_X_aug = []\n",
        "Ssym_y_aug = []\n",
        "for X,y in zip(Ssym_X,Ssym_y):\n",
        "    Ssym_X_aug.append(X)\n",
        "    Ssym_X_aug.append(-1*X)\n",
        "    Ssym_y_aug.append(y)\n",
        "    Ssym_y_aug.append(-1*y)\n",
        "Ssym_X_aug = np.array(Ssym_X_aug)\n",
        "Ssym_y_aug = np.array(Ssym_y_aug)"
      ],
      "metadata": {
        "id": "kEUyTUizkC4E"
      },
      "execution_count": 11,
      "outputs": []
    },
    {
      "cell_type": "code",
      "source": [
        "# Now, traing linear regression on S_2648, and test on S_921 and S_669\n",
        "# the setting reg = Ridge(alpha=0.2,normalize=True).fit(S_2648_X_aug[:,[0,2,4,5]], S_2648_y_aug) seems quite good\n",
        "# Ridge(alpha=0.25,normalize=True).fit(S_2648_X_aug[:,[0,2,4,5]], S_2648_y_aug) is also good\n",
        "# Ridge(alpha=0,normalize=True) is also not bad\n",
        "# (center_mut_wild_energy,weighted_neighbor_energy_changes,weighted_neighbor_backward_KL,PSSM) seems the best combination for now\n",
        "# also, ridge with alpha=0.4 seems the best for now (specially, for S_669)\n",
        "# also, ridge with alpha=0.9, and (center_mut_wild_energy,weighted_neighbor_backward_KL,PSSM) gets the maximum for S_669 while reducing for S_sym\n",
        "reg = Ridge(alpha=0,normalize=True,max_iter=5000000).fit(S_2648_X_aug[:,[0,4,5,6,7]], S_2648_y_aug)\n",
        "print(pearsonr(S_2648_y,reg.predict(S_2648_X[:,[0,4,5,6,7]])))\n",
        "print(pearsonr(S_921_y_aug,reg.predict(S_921_X_aug[:,[0,4,5,6,7]])))\n",
        "print(pearsonr(S_669_y_aug,reg.predict(S_669_X_aug[:,[0,4,5,6,7]])))\n",
        "print(pearsonr(Ssym_y_aug,reg.predict(Ssym_X_aug[:,[0,4,5,6,7]])))"
      ],
      "metadata": {
        "colab": {
          "base_uri": "https://localhost:8080/"
        },
        "id": "-FZdA0Paf3KR",
        "outputId": "44fe6418-dd8e-4325-f27b-e57d834ba0f2"
      },
      "execution_count": 118,
      "outputs": [
        {
          "output_type": "stream",
          "name": "stdout",
          "text": [
            "(0.5331742581834864, 2.130857693052358e-192)\n",
            "(0.7507318477642344, 0.0)\n",
            "(0.5976526138818541, 2.096162576309207e-124)\n",
            "(0.7294426984537558, 1.4052531020230916e-114)\n"
          ]
        },
        {
          "output_type": "stream",
          "name": "stderr",
          "text": [
            "/usr/local/lib/python3.7/dist-packages/sklearn/linear_model/_base.py:145: FutureWarning: 'normalize' was deprecated in version 1.0 and will be removed in 1.2.\n",
            "If you wish to scale the data, use Pipeline with a StandardScaler in a preprocessing stage. To reproduce the previous behavior:\n",
            "\n",
            "from sklearn.pipeline import make_pipeline\n",
            "\n",
            "model = make_pipeline(StandardScaler(with_mean=False), Ridge())\n",
            "\n",
            "If you wish to pass a sample_weight parameter, you need to pass it as a fit parameter to each step of the pipeline as follows:\n",
            "\n",
            "kwargs = {s[0] + '__sample_weight': sample_weight for s in model.steps}\n",
            "model.fit(X, y, **kwargs)\n",
            "\n",
            "Set parameter alpha to: original_alpha * n_samples. \n",
            "  FutureWarning,\n"
          ]
        }
      ]
    },
    {
      "cell_type": "code",
      "source": [
        "print(reg.coef_)\n",
        "print(reg.intercept_)"
      ],
      "metadata": {
        "colab": {
          "base_uri": "https://localhost:8080/"
        },
        "id": "wW8hvdhmpzUr",
        "outputId": "9423ed76-123b-4fca-8758-69fbc9962d72"
      },
      "execution_count": 119,
      "outputs": [
        {
          "output_type": "stream",
          "name": "stdout",
          "text": [
            "[ 0.27723097  0.02660008  0.03609702  0.00544141 -0.00250357]\n",
            "0.0\n"
          ]
        }
      ]
    },
    {
      "cell_type": "code",
      "source": [
        "reg = Ridge(alpha=0,normalize=True).fit(S_2648_X_aug[:,[5,4]], S_2648_y_aug)\n",
        "print(pearsonr(S_2648_y,reg.predict(S_2648_X[:,[5,4]])))\n",
        "print(pearsonr(S_921_y_aug,reg.predict(S_921_X_aug[:,[5,4]])))\n",
        "print(pearsonr(S_669_y_aug,reg.predict(S_669_X_aug[:,[5,4]])))\n",
        "print(pearsonr(Ssym_y_aug,reg.predict(Ssym_X_aug[:,[5,4]])))"
      ],
      "metadata": {
        "colab": {
          "base_uri": "https://localhost:8080/"
        },
        "id": "XfY3d56voqJ-",
        "outputId": "20f06773-22f9-4485-9a7f-c0c2a3c26ab6"
      },
      "execution_count": 169,
      "outputs": [
        {
          "output_type": "stream",
          "name": "stdout",
          "text": [
            "(0.3435086220643936, 1.884955334183879e-73)\n",
            "(0.6675182348001198, 5.971255344221527e-238)\n",
            "(0.568828439777659, 2.800673798163286e-110)\n",
            "(0.5709084063370267, 2.060703864893141e-60)\n"
          ]
        },
        {
          "output_type": "stream",
          "name": "stderr",
          "text": [
            "/usr/local/lib/python3.7/dist-packages/sklearn/linear_model/_base.py:145: FutureWarning: 'normalize' was deprecated in version 1.0 and will be removed in 1.2.\n",
            "If you wish to scale the data, use Pipeline with a StandardScaler in a preprocessing stage. To reproduce the previous behavior:\n",
            "\n",
            "from sklearn.pipeline import make_pipeline\n",
            "\n",
            "model = make_pipeline(StandardScaler(with_mean=False), Ridge())\n",
            "\n",
            "If you wish to pass a sample_weight parameter, you need to pass it as a fit parameter to each step of the pipeline as follows:\n",
            "\n",
            "kwargs = {s[0] + '__sample_weight': sample_weight for s in model.steps}\n",
            "model.fit(X, y, **kwargs)\n",
            "\n",
            "Set parameter alpha to: original_alpha * n_samples. \n",
            "  FutureWarning,\n"
          ]
        }
      ]
    },
    {
      "cell_type": "code",
      "source": [
        "print(reg.coef_)\n",
        "print(reg.intercept_)"
      ],
      "metadata": {
        "colab": {
          "base_uri": "https://localhost:8080/"
        },
        "id": "92YVUcqra6eD",
        "outputId": "bcb98b77-713f-462a-f2c5-6a76fbeb7264"
      },
      "execution_count": 170,
      "outputs": [
        {
          "output_type": "stream",
          "name": "stdout",
          "text": [
            "[0.09168536 0.05558433]\n",
            "0.0\n"
          ]
        }
      ]
    },
    {
      "cell_type": "code",
      "source": [
        "sv = SVR(C=50000)\n",
        "normalizer = Normalizer()\n",
        "normalizer.fit(S_2648_X_aug[:,[0,5,4,2,7]])\n",
        "sv.fit(normalizer.transform(S_2648_X_aug[:,[0,5,4,2,7]]),S_2648_y_aug)\n",
        "print(pearsonr(S_2648_y,sv.predict(normalizer.transform(S_2648_X[:,[0,5,4,2,7]]))))\n",
        "print(pearsonr(S_921_y_aug,sv.predict(normalizer.transform(S_921_X_aug[:,[0,5,4,2,7]]))))\n",
        "print(pearsonr(S_669_y_aug,sv.predict(normalizer.transform(S_669_X_aug[:,[0,5,4,2,7]]))))\n",
        "print(pearsonr(Ssym_y_aug,sv.predict(normalizer.transform(Ssym_X_aug[:,[0,5,4,2,7]]))))"
      ],
      "metadata": {
        "id": "U_JnRuB4UL5g"
      },
      "execution_count": null,
      "outputs": []
    },
    {
      "cell_type": "code",
      "source": [
        "gbr = GradientBoostingRegressor(min_samples_split=5,validation_fraction=0.4,n_iter_no_change=2,subsample=0.8,learning_rate=0.2)\n",
        "gbr.fit(S_2648_X_aug[:,[0,2,7]],S_2648_y_aug)\n",
        "print(pearsonr(S_2648_y,gbr.predict(S_2648_X[:,[0,2,7]])))\n",
        "print(pearsonr(S_921_y_aug,gbr.predict(S_921_X_aug[:,[0,2,7]])))\n",
        "print(pearsonr(S_669_y,gbr.predict(S_669_X[:,[0,2,7]])))\n",
        "print(pearsonr(Ssym_y,gbr.predict(Ssym_X[:,[0,2,7]])))"
      ],
      "metadata": {
        "colab": {
          "base_uri": "https://localhost:8080/"
        },
        "id": "mmP7q4UFZKJn",
        "outputId": "c07bb855-11bc-4cef-8f6e-b7f76e524556"
      },
      "execution_count": 291,
      "outputs": [
        {
          "output_type": "stream",
          "name": "stdout",
          "text": [
            "(0.5617663476192841, 7.572090806381024e-218)\n",
            "(0.723403683003062, 2.4244534849939575e-298)\n",
            "(0.34225586170806677, 5.681360528883409e-19)\n",
            "(0.5813993215534655, 2.582291235697424e-32)\n"
          ]
        }
      ]
    },
    {
      "cell_type": "code",
      "source": [
        "gbr.feature_importances_"
      ],
      "metadata": {
        "colab": {
          "base_uri": "https://localhost:8080/"
        },
        "id": "04CYnxe9g3HB",
        "outputId": "8fd96d38-ebf1-4e7a-a5cf-15b89a9b9178"
      },
      "execution_count": 283,
      "outputs": [
        {
          "output_type": "execute_result",
          "data": {
            "text/plain": [
              "array([0.51525749, 0.06583626, 0.41890625])"
            ]
          },
          "metadata": {},
          "execution_count": 283
        }
      ]
    },
    {
      "cell_type": "code",
      "source": [
        "# Now, traing linear regression on S_2648, and test on S_921 and S_669\n",
        "# rf = RandomForestRegressor(min_samples_split=62).fit(S_2648_X_aug[:,[0,2,4,5,7]],S_2648_y_aug)\n",
        "# rf = RandomForestRegressor(min_samples_split=84).fit(S_2648_X_aug[:,[0,2,4,5,7]],S_2648_y_aug) [not bad]\n",
        "# rf = RandomForestRegressor(min_samples_split=84).fit(S_2648_X_aug[:,[0,2,4,7]],S_2648_y_aug) [not bad]\n",
        "# seems like (0,2,4,5, and 7 are worth keeping with RF)\n",
        "# rf = RandomForestRegressor(min_samples_split=22,n_estimators=300,max_samples=0.2).fit(S_2648_X_aug[:,[0,4,5,7]],S_2648_y_aug) [great for balanced performance on everything]\n",
        "# rf = RandomForestRegressor(min_samples_split=22,n_estimators=300,max_samples=0.5).fit(S_2648_X_aug[:,[0,4,5,7]],S_2648_y_aug) [a bit better for Ssym, a bit worse for S_669]\n",
        "# rf = RandomForestRegressor(min_samples_split=22,n_estimators=300,max_samples=0.5).fit(S_2648_X_aug[:,[0,4,7]],S_2648_y_aug) [worth reporting without PSSM, only S_921 goes down significantly]\n",
        "# rf = RandomForestRegressor(min_samples_split=18,n_estimators=300,max_samples=0.5).fit(S_2648_X_aug[:,[0,4,7]],S_2648_y_aug) [seems good without PSSM]\n",
        "# \"max_samples=0.2\" seems like a great parameter for many cases, most probably, that type of diversity is needed\n",
        "# rf = RandomForestRegressor(min_samples_split=25,n_estimators=300,max_samples=0.2).fit(S_2648_X_aug[:,[0,4,5,7]],S_2648_y_aug) [another cool parameter setting]\n",
        "# rf = RandomForestRegressor(min_samples_split=84,n_estimators=300,max_samples=0.2).fit(S_2648_X_aug[:,[0,2,4,6,7]],S_2648_y_aug)\n",
        "# print(pearsonr(S_2648_y,rf.predict(S_2648_X[:,[0,2,4,6,7]])))\n",
        "# print(pearsonr(S_921_y_aug,rf.predict(S_921_X_aug[:,[0,2,4,6,7]])))\n",
        "# print(pearsonr(S_669_y_aug,rf.predict(S_669_X_aug[:,[0,2,4,6,7]])))\n",
        "# print(pearsonr(Ssym_y_aug,rf.predict(Ssym_X_aug[:,[0,2,4,6,7]])))\n",
        "\n",
        "# rf = RandomForestRegressor(min_samples_split=12,n_estimators=300,max_samples=0.2).fit(S_2648_X_aug[:,[0,4,5]],S_2648_y_aug) [not bad with three most important features]\n",
        "# rf = RandomForestRegressor(min_samples_split=12,n_estimators=300,max_samples=0.2).fit(S_2648_X_aug[:,[0,4,5,7]],S_2648_y_aug) [cool, good, awesome stuff]\n",
        "# rf = RandomForestRegressor(min_samples_split=5,n_estimators=300,max_samples=0.2).fit(S_2648_X_aug[:,[0,4,5,7]],S_2648_y_aug) [cool as fuck good shit]\n",
        "rf = RandomForestRegressor(min_samples_split=5,n_estimators=300,max_samples=0.2).fit(S_2648_X_aug[:,[0,4,5,7]],S_2648_y_aug)\n",
        "print(pearsonr(S_2648_y,rf.predict(S_2648_X[:,[0,4,5,7]])))\n",
        "print(pearsonr(S_921_y_aug,rf.predict(S_921_X_aug[:,[0,4,5,7]])))\n",
        "print(pearsonr(S_669_y_aug,rf.predict(S_669_X_aug[:,[0,4,5,7]])))\n",
        "print(pearsonr(Ssym_y_aug,rf.predict(Ssym_X_aug[:,[0,4,5,7]])))"
      ],
      "metadata": {
        "colab": {
          "base_uri": "https://localhost:8080/"
        },
        "id": "DwFTHtO1o2l-",
        "outputId": "ef5175a9-5eb9-4476-c0d3-e84e1dbabebc"
      },
      "execution_count": 120,
      "outputs": [
        {
          "output_type": "stream",
          "name": "stdout",
          "text": [
            "(0.7164591533461072, 0.0)\n",
            "(0.7468955746591391, 0.0)\n",
            "(0.6020395771707219, 1.1063911764572309e-126)\n",
            "(0.7532651792096948, 3.236485815851842e-126)\n"
          ]
        }
      ]
    },
    {
      "cell_type": "code",
      "source": [
        "rf.feature_importances_"
      ],
      "metadata": {
        "colab": {
          "base_uri": "https://localhost:8080/"
        },
        "id": "S-wiraZ5qCCn",
        "outputId": "112263d8-a14c-42ce-b20a-bcebcb66cca4"
      },
      "execution_count": 121,
      "outputs": [
        {
          "output_type": "execute_result",
          "data": {
            "text/plain": [
              "array([0.56218424, 0.19395769, 0.10552179, 0.13833629])"
            ]
          },
          "metadata": {},
          "execution_count": 121
        }
      ]
    },
    {
      "cell_type": "code",
      "source": [
        "# another level of de-correlation by holding out mutations from a specific number of proteins for each of the random forests, and take their ensemble prediction\n",
        "# as the final prediction?\n",
        "\n",
        "# for this, let us at first get the ids of all the S_2648 proteins from the corresponding two-level dict that are not in the corresponding proteins_to_skip_list\n",
        "pdbIds_avail = []\n",
        "n_muts = []\n",
        "list_feature_importances = []\n",
        "for prot,muts in list_two_level_dict[0].items():\n",
        "    if prot not in list_proteins_to_skip[0]:\n",
        "        for mut in muts:\n",
        "            pdbIds_avail.append(prot)\n",
        "            # adding second time for the reverse mutation, since we are trianing on a reverse-augmented version of S_2648\n",
        "            pdbIds_avail.append(prot)\n",
        "id_set = set(pdbIds_avail)\n",
        "pdbIds_avail = np.array(pdbIds_avail)\n",
        "number_of_proteins_in_the_validation_set = 100\n",
        "# \"n_ensemble\" is the number of random forests to be trained on different protein-level mutant subsets\n",
        "# the subsets will contain all the forward and reverse mutations from the same protein\n",
        "n_ensemble = 20\n",
        "# \"rf_models\" list will hold the models trained on different protein-level mutation subsets \n",
        "rf_models = []\n",
        "for i in range(n_ensemble):\n",
        "    cur_iteration_X = []\n",
        "    cur_iteration_y = []\n",
        "    val_proteins = random.sample(id_set, k=number_of_proteins_in_the_validation_set)\n",
        "    val_indices = (np.where(np.isin(pdbIds_avail, val_proteins) == True))[0]\n",
        "    for j,(X,y) in enumerate(zip(S_2648_X_aug,S_2648_y_aug)):\n",
        "        if j not in val_indices:\n",
        "            cur_iteration_X.append(X)\n",
        "            cur_iteration_y.append(y)\n",
        "    cur_iteration_X = np.array(cur_iteration_X)\n",
        "    cur_iteration_y = np.array(cur_iteration_y)\n",
        "    l_model = RandomForestRegressor(min_samples_split=5,n_estimators=300,max_samples=0.2).fit(cur_iteration_X[:,[0,4,5,7]],cur_iteration_y)\n",
        "    list_feature_importances.append(l_model.feature_importances_)\n",
        "    rf_models.append(l_model)\n",
        "    n_muts.append(len(cur_iteration_X))"
      ],
      "metadata": {
        "id": "ZlVYssZkrAer"
      },
      "execution_count": 122,
      "outputs": []
    },
    {
      "cell_type": "code",
      "source": [
        "# Now, we just have to take ensemble predictions, and see how it goes.....TADAAAA\n",
        "\n",
        "# the elements of these lists are going to be numpy arrays full of predictions \n",
        "# for the corresponding datasets made by each of the trained and saved RF models in the above cell\n",
        "# S_2648_predictions = []\n",
        "S_921_predictions = []\n",
        "S_669_predictions = []\n",
        "Ssym_predictions = []\n",
        "\n",
        "for rf in rf_models:\n",
        "    # S_2648_predictions.append()\n",
        "    S_921_predictions.append(rf.predict(S_921_X_aug[:,[0,4,5,7]]))\n",
        "    S_669_predictions.append(rf.predict(S_669_X_aug[:,[0,4,5,7]]))\n",
        "    Ssym_predictions.append(rf.predict(Ssym_X_aug[:,[0,4,5,7]]))"
      ],
      "metadata": {
        "id": "Rbe55_gqFgqq"
      },
      "execution_count": 124,
      "outputs": []
    },
    {
      "cell_type": "code",
      "source": [
        "S_921_ensemble_predictions = np.mean(np.array(S_921_predictions),axis=0)\n",
        "S_669_ensemble_predictions = np.mean(np.array(S_669_predictions),axis=0)\n",
        "Ssym_ensemble_predictions = np.mean(np.array(Ssym_predictions),axis=0)\n",
        "\n",
        "print(pearsonr(S_921_y_aug,S_921_ensemble_predictions))\n",
        "print(pearsonr(S_669_y_aug,S_669_ensemble_predictions))\n",
        "print(pearsonr(Ssym_y_aug,Ssym_ensemble_predictions))"
      ],
      "metadata": {
        "colab": {
          "base_uri": "https://localhost:8080/"
        },
        "id": "uaOVVuSXL3qS",
        "outputId": "a7fa39c8-d143-4a8d-ca91-114c20f815e5"
      },
      "execution_count": 125,
      "outputs": [
        {
          "output_type": "stream",
          "name": "stdout",
          "text": [
            "(0.7374760865099661, 5.7838354e-316)\n",
            "(0.6065018099111028, 4.9058753300835314e-129)\n",
            "(0.7345092969587153, 6.003436193979595e-117)\n"
          ]
        }
      ]
    },
    {
      "cell_type": "code",
      "source": [
        "for i in range(n_ensemble-1):\n",
        "    print(n_muts[i])\n",
        "    # print(pearsonr(S_921_predictions[i],S_921_predictions[i+1]))\n",
        "    print(pearsonr(S_921_predictions[i],S_921_y_aug))\n",
        "    # print(pearsonr(S_669_predictions[i],S_669_predictions[i+1]))\n",
        "    print(pearsonr(S_669_predictions[i],S_669_y_aug))\n",
        "    print(pearsonr(Ssym_predictions[i],Ssym_y_aug))\n",
        "    print(list_feature_importances[i])\n",
        "    print(\".........................................\")"
      ],
      "metadata": {
        "colab": {
          "base_uri": "https://localhost:8080/"
        },
        "id": "zkyuBtKXNZIz",
        "outputId": "80a1e798-8803-49fa-d56d-0a62b4fefb21"
      },
      "execution_count": 126,
      "outputs": [
        {
          "output_type": "stream",
          "name": "stdout",
          "text": [
            "2148\n",
            "(0.7287500220953943, 6.613676776591232e-305)\n",
            "(0.5968765265546632, 5.256251180143467e-124)\n",
            "(0.740183008158488, 1.1469137532559582e-119)\n",
            "[0.4376014  0.25138499 0.10913262 0.20188099]\n",
            ".........................................\n",
            "752\n",
            "(0.6694522193400112, 8.073149409018139e-240)\n",
            "(0.5623225398738488, 2.7906170935770255e-107)\n",
            "(0.6717350043553948, 6.160238603762201e-91)\n",
            "[0.31555637 0.15110397 0.28414715 0.2491925 ]\n",
            ".........................................\n",
            "950\n",
            "(0.7398099706408168, 5.3607e-319)\n",
            "(0.5800355655237347, 1.3252842845148704e-115)\n",
            "(0.7306539348769988, 3.8569213439674805e-115)\n",
            "[0.531151   0.19403759 0.16178944 0.11302197]\n",
            ".........................................\n",
            "1360\n",
            "(0.7317738363561191, 1.090983335721504e-308)\n",
            "(0.597149319524656, 3.80596374114999e-124)\n",
            "(0.7287448462052494, 2.950449239132341e-114)\n",
            "[0.52826855 0.17445991 0.17893664 0.1183349 ]\n",
            ".........................................\n",
            "1586\n",
            "(0.7460658056458284, 0.0)\n",
            "(0.5824634377448176, 8.73578217341223e-117)\n",
            "(0.7419091450734708, 1.6526400056602037e-120)\n",
            "[0.65852414 0.16737358 0.07519359 0.09890869]\n",
            ".........................................\n",
            "1604\n",
            "(0.7286134111943976, 9.77521547700423e-305)\n",
            "(0.6089958671214838, 2.2860642037455476e-130)\n",
            "(0.7317760205315348, 1.156966373505674e-115)\n",
            "[0.47787633 0.28722842 0.07219188 0.16270337]\n",
            ".........................................\n",
            "1024\n",
            "(0.7218980481648425, 1.6044748714498975e-296)\n",
            "(0.5731007631718065, 2.7639433165356416e-112)\n",
            "(0.6941444730142723, 1.887684102568709e-99)\n",
            "[0.30261594 0.16678833 0.40337529 0.12722043]\n",
            ".........................................\n",
            "1004\n",
            "(0.6937470485169798, 1.4539343690466982e-264)\n",
            "(0.5818488755678229, 1.742563081911972e-116)\n",
            "(0.7236808419875693, 5.993816338230604e-112)\n",
            "[0.35878267 0.319016   0.14536561 0.17683572]\n",
            ".........................................\n",
            "892\n",
            "(0.7098706377821284, 2.1311008471972638e-282)\n",
            "(0.599596135507749, 2.0739080013093472e-125)\n",
            "(0.6996646003046915, 1.1403157927047369e-101)\n",
            "[0.3372153  0.20413336 0.23377014 0.2248812 ]\n",
            ".........................................\n",
            "1112\n",
            "(0.724707008093989, 6.29132197509985e-300)\n",
            "(0.6117750708723971, 7.263968306643319e-132)\n",
            "(0.6872862850711821, 9.194330751667584e-97)\n",
            "[0.39604963 0.26820284 0.21128302 0.1244645 ]\n",
            ".........................................\n",
            "742\n",
            "(0.6401229284254379, 6.471446592990555e-213)\n",
            "(0.601883765787018, 1.3347677528845512e-126)\n",
            "(0.6679078836792464, 1.4764922734256283e-89)\n",
            "[0.18786985 0.3659283  0.1849321  0.26126975]\n",
            ".........................................\n",
            "710\n",
            "(0.6896204828571999, 3.453375230737826e-260)\n",
            "(0.589268791024004, 3.778257287689308e-120)\n",
            "(0.6665439220618945, 4.5285723852340945e-89)\n",
            "[0.20499763 0.24974855 0.31682524 0.22842858]\n",
            ".........................................\n",
            "1192\n",
            "(0.7093179309867876, 9.124363738146489e-282)\n",
            "(0.5634058457475681, 8.933994787102624e-108)\n",
            "(0.7229112593734135, 1.330194896741914e-111)\n",
            "[0.54354744 0.16795712 0.13204822 0.15644722]\n",
            ".........................................\n",
            "778\n",
            "(0.7047153544280246, 1.4539129616164157e-276)\n",
            "(0.5961443173765963, 1.2484041480232849e-123)\n",
            "(0.6819889581146297, 9.746869468132054e-95)\n",
            "[0.16367947 0.28602383 0.41598969 0.134307  ]\n",
            ".........................................\n",
            "792\n",
            "(0.7112954657877543, 4.937512038267575e-284)\n",
            "(0.5873318535652822, 3.490527197913854e-119)\n",
            "(0.7178193043075987, 2.428889805338575e-109)\n",
            "[0.34698056 0.23475189 0.2535698  0.16469776]\n",
            ".........................................\n",
            "866\n",
            "(0.7178571472117097, 1.0785097307374534e-291)\n",
            "(0.5386560163278742, 6.458432730140313e-97)\n",
            "(0.7132756595186697, 2.2989348393471782e-107)\n",
            "[0.47734173 0.17763935 0.16405582 0.1809631 ]\n",
            ".........................................\n",
            "976\n",
            "(0.7180639161049932, 6.135770780270605e-292)\n",
            "(0.5947257266790759, 6.629057064698616e-123)\n",
            "(0.7347291404144634, 4.7245166405619816e-117)\n",
            "[0.39783253 0.32648564 0.14054384 0.13513799]\n",
            ".........................................\n",
            "2124\n",
            "(0.7439773003719095, 0.0)\n",
            "(0.5941411105995462, 1.3158944476749222e-122)\n",
            "(0.7313459253706313, 1.8368269476593877e-115)\n",
            "[0.60774869 0.17248518 0.10375494 0.1160112 ]\n",
            ".........................................\n",
            "858\n",
            "(0.7450035774745037, 0.0)\n",
            "(0.5678594155527813, 7.908817053805808e-110)\n",
            "(0.7339350178027126, 1.1212229474787045e-116)\n",
            "[0.47085471 0.16671477 0.24489995 0.11753057]\n",
            ".........................................\n"
          ]
        }
      ]
    },
    {
      "cell_type": "code",
      "source": [
        "# let us now do a final analysis to see if correlations of the four features on S_2648 are good coefficients\n",
        "# but the problem is that, correlation changes based on subset of data chosen\n",
        "\n",
        "# let us do a quick stochastic-hill-climbing with individual correlations constituting the initial solution \n",
        "# out target is to see how far the co-efficients move away from correlations\n",
        "# this can in someway also be used for checking the underlying co-variate shift\n",
        "\n",
        "# objective-function\n",
        "# we are expecting \"X\" to be a numpy array of shape (number_of_samples,n_features) \n",
        "# and \"coefficients\" to be another numpy array of shape (1,n_features)\n",
        "def objective(X, y, coefficients):\n",
        "    # generate predictions for dataset\n",
        "    yhat = (X*coefficients).sum(axis=-1)\n",
        "    # calculate accuracy\n",
        "    # taking negative of correlation because the \"hillclimbing\" function written below was intended to\n",
        "    # minimize the objective function, and I do not want to tinker around with it at that level right now\n",
        "    score = -1*(pearsonr(y,yhat)[0])\n",
        "    return score\n",
        "\n",
        "# hill climbing local search algorithm\n",
        "def hillclimbing(X, y, solution, n_iter, step_size):\n",
        "\t# evaluate the initial point\n",
        "\tsolution_eval = objective(X, y, solution)\n",
        "\t# run the hill climb\n",
        "\tfor i in range(n_iter):\n",
        "\t\t# take a step\n",
        "\t\tcandidate = solution + np.random.randn(len(solution)) * step_size\n",
        "\t\t# evaluate candidate point\n",
        "\t\tcandidte_eval = objective(X, y, candidate)\n",
        "\t\t# check if we should keep the new point\n",
        "\t\tif candidte_eval <= solution_eval:\n",
        "\t\t\t# store the new point\n",
        "\t\t\tsolution, solution_eval = candidate, candidte_eval\n",
        "\t\t\t# report progress\n",
        "\t\t\tprint('>%d %.5f' % (i, solution_eval))\n",
        "\treturn [solution, solution_eval]\n",
        "\n",
        "hillclimbing(X=S_669_X[:,[0,4,5,7]],y=S_669_y,solution=(np.array([0.50,0.20,0.20,0.10]).reshape(1,-1)),n_iter=40000,step_size=0.00001)"
      ],
      "metadata": {
        "id": "PEr9p16hq5af"
      },
      "execution_count": null,
      "outputs": []
    }
  ]
}