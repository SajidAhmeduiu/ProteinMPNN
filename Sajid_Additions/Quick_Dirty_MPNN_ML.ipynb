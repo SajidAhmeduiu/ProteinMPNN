{
  "nbformat": 4,
  "nbformat_minor": 0,
  "metadata": {
    "colab": {
      "name": "Quick_Dirty_MPNN_ML.ipynb",
      "provenance": [],
      "collapsed_sections": []
    },
    "kernelspec": {
      "name": "python3",
      "display_name": "Python 3"
    },
    "language_info": {
      "name": "python"
    },
    "gpuClass": "standard",
    "widgets": {
      "application/vnd.jupyter.widget-state+json": {
        "446ed9294f60478ebc162da3f9924cb1": {
          "model_module": "@jupyter-widgets/controls",
          "model_name": "HBoxModel",
          "model_module_version": "1.5.0",
          "state": {
            "_dom_classes": [],
            "_model_module": "@jupyter-widgets/controls",
            "_model_module_version": "1.5.0",
            "_model_name": "HBoxModel",
            "_view_count": null,
            "_view_module": "@jupyter-widgets/controls",
            "_view_module_version": "1.5.0",
            "_view_name": "HBoxView",
            "box_style": "",
            "children": [
              "IPY_MODEL_0eb853c96e3a4874944816bad9d6c20c",
              "IPY_MODEL_63eb6c94b1dd461fa631a843df1721c2",
              "IPY_MODEL_e8465bd311f0493d93ccf382d55344e3"
            ],
            "layout": "IPY_MODEL_dd497dc55b2346209f21c6b1894ca85d"
          }
        },
        "0eb853c96e3a4874944816bad9d6c20c": {
          "model_module": "@jupyter-widgets/controls",
          "model_name": "HTMLModel",
          "model_module_version": "1.5.0",
          "state": {
            "_dom_classes": [],
            "_model_module": "@jupyter-widgets/controls",
            "_model_module_version": "1.5.0",
            "_model_name": "HTMLModel",
            "_view_count": null,
            "_view_module": "@jupyter-widgets/controls",
            "_view_module_version": "1.5.0",
            "_view_name": "HTMLView",
            "description": "",
            "description_tooltip": null,
            "layout": "IPY_MODEL_ab31b07952f84b26a573228e89a35f4e",
            "placeholder": "​",
            "style": "IPY_MODEL_fb5c9866d1944a8caae0dd6ad35315d2",
            "value": "100%"
          }
        },
        "63eb6c94b1dd461fa631a843df1721c2": {
          "model_module": "@jupyter-widgets/controls",
          "model_name": "FloatProgressModel",
          "model_module_version": "1.5.0",
          "state": {
            "_dom_classes": [],
            "_model_module": "@jupyter-widgets/controls",
            "_model_module_version": "1.5.0",
            "_model_name": "FloatProgressModel",
            "_view_count": null,
            "_view_module": "@jupyter-widgets/controls",
            "_view_module_version": "1.5.0",
            "_view_name": "ProgressView",
            "bar_style": "success",
            "description": "",
            "description_tooltip": null,
            "layout": "IPY_MODEL_477b6e07f163490e8dc58dbdbca71ba1",
            "max": 131,
            "min": 0,
            "orientation": "horizontal",
            "style": "IPY_MODEL_b16e82306683443c854699a02a83a48c",
            "value": 131
          }
        },
        "e8465bd311f0493d93ccf382d55344e3": {
          "model_module": "@jupyter-widgets/controls",
          "model_name": "HTMLModel",
          "model_module_version": "1.5.0",
          "state": {
            "_dom_classes": [],
            "_model_module": "@jupyter-widgets/controls",
            "_model_module_version": "1.5.0",
            "_model_name": "HTMLModel",
            "_view_count": null,
            "_view_module": "@jupyter-widgets/controls",
            "_view_module_version": "1.5.0",
            "_view_name": "HTMLView",
            "description": "",
            "description_tooltip": null,
            "layout": "IPY_MODEL_cce669e2da314930bc734e7a2cd19c63",
            "placeholder": "​",
            "style": "IPY_MODEL_0b3ee52dba8d405db02030d67539dc94",
            "value": " 131/131 [00:05&lt;00:00, 24.07it/s]"
          }
        },
        "dd497dc55b2346209f21c6b1894ca85d": {
          "model_module": "@jupyter-widgets/base",
          "model_name": "LayoutModel",
          "model_module_version": "1.2.0",
          "state": {
            "_model_module": "@jupyter-widgets/base",
            "_model_module_version": "1.2.0",
            "_model_name": "LayoutModel",
            "_view_count": null,
            "_view_module": "@jupyter-widgets/base",
            "_view_module_version": "1.2.0",
            "_view_name": "LayoutView",
            "align_content": null,
            "align_items": null,
            "align_self": null,
            "border": null,
            "bottom": null,
            "display": null,
            "flex": null,
            "flex_flow": null,
            "grid_area": null,
            "grid_auto_columns": null,
            "grid_auto_flow": null,
            "grid_auto_rows": null,
            "grid_column": null,
            "grid_gap": null,
            "grid_row": null,
            "grid_template_areas": null,
            "grid_template_columns": null,
            "grid_template_rows": null,
            "height": null,
            "justify_content": null,
            "justify_items": null,
            "left": null,
            "margin": null,
            "max_height": null,
            "max_width": null,
            "min_height": null,
            "min_width": null,
            "object_fit": null,
            "object_position": null,
            "order": null,
            "overflow": null,
            "overflow_x": null,
            "overflow_y": null,
            "padding": null,
            "right": null,
            "top": null,
            "visibility": null,
            "width": null
          }
        },
        "ab31b07952f84b26a573228e89a35f4e": {
          "model_module": "@jupyter-widgets/base",
          "model_name": "LayoutModel",
          "model_module_version": "1.2.0",
          "state": {
            "_model_module": "@jupyter-widgets/base",
            "_model_module_version": "1.2.0",
            "_model_name": "LayoutModel",
            "_view_count": null,
            "_view_module": "@jupyter-widgets/base",
            "_view_module_version": "1.2.0",
            "_view_name": "LayoutView",
            "align_content": null,
            "align_items": null,
            "align_self": null,
            "border": null,
            "bottom": null,
            "display": null,
            "flex": null,
            "flex_flow": null,
            "grid_area": null,
            "grid_auto_columns": null,
            "grid_auto_flow": null,
            "grid_auto_rows": null,
            "grid_column": null,
            "grid_gap": null,
            "grid_row": null,
            "grid_template_areas": null,
            "grid_template_columns": null,
            "grid_template_rows": null,
            "height": null,
            "justify_content": null,
            "justify_items": null,
            "left": null,
            "margin": null,
            "max_height": null,
            "max_width": null,
            "min_height": null,
            "min_width": null,
            "object_fit": null,
            "object_position": null,
            "order": null,
            "overflow": null,
            "overflow_x": null,
            "overflow_y": null,
            "padding": null,
            "right": null,
            "top": null,
            "visibility": null,
            "width": null
          }
        },
        "fb5c9866d1944a8caae0dd6ad35315d2": {
          "model_module": "@jupyter-widgets/controls",
          "model_name": "DescriptionStyleModel",
          "model_module_version": "1.5.0",
          "state": {
            "_model_module": "@jupyter-widgets/controls",
            "_model_module_version": "1.5.0",
            "_model_name": "DescriptionStyleModel",
            "_view_count": null,
            "_view_module": "@jupyter-widgets/base",
            "_view_module_version": "1.2.0",
            "_view_name": "StyleView",
            "description_width": ""
          }
        },
        "477b6e07f163490e8dc58dbdbca71ba1": {
          "model_module": "@jupyter-widgets/base",
          "model_name": "LayoutModel",
          "model_module_version": "1.2.0",
          "state": {
            "_model_module": "@jupyter-widgets/base",
            "_model_module_version": "1.2.0",
            "_model_name": "LayoutModel",
            "_view_count": null,
            "_view_module": "@jupyter-widgets/base",
            "_view_module_version": "1.2.0",
            "_view_name": "LayoutView",
            "align_content": null,
            "align_items": null,
            "align_self": null,
            "border": null,
            "bottom": null,
            "display": null,
            "flex": null,
            "flex_flow": null,
            "grid_area": null,
            "grid_auto_columns": null,
            "grid_auto_flow": null,
            "grid_auto_rows": null,
            "grid_column": null,
            "grid_gap": null,
            "grid_row": null,
            "grid_template_areas": null,
            "grid_template_columns": null,
            "grid_template_rows": null,
            "height": null,
            "justify_content": null,
            "justify_items": null,
            "left": null,
            "margin": null,
            "max_height": null,
            "max_width": null,
            "min_height": null,
            "min_width": null,
            "object_fit": null,
            "object_position": null,
            "order": null,
            "overflow": null,
            "overflow_x": null,
            "overflow_y": null,
            "padding": null,
            "right": null,
            "top": null,
            "visibility": null,
            "width": null
          }
        },
        "b16e82306683443c854699a02a83a48c": {
          "model_module": "@jupyter-widgets/controls",
          "model_name": "ProgressStyleModel",
          "model_module_version": "1.5.0",
          "state": {
            "_model_module": "@jupyter-widgets/controls",
            "_model_module_version": "1.5.0",
            "_model_name": "ProgressStyleModel",
            "_view_count": null,
            "_view_module": "@jupyter-widgets/base",
            "_view_module_version": "1.2.0",
            "_view_name": "StyleView",
            "bar_color": null,
            "description_width": ""
          }
        },
        "cce669e2da314930bc734e7a2cd19c63": {
          "model_module": "@jupyter-widgets/base",
          "model_name": "LayoutModel",
          "model_module_version": "1.2.0",
          "state": {
            "_model_module": "@jupyter-widgets/base",
            "_model_module_version": "1.2.0",
            "_model_name": "LayoutModel",
            "_view_count": null,
            "_view_module": "@jupyter-widgets/base",
            "_view_module_version": "1.2.0",
            "_view_name": "LayoutView",
            "align_content": null,
            "align_items": null,
            "align_self": null,
            "border": null,
            "bottom": null,
            "display": null,
            "flex": null,
            "flex_flow": null,
            "grid_area": null,
            "grid_auto_columns": null,
            "grid_auto_flow": null,
            "grid_auto_rows": null,
            "grid_column": null,
            "grid_gap": null,
            "grid_row": null,
            "grid_template_areas": null,
            "grid_template_columns": null,
            "grid_template_rows": null,
            "height": null,
            "justify_content": null,
            "justify_items": null,
            "left": null,
            "margin": null,
            "max_height": null,
            "max_width": null,
            "min_height": null,
            "min_width": null,
            "object_fit": null,
            "object_position": null,
            "order": null,
            "overflow": null,
            "overflow_x": null,
            "overflow_y": null,
            "padding": null,
            "right": null,
            "top": null,
            "visibility": null,
            "width": null
          }
        },
        "0b3ee52dba8d405db02030d67539dc94": {
          "model_module": "@jupyter-widgets/controls",
          "model_name": "DescriptionStyleModel",
          "model_module_version": "1.5.0",
          "state": {
            "_model_module": "@jupyter-widgets/controls",
            "_model_module_version": "1.5.0",
            "_model_name": "DescriptionStyleModel",
            "_view_count": null,
            "_view_module": "@jupyter-widgets/base",
            "_view_module_version": "1.2.0",
            "_view_name": "StyleView",
            "description_width": ""
          }
        },
        "aa333143f50841ef9b5b925226c97e4d": {
          "model_module": "@jupyter-widgets/controls",
          "model_name": "HBoxModel",
          "model_module_version": "1.5.0",
          "state": {
            "_dom_classes": [],
            "_model_module": "@jupyter-widgets/controls",
            "_model_module_version": "1.5.0",
            "_model_name": "HBoxModel",
            "_view_count": null,
            "_view_module": "@jupyter-widgets/controls",
            "_view_module_version": "1.5.0",
            "_view_name": "HBoxView",
            "box_style": "",
            "children": [
              "IPY_MODEL_894388a76a7a4dcab25073302646d501",
              "IPY_MODEL_07df9bb913ca454cb908837a745d1f29",
              "IPY_MODEL_69304ddc8a7542428a832b046b1fa04b"
            ],
            "layout": "IPY_MODEL_786db8a2fe3546b4b04293a7f10c3011"
          }
        },
        "894388a76a7a4dcab25073302646d501": {
          "model_module": "@jupyter-widgets/controls",
          "model_name": "HTMLModel",
          "model_module_version": "1.5.0",
          "state": {
            "_dom_classes": [],
            "_model_module": "@jupyter-widgets/controls",
            "_model_module_version": "1.5.0",
            "_model_name": "HTMLModel",
            "_view_count": null,
            "_view_module": "@jupyter-widgets/controls",
            "_view_module_version": "1.5.0",
            "_view_name": "HTMLView",
            "description": "",
            "description_tooltip": null,
            "layout": "IPY_MODEL_233bfa6b18cc44d99395b5ffd5c94335",
            "placeholder": "​",
            "style": "IPY_MODEL_90e2498e5f7e45a19be74caa94124677",
            "value": "100%"
          }
        },
        "07df9bb913ca454cb908837a745d1f29": {
          "model_module": "@jupyter-widgets/controls",
          "model_name": "FloatProgressModel",
          "model_module_version": "1.5.0",
          "state": {
            "_dom_classes": [],
            "_model_module": "@jupyter-widgets/controls",
            "_model_module_version": "1.5.0",
            "_model_name": "FloatProgressModel",
            "_view_count": null,
            "_view_module": "@jupyter-widgets/controls",
            "_view_module_version": "1.5.0",
            "_view_name": "ProgressView",
            "bar_style": "success",
            "description": "",
            "description_tooltip": null,
            "layout": "IPY_MODEL_e1e7a652e28c49c7ab88310e0bdf8621",
            "max": 195,
            "min": 0,
            "orientation": "horizontal",
            "style": "IPY_MODEL_e9cfb6abb33045bf889bdc0f7e60f419",
            "value": 195
          }
        },
        "69304ddc8a7542428a832b046b1fa04b": {
          "model_module": "@jupyter-widgets/controls",
          "model_name": "HTMLModel",
          "model_module_version": "1.5.0",
          "state": {
            "_dom_classes": [],
            "_model_module": "@jupyter-widgets/controls",
            "_model_module_version": "1.5.0",
            "_model_name": "HTMLModel",
            "_view_count": null,
            "_view_module": "@jupyter-widgets/controls",
            "_view_module_version": "1.5.0",
            "_view_name": "HTMLView",
            "description": "",
            "description_tooltip": null,
            "layout": "IPY_MODEL_38c7cc2a4bd84c4c879408697b081d6d",
            "placeholder": "​",
            "style": "IPY_MODEL_fafb227073144f8dafd590d4202aa078",
            "value": " 195/195 [00:07&lt;00:00, 25.40it/s]"
          }
        },
        "786db8a2fe3546b4b04293a7f10c3011": {
          "model_module": "@jupyter-widgets/base",
          "model_name": "LayoutModel",
          "model_module_version": "1.2.0",
          "state": {
            "_model_module": "@jupyter-widgets/base",
            "_model_module_version": "1.2.0",
            "_model_name": "LayoutModel",
            "_view_count": null,
            "_view_module": "@jupyter-widgets/base",
            "_view_module_version": "1.2.0",
            "_view_name": "LayoutView",
            "align_content": null,
            "align_items": null,
            "align_self": null,
            "border": null,
            "bottom": null,
            "display": null,
            "flex": null,
            "flex_flow": null,
            "grid_area": null,
            "grid_auto_columns": null,
            "grid_auto_flow": null,
            "grid_auto_rows": null,
            "grid_column": null,
            "grid_gap": null,
            "grid_row": null,
            "grid_template_areas": null,
            "grid_template_columns": null,
            "grid_template_rows": null,
            "height": null,
            "justify_content": null,
            "justify_items": null,
            "left": null,
            "margin": null,
            "max_height": null,
            "max_width": null,
            "min_height": null,
            "min_width": null,
            "object_fit": null,
            "object_position": null,
            "order": null,
            "overflow": null,
            "overflow_x": null,
            "overflow_y": null,
            "padding": null,
            "right": null,
            "top": null,
            "visibility": null,
            "width": null
          }
        },
        "233bfa6b18cc44d99395b5ffd5c94335": {
          "model_module": "@jupyter-widgets/base",
          "model_name": "LayoutModel",
          "model_module_version": "1.2.0",
          "state": {
            "_model_module": "@jupyter-widgets/base",
            "_model_module_version": "1.2.0",
            "_model_name": "LayoutModel",
            "_view_count": null,
            "_view_module": "@jupyter-widgets/base",
            "_view_module_version": "1.2.0",
            "_view_name": "LayoutView",
            "align_content": null,
            "align_items": null,
            "align_self": null,
            "border": null,
            "bottom": null,
            "display": null,
            "flex": null,
            "flex_flow": null,
            "grid_area": null,
            "grid_auto_columns": null,
            "grid_auto_flow": null,
            "grid_auto_rows": null,
            "grid_column": null,
            "grid_gap": null,
            "grid_row": null,
            "grid_template_areas": null,
            "grid_template_columns": null,
            "grid_template_rows": null,
            "height": null,
            "justify_content": null,
            "justify_items": null,
            "left": null,
            "margin": null,
            "max_height": null,
            "max_width": null,
            "min_height": null,
            "min_width": null,
            "object_fit": null,
            "object_position": null,
            "order": null,
            "overflow": null,
            "overflow_x": null,
            "overflow_y": null,
            "padding": null,
            "right": null,
            "top": null,
            "visibility": null,
            "width": null
          }
        },
        "90e2498e5f7e45a19be74caa94124677": {
          "model_module": "@jupyter-widgets/controls",
          "model_name": "DescriptionStyleModel",
          "model_module_version": "1.5.0",
          "state": {
            "_model_module": "@jupyter-widgets/controls",
            "_model_module_version": "1.5.0",
            "_model_name": "DescriptionStyleModel",
            "_view_count": null,
            "_view_module": "@jupyter-widgets/base",
            "_view_module_version": "1.2.0",
            "_view_name": "StyleView",
            "description_width": ""
          }
        },
        "e1e7a652e28c49c7ab88310e0bdf8621": {
          "model_module": "@jupyter-widgets/base",
          "model_name": "LayoutModel",
          "model_module_version": "1.2.0",
          "state": {
            "_model_module": "@jupyter-widgets/base",
            "_model_module_version": "1.2.0",
            "_model_name": "LayoutModel",
            "_view_count": null,
            "_view_module": "@jupyter-widgets/base",
            "_view_module_version": "1.2.0",
            "_view_name": "LayoutView",
            "align_content": null,
            "align_items": null,
            "align_self": null,
            "border": null,
            "bottom": null,
            "display": null,
            "flex": null,
            "flex_flow": null,
            "grid_area": null,
            "grid_auto_columns": null,
            "grid_auto_flow": null,
            "grid_auto_rows": null,
            "grid_column": null,
            "grid_gap": null,
            "grid_row": null,
            "grid_template_areas": null,
            "grid_template_columns": null,
            "grid_template_rows": null,
            "height": null,
            "justify_content": null,
            "justify_items": null,
            "left": null,
            "margin": null,
            "max_height": null,
            "max_width": null,
            "min_height": null,
            "min_width": null,
            "object_fit": null,
            "object_position": null,
            "order": null,
            "overflow": null,
            "overflow_x": null,
            "overflow_y": null,
            "padding": null,
            "right": null,
            "top": null,
            "visibility": null,
            "width": null
          }
        },
        "e9cfb6abb33045bf889bdc0f7e60f419": {
          "model_module": "@jupyter-widgets/controls",
          "model_name": "ProgressStyleModel",
          "model_module_version": "1.5.0",
          "state": {
            "_model_module": "@jupyter-widgets/controls",
            "_model_module_version": "1.5.0",
            "_model_name": "ProgressStyleModel",
            "_view_count": null,
            "_view_module": "@jupyter-widgets/base",
            "_view_module_version": "1.2.0",
            "_view_name": "StyleView",
            "bar_color": null,
            "description_width": ""
          }
        },
        "38c7cc2a4bd84c4c879408697b081d6d": {
          "model_module": "@jupyter-widgets/base",
          "model_name": "LayoutModel",
          "model_module_version": "1.2.0",
          "state": {
            "_model_module": "@jupyter-widgets/base",
            "_model_module_version": "1.2.0",
            "_model_name": "LayoutModel",
            "_view_count": null,
            "_view_module": "@jupyter-widgets/base",
            "_view_module_version": "1.2.0",
            "_view_name": "LayoutView",
            "align_content": null,
            "align_items": null,
            "align_self": null,
            "border": null,
            "bottom": null,
            "display": null,
            "flex": null,
            "flex_flow": null,
            "grid_area": null,
            "grid_auto_columns": null,
            "grid_auto_flow": null,
            "grid_auto_rows": null,
            "grid_column": null,
            "grid_gap": null,
            "grid_row": null,
            "grid_template_areas": null,
            "grid_template_columns": null,
            "grid_template_rows": null,
            "height": null,
            "justify_content": null,
            "justify_items": null,
            "left": null,
            "margin": null,
            "max_height": null,
            "max_width": null,
            "min_height": null,
            "min_width": null,
            "object_fit": null,
            "object_position": null,
            "order": null,
            "overflow": null,
            "overflow_x": null,
            "overflow_y": null,
            "padding": null,
            "right": null,
            "top": null,
            "visibility": null,
            "width": null
          }
        },
        "fafb227073144f8dafd590d4202aa078": {
          "model_module": "@jupyter-widgets/controls",
          "model_name": "DescriptionStyleModel",
          "model_module_version": "1.5.0",
          "state": {
            "_model_module": "@jupyter-widgets/controls",
            "_model_module_version": "1.5.0",
            "_model_name": "DescriptionStyleModel",
            "_view_count": null,
            "_view_module": "@jupyter-widgets/base",
            "_view_module_version": "1.2.0",
            "_view_name": "StyleView",
            "description_width": ""
          }
        },
        "48ff44d59a074fc2970e3462e1779321": {
          "model_module": "@jupyter-widgets/controls",
          "model_name": "HBoxModel",
          "model_module_version": "1.5.0",
          "state": {
            "_dom_classes": [],
            "_model_module": "@jupyter-widgets/controls",
            "_model_module_version": "1.5.0",
            "_model_name": "HBoxModel",
            "_view_count": null,
            "_view_module": "@jupyter-widgets/controls",
            "_view_module_version": "1.5.0",
            "_view_name": "HBoxView",
            "box_style": "",
            "children": [
              "IPY_MODEL_e7967902e58b48d38a1dc73408857e4b",
              "IPY_MODEL_53e436e3a8b44f63b149fabf1e64d2c5",
              "IPY_MODEL_818ae78fd0154387a09b1453f761994e"
            ],
            "layout": "IPY_MODEL_534cbc4eea3046e1a9fe1e98756ccfa1"
          }
        },
        "e7967902e58b48d38a1dc73408857e4b": {
          "model_module": "@jupyter-widgets/controls",
          "model_name": "HTMLModel",
          "model_module_version": "1.5.0",
          "state": {
            "_dom_classes": [],
            "_model_module": "@jupyter-widgets/controls",
            "_model_module_version": "1.5.0",
            "_model_name": "HTMLModel",
            "_view_count": null,
            "_view_module": "@jupyter-widgets/controls",
            "_view_module_version": "1.5.0",
            "_view_name": "HTMLView",
            "description": "",
            "description_tooltip": null,
            "layout": "IPY_MODEL_27967308f456456eaf2d3ec4a80409bb",
            "placeholder": "​",
            "style": "IPY_MODEL_3df0e8a04d5d494f926b1c0e9efffe55",
            "value": "100%"
          }
        },
        "53e436e3a8b44f63b149fabf1e64d2c5": {
          "model_module": "@jupyter-widgets/controls",
          "model_name": "FloatProgressModel",
          "model_module_version": "1.5.0",
          "state": {
            "_dom_classes": [],
            "_model_module": "@jupyter-widgets/controls",
            "_model_module_version": "1.5.0",
            "_model_name": "FloatProgressModel",
            "_view_count": null,
            "_view_module": "@jupyter-widgets/controls",
            "_view_module_version": "1.5.0",
            "_view_name": "ProgressView",
            "bar_style": "success",
            "description": "",
            "description_tooltip": null,
            "layout": "IPY_MODEL_a4f1bbc8f5174d8c8da08337549c1631",
            "max": 93,
            "min": 0,
            "orientation": "horizontal",
            "style": "IPY_MODEL_822dafe14f2d48e5b2c84533201ca106",
            "value": 93
          }
        },
        "818ae78fd0154387a09b1453f761994e": {
          "model_module": "@jupyter-widgets/controls",
          "model_name": "HTMLModel",
          "model_module_version": "1.5.0",
          "state": {
            "_dom_classes": [],
            "_model_module": "@jupyter-widgets/controls",
            "_model_module_version": "1.5.0",
            "_model_name": "HTMLModel",
            "_view_count": null,
            "_view_module": "@jupyter-widgets/controls",
            "_view_module_version": "1.5.0",
            "_view_name": "HTMLView",
            "description": "",
            "description_tooltip": null,
            "layout": "IPY_MODEL_b16a52b220264444b7a5315529956bb2",
            "placeholder": "​",
            "style": "IPY_MODEL_0ac6fb540d284faba79002dc52abc020",
            "value": " 93/93 [00:04&lt;00:00, 22.67it/s]"
          }
        },
        "534cbc4eea3046e1a9fe1e98756ccfa1": {
          "model_module": "@jupyter-widgets/base",
          "model_name": "LayoutModel",
          "model_module_version": "1.2.0",
          "state": {
            "_model_module": "@jupyter-widgets/base",
            "_model_module_version": "1.2.0",
            "_model_name": "LayoutModel",
            "_view_count": null,
            "_view_module": "@jupyter-widgets/base",
            "_view_module_version": "1.2.0",
            "_view_name": "LayoutView",
            "align_content": null,
            "align_items": null,
            "align_self": null,
            "border": null,
            "bottom": null,
            "display": null,
            "flex": null,
            "flex_flow": null,
            "grid_area": null,
            "grid_auto_columns": null,
            "grid_auto_flow": null,
            "grid_auto_rows": null,
            "grid_column": null,
            "grid_gap": null,
            "grid_row": null,
            "grid_template_areas": null,
            "grid_template_columns": null,
            "grid_template_rows": null,
            "height": null,
            "justify_content": null,
            "justify_items": null,
            "left": null,
            "margin": null,
            "max_height": null,
            "max_width": null,
            "min_height": null,
            "min_width": null,
            "object_fit": null,
            "object_position": null,
            "order": null,
            "overflow": null,
            "overflow_x": null,
            "overflow_y": null,
            "padding": null,
            "right": null,
            "top": null,
            "visibility": null,
            "width": null
          }
        },
        "27967308f456456eaf2d3ec4a80409bb": {
          "model_module": "@jupyter-widgets/base",
          "model_name": "LayoutModel",
          "model_module_version": "1.2.0",
          "state": {
            "_model_module": "@jupyter-widgets/base",
            "_model_module_version": "1.2.0",
            "_model_name": "LayoutModel",
            "_view_count": null,
            "_view_module": "@jupyter-widgets/base",
            "_view_module_version": "1.2.0",
            "_view_name": "LayoutView",
            "align_content": null,
            "align_items": null,
            "align_self": null,
            "border": null,
            "bottom": null,
            "display": null,
            "flex": null,
            "flex_flow": null,
            "grid_area": null,
            "grid_auto_columns": null,
            "grid_auto_flow": null,
            "grid_auto_rows": null,
            "grid_column": null,
            "grid_gap": null,
            "grid_row": null,
            "grid_template_areas": null,
            "grid_template_columns": null,
            "grid_template_rows": null,
            "height": null,
            "justify_content": null,
            "justify_items": null,
            "left": null,
            "margin": null,
            "max_height": null,
            "max_width": null,
            "min_height": null,
            "min_width": null,
            "object_fit": null,
            "object_position": null,
            "order": null,
            "overflow": null,
            "overflow_x": null,
            "overflow_y": null,
            "padding": null,
            "right": null,
            "top": null,
            "visibility": null,
            "width": null
          }
        },
        "3df0e8a04d5d494f926b1c0e9efffe55": {
          "model_module": "@jupyter-widgets/controls",
          "model_name": "DescriptionStyleModel",
          "model_module_version": "1.5.0",
          "state": {
            "_model_module": "@jupyter-widgets/controls",
            "_model_module_version": "1.5.0",
            "_model_name": "DescriptionStyleModel",
            "_view_count": null,
            "_view_module": "@jupyter-widgets/base",
            "_view_module_version": "1.2.0",
            "_view_name": "StyleView",
            "description_width": ""
          }
        },
        "a4f1bbc8f5174d8c8da08337549c1631": {
          "model_module": "@jupyter-widgets/base",
          "model_name": "LayoutModel",
          "model_module_version": "1.2.0",
          "state": {
            "_model_module": "@jupyter-widgets/base",
            "_model_module_version": "1.2.0",
            "_model_name": "LayoutModel",
            "_view_count": null,
            "_view_module": "@jupyter-widgets/base",
            "_view_module_version": "1.2.0",
            "_view_name": "LayoutView",
            "align_content": null,
            "align_items": null,
            "align_self": null,
            "border": null,
            "bottom": null,
            "display": null,
            "flex": null,
            "flex_flow": null,
            "grid_area": null,
            "grid_auto_columns": null,
            "grid_auto_flow": null,
            "grid_auto_rows": null,
            "grid_column": null,
            "grid_gap": null,
            "grid_row": null,
            "grid_template_areas": null,
            "grid_template_columns": null,
            "grid_template_rows": null,
            "height": null,
            "justify_content": null,
            "justify_items": null,
            "left": null,
            "margin": null,
            "max_height": null,
            "max_width": null,
            "min_height": null,
            "min_width": null,
            "object_fit": null,
            "object_position": null,
            "order": null,
            "overflow": null,
            "overflow_x": null,
            "overflow_y": null,
            "padding": null,
            "right": null,
            "top": null,
            "visibility": null,
            "width": null
          }
        },
        "822dafe14f2d48e5b2c84533201ca106": {
          "model_module": "@jupyter-widgets/controls",
          "model_name": "ProgressStyleModel",
          "model_module_version": "1.5.0",
          "state": {
            "_model_module": "@jupyter-widgets/controls",
            "_model_module_version": "1.5.0",
            "_model_name": "ProgressStyleModel",
            "_view_count": null,
            "_view_module": "@jupyter-widgets/base",
            "_view_module_version": "1.2.0",
            "_view_name": "StyleView",
            "bar_color": null,
            "description_width": ""
          }
        },
        "b16a52b220264444b7a5315529956bb2": {
          "model_module": "@jupyter-widgets/base",
          "model_name": "LayoutModel",
          "model_module_version": "1.2.0",
          "state": {
            "_model_module": "@jupyter-widgets/base",
            "_model_module_version": "1.2.0",
            "_model_name": "LayoutModel",
            "_view_count": null,
            "_view_module": "@jupyter-widgets/base",
            "_view_module_version": "1.2.0",
            "_view_name": "LayoutView",
            "align_content": null,
            "align_items": null,
            "align_self": null,
            "border": null,
            "bottom": null,
            "display": null,
            "flex": null,
            "flex_flow": null,
            "grid_area": null,
            "grid_auto_columns": null,
            "grid_auto_flow": null,
            "grid_auto_rows": null,
            "grid_column": null,
            "grid_gap": null,
            "grid_row": null,
            "grid_template_areas": null,
            "grid_template_columns": null,
            "grid_template_rows": null,
            "height": null,
            "justify_content": null,
            "justify_items": null,
            "left": null,
            "margin": null,
            "max_height": null,
            "max_width": null,
            "min_height": null,
            "min_width": null,
            "object_fit": null,
            "object_position": null,
            "order": null,
            "overflow": null,
            "overflow_x": null,
            "overflow_y": null,
            "padding": null,
            "right": null,
            "top": null,
            "visibility": null,
            "width": null
          }
        },
        "0ac6fb540d284faba79002dc52abc020": {
          "model_module": "@jupyter-widgets/controls",
          "model_name": "DescriptionStyleModel",
          "model_module_version": "1.5.0",
          "state": {
            "_model_module": "@jupyter-widgets/controls",
            "_model_module_version": "1.5.0",
            "_model_name": "DescriptionStyleModel",
            "_view_count": null,
            "_view_module": "@jupyter-widgets/base",
            "_view_module_version": "1.2.0",
            "_view_name": "StyleView",
            "description_width": ""
          }
        },
        "d675055189dd4bcb9a5332714cbd3830": {
          "model_module": "@jupyter-widgets/controls",
          "model_name": "HBoxModel",
          "model_module_version": "1.5.0",
          "state": {
            "_dom_classes": [],
            "_model_module": "@jupyter-widgets/controls",
            "_model_module_version": "1.5.0",
            "_model_name": "HBoxModel",
            "_view_count": null,
            "_view_module": "@jupyter-widgets/controls",
            "_view_module_version": "1.5.0",
            "_view_name": "HBoxView",
            "box_style": "",
            "children": [
              "IPY_MODEL_d8749918a8794a75abbc2fc30c9a630b",
              "IPY_MODEL_b1a6aa1761264b35b9ad3e70e4f879e9",
              "IPY_MODEL_e471d581346e4215a6c708c65915453b"
            ],
            "layout": "IPY_MODEL_80a09ba2c65d4dc5912d2a00c1de01ca"
          }
        },
        "d8749918a8794a75abbc2fc30c9a630b": {
          "model_module": "@jupyter-widgets/controls",
          "model_name": "HTMLModel",
          "model_module_version": "1.5.0",
          "state": {
            "_dom_classes": [],
            "_model_module": "@jupyter-widgets/controls",
            "_model_module_version": "1.5.0",
            "_model_name": "HTMLModel",
            "_view_count": null,
            "_view_module": "@jupyter-widgets/controls",
            "_view_module_version": "1.5.0",
            "_view_name": "HTMLView",
            "description": "",
            "description_tooltip": null,
            "layout": "IPY_MODEL_2caa9535717640c98d57b4770f96ae21",
            "placeholder": "​",
            "style": "IPY_MODEL_45718a27698b4978ad8d94a8775cb10d",
            "value": "100%"
          }
        },
        "b1a6aa1761264b35b9ad3e70e4f879e9": {
          "model_module": "@jupyter-widgets/controls",
          "model_name": "FloatProgressModel",
          "model_module_version": "1.5.0",
          "state": {
            "_dom_classes": [],
            "_model_module": "@jupyter-widgets/controls",
            "_model_module_version": "1.5.0",
            "_model_name": "FloatProgressModel",
            "_view_count": null,
            "_view_module": "@jupyter-widgets/controls",
            "_view_module_version": "1.5.0",
            "_view_name": "ProgressView",
            "bar_style": "success",
            "description": "",
            "description_tooltip": null,
            "layout": "IPY_MODEL_9d1f566359ea46a9a00dac0714479c7f",
            "max": 357,
            "min": 0,
            "orientation": "horizontal",
            "style": "IPY_MODEL_6f04f5fba2814aa68e7d5d8c4c215023",
            "value": 357
          }
        },
        "e471d581346e4215a6c708c65915453b": {
          "model_module": "@jupyter-widgets/controls",
          "model_name": "HTMLModel",
          "model_module_version": "1.5.0",
          "state": {
            "_dom_classes": [],
            "_model_module": "@jupyter-widgets/controls",
            "_model_module_version": "1.5.0",
            "_model_name": "HTMLModel",
            "_view_count": null,
            "_view_module": "@jupyter-widgets/controls",
            "_view_module_version": "1.5.0",
            "_view_name": "HTMLView",
            "description": "",
            "description_tooltip": null,
            "layout": "IPY_MODEL_e093835e1b104e629850e6291b3e8f63",
            "placeholder": "​",
            "style": "IPY_MODEL_5db333fca3b648d49d0d571fdd0d6fce",
            "value": " 357/357 [00:13&lt;00:00, 26.39it/s]"
          }
        },
        "80a09ba2c65d4dc5912d2a00c1de01ca": {
          "model_module": "@jupyter-widgets/base",
          "model_name": "LayoutModel",
          "model_module_version": "1.2.0",
          "state": {
            "_model_module": "@jupyter-widgets/base",
            "_model_module_version": "1.2.0",
            "_model_name": "LayoutModel",
            "_view_count": null,
            "_view_module": "@jupyter-widgets/base",
            "_view_module_version": "1.2.0",
            "_view_name": "LayoutView",
            "align_content": null,
            "align_items": null,
            "align_self": null,
            "border": null,
            "bottom": null,
            "display": null,
            "flex": null,
            "flex_flow": null,
            "grid_area": null,
            "grid_auto_columns": null,
            "grid_auto_flow": null,
            "grid_auto_rows": null,
            "grid_column": null,
            "grid_gap": null,
            "grid_row": null,
            "grid_template_areas": null,
            "grid_template_columns": null,
            "grid_template_rows": null,
            "height": null,
            "justify_content": null,
            "justify_items": null,
            "left": null,
            "margin": null,
            "max_height": null,
            "max_width": null,
            "min_height": null,
            "min_width": null,
            "object_fit": null,
            "object_position": null,
            "order": null,
            "overflow": null,
            "overflow_x": null,
            "overflow_y": null,
            "padding": null,
            "right": null,
            "top": null,
            "visibility": null,
            "width": null
          }
        },
        "2caa9535717640c98d57b4770f96ae21": {
          "model_module": "@jupyter-widgets/base",
          "model_name": "LayoutModel",
          "model_module_version": "1.2.0",
          "state": {
            "_model_module": "@jupyter-widgets/base",
            "_model_module_version": "1.2.0",
            "_model_name": "LayoutModel",
            "_view_count": null,
            "_view_module": "@jupyter-widgets/base",
            "_view_module_version": "1.2.0",
            "_view_name": "LayoutView",
            "align_content": null,
            "align_items": null,
            "align_self": null,
            "border": null,
            "bottom": null,
            "display": null,
            "flex": null,
            "flex_flow": null,
            "grid_area": null,
            "grid_auto_columns": null,
            "grid_auto_flow": null,
            "grid_auto_rows": null,
            "grid_column": null,
            "grid_gap": null,
            "grid_row": null,
            "grid_template_areas": null,
            "grid_template_columns": null,
            "grid_template_rows": null,
            "height": null,
            "justify_content": null,
            "justify_items": null,
            "left": null,
            "margin": null,
            "max_height": null,
            "max_width": null,
            "min_height": null,
            "min_width": null,
            "object_fit": null,
            "object_position": null,
            "order": null,
            "overflow": null,
            "overflow_x": null,
            "overflow_y": null,
            "padding": null,
            "right": null,
            "top": null,
            "visibility": null,
            "width": null
          }
        },
        "45718a27698b4978ad8d94a8775cb10d": {
          "model_module": "@jupyter-widgets/controls",
          "model_name": "DescriptionStyleModel",
          "model_module_version": "1.5.0",
          "state": {
            "_model_module": "@jupyter-widgets/controls",
            "_model_module_version": "1.5.0",
            "_model_name": "DescriptionStyleModel",
            "_view_count": null,
            "_view_module": "@jupyter-widgets/base",
            "_view_module_version": "1.2.0",
            "_view_name": "StyleView",
            "description_width": ""
          }
        },
        "9d1f566359ea46a9a00dac0714479c7f": {
          "model_module": "@jupyter-widgets/base",
          "model_name": "LayoutModel",
          "model_module_version": "1.2.0",
          "state": {
            "_model_module": "@jupyter-widgets/base",
            "_model_module_version": "1.2.0",
            "_model_name": "LayoutModel",
            "_view_count": null,
            "_view_module": "@jupyter-widgets/base",
            "_view_module_version": "1.2.0",
            "_view_name": "LayoutView",
            "align_content": null,
            "align_items": null,
            "align_self": null,
            "border": null,
            "bottom": null,
            "display": null,
            "flex": null,
            "flex_flow": null,
            "grid_area": null,
            "grid_auto_columns": null,
            "grid_auto_flow": null,
            "grid_auto_rows": null,
            "grid_column": null,
            "grid_gap": null,
            "grid_row": null,
            "grid_template_areas": null,
            "grid_template_columns": null,
            "grid_template_rows": null,
            "height": null,
            "justify_content": null,
            "justify_items": null,
            "left": null,
            "margin": null,
            "max_height": null,
            "max_width": null,
            "min_height": null,
            "min_width": null,
            "object_fit": null,
            "object_position": null,
            "order": null,
            "overflow": null,
            "overflow_x": null,
            "overflow_y": null,
            "padding": null,
            "right": null,
            "top": null,
            "visibility": null,
            "width": null
          }
        },
        "6f04f5fba2814aa68e7d5d8c4c215023": {
          "model_module": "@jupyter-widgets/controls",
          "model_name": "ProgressStyleModel",
          "model_module_version": "1.5.0",
          "state": {
            "_model_module": "@jupyter-widgets/controls",
            "_model_module_version": "1.5.0",
            "_model_name": "ProgressStyleModel",
            "_view_count": null,
            "_view_module": "@jupyter-widgets/base",
            "_view_module_version": "1.2.0",
            "_view_name": "StyleView",
            "bar_color": null,
            "description_width": ""
          }
        },
        "e093835e1b104e629850e6291b3e8f63": {
          "model_module": "@jupyter-widgets/base",
          "model_name": "LayoutModel",
          "model_module_version": "1.2.0",
          "state": {
            "_model_module": "@jupyter-widgets/base",
            "_model_module_version": "1.2.0",
            "_model_name": "LayoutModel",
            "_view_count": null,
            "_view_module": "@jupyter-widgets/base",
            "_view_module_version": "1.2.0",
            "_view_name": "LayoutView",
            "align_content": null,
            "align_items": null,
            "align_self": null,
            "border": null,
            "bottom": null,
            "display": null,
            "flex": null,
            "flex_flow": null,
            "grid_area": null,
            "grid_auto_columns": null,
            "grid_auto_flow": null,
            "grid_auto_rows": null,
            "grid_column": null,
            "grid_gap": null,
            "grid_row": null,
            "grid_template_areas": null,
            "grid_template_columns": null,
            "grid_template_rows": null,
            "height": null,
            "justify_content": null,
            "justify_items": null,
            "left": null,
            "margin": null,
            "max_height": null,
            "max_width": null,
            "min_height": null,
            "min_width": null,
            "object_fit": null,
            "object_position": null,
            "order": null,
            "overflow": null,
            "overflow_x": null,
            "overflow_y": null,
            "padding": null,
            "right": null,
            "top": null,
            "visibility": null,
            "width": null
          }
        },
        "5db333fca3b648d49d0d571fdd0d6fce": {
          "model_module": "@jupyter-widgets/controls",
          "model_name": "DescriptionStyleModel",
          "model_module_version": "1.5.0",
          "state": {
            "_model_module": "@jupyter-widgets/controls",
            "_model_module_version": "1.5.0",
            "_model_name": "DescriptionStyleModel",
            "_view_count": null,
            "_view_module": "@jupyter-widgets/base",
            "_view_module_version": "1.2.0",
            "_view_name": "StyleView",
            "description_width": ""
          }
        }
      }
    }
  },
  "cells": [
    {
      "cell_type": "code",
      "execution_count": 1,
      "metadata": {
        "colab": {
          "base_uri": "https://localhost:8080/"
        },
        "id": "z-3O_CSy0kbu",
        "outputId": "513374bc-779d-4e0f-ef49-f57a9ed64fe8"
      },
      "outputs": [
        {
          "output_type": "stream",
          "name": "stdout",
          "text": [
            "Mounted at /content/drive\n"
          ]
        }
      ],
      "source": [
        "from google.colab import drive\n",
        "drive.mount('/content/drive',force_remount=True)\n",
        "import sys \n",
        "installation_path = \"/content/drive/MyDrive/Colab_Installations_V2\"\n",
        "# The path is being modified so that everything installed in the installation path can now be used without re-installing (in this case, I just need biopython)\n",
        "sys.path.append(installation_path)\n",
        "protein_mpnn_path = \"/content/drive/MyDrive/Protein_MPNN_Digging/ProteinMPNN/vanilla_proteinmpnn\"\n",
        "sys.path.insert(0,protein_mpnn_path)"
      ]
    },
    {
      "cell_type": "code",
      "source": [
        "%cd /content/drive/MyDrive/Protein_MPNN_Digging"
      ],
      "metadata": {
        "colab": {
          "base_uri": "https://localhost:8080/"
        },
        "id": "TNgSmOLs1JNK",
        "outputId": "54ade63a-9ca3-425d-9349-43c031a7b62f"
      },
      "execution_count": 2,
      "outputs": [
        {
          "output_type": "stream",
          "name": "stdout",
          "text": [
            "/content/drive/MyDrive/Protein_MPNN_Digging\n"
          ]
        }
      ]
    },
    {
      "cell_type": "code",
      "source": [
        "import numpy as np\n",
        "import pickle\n",
        "import os\n",
        "from tqdm.notebook import tqdm\n",
        "from Bio.PDB.Polypeptide import *\n",
        "from Bio.PDB import *\n",
        "import random"
      ],
      "metadata": {
        "id": "QunB2AQp1Phc"
      },
      "execution_count": 460,
      "outputs": []
    },
    {
      "cell_type": "code",
      "source": [
        "from sklearn.linear_model import LinearRegression\n",
        "from sklearn.linear_model import Ridge\n",
        "from sklearn.linear_model import Lasso\n",
        "from sklearn.ensemble import RandomForestRegressor\n",
        "# from sklearn.linear_model import Ridge\n",
        "from scipy.stats import entropy\n",
        "from scipy.special import softmax\n",
        "from scipy.special import kl_div\n",
        "from scipy.stats import pearsonr\n",
        "from sklearn.svm import SVR\n",
        "from sklearn.preprocessing import Normalizer\n",
        "from sklearn.ensemble import GradientBoostingRegressor"
      ],
      "metadata": {
        "id": "RznMX4ZbCSC5"
      },
      "execution_count": 134,
      "outputs": []
    },
    {
      "cell_type": "code",
      "source": [
        "with open(\"S_2648_full_feature_dict.pickle\",\"rb\") as f:\n",
        "    S_2648_two_level_dict = pickle.load(f)\n",
        "with open(\"S_921_full_feature_dict.pickle\",\"rb\") as f:\n",
        "    S_921_two_level_dict = pickle.load(f)\n",
        "with open(\"S_669_full_feature_dict.pickle\",\"rb\") as f:\n",
        "    S_669_two_level_dict = pickle.load(f)\n",
        "with open(\"Ssym_full_feature_dict.pickle\",\"rb\") as f:\n",
        "    Ssym_two_level_dict = pickle.load(f)"
      ],
      "metadata": {
        "id": "1xXiKO7O1U-e"
      },
      "execution_count": 11,
      "outputs": []
    },
    {
      "cell_type": "code",
      "source": [
        "list_two_level_dict = [S_2648_two_level_dict,S_921_two_level_dict,S_669_two_level_dict,Ssym_two_level_dict]\n",
        "list_dataset_names = [\"S_2648\",\"S_921\",\"S_669\",\"Ssym\"]"
      ],
      "metadata": {
        "id": "16wtwdw139yY"
      },
      "execution_count": 12,
      "outputs": []
    },
    {
      "cell_type": "code",
      "source": [
        "list_mapping_dict = []\n",
        "list_proteins_to_skip = []\n",
        "\n",
        "for name in list_dataset_names:\n",
        "    mapping_dict = {}\n",
        "    pdbDirectory = f\"/content/drive/MyDrive/ACCRE_PyRun_Setup/{name}_PDB_Files\"\n",
        "    parser = PDBParser(QUIET=True)\n",
        "    # some proteins need to be skipped for now due to ICODE related discrapency\n",
        "    proteins_to_skip = []\n",
        "\n",
        "    for filename in tqdm(os.listdir(pdbDirectory)):\n",
        "        filepath = os.path.join(pdbDirectory,filename)\n",
        "        structure = parser.get_structure(id=filename.split(\".\")[0],file=filepath)\n",
        "        model = structure[0]\n",
        "        inner_dict = {}\n",
        "        outer_key = filename.split(\".\")[0]\n",
        "        skip_flag = False\n",
        "        # single chain-assumption in action again\n",
        "        for chain in model:\n",
        "            for i,residue in enumerate(chain):\n",
        "                inner_key = f\"{three_to_one(residue.get_resname())}{residue.get_id()[1]}\"\n",
        "                if inner_key not in inner_dict:\n",
        "                    inner_dict[inner_key] = i\n",
        "                else:\n",
        "                    # For \"2immA:N31\" and \"1lveA:S27\", I have been fucked\n",
        "                    # Need to think whether this will effect other positions or I can just avoid these two-protein related mutations for now?\n",
        "                    # Let me just avoid these two proteins for now\n",
        "                    print(\"YOU HAVE JUST BEEN FUCKED BY ICODE\")\n",
        "                    print(f\"{outer_key}:{inner_key}\")\n",
        "                    skip_flag = True\n",
        "        # The ICODE related problematic proteins will not be considered for now\n",
        "        if not skip_flag:\n",
        "            mapping_dict[outer_key] = inner_dict\n",
        "        else:\n",
        "            proteins_to_skip.append(outer_key)\n",
        "    list_proteins_to_skip.append(proteins_to_skip)\n",
        "    list_mapping_dict.append(mapping_dict)"
      ],
      "metadata": {
        "colab": {
          "base_uri": "https://localhost:8080/",
          "height": 281,
          "referenced_widgets": [
            "446ed9294f60478ebc162da3f9924cb1",
            "0eb853c96e3a4874944816bad9d6c20c",
            "63eb6c94b1dd461fa631a843df1721c2",
            "e8465bd311f0493d93ccf382d55344e3",
            "dd497dc55b2346209f21c6b1894ca85d",
            "ab31b07952f84b26a573228e89a35f4e",
            "fb5c9866d1944a8caae0dd6ad35315d2",
            "477b6e07f163490e8dc58dbdbca71ba1",
            "b16e82306683443c854699a02a83a48c",
            "cce669e2da314930bc734e7a2cd19c63",
            "0b3ee52dba8d405db02030d67539dc94",
            "aa333143f50841ef9b5b925226c97e4d",
            "894388a76a7a4dcab25073302646d501",
            "07df9bb913ca454cb908837a745d1f29",
            "69304ddc8a7542428a832b046b1fa04b",
            "786db8a2fe3546b4b04293a7f10c3011",
            "233bfa6b18cc44d99395b5ffd5c94335",
            "90e2498e5f7e45a19be74caa94124677",
            "e1e7a652e28c49c7ab88310e0bdf8621",
            "e9cfb6abb33045bf889bdc0f7e60f419",
            "38c7cc2a4bd84c4c879408697b081d6d",
            "fafb227073144f8dafd590d4202aa078",
            "48ff44d59a074fc2970e3462e1779321",
            "e7967902e58b48d38a1dc73408857e4b",
            "53e436e3a8b44f63b149fabf1e64d2c5",
            "818ae78fd0154387a09b1453f761994e",
            "534cbc4eea3046e1a9fe1e98756ccfa1",
            "27967308f456456eaf2d3ec4a80409bb",
            "3df0e8a04d5d494f926b1c0e9efffe55",
            "a4f1bbc8f5174d8c8da08337549c1631",
            "822dafe14f2d48e5b2c84533201ca106",
            "b16a52b220264444b7a5315529956bb2",
            "0ac6fb540d284faba79002dc52abc020",
            "d675055189dd4bcb9a5332714cbd3830",
            "d8749918a8794a75abbc2fc30c9a630b",
            "b1a6aa1761264b35b9ad3e70e4f879e9",
            "e471d581346e4215a6c708c65915453b",
            "80a09ba2c65d4dc5912d2a00c1de01ca",
            "2caa9535717640c98d57b4770f96ae21",
            "45718a27698b4978ad8d94a8775cb10d",
            "9d1f566359ea46a9a00dac0714479c7f",
            "6f04f5fba2814aa68e7d5d8c4c215023",
            "e093835e1b104e629850e6291b3e8f63",
            "5db333fca3b648d49d0d571fdd0d6fce"
          ]
        },
        "id": "_w7Ufm7t3mR-",
        "outputId": "74b397c1-ab2f-4d0f-beb9-70af1b9f6d10"
      },
      "execution_count": 13,
      "outputs": [
        {
          "output_type": "display_data",
          "data": {
            "text/plain": [
              "  0%|          | 0/131 [00:00<?, ?it/s]"
            ],
            "application/vnd.jupyter.widget-view+json": {
              "version_major": 2,
              "version_minor": 0,
              "model_id": "446ed9294f60478ebc162da3f9924cb1"
            }
          },
          "metadata": {}
        },
        {
          "output_type": "stream",
          "name": "stdout",
          "text": [
            "YOU HAVE JUST BEEN FUCKED BY ICODE\n",
            "1lveA:S27\n",
            "YOU HAVE JUST BEEN FUCKED BY ICODE\n",
            "1lveA:S27\n",
            "YOU HAVE JUST BEEN FUCKED BY ICODE\n",
            "2immA:N31\n",
            "YOU HAVE JUST BEEN FUCKED BY ICODE\n",
            "2immA:N31\n"
          ]
        },
        {
          "output_type": "display_data",
          "data": {
            "text/plain": [
              "  0%|          | 0/195 [00:00<?, ?it/s]"
            ],
            "application/vnd.jupyter.widget-view+json": {
              "version_major": 2,
              "version_minor": 0,
              "model_id": "aa333143f50841ef9b5b925226c97e4d"
            }
          },
          "metadata": {}
        },
        {
          "output_type": "display_data",
          "data": {
            "text/plain": [
              "  0%|          | 0/93 [00:00<?, ?it/s]"
            ],
            "application/vnd.jupyter.widget-view+json": {
              "version_major": 2,
              "version_minor": 0,
              "model_id": "48ff44d59a074fc2970e3462e1779321"
            }
          },
          "metadata": {}
        },
        {
          "output_type": "display_data",
          "data": {
            "text/plain": [
              "  0%|          | 0/357 [00:00<?, ?it/s]"
            ],
            "application/vnd.jupyter.widget-view+json": {
              "version_major": 2,
              "version_minor": 0,
              "model_id": "d675055189dd4bcb9a5332714cbd3830"
            }
          },
          "metadata": {}
        }
      ]
    },
    {
      "cell_type": "code",
      "source": [
        "# Create the six numpy arrays here, and then perform training on the next cell\n",
        "X_2648 = []\n",
        "y_2648 = []\n",
        "X_921 = []\n",
        "y_921 = []\n",
        "X_669 = []\n",
        "y_669 = []\n",
        "X_Ssym = []\n",
        "y_Ssym = []\n",
        "\n",
        "# This list will correspond to the \"list_mapping_dict,list_dataset_names,list_two_level_dict,list_proteins_to_skip\" lists in the above cells, \n",
        "# and hold (X,y) tuples corresponding to the three datasets in the same order as those lists\n",
        "# currently, I intend to train, and test the model on \"mut_wild_predictions\",\"entropy_predictions\", \"neighbor_energy_change_predictions\", \"neighbor_forward_KL_predictions\", \n",
        "# and \"neighbor_backward_KL_predictions\" \n",
        "# fourth and fifth features can probably be reduced to one feature by (0.5*fourth_feature+0.5*fifth_feature) since both of them are extremely correlated\n",
        "list_X = [X_2648,X_921,X_669,X_Ssym]\n",
        "list_y = [y_2648,y_921,y_669,y_Ssym]\n",
        "\n",
        "#######\n",
        "alpha_tok = \"ACDEFGHIKLMNPQRSTVWYX\"\n",
        "aa_1_N = {a:n for n,a in enumerate(alpha_tok)}\n",
        "for X,y,two_level_dict,mapping_dict,proteins_to_skip in zip(list_X,list_y,list_two_level_dict,list_mapping_dict,list_proteins_to_skip):\n",
        "    for prot,muts in two_level_dict.items():\n",
        "        if prot not in proteins_to_skip:\n",
        "            try:\n",
        "                cur_map_dict = mapping_dict[prot]\n",
        "            except:\n",
        "                continue\n",
        "            for mut in muts:\n",
        "                # adding the label to \"y\" at first\n",
        "                y.append(mut[\"ddg\"])\n",
        "\n",
        "                # This \"cur_X\" will hold the features for the current mutation under-processing in the current inner loop iteration\n",
        "                cur_X = []\n",
        "                \n",
        "                ### first feature addition (mutation position energy-change)\n",
        "                center_mut_wild_energy = mut[\"center_mut_wild_energy\"]\n",
        "                cur_X.append(center_mut_wild_energy)\n",
        "                ### first feature addition\n",
        "                \n",
        "                ### second feature addition (mutation position entropy)\n",
        "                center_entropy = mut[\"center_entropy\"]\n",
        "                cur_X.append(center_entropy)\n",
        "                ### second feature addition\n",
        "\n",
        "                ### third feature addition (neighbor wildtype energy-change due to mutation)\n",
        "                weighted_neighbor_energy_changes = mut[\"V2_backward_weighted_neighbor_energy_changes\"]\n",
        "                cur_X.append(weighted_neighbor_energy_changes)\n",
        "                ### third feature addition\n",
        "\n",
        "                ### fourth feature addition (forward KL of neighbors due to mutation at center)\n",
        "                weighted_neighbor_forward_KL = mut[\"weighted_neighbor_forward_KL\"]\n",
        "                cur_X.append(weighted_neighbor_forward_KL)\n",
        "                ### fourth feature addition\n",
        "\n",
        "                ### fifth feature addition (backward KL of neighbors due to mutation at center)\n",
        "                weighted_neighbor_backward_KL = mut[\"V2_backward_weighted_neighbor_backward_KL\"]\n",
        "                cur_X.append(weighted_neighbor_backward_KL)\n",
        "                ### fifth feature addition\n",
        "\n",
        "                ### sixth feature(PSSM features) addition\n",
        "                pssm_feature = mut[\"wild_pssm\"]-mut[\"alternate_pssm\"]\n",
        "                cur_X.append(pssm_feature)\n",
        "                ### adding the two PSSM features\n",
        "\n",
        "                ### seventh feature addition (entropy-change of neighbors due to mutation at center)\n",
        "                weighted_neighbor_entropy_changes = mut[\"V2_backward_weighted_neighbor_entropy_changes\"]\n",
        "                cur_X.append(weighted_neighbor_entropy_changes)\n",
        "                ### seventh feature addition \n",
        "\n",
        "                ### eigth feature addition (w/m attention change)\n",
        "                center_neighbor_weight_check_w_m = mut[\"center_neighbor_weight_check_w_m\"]\n",
        "                cur_X.append(center_neighbor_weight_check_w_m)\n",
        "                ### eigth feature addition \n",
        "\n",
        "                X.append(np.array(cur_X))"
      ],
      "metadata": {
        "id": "srnDpZEeCNAX"
      },
      "execution_count": 157,
      "outputs": []
    },
    {
      "cell_type": "code",
      "source": [
        "S_2648_X = np.array(list_X[0])\n",
        "S_2648_y = np.array(list_y[0])\n",
        "S_921_X = np.array(list_X[1])\n",
        "S_921_y = np.array(list_y[1])\n",
        "S_669_X = np.array(list_X[2])\n",
        "S_669_y = np.array(list_y[2])\n",
        "# Flipping the signs of the experimental DDG values in S_669_y to get coherent correlations (positive and higher is better)\n",
        "S_669_y = S_669_y * (-1)\n",
        "Ssym_X = np.array(list_X[3])\n",
        "Ssym_y = np.array(list_y[3])"
      ],
      "metadata": {
        "id": "lbpD9XARa6Kb"
      },
      "execution_count": 158,
      "outputs": []
    },
    {
      "cell_type": "code",
      "source": [
        "print(\"S_921 single-feature correlations at a glance\")\n",
        "print(pearsonr(S_921_y,S_921_X[:,0]))\n",
        "print(pearsonr(S_921_y,S_921_X[:,1]))\n",
        "print(pearsonr(S_921_y,S_921_X[:,2]))\n",
        "print(pearsonr(S_921_y,S_921_X[:,3]))\n",
        "print(pearsonr(S_921_y,S_921_X[:,4]))\n",
        "print(pearsonr(S_921_y,S_921_X[:,5]))\n",
        "print(pearsonr(S_921_y,S_921_X[:,6]))\n",
        "print(\".............................................\")\n",
        "\n",
        "print(\"S_669 single-feature correlations at a glance\")\n",
        "print(pearsonr(S_669_y,S_669_X[:,0]))\n",
        "print(pearsonr(S_669_y,S_669_X[:,1]))\n",
        "print(pearsonr(S_669_y,S_669_X[:,2]))\n",
        "print(pearsonr(S_669_y,S_669_X[:,3]))\n",
        "print(pearsonr(S_669_y,S_669_X[:,4]))\n",
        "print(pearsonr(S_669_y,S_669_X[:,5]))\n",
        "print(pearsonr(S_669_y,S_669_X[:,6]))\n",
        "print(\".............................................\")\n",
        "\n",
        "print(\"S_2648 single-feature correlations at a glance\")\n",
        "print(pearsonr(S_2648_y,S_2648_X[:,0]))\n",
        "print(pearsonr(S_2648_y,S_2648_X[:,1]))\n",
        "print(pearsonr(S_2648_y,S_2648_X[:,2]))\n",
        "print(pearsonr(S_2648_y,S_2648_X[:,3]))\n",
        "print(pearsonr(S_2648_y,S_2648_X[:,4]))\n",
        "print(pearsonr(S_2648_y,S_2648_X[:,5]))\n",
        "print(pearsonr(S_2648_y,S_2648_X[:,6]))\n",
        "print(\".............................................\")\n",
        "\n",
        "print(\"Ssym single-feature correlations at a glance\")\n",
        "print(pearsonr(Ssym_y,Ssym_X[:,0]))\n",
        "print(pearsonr(Ssym_y,Ssym_X[:,1]))\n",
        "print(pearsonr(Ssym_y,Ssym_X[:,2]))\n",
        "print(pearsonr(Ssym_y,Ssym_X[:,3]))\n",
        "print(pearsonr(Ssym_y,Ssym_X[:,4]))\n",
        "print(pearsonr(Ssym_y,Ssym_X[:,5]))\n",
        "print(pearsonr(Ssym_y,Ssym_X[:,6]))\n",
        "print(\".............................................\")"
      ],
      "metadata": {
        "colab": {
          "base_uri": "https://localhost:8080/"
        },
        "id": "M3qElU26b3yL",
        "outputId": "9971f86c-f8c1-41da-845d-fe200fdce6ed"
      },
      "execution_count": 159,
      "outputs": [
        {
          "output_type": "stream",
          "name": "stdout",
          "text": [
            "S_921 single-feature correlations at a glance\n",
            "(0.6441949275101646, 4.197628384942669e-109)\n",
            "(0.2558421609543604, 3.1365846164886655e-15)\n",
            "(0.4246158386026147, 1.3026594673519176e-41)\n",
            "(0.3134337286123688, 1.9228114031719706e-22)\n",
            "(0.3823972745976371, 1.9347320512062632e-33)\n",
            "(0.5145587134119901, 2.1316560964554222e-63)\n",
            "(0.45208768082866796, 1.369524145760863e-47)\n",
            ".............................................\n",
            "S_669 single-feature correlations at a glance\n",
            "(0.33765558573837523, 1.772522028540666e-18)\n",
            "(0.26048284702580865, 2.3531867527057347e-11)\n",
            "(0.1840383857546425, 2.8761043604547314e-06)\n",
            "(0.33492161096653633, 3.4543143279502605e-18)\n",
            "(0.35931713121897724, 7.056787490196558e-21)\n",
            "(0.1760175004428737, 7.741516443498937e-06)\n",
            "(0.17517328176139838, 8.570165531743268e-06)\n",
            ".............................................\n",
            "S_2648 single-feature correlations at a glance\n",
            "(0.5046657755393072, 2.4008447333492008e-169)\n",
            "(0.3517800116434, 3.516441939464636e-77)\n",
            "(0.3021493043376491, 1.9371178527136337e-56)\n",
            "(0.21506272445083335, 8.622733497357982e-29)\n",
            "(0.24485252938100538, 4.512076931480806e-37)\n",
            "(0.2752044285125163, 9.492115203744281e-47)\n",
            "(0.3092645336746983, 3.5398896152928775e-59)\n",
            ".............................................\n",
            "Ssym single-feature correlations at a glance\n",
            "(0.5691505320825779, 9.470472056933177e-31)\n",
            "(0.37074964364691887, 1.3868840070743129e-12)\n",
            "(0.34623894609848127, 4.567065405698718e-11)\n",
            "(0.13951599035877324, 0.009785936392794304)\n",
            "(0.16690520503298148, 0.0019544364404150334)\n",
            "(0.25485992422573917, 1.7969755175311432e-06)\n",
            "(0.37782797942192164, 4.777487252593011e-13)\n",
            ".............................................\n"
          ]
        }
      ]
    },
    {
      "cell_type": "code",
      "source": [
        "# Let us try to add some reverse mutants quickly\n",
        "S_2648_X_aug = []\n",
        "S_2648_y_aug = []\n",
        "for X,y in zip(S_2648_X,S_2648_y):\n",
        "    S_2648_X_aug.append(X)\n",
        "    S_2648_X_aug.append(-1*X)\n",
        "    S_2648_y_aug.append(y)\n",
        "    S_2648_y_aug.append(-1*y)\n",
        "S_2648_X_aug = np.array(S_2648_X_aug)\n",
        "S_2648_y_aug = np.array(S_2648_y_aug)\n",
        "\n",
        "S_921_X_aug = []\n",
        "S_921_y_aug = []\n",
        "for X,y in zip(S_921_X,S_921_y):\n",
        "    S_921_X_aug.append(X)\n",
        "    S_921_X_aug.append(-1*X)\n",
        "    S_921_y_aug.append(y)\n",
        "    S_921_y_aug.append(-1*y)\n",
        "S_921_X_aug = np.array(S_921_X_aug)\n",
        "S_921_y_aug = np.array(S_921_y_aug)\n",
        "\n",
        "S_669_X_aug = []\n",
        "S_669_y_aug = []\n",
        "for X,y in zip(S_669_X,S_669_y):\n",
        "    S_669_X_aug.append(X)\n",
        "    S_669_X_aug.append(-1*X)\n",
        "    S_669_y_aug.append(y)\n",
        "    S_669_y_aug.append(-1*y)\n",
        "S_669_X_aug = np.array(S_669_X_aug)\n",
        "S_669_y_aug = np.array(S_669_y_aug)\n",
        "\n",
        "Ssym_X_aug = []\n",
        "Ssym_y_aug = []\n",
        "for X,y in zip(Ssym_X,Ssym_y):\n",
        "    Ssym_X_aug.append(X)\n",
        "    Ssym_X_aug.append(-1*X)\n",
        "    Ssym_y_aug.append(y)\n",
        "    Ssym_y_aug.append(-1*y)\n",
        "Ssym_X_aug = np.array(Ssym_X_aug)\n",
        "Ssym_y_aug = np.array(Ssym_y_aug)"
      ],
      "metadata": {
        "id": "kEUyTUizkC4E"
      },
      "execution_count": 160,
      "outputs": []
    },
    {
      "cell_type": "code",
      "source": [
        "# Now, traing linear regression on S_2648, and test on S_921 and S_669\n",
        "# the setting reg = Ridge(alpha=0.2,normalize=True).fit(S_2648_X_aug[:,[0,2,4,5]], S_2648_y_aug) seems quite good\n",
        "# Ridge(alpha=0.25,normalize=True).fit(S_2648_X_aug[:,[0,2,4,5]], S_2648_y_aug) is also good\n",
        "# Ridge(alpha=0,normalize=True) is also not bad\n",
        "# (center_mut_wild_energy,weighted_neighbor_energy_changes,weighted_neighbor_backward_KL,PSSM) seems the best combination for now\n",
        "# also, ridge with alpha=0.4 seems the best for now (specially, for S_669)\n",
        "# also, ridge with alpha=0.9, and (center_mut_wild_energy,weighted_neighbor_backward_KL,PSSM) gets the maximum for S_669 while reducing for S_sym\n",
        "reg = Ridge(alpha=0,normalize=True,max_iter=5000000).fit(S_2648_X_aug[:,[0,4,5,7]], S_2648_y_aug)\n",
        "print(pearsonr(S_2648_y,reg.predict(S_2648_X[:,[0,4,5,7]])))\n",
        "print(pearsonr(S_921_y_aug,reg.predict(S_921_X_aug[:,[0,4,5,7]])))\n",
        "print(pearsonr(S_669_y_aug,reg.predict(S_669_X_aug[:,[0,4,5,7]])))\n",
        "print(pearsonr(Ssym_y_aug,reg.predict(Ssym_X_aug[:,[0,4,5,7]])))"
      ],
      "metadata": {
        "colab": {
          "base_uri": "https://localhost:8080/"
        },
        "id": "-FZdA0Paf3KR",
        "outputId": "f7592967-a84c-48a8-937e-962d3fc6d0f9"
      },
      "execution_count": 581,
      "outputs": [
        {
          "output_type": "stream",
          "name": "stdout",
          "text": [
            "(0.5326576324947646, 5.836728581748048e-192)\n",
            "(0.7500175960777788, 0.0)\n",
            "(0.5994093570242581, 2.5920163633370395e-125)\n",
            "(0.7284501445308078, 4.03294929660826e-114)\n"
          ]
        },
        {
          "output_type": "stream",
          "name": "stderr",
          "text": [
            "/usr/local/lib/python3.7/dist-packages/sklearn/linear_model/_base.py:145: FutureWarning: 'normalize' was deprecated in version 1.0 and will be removed in 1.2.\n",
            "If you wish to scale the data, use Pipeline with a StandardScaler in a preprocessing stage. To reproduce the previous behavior:\n",
            "\n",
            "from sklearn.pipeline import make_pipeline\n",
            "\n",
            "model = make_pipeline(StandardScaler(with_mean=False), Ridge())\n",
            "\n",
            "If you wish to pass a sample_weight parameter, you need to pass it as a fit parameter to each step of the pipeline as follows:\n",
            "\n",
            "kwargs = {s[0] + '__sample_weight': sample_weight for s in model.steps}\n",
            "model.fit(X, y, **kwargs)\n",
            "\n",
            "Set parameter alpha to: original_alpha * n_samples. \n",
            "  FutureWarning,\n"
          ]
        }
      ]
    },
    {
      "cell_type": "code",
      "source": [
        "print(reg.coef_)\n",
        "print(reg.intercept_)"
      ],
      "metadata": {
        "colab": {
          "base_uri": "https://localhost:8080/"
        },
        "id": "wW8hvdhmpzUr",
        "outputId": "67bba0c3-5dce-48fe-e6ca-f29b0f095384"
      },
      "execution_count": 582,
      "outputs": [
        {
          "output_type": "stream",
          "name": "stdout",
          "text": [
            "[ 0.2857634   0.02814324  0.0360316  -0.00292185]\n",
            "0.0\n"
          ]
        }
      ]
    },
    {
      "cell_type": "code",
      "source": [
        "reg = Ridge(alpha=0,normalize=True).fit(S_2648_X_aug[:,[5,4]], S_2648_y_aug)\n",
        "print(pearsonr(S_2648_y,reg.predict(S_2648_X[:,[5,4]])))\n",
        "print(pearsonr(S_921_y_aug,reg.predict(S_921_X_aug[:,[5,4]])))\n",
        "print(pearsonr(S_669_y_aug,reg.predict(S_669_X_aug[:,[5,4]])))\n",
        "print(pearsonr(Ssym_y_aug,reg.predict(Ssym_X_aug[:,[5,4]])))"
      ],
      "metadata": {
        "colab": {
          "base_uri": "https://localhost:8080/"
        },
        "id": "XfY3d56voqJ-",
        "outputId": "20f06773-22f9-4485-9a7f-c0c2a3c26ab6"
      },
      "execution_count": 169,
      "outputs": [
        {
          "output_type": "stream",
          "name": "stdout",
          "text": [
            "(0.3435086220643936, 1.884955334183879e-73)\n",
            "(0.6675182348001198, 5.971255344221527e-238)\n",
            "(0.568828439777659, 2.800673798163286e-110)\n",
            "(0.5709084063370267, 2.060703864893141e-60)\n"
          ]
        },
        {
          "output_type": "stream",
          "name": "stderr",
          "text": [
            "/usr/local/lib/python3.7/dist-packages/sklearn/linear_model/_base.py:145: FutureWarning: 'normalize' was deprecated in version 1.0 and will be removed in 1.2.\n",
            "If you wish to scale the data, use Pipeline with a StandardScaler in a preprocessing stage. To reproduce the previous behavior:\n",
            "\n",
            "from sklearn.pipeline import make_pipeline\n",
            "\n",
            "model = make_pipeline(StandardScaler(with_mean=False), Ridge())\n",
            "\n",
            "If you wish to pass a sample_weight parameter, you need to pass it as a fit parameter to each step of the pipeline as follows:\n",
            "\n",
            "kwargs = {s[0] + '__sample_weight': sample_weight for s in model.steps}\n",
            "model.fit(X, y, **kwargs)\n",
            "\n",
            "Set parameter alpha to: original_alpha * n_samples. \n",
            "  FutureWarning,\n"
          ]
        }
      ]
    },
    {
      "cell_type": "code",
      "source": [
        "print(reg.coef_)\n",
        "print(reg.intercept_)"
      ],
      "metadata": {
        "colab": {
          "base_uri": "https://localhost:8080/"
        },
        "id": "92YVUcqra6eD",
        "outputId": "bcb98b77-713f-462a-f2c5-6a76fbeb7264"
      },
      "execution_count": 170,
      "outputs": [
        {
          "output_type": "stream",
          "name": "stdout",
          "text": [
            "[0.09168536 0.05558433]\n",
            "0.0\n"
          ]
        }
      ]
    },
    {
      "cell_type": "code",
      "source": [
        "sv = SVR(C=50000)\n",
        "normalizer = Normalizer()\n",
        "normalizer.fit(S_2648_X_aug[:,[0,5,4,2,7]])\n",
        "sv.fit(normalizer.transform(S_2648_X_aug[:,[0,5,4,2,7]]),S_2648_y_aug)\n",
        "print(pearsonr(S_2648_y,sv.predict(normalizer.transform(S_2648_X[:,[0,5,4,2,7]]))))\n",
        "print(pearsonr(S_921_y_aug,sv.predict(normalizer.transform(S_921_X_aug[:,[0,5,4,2,7]]))))\n",
        "print(pearsonr(S_669_y_aug,sv.predict(normalizer.transform(S_669_X_aug[:,[0,5,4,2,7]]))))\n",
        "print(pearsonr(Ssym_y_aug,sv.predict(normalizer.transform(Ssym_X_aug[:,[0,5,4,2,7]]))))"
      ],
      "metadata": {
        "id": "U_JnRuB4UL5g"
      },
      "execution_count": null,
      "outputs": []
    },
    {
      "cell_type": "code",
      "source": [
        "gbr = GradientBoostingRegressor(min_samples_split=5,validation_fraction=0.4,n_iter_no_change=2,subsample=0.8,learning_rate=0.2)\n",
        "gbr.fit(S_2648_X_aug[:,[0,2,7]],S_2648_y_aug)\n",
        "print(pearsonr(S_2648_y,gbr.predict(S_2648_X[:,[0,2,7]])))\n",
        "print(pearsonr(S_921_y_aug,gbr.predict(S_921_X_aug[:,[0,2,7]])))\n",
        "print(pearsonr(S_669_y,gbr.predict(S_669_X[:,[0,2,7]])))\n",
        "print(pearsonr(Ssym_y,gbr.predict(Ssym_X[:,[0,2,7]])))"
      ],
      "metadata": {
        "colab": {
          "base_uri": "https://localhost:8080/"
        },
        "id": "mmP7q4UFZKJn",
        "outputId": "c07bb855-11bc-4cef-8f6e-b7f76e524556"
      },
      "execution_count": 291,
      "outputs": [
        {
          "output_type": "stream",
          "name": "stdout",
          "text": [
            "(0.5617663476192841, 7.572090806381024e-218)\n",
            "(0.723403683003062, 2.4244534849939575e-298)\n",
            "(0.34225586170806677, 5.681360528883409e-19)\n",
            "(0.5813993215534655, 2.582291235697424e-32)\n"
          ]
        }
      ]
    },
    {
      "cell_type": "code",
      "source": [
        "gbr.feature_importances_"
      ],
      "metadata": {
        "colab": {
          "base_uri": "https://localhost:8080/"
        },
        "id": "04CYnxe9g3HB",
        "outputId": "8fd96d38-ebf1-4e7a-a5cf-15b89a9b9178"
      },
      "execution_count": 283,
      "outputs": [
        {
          "output_type": "execute_result",
          "data": {
            "text/plain": [
              "array([0.51525749, 0.06583626, 0.41890625])"
            ]
          },
          "metadata": {},
          "execution_count": 283
        }
      ]
    },
    {
      "cell_type": "code",
      "source": [
        "# Now, traing linear regression on S_2648, and test on S_921 and S_669\n",
        "# rf = RandomForestRegressor(min_samples_split=62).fit(S_2648_X_aug[:,[0,2,4,5,7]],S_2648_y_aug)\n",
        "# rf = RandomForestRegressor(min_samples_split=84).fit(S_2648_X_aug[:,[0,2,4,5,7]],S_2648_y_aug) [not bad]\n",
        "# rf = RandomForestRegressor(min_samples_split=84).fit(S_2648_X_aug[:,[0,2,4,7]],S_2648_y_aug) [not bad]\n",
        "# seems like (0,2,4,5, and 7 are worth keeping with RF)\n",
        "# rf = RandomForestRegressor(min_samples_split=22,n_estimators=300,max_samples=0.2).fit(S_2648_X_aug[:,[0,4,5,7]],S_2648_y_aug) [great for balanced performance on everything]\n",
        "# rf = RandomForestRegressor(min_samples_split=22,n_estimators=300,max_samples=0.5).fit(S_2648_X_aug[:,[0,4,5,7]],S_2648_y_aug) [a bit better for Ssym, a bit worse for S_669]\n",
        "# rf = RandomForestRegressor(min_samples_split=22,n_estimators=300,max_samples=0.5).fit(S_2648_X_aug[:,[0,4,7]],S_2648_y_aug) [worth reporting without PSSM, only S_921 goes down significantly]\n",
        "# rf = RandomForestRegressor(min_samples_split=18,n_estimators=300,max_samples=0.5).fit(S_2648_X_aug[:,[0,4,7]],S_2648_y_aug) [seems good without PSSM]\n",
        "# \"max_samples=0.2\" seems like a great parameter for many cases, most probably, that type of diversity is needed\n",
        "# rf = RandomForestRegressor(min_samples_split=25,n_estimators=300,max_samples=0.2).fit(S_2648_X_aug[:,[0,4,5,7]],S_2648_y_aug) [another cool parameter setting]\n",
        "rf = RandomForestRegressor(min_samples_split=25,n_estimators=300,max_samples=0.2).fit(S_2648_X_aug[:,[0,4,5,7]],S_2648_y_aug)\n",
        "print(pearsonr(S_2648_y,rf.predict(S_2648_X[:,[0,4,5,7]])))\n",
        "print(pearsonr(S_921_y_aug,rf.predict(S_921_X_aug[:,[0,4,5,7]])))\n",
        "print(pearsonr(S_669_y_aug,rf.predict(S_669_X_aug[:,[0,4,5,7]])))\n",
        "print(pearsonr(Ssym_y_aug,rf.predict(Ssym_X_aug[:,[0,4,5,7]])))"
      ],
      "metadata": {
        "colab": {
          "base_uri": "https://localhost:8080/"
        },
        "id": "DwFTHtO1o2l-",
        "outputId": "5eb0e793-12e6-4649-9556-82118760a0b0"
      },
      "execution_count": 518,
      "outputs": [
        {
          "output_type": "stream",
          "name": "stdout",
          "text": [
            "(0.6392994734696578, 4.784251270037629e-301)\n",
            "(0.7473209845257546, 0.0)\n",
            "(0.6009770418538223, 3.969864734095289e-126)\n",
            "(0.745552645951818, 2.6298939590729117e-122)\n"
          ]
        }
      ]
    },
    {
      "cell_type": "code",
      "source": [
        "rf.feature_importances_"
      ],
      "metadata": {
        "colab": {
          "base_uri": "https://localhost:8080/"
        },
        "id": "S-wiraZ5qCCn",
        "outputId": "b1770452-9aaa-4434-f430-ba42cd54eb15"
      },
      "execution_count": 516,
      "outputs": [
        {
          "output_type": "execute_result",
          "data": {
            "text/plain": [
              "array([0.45508519, 0.24710187, 0.10954846, 0.18826448])"
            ]
          },
          "metadata": {},
          "execution_count": 516
        }
      ]
    },
    {
      "cell_type": "code",
      "source": [
        "# another level of de-correlation by holding out mutations from a specific number of proteins for each of the random forests, and take their ensemble prediction\n",
        "# as the final prediction?\n",
        "\n",
        "# for this, let us at first get the ids of all the S_2648 proteins from the corresponding two-level dict that are not in the corresponding proteins_to_skip_list\n",
        "pdbIds_avail = []\n",
        "n_muts = []\n",
        "list_feature_importances = []\n",
        "for prot,muts in list_two_level_dict[0].items():\n",
        "    if prot not in list_proteins_to_skip[0]:\n",
        "        for mut in muts:\n",
        "            pdbIds_avail.append(prot)\n",
        "            # adding second time for the reverse mutation, since we are trianing on a reverse-augmented version of S_2648\n",
        "            pdbIds_avail.append(prot)\n",
        "id_set = set(pdbIds_avail)\n",
        "pdbIds_avail = np.array(pdbIds_avail)\n",
        "number_of_proteins_in_the_validation_set = 100\n",
        "# \"n_ensemble\" is the number of random forests to be trained on different protein-level mutant subsets\n",
        "# the subsets will contain all the forward and reverse mutations from the same protein\n",
        "n_ensemble = 20\n",
        "# \"rf_models\" list will hold the models trained on different protein-level mutation subsets \n",
        "rf_models = []\n",
        "for i in range(n_ensemble):\n",
        "    cur_iteration_X = []\n",
        "    cur_iteration_y = []\n",
        "    val_proteins = random.sample(id_set, k=number_of_proteins_in_the_validation_set)\n",
        "    val_indices = (np.where(np.isin(pdbIds_avail, val_proteins) == True))[0]\n",
        "    for j,(X,y) in enumerate(zip(S_2648_X_aug,S_2648_y_aug)):\n",
        "        if j not in val_indices:\n",
        "            cur_iteration_X.append(X)\n",
        "            cur_iteration_y.append(y)\n",
        "    cur_iteration_X = np.array(cur_iteration_X)\n",
        "    cur_iteration_y = np.array(cur_iteration_y)\n",
        "    l_model = RandomForestRegressor(min_samples_split=22,n_estimators=300,max_samples=0.2,max_features=\"sqrt\").fit(cur_iteration_X[:,[0,4,5,7]],cur_iteration_y)\n",
        "    list_feature_importances.append(l_model.feature_importances_)\n",
        "    rf_models.append(l_model)\n",
        "    n_muts.append(len(cur_iteration_X))"
      ],
      "metadata": {
        "id": "ZlVYssZkrAer"
      },
      "execution_count": 558,
      "outputs": []
    },
    {
      "cell_type": "code",
      "source": [
        "# Now, we just have to take ensemble predictions, and see how it goes.....TADAAAA\n",
        "\n",
        "# the elements of these lists are going to be numpy arrays full of predictions \n",
        "# for the corresponding datasets made by each of the trained and saved RF models in the above cell\n",
        "# S_2648_predictions = []\n",
        "S_921_predictions = []\n",
        "S_669_predictions = []\n",
        "Ssym_predictions = []\n",
        "\n",
        "for rf in rf_models:\n",
        "    # S_2648_predictions.append()\n",
        "    S_921_predictions.append(rf.predict(S_921_X_aug[:,[0,4,5,7]]))\n",
        "    S_669_predictions.append(rf.predict(S_669_X_aug[:,[0,4,5,7]]))\n",
        "    Ssym_predictions.append(rf.predict(Ssym_X_aug[:,[0,4,5,7]]))"
      ],
      "metadata": {
        "id": "Rbe55_gqFgqq"
      },
      "execution_count": 559,
      "outputs": []
    },
    {
      "cell_type": "code",
      "source": [
        "S_921_ensemble_predictions = np.mean(np.array(S_921_predictions),axis=0)\n",
        "S_669_ensemble_predictions = np.mean(np.array(S_669_predictions),axis=0)\n",
        "Ssym_ensemble_predictions = np.mean(np.array(Ssym_predictions),axis=0)\n",
        "\n",
        "print(pearsonr(S_921_y_aug,S_921_ensemble_predictions))\n",
        "print(pearsonr(S_669_y_aug,S_669_ensemble_predictions))\n",
        "print(pearsonr(Ssym_y_aug,Ssym_ensemble_predictions))"
      ],
      "metadata": {
        "colab": {
          "base_uri": "https://localhost:8080/"
        },
        "id": "uaOVVuSXL3qS",
        "outputId": "fc4ddf79-921c-4fdf-adf7-5ba47cca3f98"
      },
      "execution_count": 560,
      "outputs": [
        {
          "output_type": "stream",
          "name": "stdout",
          "text": [
            "(0.7253928799872055, 9.13057635809342e-301)\n",
            "(0.6087602419094599, 3.057742587415467e-130)\n",
            "(0.7266230328801941, 2.7745116086873073e-113)\n"
          ]
        }
      ]
    },
    {
      "cell_type": "code",
      "source": [
        "for i in range(n_ensemble-1):\n",
        "    print(n_muts[i])\n",
        "    # print(pearsonr(S_921_predictions[i],S_921_predictions[i+1]))\n",
        "    print(pearsonr(S_921_predictions[i],S_921_y_aug))\n",
        "    # print(pearsonr(S_669_predictions[i],S_669_predictions[i+1]))\n",
        "    print(pearsonr(S_669_predictions[i],S_669_y_aug))\n",
        "    print(pearsonr(Ssym_predictions[i],Ssym_y_aug))\n",
        "    print(list_feature_importances[i])\n",
        "    print(\".........................................\")"
      ],
      "metadata": {
        "id": "zkyuBtKXNZIz"
      },
      "execution_count": null,
      "outputs": []
    },
    {
      "cell_type": "code",
      "source": [
        "# let us now do a final analysis to see if correlations of the four features on S_2648 are good coefficients\n",
        "# but the problem is that, correlation changes based on subset of data chosen\n",
        "\n",
        "# let us do a quick stochastic-hill-climbing with individual correlations constituting the initial solution \n",
        "# out target is to see how far the co-efficients move away from correlations\n",
        "# this can in someway also be used for checking the underlying co-variate shift\n",
        "\n",
        "# objective-function\n",
        "# we are expecting \"X\" to be a numpy array of shape (number_of_samples,n_features) \n",
        "# and \"coefficients\" to be another numpy array of shape (1,n_features)\n",
        "def objective(X, y, coefficients):\n",
        "    # generate predictions for dataset\n",
        "    yhat = (X*coefficients).sum(axis=-1)\n",
        "    # calculate accuracy\n",
        "    # taking negative of correlation because the \"hillclimbing\" function written below was intended to\n",
        "    # minimize the objective function, and I do not want to tinker around with it at that level right now\n",
        "    score = -1*(pearsonr(y,yhat)[0])\n",
        "    return score\n",
        "\n",
        "# hill climbing local search algorithm\n",
        "def hillclimbing(X, y, solution, n_iter, step_size):\n",
        "\t# evaluate the initial point\n",
        "\tsolution_eval = objective(X, y, solution)\n",
        "\t# run the hill climb\n",
        "\tfor i in range(n_iter):\n",
        "\t\t# take a step\n",
        "\t\tcandidate = solution + np.random.randn(len(solution)) * step_size\n",
        "\t\t# evaluate candidate point\n",
        "\t\tcandidte_eval = objective(X, y, candidate)\n",
        "\t\t# check if we should keep the new point\n",
        "\t\tif candidte_eval <= solution_eval:\n",
        "\t\t\t# store the new point\n",
        "\t\t\tsolution, solution_eval = candidate, candidte_eval\n",
        "\t\t\t# report progress\n",
        "\t\t\tprint('>%d %.5f' % (i, solution_eval))\n",
        "\treturn [solution, solution_eval]\n",
        "\n",
        "hillclimbing(X=S_669_X[:,[0,4,5,7]],y=S_669_y,solution=(np.array([0.50,0.20,0.20,0.10]).reshape(1,-1)),n_iter=40000,step_size=0.00001)"
      ],
      "metadata": {
        "id": "PEr9p16hq5af"
      },
      "execution_count": null,
      "outputs": []
    }
  ]
}