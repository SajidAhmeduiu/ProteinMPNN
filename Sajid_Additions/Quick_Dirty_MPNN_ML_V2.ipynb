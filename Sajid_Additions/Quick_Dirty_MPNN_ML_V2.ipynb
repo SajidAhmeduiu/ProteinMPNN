{
  "nbformat": 4,
  "nbformat_minor": 0,
  "metadata": {
    "colab": {
      "name": "Quick_Dirty_MPNN_ML_V2.ipynb",
      "provenance": [],
      "collapsed_sections": []
    },
    "kernelspec": {
      "name": "python3",
      "display_name": "Python 3"
    },
    "language_info": {
      "name": "python"
    },
    "gpuClass": "standard",
    "widgets": {
      "application/vnd.jupyter.widget-state+json": {
        "75803508d6794e51a306057d12bf7278": {
          "model_module": "@jupyter-widgets/controls",
          "model_name": "HBoxModel",
          "model_module_version": "1.5.0",
          "state": {
            "_dom_classes": [],
            "_model_module": "@jupyter-widgets/controls",
            "_model_module_version": "1.5.0",
            "_model_name": "HBoxModel",
            "_view_count": null,
            "_view_module": "@jupyter-widgets/controls",
            "_view_module_version": "1.5.0",
            "_view_name": "HBoxView",
            "box_style": "",
            "children": [
              "IPY_MODEL_7cebe767aa044e9a8a87b1c81d1ab119",
              "IPY_MODEL_fd3927c353854ea3ab5d247bd16018bd",
              "IPY_MODEL_13af66450b3f43d8a40110c2936559d9"
            ],
            "layout": "IPY_MODEL_7e47ba5135834f9b9cbdd4594b0658ed"
          }
        },
        "7cebe767aa044e9a8a87b1c81d1ab119": {
          "model_module": "@jupyter-widgets/controls",
          "model_name": "HTMLModel",
          "model_module_version": "1.5.0",
          "state": {
            "_dom_classes": [],
            "_model_module": "@jupyter-widgets/controls",
            "_model_module_version": "1.5.0",
            "_model_name": "HTMLModel",
            "_view_count": null,
            "_view_module": "@jupyter-widgets/controls",
            "_view_module_version": "1.5.0",
            "_view_name": "HTMLView",
            "description": "",
            "description_tooltip": null,
            "layout": "IPY_MODEL_8d5fe06abbc1478e9d237d83e3f0d1ce",
            "placeholder": "​",
            "style": "IPY_MODEL_a501e879c95f48019ffb1fe92263346f",
            "value": "100%"
          }
        },
        "fd3927c353854ea3ab5d247bd16018bd": {
          "model_module": "@jupyter-widgets/controls",
          "model_name": "FloatProgressModel",
          "model_module_version": "1.5.0",
          "state": {
            "_dom_classes": [],
            "_model_module": "@jupyter-widgets/controls",
            "_model_module_version": "1.5.0",
            "_model_name": "FloatProgressModel",
            "_view_count": null,
            "_view_module": "@jupyter-widgets/controls",
            "_view_module_version": "1.5.0",
            "_view_name": "ProgressView",
            "bar_style": "success",
            "description": "",
            "description_tooltip": null,
            "layout": "IPY_MODEL_b5a3bdfc8bec4cc09094929ae74fc0bf",
            "max": 131,
            "min": 0,
            "orientation": "horizontal",
            "style": "IPY_MODEL_c5ee5d0698254bf6b6237221101a0f57",
            "value": 131
          }
        },
        "13af66450b3f43d8a40110c2936559d9": {
          "model_module": "@jupyter-widgets/controls",
          "model_name": "HTMLModel",
          "model_module_version": "1.5.0",
          "state": {
            "_dom_classes": [],
            "_model_module": "@jupyter-widgets/controls",
            "_model_module_version": "1.5.0",
            "_model_name": "HTMLModel",
            "_view_count": null,
            "_view_module": "@jupyter-widgets/controls",
            "_view_module_version": "1.5.0",
            "_view_name": "HTMLView",
            "description": "",
            "description_tooltip": null,
            "layout": "IPY_MODEL_b1c0eb5c8e3d435bb18f9ad4d32823e8",
            "placeholder": "​",
            "style": "IPY_MODEL_b8ec7211cc4e46528e31b30c95eb2403",
            "value": " 131/131 [00:06&lt;00:00, 22.46it/s]"
          }
        },
        "7e47ba5135834f9b9cbdd4594b0658ed": {
          "model_module": "@jupyter-widgets/base",
          "model_name": "LayoutModel",
          "model_module_version": "1.2.0",
          "state": {
            "_model_module": "@jupyter-widgets/base",
            "_model_module_version": "1.2.0",
            "_model_name": "LayoutModel",
            "_view_count": null,
            "_view_module": "@jupyter-widgets/base",
            "_view_module_version": "1.2.0",
            "_view_name": "LayoutView",
            "align_content": null,
            "align_items": null,
            "align_self": null,
            "border": null,
            "bottom": null,
            "display": null,
            "flex": null,
            "flex_flow": null,
            "grid_area": null,
            "grid_auto_columns": null,
            "grid_auto_flow": null,
            "grid_auto_rows": null,
            "grid_column": null,
            "grid_gap": null,
            "grid_row": null,
            "grid_template_areas": null,
            "grid_template_columns": null,
            "grid_template_rows": null,
            "height": null,
            "justify_content": null,
            "justify_items": null,
            "left": null,
            "margin": null,
            "max_height": null,
            "max_width": null,
            "min_height": null,
            "min_width": null,
            "object_fit": null,
            "object_position": null,
            "order": null,
            "overflow": null,
            "overflow_x": null,
            "overflow_y": null,
            "padding": null,
            "right": null,
            "top": null,
            "visibility": null,
            "width": null
          }
        },
        "8d5fe06abbc1478e9d237d83e3f0d1ce": {
          "model_module": "@jupyter-widgets/base",
          "model_name": "LayoutModel",
          "model_module_version": "1.2.0",
          "state": {
            "_model_module": "@jupyter-widgets/base",
            "_model_module_version": "1.2.0",
            "_model_name": "LayoutModel",
            "_view_count": null,
            "_view_module": "@jupyter-widgets/base",
            "_view_module_version": "1.2.0",
            "_view_name": "LayoutView",
            "align_content": null,
            "align_items": null,
            "align_self": null,
            "border": null,
            "bottom": null,
            "display": null,
            "flex": null,
            "flex_flow": null,
            "grid_area": null,
            "grid_auto_columns": null,
            "grid_auto_flow": null,
            "grid_auto_rows": null,
            "grid_column": null,
            "grid_gap": null,
            "grid_row": null,
            "grid_template_areas": null,
            "grid_template_columns": null,
            "grid_template_rows": null,
            "height": null,
            "justify_content": null,
            "justify_items": null,
            "left": null,
            "margin": null,
            "max_height": null,
            "max_width": null,
            "min_height": null,
            "min_width": null,
            "object_fit": null,
            "object_position": null,
            "order": null,
            "overflow": null,
            "overflow_x": null,
            "overflow_y": null,
            "padding": null,
            "right": null,
            "top": null,
            "visibility": null,
            "width": null
          }
        },
        "a501e879c95f48019ffb1fe92263346f": {
          "model_module": "@jupyter-widgets/controls",
          "model_name": "DescriptionStyleModel",
          "model_module_version": "1.5.0",
          "state": {
            "_model_module": "@jupyter-widgets/controls",
            "_model_module_version": "1.5.0",
            "_model_name": "DescriptionStyleModel",
            "_view_count": null,
            "_view_module": "@jupyter-widgets/base",
            "_view_module_version": "1.2.0",
            "_view_name": "StyleView",
            "description_width": ""
          }
        },
        "b5a3bdfc8bec4cc09094929ae74fc0bf": {
          "model_module": "@jupyter-widgets/base",
          "model_name": "LayoutModel",
          "model_module_version": "1.2.0",
          "state": {
            "_model_module": "@jupyter-widgets/base",
            "_model_module_version": "1.2.0",
            "_model_name": "LayoutModel",
            "_view_count": null,
            "_view_module": "@jupyter-widgets/base",
            "_view_module_version": "1.2.0",
            "_view_name": "LayoutView",
            "align_content": null,
            "align_items": null,
            "align_self": null,
            "border": null,
            "bottom": null,
            "display": null,
            "flex": null,
            "flex_flow": null,
            "grid_area": null,
            "grid_auto_columns": null,
            "grid_auto_flow": null,
            "grid_auto_rows": null,
            "grid_column": null,
            "grid_gap": null,
            "grid_row": null,
            "grid_template_areas": null,
            "grid_template_columns": null,
            "grid_template_rows": null,
            "height": null,
            "justify_content": null,
            "justify_items": null,
            "left": null,
            "margin": null,
            "max_height": null,
            "max_width": null,
            "min_height": null,
            "min_width": null,
            "object_fit": null,
            "object_position": null,
            "order": null,
            "overflow": null,
            "overflow_x": null,
            "overflow_y": null,
            "padding": null,
            "right": null,
            "top": null,
            "visibility": null,
            "width": null
          }
        },
        "c5ee5d0698254bf6b6237221101a0f57": {
          "model_module": "@jupyter-widgets/controls",
          "model_name": "ProgressStyleModel",
          "model_module_version": "1.5.0",
          "state": {
            "_model_module": "@jupyter-widgets/controls",
            "_model_module_version": "1.5.0",
            "_model_name": "ProgressStyleModel",
            "_view_count": null,
            "_view_module": "@jupyter-widgets/base",
            "_view_module_version": "1.2.0",
            "_view_name": "StyleView",
            "bar_color": null,
            "description_width": ""
          }
        },
        "b1c0eb5c8e3d435bb18f9ad4d32823e8": {
          "model_module": "@jupyter-widgets/base",
          "model_name": "LayoutModel",
          "model_module_version": "1.2.0",
          "state": {
            "_model_module": "@jupyter-widgets/base",
            "_model_module_version": "1.2.0",
            "_model_name": "LayoutModel",
            "_view_count": null,
            "_view_module": "@jupyter-widgets/base",
            "_view_module_version": "1.2.0",
            "_view_name": "LayoutView",
            "align_content": null,
            "align_items": null,
            "align_self": null,
            "border": null,
            "bottom": null,
            "display": null,
            "flex": null,
            "flex_flow": null,
            "grid_area": null,
            "grid_auto_columns": null,
            "grid_auto_flow": null,
            "grid_auto_rows": null,
            "grid_column": null,
            "grid_gap": null,
            "grid_row": null,
            "grid_template_areas": null,
            "grid_template_columns": null,
            "grid_template_rows": null,
            "height": null,
            "justify_content": null,
            "justify_items": null,
            "left": null,
            "margin": null,
            "max_height": null,
            "max_width": null,
            "min_height": null,
            "min_width": null,
            "object_fit": null,
            "object_position": null,
            "order": null,
            "overflow": null,
            "overflow_x": null,
            "overflow_y": null,
            "padding": null,
            "right": null,
            "top": null,
            "visibility": null,
            "width": null
          }
        },
        "b8ec7211cc4e46528e31b30c95eb2403": {
          "model_module": "@jupyter-widgets/controls",
          "model_name": "DescriptionStyleModel",
          "model_module_version": "1.5.0",
          "state": {
            "_model_module": "@jupyter-widgets/controls",
            "_model_module_version": "1.5.0",
            "_model_name": "DescriptionStyleModel",
            "_view_count": null,
            "_view_module": "@jupyter-widgets/base",
            "_view_module_version": "1.2.0",
            "_view_name": "StyleView",
            "description_width": ""
          }
        },
        "0ba4f065b3d541aa98024f9dbe5d8578": {
          "model_module": "@jupyter-widgets/controls",
          "model_name": "HBoxModel",
          "model_module_version": "1.5.0",
          "state": {
            "_dom_classes": [],
            "_model_module": "@jupyter-widgets/controls",
            "_model_module_version": "1.5.0",
            "_model_name": "HBoxModel",
            "_view_count": null,
            "_view_module": "@jupyter-widgets/controls",
            "_view_module_version": "1.5.0",
            "_view_name": "HBoxView",
            "box_style": "",
            "children": [
              "IPY_MODEL_d8851ab18dc242e9b1e777cee2ad97ac",
              "IPY_MODEL_d28e1be2ec5e45f7bf9fc31d3b3fc00a",
              "IPY_MODEL_8c99b099c43c40f8b625e70d1cb1b328"
            ],
            "layout": "IPY_MODEL_ea79d08879df4aa8822f3499a649f42e"
          }
        },
        "d8851ab18dc242e9b1e777cee2ad97ac": {
          "model_module": "@jupyter-widgets/controls",
          "model_name": "HTMLModel",
          "model_module_version": "1.5.0",
          "state": {
            "_dom_classes": [],
            "_model_module": "@jupyter-widgets/controls",
            "_model_module_version": "1.5.0",
            "_model_name": "HTMLModel",
            "_view_count": null,
            "_view_module": "@jupyter-widgets/controls",
            "_view_module_version": "1.5.0",
            "_view_name": "HTMLView",
            "description": "",
            "description_tooltip": null,
            "layout": "IPY_MODEL_436d018127bc477e8a5478763543626a",
            "placeholder": "​",
            "style": "IPY_MODEL_bfacb81d37f84071a99106ce98bd2da1",
            "value": "100%"
          }
        },
        "d28e1be2ec5e45f7bf9fc31d3b3fc00a": {
          "model_module": "@jupyter-widgets/controls",
          "model_name": "FloatProgressModel",
          "model_module_version": "1.5.0",
          "state": {
            "_dom_classes": [],
            "_model_module": "@jupyter-widgets/controls",
            "_model_module_version": "1.5.0",
            "_model_name": "FloatProgressModel",
            "_view_count": null,
            "_view_module": "@jupyter-widgets/controls",
            "_view_module_version": "1.5.0",
            "_view_name": "ProgressView",
            "bar_style": "success",
            "description": "",
            "description_tooltip": null,
            "layout": "IPY_MODEL_9a0aa0eaf70049faa223284c51347718",
            "max": 195,
            "min": 0,
            "orientation": "horizontal",
            "style": "IPY_MODEL_0c4bfb89c72544acb44aa01141e354ea",
            "value": 195
          }
        },
        "8c99b099c43c40f8b625e70d1cb1b328": {
          "model_module": "@jupyter-widgets/controls",
          "model_name": "HTMLModel",
          "model_module_version": "1.5.0",
          "state": {
            "_dom_classes": [],
            "_model_module": "@jupyter-widgets/controls",
            "_model_module_version": "1.5.0",
            "_model_name": "HTMLModel",
            "_view_count": null,
            "_view_module": "@jupyter-widgets/controls",
            "_view_module_version": "1.5.0",
            "_view_name": "HTMLView",
            "description": "",
            "description_tooltip": null,
            "layout": "IPY_MODEL_8b4120841f3d40db99efc2191c9775bc",
            "placeholder": "​",
            "style": "IPY_MODEL_cb5b920306614e6abb2a291a25bea0db",
            "value": " 195/195 [00:08&lt;00:00, 32.83it/s]"
          }
        },
        "ea79d08879df4aa8822f3499a649f42e": {
          "model_module": "@jupyter-widgets/base",
          "model_name": "LayoutModel",
          "model_module_version": "1.2.0",
          "state": {
            "_model_module": "@jupyter-widgets/base",
            "_model_module_version": "1.2.0",
            "_model_name": "LayoutModel",
            "_view_count": null,
            "_view_module": "@jupyter-widgets/base",
            "_view_module_version": "1.2.0",
            "_view_name": "LayoutView",
            "align_content": null,
            "align_items": null,
            "align_self": null,
            "border": null,
            "bottom": null,
            "display": null,
            "flex": null,
            "flex_flow": null,
            "grid_area": null,
            "grid_auto_columns": null,
            "grid_auto_flow": null,
            "grid_auto_rows": null,
            "grid_column": null,
            "grid_gap": null,
            "grid_row": null,
            "grid_template_areas": null,
            "grid_template_columns": null,
            "grid_template_rows": null,
            "height": null,
            "justify_content": null,
            "justify_items": null,
            "left": null,
            "margin": null,
            "max_height": null,
            "max_width": null,
            "min_height": null,
            "min_width": null,
            "object_fit": null,
            "object_position": null,
            "order": null,
            "overflow": null,
            "overflow_x": null,
            "overflow_y": null,
            "padding": null,
            "right": null,
            "top": null,
            "visibility": null,
            "width": null
          }
        },
        "436d018127bc477e8a5478763543626a": {
          "model_module": "@jupyter-widgets/base",
          "model_name": "LayoutModel",
          "model_module_version": "1.2.0",
          "state": {
            "_model_module": "@jupyter-widgets/base",
            "_model_module_version": "1.2.0",
            "_model_name": "LayoutModel",
            "_view_count": null,
            "_view_module": "@jupyter-widgets/base",
            "_view_module_version": "1.2.0",
            "_view_name": "LayoutView",
            "align_content": null,
            "align_items": null,
            "align_self": null,
            "border": null,
            "bottom": null,
            "display": null,
            "flex": null,
            "flex_flow": null,
            "grid_area": null,
            "grid_auto_columns": null,
            "grid_auto_flow": null,
            "grid_auto_rows": null,
            "grid_column": null,
            "grid_gap": null,
            "grid_row": null,
            "grid_template_areas": null,
            "grid_template_columns": null,
            "grid_template_rows": null,
            "height": null,
            "justify_content": null,
            "justify_items": null,
            "left": null,
            "margin": null,
            "max_height": null,
            "max_width": null,
            "min_height": null,
            "min_width": null,
            "object_fit": null,
            "object_position": null,
            "order": null,
            "overflow": null,
            "overflow_x": null,
            "overflow_y": null,
            "padding": null,
            "right": null,
            "top": null,
            "visibility": null,
            "width": null
          }
        },
        "bfacb81d37f84071a99106ce98bd2da1": {
          "model_module": "@jupyter-widgets/controls",
          "model_name": "DescriptionStyleModel",
          "model_module_version": "1.5.0",
          "state": {
            "_model_module": "@jupyter-widgets/controls",
            "_model_module_version": "1.5.0",
            "_model_name": "DescriptionStyleModel",
            "_view_count": null,
            "_view_module": "@jupyter-widgets/base",
            "_view_module_version": "1.2.0",
            "_view_name": "StyleView",
            "description_width": ""
          }
        },
        "9a0aa0eaf70049faa223284c51347718": {
          "model_module": "@jupyter-widgets/base",
          "model_name": "LayoutModel",
          "model_module_version": "1.2.0",
          "state": {
            "_model_module": "@jupyter-widgets/base",
            "_model_module_version": "1.2.0",
            "_model_name": "LayoutModel",
            "_view_count": null,
            "_view_module": "@jupyter-widgets/base",
            "_view_module_version": "1.2.0",
            "_view_name": "LayoutView",
            "align_content": null,
            "align_items": null,
            "align_self": null,
            "border": null,
            "bottom": null,
            "display": null,
            "flex": null,
            "flex_flow": null,
            "grid_area": null,
            "grid_auto_columns": null,
            "grid_auto_flow": null,
            "grid_auto_rows": null,
            "grid_column": null,
            "grid_gap": null,
            "grid_row": null,
            "grid_template_areas": null,
            "grid_template_columns": null,
            "grid_template_rows": null,
            "height": null,
            "justify_content": null,
            "justify_items": null,
            "left": null,
            "margin": null,
            "max_height": null,
            "max_width": null,
            "min_height": null,
            "min_width": null,
            "object_fit": null,
            "object_position": null,
            "order": null,
            "overflow": null,
            "overflow_x": null,
            "overflow_y": null,
            "padding": null,
            "right": null,
            "top": null,
            "visibility": null,
            "width": null
          }
        },
        "0c4bfb89c72544acb44aa01141e354ea": {
          "model_module": "@jupyter-widgets/controls",
          "model_name": "ProgressStyleModel",
          "model_module_version": "1.5.0",
          "state": {
            "_model_module": "@jupyter-widgets/controls",
            "_model_module_version": "1.5.0",
            "_model_name": "ProgressStyleModel",
            "_view_count": null,
            "_view_module": "@jupyter-widgets/base",
            "_view_module_version": "1.2.0",
            "_view_name": "StyleView",
            "bar_color": null,
            "description_width": ""
          }
        },
        "8b4120841f3d40db99efc2191c9775bc": {
          "model_module": "@jupyter-widgets/base",
          "model_name": "LayoutModel",
          "model_module_version": "1.2.0",
          "state": {
            "_model_module": "@jupyter-widgets/base",
            "_model_module_version": "1.2.0",
            "_model_name": "LayoutModel",
            "_view_count": null,
            "_view_module": "@jupyter-widgets/base",
            "_view_module_version": "1.2.0",
            "_view_name": "LayoutView",
            "align_content": null,
            "align_items": null,
            "align_self": null,
            "border": null,
            "bottom": null,
            "display": null,
            "flex": null,
            "flex_flow": null,
            "grid_area": null,
            "grid_auto_columns": null,
            "grid_auto_flow": null,
            "grid_auto_rows": null,
            "grid_column": null,
            "grid_gap": null,
            "grid_row": null,
            "grid_template_areas": null,
            "grid_template_columns": null,
            "grid_template_rows": null,
            "height": null,
            "justify_content": null,
            "justify_items": null,
            "left": null,
            "margin": null,
            "max_height": null,
            "max_width": null,
            "min_height": null,
            "min_width": null,
            "object_fit": null,
            "object_position": null,
            "order": null,
            "overflow": null,
            "overflow_x": null,
            "overflow_y": null,
            "padding": null,
            "right": null,
            "top": null,
            "visibility": null,
            "width": null
          }
        },
        "cb5b920306614e6abb2a291a25bea0db": {
          "model_module": "@jupyter-widgets/controls",
          "model_name": "DescriptionStyleModel",
          "model_module_version": "1.5.0",
          "state": {
            "_model_module": "@jupyter-widgets/controls",
            "_model_module_version": "1.5.0",
            "_model_name": "DescriptionStyleModel",
            "_view_count": null,
            "_view_module": "@jupyter-widgets/base",
            "_view_module_version": "1.2.0",
            "_view_name": "StyleView",
            "description_width": ""
          }
        },
        "d82a961b6c634c4c9ed6de204bc90620": {
          "model_module": "@jupyter-widgets/controls",
          "model_name": "HBoxModel",
          "model_module_version": "1.5.0",
          "state": {
            "_dom_classes": [],
            "_model_module": "@jupyter-widgets/controls",
            "_model_module_version": "1.5.0",
            "_model_name": "HBoxModel",
            "_view_count": null,
            "_view_module": "@jupyter-widgets/controls",
            "_view_module_version": "1.5.0",
            "_view_name": "HBoxView",
            "box_style": "",
            "children": [
              "IPY_MODEL_b56555c1cce743988037f58faf0a9494",
              "IPY_MODEL_c5446652e10247868c4959f210c7e541",
              "IPY_MODEL_e5ecf1d9b8b84c3ca5958cc63a631c36"
            ],
            "layout": "IPY_MODEL_58b6792288f741de9db244183b07497a"
          }
        },
        "b56555c1cce743988037f58faf0a9494": {
          "model_module": "@jupyter-widgets/controls",
          "model_name": "HTMLModel",
          "model_module_version": "1.5.0",
          "state": {
            "_dom_classes": [],
            "_model_module": "@jupyter-widgets/controls",
            "_model_module_version": "1.5.0",
            "_model_name": "HTMLModel",
            "_view_count": null,
            "_view_module": "@jupyter-widgets/controls",
            "_view_module_version": "1.5.0",
            "_view_name": "HTMLView",
            "description": "",
            "description_tooltip": null,
            "layout": "IPY_MODEL_9a3daa17cf374790b590c47419c43f6b",
            "placeholder": "​",
            "style": "IPY_MODEL_c2a3f178b658470281d8a3c6a8551951",
            "value": "100%"
          }
        },
        "c5446652e10247868c4959f210c7e541": {
          "model_module": "@jupyter-widgets/controls",
          "model_name": "FloatProgressModel",
          "model_module_version": "1.5.0",
          "state": {
            "_dom_classes": [],
            "_model_module": "@jupyter-widgets/controls",
            "_model_module_version": "1.5.0",
            "_model_name": "FloatProgressModel",
            "_view_count": null,
            "_view_module": "@jupyter-widgets/controls",
            "_view_module_version": "1.5.0",
            "_view_name": "ProgressView",
            "bar_style": "success",
            "description": "",
            "description_tooltip": null,
            "layout": "IPY_MODEL_b11212880c1543bb9ac0c996e00b5c3a",
            "max": 93,
            "min": 0,
            "orientation": "horizontal",
            "style": "IPY_MODEL_7cc575a7bba84c30a09818df78bbdddf",
            "value": 93
          }
        },
        "e5ecf1d9b8b84c3ca5958cc63a631c36": {
          "model_module": "@jupyter-widgets/controls",
          "model_name": "HTMLModel",
          "model_module_version": "1.5.0",
          "state": {
            "_dom_classes": [],
            "_model_module": "@jupyter-widgets/controls",
            "_model_module_version": "1.5.0",
            "_model_name": "HTMLModel",
            "_view_count": null,
            "_view_module": "@jupyter-widgets/controls",
            "_view_module_version": "1.5.0",
            "_view_name": "HTMLView",
            "description": "",
            "description_tooltip": null,
            "layout": "IPY_MODEL_cd7db72d025b4c01bc9b643243f408e5",
            "placeholder": "​",
            "style": "IPY_MODEL_87377473e63a403d89f22fe115106349",
            "value": " 93/93 [00:44&lt;00:00,  2.30it/s]"
          }
        },
        "58b6792288f741de9db244183b07497a": {
          "model_module": "@jupyter-widgets/base",
          "model_name": "LayoutModel",
          "model_module_version": "1.2.0",
          "state": {
            "_model_module": "@jupyter-widgets/base",
            "_model_module_version": "1.2.0",
            "_model_name": "LayoutModel",
            "_view_count": null,
            "_view_module": "@jupyter-widgets/base",
            "_view_module_version": "1.2.0",
            "_view_name": "LayoutView",
            "align_content": null,
            "align_items": null,
            "align_self": null,
            "border": null,
            "bottom": null,
            "display": null,
            "flex": null,
            "flex_flow": null,
            "grid_area": null,
            "grid_auto_columns": null,
            "grid_auto_flow": null,
            "grid_auto_rows": null,
            "grid_column": null,
            "grid_gap": null,
            "grid_row": null,
            "grid_template_areas": null,
            "grid_template_columns": null,
            "grid_template_rows": null,
            "height": null,
            "justify_content": null,
            "justify_items": null,
            "left": null,
            "margin": null,
            "max_height": null,
            "max_width": null,
            "min_height": null,
            "min_width": null,
            "object_fit": null,
            "object_position": null,
            "order": null,
            "overflow": null,
            "overflow_x": null,
            "overflow_y": null,
            "padding": null,
            "right": null,
            "top": null,
            "visibility": null,
            "width": null
          }
        },
        "9a3daa17cf374790b590c47419c43f6b": {
          "model_module": "@jupyter-widgets/base",
          "model_name": "LayoutModel",
          "model_module_version": "1.2.0",
          "state": {
            "_model_module": "@jupyter-widgets/base",
            "_model_module_version": "1.2.0",
            "_model_name": "LayoutModel",
            "_view_count": null,
            "_view_module": "@jupyter-widgets/base",
            "_view_module_version": "1.2.0",
            "_view_name": "LayoutView",
            "align_content": null,
            "align_items": null,
            "align_self": null,
            "border": null,
            "bottom": null,
            "display": null,
            "flex": null,
            "flex_flow": null,
            "grid_area": null,
            "grid_auto_columns": null,
            "grid_auto_flow": null,
            "grid_auto_rows": null,
            "grid_column": null,
            "grid_gap": null,
            "grid_row": null,
            "grid_template_areas": null,
            "grid_template_columns": null,
            "grid_template_rows": null,
            "height": null,
            "justify_content": null,
            "justify_items": null,
            "left": null,
            "margin": null,
            "max_height": null,
            "max_width": null,
            "min_height": null,
            "min_width": null,
            "object_fit": null,
            "object_position": null,
            "order": null,
            "overflow": null,
            "overflow_x": null,
            "overflow_y": null,
            "padding": null,
            "right": null,
            "top": null,
            "visibility": null,
            "width": null
          }
        },
        "c2a3f178b658470281d8a3c6a8551951": {
          "model_module": "@jupyter-widgets/controls",
          "model_name": "DescriptionStyleModel",
          "model_module_version": "1.5.0",
          "state": {
            "_model_module": "@jupyter-widgets/controls",
            "_model_module_version": "1.5.0",
            "_model_name": "DescriptionStyleModel",
            "_view_count": null,
            "_view_module": "@jupyter-widgets/base",
            "_view_module_version": "1.2.0",
            "_view_name": "StyleView",
            "description_width": ""
          }
        },
        "b11212880c1543bb9ac0c996e00b5c3a": {
          "model_module": "@jupyter-widgets/base",
          "model_name": "LayoutModel",
          "model_module_version": "1.2.0",
          "state": {
            "_model_module": "@jupyter-widgets/base",
            "_model_module_version": "1.2.0",
            "_model_name": "LayoutModel",
            "_view_count": null,
            "_view_module": "@jupyter-widgets/base",
            "_view_module_version": "1.2.0",
            "_view_name": "LayoutView",
            "align_content": null,
            "align_items": null,
            "align_self": null,
            "border": null,
            "bottom": null,
            "display": null,
            "flex": null,
            "flex_flow": null,
            "grid_area": null,
            "grid_auto_columns": null,
            "grid_auto_flow": null,
            "grid_auto_rows": null,
            "grid_column": null,
            "grid_gap": null,
            "grid_row": null,
            "grid_template_areas": null,
            "grid_template_columns": null,
            "grid_template_rows": null,
            "height": null,
            "justify_content": null,
            "justify_items": null,
            "left": null,
            "margin": null,
            "max_height": null,
            "max_width": null,
            "min_height": null,
            "min_width": null,
            "object_fit": null,
            "object_position": null,
            "order": null,
            "overflow": null,
            "overflow_x": null,
            "overflow_y": null,
            "padding": null,
            "right": null,
            "top": null,
            "visibility": null,
            "width": null
          }
        },
        "7cc575a7bba84c30a09818df78bbdddf": {
          "model_module": "@jupyter-widgets/controls",
          "model_name": "ProgressStyleModel",
          "model_module_version": "1.5.0",
          "state": {
            "_model_module": "@jupyter-widgets/controls",
            "_model_module_version": "1.5.0",
            "_model_name": "ProgressStyleModel",
            "_view_count": null,
            "_view_module": "@jupyter-widgets/base",
            "_view_module_version": "1.2.0",
            "_view_name": "StyleView",
            "bar_color": null,
            "description_width": ""
          }
        },
        "cd7db72d025b4c01bc9b643243f408e5": {
          "model_module": "@jupyter-widgets/base",
          "model_name": "LayoutModel",
          "model_module_version": "1.2.0",
          "state": {
            "_model_module": "@jupyter-widgets/base",
            "_model_module_version": "1.2.0",
            "_model_name": "LayoutModel",
            "_view_count": null,
            "_view_module": "@jupyter-widgets/base",
            "_view_module_version": "1.2.0",
            "_view_name": "LayoutView",
            "align_content": null,
            "align_items": null,
            "align_self": null,
            "border": null,
            "bottom": null,
            "display": null,
            "flex": null,
            "flex_flow": null,
            "grid_area": null,
            "grid_auto_columns": null,
            "grid_auto_flow": null,
            "grid_auto_rows": null,
            "grid_column": null,
            "grid_gap": null,
            "grid_row": null,
            "grid_template_areas": null,
            "grid_template_columns": null,
            "grid_template_rows": null,
            "height": null,
            "justify_content": null,
            "justify_items": null,
            "left": null,
            "margin": null,
            "max_height": null,
            "max_width": null,
            "min_height": null,
            "min_width": null,
            "object_fit": null,
            "object_position": null,
            "order": null,
            "overflow": null,
            "overflow_x": null,
            "overflow_y": null,
            "padding": null,
            "right": null,
            "top": null,
            "visibility": null,
            "width": null
          }
        },
        "87377473e63a403d89f22fe115106349": {
          "model_module": "@jupyter-widgets/controls",
          "model_name": "DescriptionStyleModel",
          "model_module_version": "1.5.0",
          "state": {
            "_model_module": "@jupyter-widgets/controls",
            "_model_module_version": "1.5.0",
            "_model_name": "DescriptionStyleModel",
            "_view_count": null,
            "_view_module": "@jupyter-widgets/base",
            "_view_module_version": "1.2.0",
            "_view_name": "StyleView",
            "description_width": ""
          }
        },
        "6de2dbf64e1d4d2182ff3b8bf1c3c6c9": {
          "model_module": "@jupyter-widgets/controls",
          "model_name": "HBoxModel",
          "model_module_version": "1.5.0",
          "state": {
            "_dom_classes": [],
            "_model_module": "@jupyter-widgets/controls",
            "_model_module_version": "1.5.0",
            "_model_name": "HBoxModel",
            "_view_count": null,
            "_view_module": "@jupyter-widgets/controls",
            "_view_module_version": "1.5.0",
            "_view_name": "HBoxView",
            "box_style": "",
            "children": [
              "IPY_MODEL_ad1efcdb507a42f4883085c040b36c8a",
              "IPY_MODEL_88433f53206147309c67e8deebbe7185",
              "IPY_MODEL_650258409d8e4d32b45dac5ee7c4cffb"
            ],
            "layout": "IPY_MODEL_4bd8c77edbd34dc0ac7095f7d6307c67"
          }
        },
        "ad1efcdb507a42f4883085c040b36c8a": {
          "model_module": "@jupyter-widgets/controls",
          "model_name": "HTMLModel",
          "model_module_version": "1.5.0",
          "state": {
            "_dom_classes": [],
            "_model_module": "@jupyter-widgets/controls",
            "_model_module_version": "1.5.0",
            "_model_name": "HTMLModel",
            "_view_count": null,
            "_view_module": "@jupyter-widgets/controls",
            "_view_module_version": "1.5.0",
            "_view_name": "HTMLView",
            "description": "",
            "description_tooltip": null,
            "layout": "IPY_MODEL_c4ca55ce609e4d479031e5def46b17d5",
            "placeholder": "​",
            "style": "IPY_MODEL_85f0acaa94ec42d9989c78acffd51119",
            "value": "100%"
          }
        },
        "88433f53206147309c67e8deebbe7185": {
          "model_module": "@jupyter-widgets/controls",
          "model_name": "FloatProgressModel",
          "model_module_version": "1.5.0",
          "state": {
            "_dom_classes": [],
            "_model_module": "@jupyter-widgets/controls",
            "_model_module_version": "1.5.0",
            "_model_name": "FloatProgressModel",
            "_view_count": null,
            "_view_module": "@jupyter-widgets/controls",
            "_view_module_version": "1.5.0",
            "_view_name": "ProgressView",
            "bar_style": "success",
            "description": "",
            "description_tooltip": null,
            "layout": "IPY_MODEL_3bd3d4adc95b458687a9237502f4edd4",
            "max": 357,
            "min": 0,
            "orientation": "horizontal",
            "style": "IPY_MODEL_660ae1a9403b466ca3b4881c091a8814",
            "value": 357
          }
        },
        "650258409d8e4d32b45dac5ee7c4cffb": {
          "model_module": "@jupyter-widgets/controls",
          "model_name": "HTMLModel",
          "model_module_version": "1.5.0",
          "state": {
            "_dom_classes": [],
            "_model_module": "@jupyter-widgets/controls",
            "_model_module_version": "1.5.0",
            "_model_name": "HTMLModel",
            "_view_count": null,
            "_view_module": "@jupyter-widgets/controls",
            "_view_module_version": "1.5.0",
            "_view_name": "HTMLView",
            "description": "",
            "description_tooltip": null,
            "layout": "IPY_MODEL_9f6edf04cdec4449a39a7721e932a1db",
            "placeholder": "​",
            "style": "IPY_MODEL_b483e91129a849caa7a735819276db14",
            "value": " 357/357 [00:15&lt;00:00, 30.17it/s]"
          }
        },
        "4bd8c77edbd34dc0ac7095f7d6307c67": {
          "model_module": "@jupyter-widgets/base",
          "model_name": "LayoutModel",
          "model_module_version": "1.2.0",
          "state": {
            "_model_module": "@jupyter-widgets/base",
            "_model_module_version": "1.2.0",
            "_model_name": "LayoutModel",
            "_view_count": null,
            "_view_module": "@jupyter-widgets/base",
            "_view_module_version": "1.2.0",
            "_view_name": "LayoutView",
            "align_content": null,
            "align_items": null,
            "align_self": null,
            "border": null,
            "bottom": null,
            "display": null,
            "flex": null,
            "flex_flow": null,
            "grid_area": null,
            "grid_auto_columns": null,
            "grid_auto_flow": null,
            "grid_auto_rows": null,
            "grid_column": null,
            "grid_gap": null,
            "grid_row": null,
            "grid_template_areas": null,
            "grid_template_columns": null,
            "grid_template_rows": null,
            "height": null,
            "justify_content": null,
            "justify_items": null,
            "left": null,
            "margin": null,
            "max_height": null,
            "max_width": null,
            "min_height": null,
            "min_width": null,
            "object_fit": null,
            "object_position": null,
            "order": null,
            "overflow": null,
            "overflow_x": null,
            "overflow_y": null,
            "padding": null,
            "right": null,
            "top": null,
            "visibility": null,
            "width": null
          }
        },
        "c4ca55ce609e4d479031e5def46b17d5": {
          "model_module": "@jupyter-widgets/base",
          "model_name": "LayoutModel",
          "model_module_version": "1.2.0",
          "state": {
            "_model_module": "@jupyter-widgets/base",
            "_model_module_version": "1.2.0",
            "_model_name": "LayoutModel",
            "_view_count": null,
            "_view_module": "@jupyter-widgets/base",
            "_view_module_version": "1.2.0",
            "_view_name": "LayoutView",
            "align_content": null,
            "align_items": null,
            "align_self": null,
            "border": null,
            "bottom": null,
            "display": null,
            "flex": null,
            "flex_flow": null,
            "grid_area": null,
            "grid_auto_columns": null,
            "grid_auto_flow": null,
            "grid_auto_rows": null,
            "grid_column": null,
            "grid_gap": null,
            "grid_row": null,
            "grid_template_areas": null,
            "grid_template_columns": null,
            "grid_template_rows": null,
            "height": null,
            "justify_content": null,
            "justify_items": null,
            "left": null,
            "margin": null,
            "max_height": null,
            "max_width": null,
            "min_height": null,
            "min_width": null,
            "object_fit": null,
            "object_position": null,
            "order": null,
            "overflow": null,
            "overflow_x": null,
            "overflow_y": null,
            "padding": null,
            "right": null,
            "top": null,
            "visibility": null,
            "width": null
          }
        },
        "85f0acaa94ec42d9989c78acffd51119": {
          "model_module": "@jupyter-widgets/controls",
          "model_name": "DescriptionStyleModel",
          "model_module_version": "1.5.0",
          "state": {
            "_model_module": "@jupyter-widgets/controls",
            "_model_module_version": "1.5.0",
            "_model_name": "DescriptionStyleModel",
            "_view_count": null,
            "_view_module": "@jupyter-widgets/base",
            "_view_module_version": "1.2.0",
            "_view_name": "StyleView",
            "description_width": ""
          }
        },
        "3bd3d4adc95b458687a9237502f4edd4": {
          "model_module": "@jupyter-widgets/base",
          "model_name": "LayoutModel",
          "model_module_version": "1.2.0",
          "state": {
            "_model_module": "@jupyter-widgets/base",
            "_model_module_version": "1.2.0",
            "_model_name": "LayoutModel",
            "_view_count": null,
            "_view_module": "@jupyter-widgets/base",
            "_view_module_version": "1.2.0",
            "_view_name": "LayoutView",
            "align_content": null,
            "align_items": null,
            "align_self": null,
            "border": null,
            "bottom": null,
            "display": null,
            "flex": null,
            "flex_flow": null,
            "grid_area": null,
            "grid_auto_columns": null,
            "grid_auto_flow": null,
            "grid_auto_rows": null,
            "grid_column": null,
            "grid_gap": null,
            "grid_row": null,
            "grid_template_areas": null,
            "grid_template_columns": null,
            "grid_template_rows": null,
            "height": null,
            "justify_content": null,
            "justify_items": null,
            "left": null,
            "margin": null,
            "max_height": null,
            "max_width": null,
            "min_height": null,
            "min_width": null,
            "object_fit": null,
            "object_position": null,
            "order": null,
            "overflow": null,
            "overflow_x": null,
            "overflow_y": null,
            "padding": null,
            "right": null,
            "top": null,
            "visibility": null,
            "width": null
          }
        },
        "660ae1a9403b466ca3b4881c091a8814": {
          "model_module": "@jupyter-widgets/controls",
          "model_name": "ProgressStyleModel",
          "model_module_version": "1.5.0",
          "state": {
            "_model_module": "@jupyter-widgets/controls",
            "_model_module_version": "1.5.0",
            "_model_name": "ProgressStyleModel",
            "_view_count": null,
            "_view_module": "@jupyter-widgets/base",
            "_view_module_version": "1.2.0",
            "_view_name": "StyleView",
            "bar_color": null,
            "description_width": ""
          }
        },
        "9f6edf04cdec4449a39a7721e932a1db": {
          "model_module": "@jupyter-widgets/base",
          "model_name": "LayoutModel",
          "model_module_version": "1.2.0",
          "state": {
            "_model_module": "@jupyter-widgets/base",
            "_model_module_version": "1.2.0",
            "_model_name": "LayoutModel",
            "_view_count": null,
            "_view_module": "@jupyter-widgets/base",
            "_view_module_version": "1.2.0",
            "_view_name": "LayoutView",
            "align_content": null,
            "align_items": null,
            "align_self": null,
            "border": null,
            "bottom": null,
            "display": null,
            "flex": null,
            "flex_flow": null,
            "grid_area": null,
            "grid_auto_columns": null,
            "grid_auto_flow": null,
            "grid_auto_rows": null,
            "grid_column": null,
            "grid_gap": null,
            "grid_row": null,
            "grid_template_areas": null,
            "grid_template_columns": null,
            "grid_template_rows": null,
            "height": null,
            "justify_content": null,
            "justify_items": null,
            "left": null,
            "margin": null,
            "max_height": null,
            "max_width": null,
            "min_height": null,
            "min_width": null,
            "object_fit": null,
            "object_position": null,
            "order": null,
            "overflow": null,
            "overflow_x": null,
            "overflow_y": null,
            "padding": null,
            "right": null,
            "top": null,
            "visibility": null,
            "width": null
          }
        },
        "b483e91129a849caa7a735819276db14": {
          "model_module": "@jupyter-widgets/controls",
          "model_name": "DescriptionStyleModel",
          "model_module_version": "1.5.0",
          "state": {
            "_model_module": "@jupyter-widgets/controls",
            "_model_module_version": "1.5.0",
            "_model_name": "DescriptionStyleModel",
            "_view_count": null,
            "_view_module": "@jupyter-widgets/base",
            "_view_module_version": "1.2.0",
            "_view_name": "StyleView",
            "description_width": ""
          }
        }
      }
    }
  },
  "cells": [
    {
      "cell_type": "code",
      "execution_count": null,
      "metadata": {
        "colab": {
          "base_uri": "https://localhost:8080/"
        },
        "id": "z-3O_CSy0kbu",
        "outputId": "66cddd87-d767-4a42-8bc1-82e8ce49bab9"
      },
      "outputs": [
        {
          "output_type": "stream",
          "name": "stdout",
          "text": [
            "Mounted at /content/drive\n"
          ]
        }
      ],
      "source": [
        "from google.colab import drive\n",
        "drive.mount('/content/drive',force_remount=True)\n",
        "import sys \n",
        "installation_path = \"/content/drive/MyDrive/Colab_Installations_V2\"\n",
        "# The path is being modified so that everything installed in the installation path can now be used without re-installing (in this case, I just need biopython)\n",
        "sys.path.append(installation_path)\n",
        "protein_mpnn_path = \"/content/drive/MyDrive/Protein_MPNN_Digging/ProteinMPNN/vanilla_proteinmpnn\"\n",
        "sys.path.insert(0,protein_mpnn_path)"
      ]
    },
    {
      "cell_type": "code",
      "source": [
        "# ! pip install --upgrade --target=$installation_path dataframe_image"
      ],
      "metadata": {
        "id": "27Wya9ee_Y3G"
      },
      "execution_count": null,
      "outputs": []
    },
    {
      "cell_type": "code",
      "source": [
        "%cd /content/drive/MyDrive/Protein_MPNN_Digging"
      ],
      "metadata": {
        "colab": {
          "base_uri": "https://localhost:8080/"
        },
        "id": "TNgSmOLs1JNK",
        "outputId": "72cc17cb-8e9d-40f5-b751-1b0dbb49f1b5"
      },
      "execution_count": null,
      "outputs": [
        {
          "output_type": "stream",
          "name": "stdout",
          "text": [
            "/content/drive/MyDrive/Protein_MPNN_Digging\n"
          ]
        }
      ]
    },
    {
      "cell_type": "code",
      "source": [
        "import numpy as np\n",
        "import pickle\n",
        "import os\n",
        "from tqdm.notebook import tqdm\n",
        "from Bio.PDB.Polypeptide import *\n",
        "from Bio.PDB import *\n",
        "import random"
      ],
      "metadata": {
        "id": "QunB2AQp1Phc"
      },
      "execution_count": null,
      "outputs": []
    },
    {
      "cell_type": "code",
      "source": [
        "from sklearn.linear_model import LinearRegression\n",
        "from sklearn.linear_model import Ridge\n",
        "from sklearn.linear_model import Lasso\n",
        "from sklearn.ensemble import RandomForestRegressor\n",
        "# from sklearn.linear_model import Ridge\n",
        "from scipy.stats import entropy\n",
        "from scipy.special import softmax\n",
        "from scipy.special import kl_div\n",
        "from scipy.stats import pearsonr\n",
        "from sklearn.svm import SVR\n",
        "from sklearn.preprocessing import Normalizer\n",
        "from sklearn.ensemble import GradientBoostingRegressor\n",
        "import pandas as pd"
      ],
      "metadata": {
        "id": "RznMX4ZbCSC5"
      },
      "execution_count": null,
      "outputs": []
    },
    {
      "cell_type": "code",
      "source": [
        "with open(\"S_2648_full_feature_dict.pickle\",\"rb\") as f:\n",
        "    S_2648_two_level_dict = pickle.load(f)\n",
        "with open(\"S_921_full_feature_dict.pickle\",\"rb\") as f:\n",
        "    S_921_two_level_dict = pickle.load(f)\n",
        "with open(\"S_669_full_feature_dict.pickle\",\"rb\") as f:\n",
        "    S_669_two_level_dict = pickle.load(f)\n",
        "with open(\"Ssym_full_feature_dict.pickle\",\"rb\") as f:\n",
        "    Ssym_two_level_dict = pickle.load(f)"
      ],
      "metadata": {
        "id": "1xXiKO7O1U-e"
      },
      "execution_count": null,
      "outputs": []
    },
    {
      "cell_type": "code",
      "source": [
        "list_two_level_dict = [S_2648_two_level_dict,S_921_two_level_dict,S_669_two_level_dict,Ssym_two_level_dict]\n",
        "list_dataset_names = [\"S_2648\",\"S_921\",\"S_669\",\"Ssym\"]"
      ],
      "metadata": {
        "id": "16wtwdw139yY"
      },
      "execution_count": null,
      "outputs": []
    },
    {
      "cell_type": "code",
      "source": [
        "list_mapping_dict = []\n",
        "list_proteins_to_skip = []\n",
        "\n",
        "for name in list_dataset_names:\n",
        "    mapping_dict = {}\n",
        "    pdbDirectory = f\"/content/drive/MyDrive/ACCRE_PyRun_Setup/{name}_PDB_Files\"\n",
        "    parser = PDBParser(QUIET=True)\n",
        "    # some proteins need to be skipped for now due to ICODE related discrapency\n",
        "    proteins_to_skip = []\n",
        "\n",
        "    for filename in tqdm(os.listdir(pdbDirectory)):\n",
        "        filepath = os.path.join(pdbDirectory,filename)\n",
        "        structure = parser.get_structure(id=filename.split(\".\")[0],file=filepath)\n",
        "        model = structure[0]\n",
        "        inner_dict = {}\n",
        "        outer_key = filename.split(\".\")[0]\n",
        "        skip_flag = False\n",
        "        # single chain-assumption in action again\n",
        "        for chain in model:\n",
        "            for i,residue in enumerate(chain):\n",
        "                inner_key = f\"{three_to_one(residue.get_resname())}{residue.get_id()[1]}\"\n",
        "                if inner_key not in inner_dict:\n",
        "                    inner_dict[inner_key] = i\n",
        "                else:\n",
        "                    # For \"2immA:N31\" and \"1lveA:S27\", I have been fucked\n",
        "                    # Need to think whether this will effect other positions or I can just avoid these two-protein related mutations for now?\n",
        "                    # Let me just avoid these two proteins for now\n",
        "                    print(\"YOU HAVE JUST BEEN FUCKED BY ICODE\")\n",
        "                    print(f\"{outer_key}:{inner_key}\")\n",
        "                    skip_flag = True\n",
        "        # The ICODE related problematic proteins will not be considered for now\n",
        "        if not skip_flag:\n",
        "            mapping_dict[outer_key] = inner_dict\n",
        "        else:\n",
        "            proteins_to_skip.append(outer_key)\n",
        "    list_proteins_to_skip.append(proteins_to_skip)\n",
        "    list_mapping_dict.append(mapping_dict)"
      ],
      "metadata": {
        "colab": {
          "base_uri": "https://localhost:8080/",
          "height": 281,
          "referenced_widgets": [
            "75803508d6794e51a306057d12bf7278",
            "7cebe767aa044e9a8a87b1c81d1ab119",
            "fd3927c353854ea3ab5d247bd16018bd",
            "13af66450b3f43d8a40110c2936559d9",
            "7e47ba5135834f9b9cbdd4594b0658ed",
            "8d5fe06abbc1478e9d237d83e3f0d1ce",
            "a501e879c95f48019ffb1fe92263346f",
            "b5a3bdfc8bec4cc09094929ae74fc0bf",
            "c5ee5d0698254bf6b6237221101a0f57",
            "b1c0eb5c8e3d435bb18f9ad4d32823e8",
            "b8ec7211cc4e46528e31b30c95eb2403",
            "0ba4f065b3d541aa98024f9dbe5d8578",
            "d8851ab18dc242e9b1e777cee2ad97ac",
            "d28e1be2ec5e45f7bf9fc31d3b3fc00a",
            "8c99b099c43c40f8b625e70d1cb1b328",
            "ea79d08879df4aa8822f3499a649f42e",
            "436d018127bc477e8a5478763543626a",
            "bfacb81d37f84071a99106ce98bd2da1",
            "9a0aa0eaf70049faa223284c51347718",
            "0c4bfb89c72544acb44aa01141e354ea",
            "8b4120841f3d40db99efc2191c9775bc",
            "cb5b920306614e6abb2a291a25bea0db",
            "d82a961b6c634c4c9ed6de204bc90620",
            "b56555c1cce743988037f58faf0a9494",
            "c5446652e10247868c4959f210c7e541",
            "e5ecf1d9b8b84c3ca5958cc63a631c36",
            "58b6792288f741de9db244183b07497a",
            "9a3daa17cf374790b590c47419c43f6b",
            "c2a3f178b658470281d8a3c6a8551951",
            "b11212880c1543bb9ac0c996e00b5c3a",
            "7cc575a7bba84c30a09818df78bbdddf",
            "cd7db72d025b4c01bc9b643243f408e5",
            "87377473e63a403d89f22fe115106349",
            "6de2dbf64e1d4d2182ff3b8bf1c3c6c9",
            "ad1efcdb507a42f4883085c040b36c8a",
            "88433f53206147309c67e8deebbe7185",
            "650258409d8e4d32b45dac5ee7c4cffb",
            "4bd8c77edbd34dc0ac7095f7d6307c67",
            "c4ca55ce609e4d479031e5def46b17d5",
            "85f0acaa94ec42d9989c78acffd51119",
            "3bd3d4adc95b458687a9237502f4edd4",
            "660ae1a9403b466ca3b4881c091a8814",
            "9f6edf04cdec4449a39a7721e932a1db",
            "b483e91129a849caa7a735819276db14"
          ]
        },
        "id": "_w7Ufm7t3mR-",
        "outputId": "6b99d0f6-22b5-4d1d-aae0-b3f6d3a5bfe2"
      },
      "execution_count": null,
      "outputs": [
        {
          "output_type": "display_data",
          "data": {
            "text/plain": [
              "  0%|          | 0/131 [00:00<?, ?it/s]"
            ],
            "application/vnd.jupyter.widget-view+json": {
              "version_major": 2,
              "version_minor": 0,
              "model_id": "75803508d6794e51a306057d12bf7278"
            }
          },
          "metadata": {}
        },
        {
          "output_type": "stream",
          "name": "stdout",
          "text": [
            "YOU HAVE JUST BEEN FUCKED BY ICODE\n",
            "1lveA:S27\n",
            "YOU HAVE JUST BEEN FUCKED BY ICODE\n",
            "1lveA:S27\n",
            "YOU HAVE JUST BEEN FUCKED BY ICODE\n",
            "2immA:N31\n",
            "YOU HAVE JUST BEEN FUCKED BY ICODE\n",
            "2immA:N31\n"
          ]
        },
        {
          "output_type": "display_data",
          "data": {
            "text/plain": [
              "  0%|          | 0/195 [00:00<?, ?it/s]"
            ],
            "application/vnd.jupyter.widget-view+json": {
              "version_major": 2,
              "version_minor": 0,
              "model_id": "0ba4f065b3d541aa98024f9dbe5d8578"
            }
          },
          "metadata": {}
        },
        {
          "output_type": "display_data",
          "data": {
            "text/plain": [
              "  0%|          | 0/93 [00:00<?, ?it/s]"
            ],
            "application/vnd.jupyter.widget-view+json": {
              "version_major": 2,
              "version_minor": 0,
              "model_id": "d82a961b6c634c4c9ed6de204bc90620"
            }
          },
          "metadata": {}
        },
        {
          "output_type": "display_data",
          "data": {
            "text/plain": [
              "  0%|          | 0/357 [00:00<?, ?it/s]"
            ],
            "application/vnd.jupyter.widget-view+json": {
              "version_major": 2,
              "version_minor": 0,
              "model_id": "6de2dbf64e1d4d2182ff3b8bf1c3c6c9"
            }
          },
          "metadata": {}
        }
      ]
    },
    {
      "cell_type": "code",
      "source": [
        "# Create the six numpy arrays here, and then perform training on the next cell\n",
        "X_2648 = []\n",
        "y_2648 = []\n",
        "X_921 = []\n",
        "y_921 = []\n",
        "X_669 = []\n",
        "y_669 = []\n",
        "X_Ssym = []\n",
        "y_Ssym = []\n",
        "\n",
        "# This list will correspond to the \"list_mapping_dict,list_dataset_names,list_two_level_dict,list_proteins_to_skip\" lists in the above cells, \n",
        "# and hold (X,y) tuples corresponding to the three datasets in the same order as those lists\n",
        "# currently, I intend to train, and test the model on \"mut_wild_predictions\",\"entropy_predictions\", \"neighbor_energy_change_predictions\", \"neighbor_forward_KL_predictions\", \n",
        "# and \"neighbor_backward_KL_predictions\" \n",
        "# fourth and fifth features can probably be reduced to one feature by (0.5*fourth_feature+0.5*fifth_feature) since both of them are extremely correlated\n",
        "list_X = [X_2648,X_921,X_669,X_Ssym]\n",
        "list_y = [y_2648,y_921,y_669,y_Ssym]\n",
        "\n",
        "#######\n",
        "alpha_tok = \"ACDEFGHIKLMNPQRSTVWYX\"\n",
        "aa_1_N = {a:n for n,a in enumerate(alpha_tok)}\n",
        "for X,y,two_level_dict,mapping_dict,proteins_to_skip in zip(list_X,list_y,list_two_level_dict,list_mapping_dict,list_proteins_to_skip):\n",
        "    for prot,muts in two_level_dict.items():\n",
        "        if prot not in proteins_to_skip:\n",
        "            try:\n",
        "                cur_map_dict = mapping_dict[prot]\n",
        "            except:\n",
        "                continue\n",
        "            for mut in muts:\n",
        "                # adding the label to \"y\" at first\n",
        "                y.append(mut[\"ddg\"])\n",
        "\n",
        "                # This \"cur_X\" will hold the features for the current mutation under-processing in the current inner loop iteration\n",
        "                cur_X = []\n",
        "                \n",
        "                ### first feature addition (mutation position energy-change)\n",
        "                center_mut_wild_energy = mut[\"center_mut_wild_energy\"]\n",
        "                cur_X.append(center_mut_wild_energy)\n",
        "                ### first feature addition\n",
        "                \n",
        "                ### second feature addition (mutation position entropy)\n",
        "                center_entropy = mut[\"center_entropy\"]\n",
        "                cur_X.append(center_entropy)\n",
        "                ### second feature addition\n",
        "\n",
        "                ### third feature addition (neighbor wildtype energy-change due to mutation)\n",
        "                weighted_neighbor_energy_changes = mut[\"V2_backward_weighted_neighbor_energy_changes\"]\n",
        "                cur_X.append(weighted_neighbor_energy_changes)\n",
        "                ### third feature addition\n",
        "\n",
        "                ### fourth feature addition (forward KL of neighbors due to mutation at center)\n",
        "                weighted_neighbor_forward_KL = mut[\"weighted_neighbor_forward_KL\"]\n",
        "                cur_X.append(weighted_neighbor_forward_KL)\n",
        "                ### fourth feature addition\n",
        "\n",
        "                ### fifth feature addition (backward KL of neighbors due to mutation at center)\n",
        "                weighted_neighbor_backward_KL = mut[\"V2_backward_weighted_neighbor_backward_KL\"]\n",
        "                cur_X.append(weighted_neighbor_backward_KL)\n",
        "                ### fifth feature addition\n",
        "\n",
        "                ### sixth feature(PSSM features) addition\n",
        "                pssm_feature = mut[\"wild_pssm\"]-mut[\"alternate_pssm\"]\n",
        "                cur_X.append(pssm_feature)\n",
        "                ### adding the two PSSM features\n",
        "\n",
        "                ### seventh feature addition (entropy-change of neighbors due to mutation at center)\n",
        "                weighted_neighbor_entropy_changes = mut[\"V2_backward_weighted_neighbor_entropy_changes\"]\n",
        "                cur_X.append(weighted_neighbor_entropy_changes)\n",
        "                ### seventh feature addition \n",
        "\n",
        "                ### eigth feature addition (w/m attention change)\n",
        "                center_neighbor_weight_check_w_m = mut[\"center_neighbor_weight_check_w_m\"]\n",
        "                cur_X.append(center_neighbor_weight_check_w_m)\n",
        "                ### eigth feature addition \n",
        "\n",
        "                X.append(np.array(cur_X))"
      ],
      "metadata": {
        "id": "srnDpZEeCNAX"
      },
      "execution_count": null,
      "outputs": []
    },
    {
      "cell_type": "code",
      "source": [
        "S_2648_X = np.array(list_X[0])\n",
        "S_2648_y = np.array(list_y[0])\n",
        "S_921_X = np.array(list_X[1])\n",
        "S_921_y = np.array(list_y[1])\n",
        "S_669_X = np.array(list_X[2])\n",
        "S_669_y = np.array(list_y[2])\n",
        "# Flipping the signs of the experimental DDG values in S_669_y to get coherent correlations (positive and higher is better)\n",
        "S_669_y = S_669_y * (-1)\n",
        "Ssym_X = np.array(list_X[3])\n",
        "Ssym_y = np.array(list_y[3])"
      ],
      "metadata": {
        "id": "lbpD9XARa6Kb"
      },
      "execution_count": null,
      "outputs": []
    },
    {
      "cell_type": "code",
      "source": [
        "print(\"S_921 single-feature correlations at a glance\")\n",
        "print(pearsonr(S_921_y,S_921_X[:,0]))\n",
        "print(pearsonr(S_921_y,S_921_X[:,1]))\n",
        "print(pearsonr(S_921_y,S_921_X[:,2]))\n",
        "print(pearsonr(S_921_y,S_921_X[:,3]))\n",
        "print(pearsonr(S_921_y,S_921_X[:,4]))\n",
        "print(pearsonr(S_921_y,S_921_X[:,5]))\n",
        "print(pearsonr(S_921_y,S_921_X[:,6]))\n",
        "print(pearsonr(S_921_y,S_921_X[:,7]))\n",
        "print(\".............................................\")\n",
        "\n",
        "print(\"S_669 single-feature correlations at a glance\")\n",
        "print(pearsonr(S_669_y,S_669_X[:,0]))\n",
        "print(pearsonr(S_669_y,S_669_X[:,1]))\n",
        "print(pearsonr(S_669_y,S_669_X[:,2]))\n",
        "print(pearsonr(S_669_y,S_669_X[:,3]))\n",
        "print(pearsonr(S_669_y,S_669_X[:,4]))\n",
        "print(pearsonr(S_669_y,S_669_X[:,5]))\n",
        "print(pearsonr(S_669_y,S_669_X[:,6]))\n",
        "print(pearsonr(S_669_y,S_669_X[:,7]))\n",
        "print(\".............................................\")\n",
        "\n",
        "print(\"S_2648 single-feature correlations at a glance\")\n",
        "print(pearsonr(S_2648_y,S_2648_X[:,0]))\n",
        "print(pearsonr(S_2648_y,S_2648_X[:,1]))\n",
        "print(pearsonr(S_2648_y,S_2648_X[:,2]))\n",
        "print(pearsonr(S_2648_y,S_2648_X[:,3]))\n",
        "print(pearsonr(S_2648_y,S_2648_X[:,4]))\n",
        "print(pearsonr(S_2648_y,S_2648_X[:,5]))\n",
        "print(pearsonr(S_2648_y,S_2648_X[:,6]))\n",
        "print(pearsonr(S_2648_y,S_2648_X[:,7]))\n",
        "print(\".............................................\")\n",
        "\n",
        "print(\"Ssym single-feature correlations at a glance\")\n",
        "print(pearsonr(Ssym_y,Ssym_X[:,0]))\n",
        "print(pearsonr(Ssym_y,Ssym_X[:,1]))\n",
        "print(pearsonr(Ssym_y,Ssym_X[:,2]))\n",
        "print(pearsonr(Ssym_y,Ssym_X[:,3]))\n",
        "print(pearsonr(Ssym_y,Ssym_X[:,4]))\n",
        "print(pearsonr(Ssym_y,Ssym_X[:,5]))\n",
        "print(pearsonr(Ssym_y,Ssym_X[:,6]))\n",
        "print(pearsonr(Ssym_y,Ssym_X[:,7]))\n",
        "print(\".............................................\")"
      ],
      "metadata": {
        "colab": {
          "base_uri": "https://localhost:8080/"
        },
        "id": "M3qElU26b3yL",
        "outputId": "78af12e6-4f96-4777-8f95-c78f7ef90290"
      },
      "execution_count": 184,
      "outputs": [
        {
          "output_type": "stream",
          "name": "stdout",
          "text": [
            "S_921 single-feature correlations at a glance\n",
            "(0.6441949275101646, 4.197628384942669e-109)\n",
            "(0.2558421609543604, 3.1365846164886655e-15)\n",
            "(0.4246158386026147, 1.3026594673519176e-41)\n",
            "(0.3134337286123688, 1.9228114031719706e-22)\n",
            "(0.3823972745976371, 1.9347320512062632e-33)\n",
            "(0.5145587134119901, 2.1316560964554222e-63)\n",
            "(0.45208768082866796, 1.369524145760863e-47)\n",
            "(-0.117496038620017, 0.0003524985138175584)\n",
            ".............................................\n",
            "S_669 single-feature correlations at a glance\n",
            "(0.33765558573837523, 1.772522028540666e-18)\n",
            "(0.26048284702580865, 2.3531867527057347e-11)\n",
            "(0.1840383857546425, 2.8761043604547314e-06)\n",
            "(0.33492161096653633, 3.4543143279502605e-18)\n",
            "(0.35931713121897724, 7.056787490196558e-21)\n",
            "(0.1760175004428737, 7.741516443498937e-06)\n",
            "(0.17517328176139838, 8.570165531743268e-06)\n",
            "(-0.013977688826732376, 0.724551365126908)\n",
            ".............................................\n",
            "S_2648 single-feature correlations at a glance\n",
            "(0.5046657755393072, 2.4008447333492008e-169)\n",
            "(0.3517800116434, 3.516441939464636e-77)\n",
            "(0.3021493043376491, 1.9371178527136337e-56)\n",
            "(0.21506272445083335, 8.622733497357982e-29)\n",
            "(0.24485252938100538, 4.512076931480806e-37)\n",
            "(0.2752044285125163, 9.492115203744281e-47)\n",
            "(0.3092645336746983, 3.5398896152928775e-59)\n",
            "(-0.15037668069836824, 1.0136364730276811e-14)\n",
            ".............................................\n",
            "Ssym single-feature correlations at a glance\n",
            "(0.5691505320825779, 9.470472056933177e-31)\n",
            "(0.37074964364691887, 1.3868840070743129e-12)\n",
            "(0.34623894609848127, 4.567065405698718e-11)\n",
            "(0.13951599035877324, 0.009785936392794304)\n",
            "(0.16690520503298148, 0.0019544364404150334)\n",
            "(0.25485992422573917, 1.7969755175311432e-06)\n",
            "(0.37782797942192164, 4.777487252593011e-13)\n",
            "(-0.24733060335449503, 3.6686936684837537e-06)\n",
            ".............................................\n"
          ]
        }
      ]
    },
    {
      "cell_type": "code",
      "source": [
        "# Let us try to add some reverse mutants quickly\n",
        "S_2648_X_aug = []\n",
        "S_2648_y_aug = []\n",
        "for X,y in zip(S_2648_X,S_2648_y):\n",
        "    S_2648_X_aug.append(X)\n",
        "    S_2648_X_aug.append(-1*X)\n",
        "    S_2648_y_aug.append(y)\n",
        "    S_2648_y_aug.append(-1*y)\n",
        "S_2648_X_aug = np.array(S_2648_X_aug)\n",
        "S_2648_y_aug = np.array(S_2648_y_aug)\n",
        "\n",
        "S_921_X_aug = []\n",
        "S_921_y_aug = []\n",
        "for X,y in zip(S_921_X,S_921_y):\n",
        "    S_921_X_aug.append(X)\n",
        "    S_921_X_aug.append(-1*X)\n",
        "    S_921_y_aug.append(y)\n",
        "    S_921_y_aug.append(-1*y)\n",
        "S_921_X_aug = np.array(S_921_X_aug)\n",
        "S_921_y_aug = np.array(S_921_y_aug)\n",
        "\n",
        "S_669_X_aug = []\n",
        "S_669_y_aug = []\n",
        "for X,y in zip(S_669_X,S_669_y):\n",
        "    S_669_X_aug.append(X)\n",
        "    S_669_X_aug.append(-1*X)\n",
        "    S_669_y_aug.append(y)\n",
        "    S_669_y_aug.append(-1*y)\n",
        "S_669_X_aug = np.array(S_669_X_aug)\n",
        "S_669_y_aug = np.array(S_669_y_aug)\n",
        "\n",
        "Ssym_X_aug = []\n",
        "Ssym_y_aug = []\n",
        "for X,y in zip(Ssym_X,Ssym_y):\n",
        "    Ssym_X_aug.append(X)\n",
        "    Ssym_X_aug.append(-1*X)\n",
        "    Ssym_y_aug.append(y)\n",
        "    Ssym_y_aug.append(-1*y)\n",
        "Ssym_X_aug = np.array(Ssym_X_aug)\n",
        "Ssym_y_aug = np.array(Ssym_y_aug)"
      ],
      "metadata": {
        "id": "kEUyTUizkC4E"
      },
      "execution_count": null,
      "outputs": []
    },
    {
      "cell_type": "code",
      "source": [
        "print(\"S_921 single-feature correlations at a glance\")\n",
        "print(pearsonr(S_921_y_aug,S_921_X_aug[:,0]))\n",
        "print(pearsonr(S_921_y_aug,S_921_X_aug[:,1]))\n",
        "print(pearsonr(S_921_y_aug,S_921_X_aug[:,2]))\n",
        "print(pearsonr(S_921_y_aug,S_921_X_aug[:,3]))\n",
        "print(pearsonr(S_921_y_aug,S_921_X_aug[:,4]))\n",
        "print(pearsonr(S_921_y_aug,S_921_X_aug[:,5]))\n",
        "print(pearsonr(S_921_y_aug,S_921_X_aug[:,6]))\n",
        "print(\".............................................\")\n",
        "\n",
        "print(\"S_669 single-feature correlations at a glance\")\n",
        "print(pearsonr(S_669_y_aug,S_669_X_aug[:,0]))\n",
        "print(pearsonr(S_669_y_aug,S_669_X_aug[:,1]))\n",
        "print(pearsonr(S_669_y_aug,S_669_X_aug[:,2]))\n",
        "print(pearsonr(S_669_y_aug,S_669_X_aug[:,3]))\n",
        "print(pearsonr(S_669_y_aug,S_669_X_aug[:,4]))\n",
        "print(pearsonr(S_669_y_aug,S_669_X_aug[:,5]))\n",
        "print(pearsonr(S_669_y_aug,S_669_X_aug[:,6]))\n",
        "print(\".............................................\")\n",
        "\n",
        "print(\"S_2648 single-feature correlations at a glance\")\n",
        "print(pearsonr(S_2648_y_aug,S_2648_X_aug[:,0]))\n",
        "print(pearsonr(S_2648_y_aug,S_2648_X_aug[:,1]))\n",
        "print(pearsonr(S_2648_y_aug,S_2648_X_aug[:,2]))\n",
        "print(pearsonr(S_2648_y_aug,S_2648_X_aug[:,3]))\n",
        "print(pearsonr(S_2648_y_aug,S_2648_X_aug[:,4]))\n",
        "print(pearsonr(S_2648_y_aug,S_2648_X_aug[:,5]))\n",
        "print(pearsonr(S_2648_y_aug,S_2648_X_aug[:,6]))\n",
        "print(\".............................................\")\n",
        "\n",
        "print(\"Ssym single-feature correlations at a glance\")\n",
        "print(pearsonr(Ssym_y_aug,Ssym_X_aug[:,0]))\n",
        "print(pearsonr(Ssym_y_aug,Ssym_X_aug[:,1]))\n",
        "print(pearsonr(Ssym_y_aug,Ssym_X_aug[:,2]))\n",
        "print(pearsonr(Ssym_y_aug,Ssym_X_aug[:,3]))\n",
        "print(pearsonr(Ssym_y_aug,Ssym_X_aug[:,4]))\n",
        "print(pearsonr(Ssym_y_aug,Ssym_X_aug[:,5]))\n",
        "print(pearsonr(Ssym_y_aug,Ssym_X_aug[:,6]))\n",
        "print(pearsonr(Ssym_y_aug,Ssym_X_aug[:,7]))\n",
        "print(\".............................................\")"
      ],
      "metadata": {
        "colab": {
          "base_uri": "https://localhost:8080/"
        },
        "id": "VDTVkTfug0O4",
        "outputId": "71aaf19d-5157-45ca-c2e1-ae405bbc2d15"
      },
      "execution_count": 166,
      "outputs": [
        {
          "output_type": "stream",
          "name": "stdout",
          "text": [
            "S_921 single-feature correlations at a glance\n",
            "(0.7114135041226424, 3.6107953953724694e-284)\n",
            "(-0.27350177750301485, 5.821378024579929e-33)\n",
            "(0.5067758213429064, 9.322609047108007e-121)\n",
            "(0.48030336788044786, 6.305986289331493e-107)\n",
            "(0.5240659562681848, 1.8028365862171377e-130)\n",
            "(0.6156235934491623, 1.345636338382816e-192)\n",
            "(0.5332430995193724, 7.37191376496228e-136)\n",
            ".............................................\n",
            "S_669 single-feature correlations at a glance\n",
            "(0.5456054040585018, 7.117694787118454e-100)\n",
            "(-0.38638061377980293, 1.0744421851930066e-46)\n",
            "(0.34496659459123846, 5.7286162139765435e-37)\n",
            "(0.5524049291276631, 7.769039750328612e-103)\n",
            "(0.563706151754503, 6.510237487633929e-108)\n",
            "(0.4672168708556927, 3.5323499573278284e-70)\n",
            "(0.3290837042695034, 1.317571430106729e-33)\n",
            ".............................................\n",
            "S_2648 single-feature correlations at a glance\n",
            "(0.6991317965087939, 0.0)\n",
            "(-0.4269343725077419, 3.4111328539872277e-231)\n",
            "(0.4479992668909575, 3.82800643148893e-257)\n",
            "(0.5322766875713698, 0.0)\n",
            "(0.5434244572185316, 0.0)\n",
            "(0.5949473392414685, 0.0)\n",
            "(0.48807331351213434, 7.44477443713e-312)\n",
            ".............................................\n",
            "Ssym single-feature correlations at a glance\n",
            "(0.7266174634005912, 2.790803354785582e-113)\n",
            "(-0.3805090972963239, 5.472112063300358e-25)\n",
            "(0.4458472655023151, 1.0293837112101813e-34)\n",
            "(0.4409974655066855, 6.458269890780079e-34)\n",
            "(0.4428671265977614, 3.192844099088087e-34)\n",
            "(0.5325047479718353, 2.360618443711155e-51)\n",
            "(0.5392100662007515, 7.493673414251911e-53)\n",
            "(0.43592449557691115, 4.272557622923477e-33)\n",
            ".............................................\n"
          ]
        }
      ]
    },
    {
      "cell_type": "code",
      "source": [
        "pearsonr(Ssym_y,Ssym_X[:,feature_to_index_map[\"C\"]])[0]"
      ],
      "metadata": {
        "colab": {
          "base_uri": "https://localhost:8080/"
        },
        "id": "o3S9hpXE7-sy",
        "outputId": "c5c6dc57-5cb8-48bd-9778-01a860197993"
      },
      "execution_count": 167,
      "outputs": [
        {
          "output_type": "execute_result",
          "data": {
            "text/plain": [
              "-0.24733060335449503"
            ]
          },
          "metadata": {},
          "execution_count": 167
        }
      ]
    },
    {
      "cell_type": "code",
      "source": [
        "# let us draw some correlation bargraphs here for each of the datasets with the 6 features (A,B,C,D,E,F)\n",
        "import matplotlib.pyplot as plt\n",
        "import matplotlib as mpl\n",
        "\n",
        "# let us populate the arrays \"methods\" and \"vals\" automatically here\n",
        "feature_to_index_map = {\"A\":0,\n",
        "                        \"B\":4,\n",
        "                        \"C\":7,\n",
        "                        \"D\":2,\n",
        "                        \"E\":6,\n",
        "                        \"F\":5}\n",
        "\n",
        "fig = plt.figure(figsize=(6,4))\n",
        "ax = fig.add_axes([0,0,1,1])\n",
        "# ax.grid(False)\n",
        "methods = ['A','B','C','D','E',\"F\"]\n",
        "vals = [pearsonr(Ssym_y,Ssym_X[:,feature_to_index_map[\"A\"]])[0],pearsonr(Ssym_y,Ssym_X[:,feature_to_index_map[\"B\"]])[0],\n",
        "        pearsonr(Ssym_y,Ssym_X[:,feature_to_index_map[\"C\"]])[0],pearsonr(Ssym_y,Ssym_X[:,feature_to_index_map[\"D\"]])[0],\n",
        "        pearsonr(Ssym_y,Ssym_X[:,feature_to_index_map[\"E\"]])[0],pearsonr(Ssym_y,Ssym_X[:,feature_to_index_map[\"F\"]])[0]]\n",
        "plt.ylabel(\"PCC with Experimental DDG\",fontsize=18)\n",
        "plt.xlabel(\"Informative Features\",fontsize=18)\n",
        "plt.xticks(fontsize=18, rotation=90)\n",
        "plt.yticks(fontsize=18)\n",
        "plt.ylim(-0.35,0.75)\n",
        "ax.bar(methods,vals,color=\"maroon\",width=0.5)\n",
        "mpl.rcParams['grid.color'] = 'white'\n",
        "plt.show()"
      ],
      "metadata": {
        "colab": {
          "base_uri": "https://localhost:8080/",
          "height": 364
        },
        "id": "oEj2L_ub2eKO",
        "outputId": "3e9fdb41-fd66-459f-f554-9119806b7822"
      },
      "execution_count": 197,
      "outputs": [
        {
          "output_type": "display_data",
          "data": {
            "text/plain": [
              "<Figure size 432x288 with 1 Axes>"
            ],
            "image/png": "[encoded data removed]"
          },
          "metadata": {}
        }
      ]
    },
    {
      "cell_type": "code",
      "source": [
        "# Now, traing linear regression on S_2648, and test on S_921 and S_669\n",
        "# the setting reg = Ridge(alpha=0.2,normalize=True).fit(S_2648_X_aug[:,[0,2,4,5]], S_2648_y_aug) seems quite good\n",
        "# Ridge(alpha=0.25,normalize=True).fit(S_2648_X_aug[:,[0,2,4,5]], S_2648_y_aug) is also good\n",
        "# Ridge(alpha=0,normalize=True) is also not bad\n",
        "# (center_mut_wild_energy,weighted_neighbor_energy_changes,weighted_neighbor_backward_KL,PSSM) seems the best combination for now\n",
        "# also, ridge with alpha=0.4 seems the best for now (specially, for S_669)\n",
        "# also, ridge with alpha=0.9, and (center_mut_wild_energy,weighted_neighbor_backward_KL,PSSM) gets the maximum for S_669 while reducing for S_sym\n",
        "reg = Ridge(alpha=0,normalize=True,max_iter=5000000).fit(S_2648_X_aug[:,[0,4,5,7]], S_2648_y_aug)\n",
        "print(pearsonr(S_2648_y,reg.predict(S_2648_X[:,[0,4,5,7]])))\n",
        "print(pearsonr(S_921_y_aug,reg.predict(S_921_X_aug[:,[0,4,5,7]])))\n",
        "print(pearsonr(S_669_y_aug,reg.predict(S_669_X_aug[:,[0,4,5,7]])))\n",
        "print(pearsonr(Ssym_y_aug,reg.predict(Ssym_X_aug[:,[0,4,5,7]])))"
      ],
      "metadata": {
        "colab": {
          "base_uri": "https://localhost:8080/"
        },
        "id": "-FZdA0Paf3KR",
        "outputId": "a51131fa-7177-41e3-8729-9fc3a17adb69"
      },
      "execution_count": null,
      "outputs": [
        {
          "output_type": "stream",
          "name": "stdout",
          "text": [
            "(0.5326576324947646, 5.836728581748048e-192)\n",
            "(0.7500175960777788, 0.0)\n",
            "(0.5994093570242581, 2.5920163633370395e-125)\n",
            "(0.7284501445308078, 4.03294929660826e-114)\n"
          ]
        },
        {
          "output_type": "stream",
          "name": "stderr",
          "text": [
            "/usr/local/lib/python3.7/dist-packages/sklearn/linear_model/_base.py:145: FutureWarning: 'normalize' was deprecated in version 1.0 and will be removed in 1.2.\n",
            "If you wish to scale the data, use Pipeline with a StandardScaler in a preprocessing stage. To reproduce the previous behavior:\n",
            "\n",
            "from sklearn.pipeline import make_pipeline\n",
            "\n",
            "model = make_pipeline(StandardScaler(with_mean=False), Ridge())\n",
            "\n",
            "If you wish to pass a sample_weight parameter, you need to pass it as a fit parameter to each step of the pipeline as follows:\n",
            "\n",
            "kwargs = {s[0] + '__sample_weight': sample_weight for s in model.steps}\n",
            "model.fit(X, y, **kwargs)\n",
            "\n",
            "Set parameter alpha to: original_alpha * n_samples. \n",
            "  FutureWarning,\n"
          ]
        }
      ]
    },
    {
      "cell_type": "code",
      "source": [
        "print(reg.coef_)\n",
        "print(reg.intercept_)"
      ],
      "metadata": {
        "colab": {
          "base_uri": "https://localhost:8080/"
        },
        "id": "wW8hvdhmpzUr",
        "outputId": "81f0474d-8701-4b9e-bf83-9e58e602c939"
      },
      "execution_count": null,
      "outputs": [
        {
          "output_type": "stream",
          "name": "stdout",
          "text": [
            "[ 0.2857634   0.02814324  0.0360316  -0.00292185]\n",
            "0.0\n"
          ]
        }
      ]
    },
    {
      "cell_type": "code",
      "source": [
        "# Now, traing linear regression on S_2648, and test on S_921 and S_669\n",
        "# rf = RandomForestRegressor(min_samples_split=62).fit(S_2648_X_aug[:,[0,2,4,5,7]],S_2648_y_aug)\n",
        "# rf = RandomForestRegressor(min_samples_split=84).fit(S_2648_X_aug[:,[0,2,4,5,7]],S_2648_y_aug) [not bad]\n",
        "# rf = RandomForestRegressor(min_samples_split=84).fit(S_2648_X_aug[:,[0,2,4,7]],S_2648_y_aug) [not bad]\n",
        "# seems like (0,2,4,5, and 7 are worth keeping with RF)\n",
        "# rf = RandomForestRegressor(min_samples_split=22,n_estimators=300,max_samples=0.2).fit(S_2648_X_aug[:,[0,4,5,7]],S_2648_y_aug) [great for balanced performance on everything]\n",
        "# rf = RandomForestRegressor(min_samples_split=22,n_estimators=300,max_samples=0.5).fit(S_2648_X_aug[:,[0,4,5,7]],S_2648_y_aug) [a bit better for Ssym, a bit worse for S_669]\n",
        "# rf = RandomForestRegressor(min_samples_split=22,n_estimators=300,max_samples=0.5).fit(S_2648_X_aug[:,[0,4,7]],S_2648_y_aug) [worth reporting without PSSM, only S_921 goes down significantly]\n",
        "# rf = RandomForestRegressor(min_samples_split=18,n_estimators=300,max_samples=0.5).fit(S_2648_X_aug[:,[0,4,7]],S_2648_y_aug) [seems good without PSSM]\n",
        "# \"max_samples=0.2\" seems like a great parameter for many cases, most probably, that type of diversity is needed\n",
        "# rf = RandomForestRegressor(min_samples_split=25,n_estimators=300,max_samples=0.2).fit(S_2648_X_aug[:,[0,4,5,7]],S_2648_y_aug) [another cool parameter setting]\n",
        "# rf = RandomForestRegressor(min_samples_split=84,n_estimators=300,max_samples=0.2).fit(S_2648_X_aug[:,[0,2,4,6,7]],S_2648_y_aug)\n",
        "# print(pearsonr(S_2648_y,rf.predict(S_2648_X[:,[0,2,4,6,7]])))\n",
        "# print(pearsonr(S_921_y_aug,rf.predict(S_921_X_aug[:,[0,2,4,6,7]])))\n",
        "# print(pearsonr(S_669_y_aug,rf.predict(S_669_X_aug[:,[0,2,4,6,7]])))\n",
        "# print(pearsonr(Ssym_y_aug,rf.predict(Ssym_X_aug[:,[0,2,4,6,7]])))\n",
        "\n",
        "# rf = RandomForestRegressor(min_samples_split=12,n_estimators=300,max_samples=0.2).fit(S_2648_X_aug[:,[0,4,5]],S_2648_y_aug) [not bad with three most important features]\n",
        "# rf = RandomForestRegressor(min_samples_split=12,n_estimators=300,max_samples=0.2).fit(S_2648_X_aug[:,[0,4,5,7]],S_2648_y_aug) [cool, good, awesome stuff]\n",
        "# rf = RandomForestRegressor(min_samples_split=5,n_estimators=300,max_samples=0.2).fit(S_2648_X_aug[:,[0,4,5,7]],S_2648_y_aug) [cool as fuck good shit]\n",
        "rf_5 = RandomForestRegressor(min_samples_split=5,n_estimators=300,max_samples=0.2,max_features=\"sqrt\").fit(S_2648_X_aug[:,[0,4,5,7]],S_2648_y_aug)\n",
        "print(pearsonr(S_2648_y_aug,rf_5.predict(S_2648_X_aug[:,[0,4,5,7]])))\n",
        "print(pearsonr(S_921_y_aug,rf_5.predict(S_921_X_aug[:,[0,4,5,7]])))\n",
        "print(pearsonr(S_669_y_aug,rf_5.predict(S_669_X_aug[:,[0,4,5,7]])))\n",
        "print(pearsonr(Ssym_y_aug,rf_5.predict(Ssym_X_aug[:,[0,4,5,7]])))\n",
        "rf_5.feature_importances_"
      ],
      "metadata": {
        "colab": {
          "base_uri": "https://localhost:8080/"
        },
        "id": "DwFTHtO1o2l-",
        "outputId": "54549b4f-10d4-464b-f3b2-c5f830fdfe22"
      },
      "execution_count": 160,
      "outputs": [
        {
          "output_type": "stream",
          "name": "stdout",
          "text": [
            "(0.8131719592997405, 0.0)\n",
            "(0.7431047478975888, 2e-323)\n",
            "(0.6025256083885061, 6.157455454466751e-127)\n",
            "(0.7530162639375351, 4.3502833560946976e-126)\n"
          ]
        },
        {
          "output_type": "execute_result",
          "data": {
            "text/plain": [
              "array([0.40516653, 0.25495239, 0.13218457, 0.20769651])"
            ]
          },
          "metadata": {},
          "execution_count": 160
        }
      ]
    },
    {
      "cell_type": "code",
      "source": [
        "rf_3 = RandomForestRegressor(min_samples_split=3,n_estimators=300,max_samples=0.2,max_features=\"sqrt\").fit(S_2648_X_aug[:,[0,4,5,7]],S_2648_y_aug)\n",
        "print(pearsonr(S_2648_y_aug,rf_3.predict(S_2648_X_aug[:,[0,4,5,7]])))\n",
        "print(pearsonr(S_921_y_aug,rf_3.predict(S_921_X_aug[:,[0,4,5,7]])))\n",
        "print(pearsonr(S_669_y_aug,rf_3.predict(S_669_X_aug[:,[0,4,5,7]])))\n",
        "print(pearsonr(Ssym_y_aug,rf_3.predict(Ssym_X_aug[:,[0,4,5,7]])))\n",
        "rf_3.feature_importances_"
      ],
      "metadata": {
        "colab": {
          "base_uri": "https://localhost:8080/"
        },
        "id": "veQRt4tzPHY2",
        "outputId": "33c8718b-daa9-4131-e58f-1b5338d710df"
      },
      "execution_count": 159,
      "outputs": [
        {
          "output_type": "stream",
          "name": "stdout",
          "text": [
            "(0.8241923094646503, 0.0)\n",
            "(0.7439050884466478, 0.0)\n",
            "(0.6016984251696524, 1.6683585723445468e-126)\n",
            "(0.7574674830978346, 2.080578228308255e-128)\n"
          ]
        },
        {
          "output_type": "execute_result",
          "data": {
            "text/plain": [
              "array([0.3984581 , 0.24565498, 0.13539143, 0.22049549])"
            ]
          },
          "metadata": {},
          "execution_count": 159
        }
      ]
    },
    {
      "cell_type": "code",
      "source": [
        "rf_25 = RandomForestRegressor(min_samples_split=25,n_estimators=300,max_samples=0.2,max_features=\"sqrt\").fit(S_2648_X_aug[:,[0,4,5,7]],S_2648_y_aug)\n",
        "print(pearsonr(S_2648_y_aug,rf_25.predict(S_2648_X_aug[:,[0,4,5,7]])))\n",
        "print(pearsonr(S_921_y_aug,rf_25.predict(S_921_X_aug[:,[0,4,5,7]])))\n",
        "print(pearsonr(S_669_y_aug,rf_25.predict(S_669_X_aug[:,[0,4,5,7]])))\n",
        "print(pearsonr(Ssym_y_aug,rf_25.predict(Ssym_X_aug[:,[0,4,5,7]])))\n",
        "rf_25.feature_importances_"
      ],
      "metadata": {
        "colab": {
          "base_uri": "https://localhost:8080/"
        },
        "id": "_PEbTNqRMdNM",
        "outputId": "6941f052-ee5a-4301-a07b-0a8a4918eafe"
      },
      "execution_count": 158,
      "outputs": [
        {
          "output_type": "stream",
          "name": "stdout",
          "text": [
            "(0.7704858741195095, 0.0)\n",
            "(0.7457098010708739, 0.0)\n",
            "(0.6030857658759091, 3.129923252478255e-127)\n",
            "(0.7467483494451822, 6.65407446161965e-123)\n"
          ]
        },
        {
          "output_type": "execute_result",
          "data": {
            "text/plain": [
              "array([0.45856132, 0.24355987, 0.11149965, 0.18637916])"
            ]
          },
          "metadata": {},
          "execution_count": 158
        }
      ]
    },
    {
      "cell_type": "code",
      "source": [
        "rf_45 = RandomForestRegressor(min_samples_split=45,n_estimators=300,max_samples=0.2,max_features=\"sqrt\").fit(S_2648_X_aug[:,[0,4,5,7]],S_2648_y_aug)\n",
        "print(pearsonr(S_2648_y_aug,rf_45.predict(S_2648_X_aug[:,[0,4,5,7]])))\n",
        "print(pearsonr(S_921_y_aug,rf_45.predict(S_921_X_aug[:,[0,4,5,7]])))\n",
        "print(pearsonr(S_669_y_aug,rf_45.predict(S_669_X_aug[:,[0,4,5,7]])))\n",
        "print(pearsonr(Ssym_y_aug,rf_45.predict(Ssym_X_aug[:,[0,4,5,7]])))\n",
        "rf_45.feature_importances_"
      ],
      "metadata": {
        "colab": {
          "base_uri": "https://localhost:8080/"
        },
        "id": "lWehbvB-Mmvg",
        "outputId": "06bf5259-a33a-4272-8e47-a4e4db0b29c5"
      },
      "execution_count": 157,
      "outputs": [
        {
          "output_type": "stream",
          "name": "stdout",
          "text": [
            "(0.7565497919646782, 0.0)\n",
            "(0.7423220072805928, 2.67e-322)\n",
            "(0.6002055151263626, 1.000851325481631e-125)\n",
            "(0.7459534458544852, 1.6605325869286838e-122)\n"
          ]
        },
        {
          "output_type": "execute_result",
          "data": {
            "text/plain": [
              "array([0.47255185, 0.24098784, 0.11269332, 0.17376699])"
            ]
          },
          "metadata": {},
          "execution_count": 157
        }
      ]
    },
    {
      "cell_type": "code",
      "source": [
        "rf_75 = RandomForestRegressor(min_samples_split=75,n_estimators=300,max_samples=0.2,max_features=\"sqrt\").fit(S_2648_X_aug[:,[0,4,5,7]],S_2648_y_aug)\n",
        "print(pearsonr(S_2648_y_aug,rf_75.predict(S_2648_X_aug[:,[0,4,5,7]])))\n",
        "print(pearsonr(S_921_y_aug,rf_75.predict(S_921_X_aug[:,[0,4,5,7]])))\n",
        "print(pearsonr(S_669_y_aug,rf_75.predict(S_669_X_aug[:,[0,4,5,7]])))\n",
        "print(pearsonr(Ssym_y_aug,rf_75.predict(Ssym_X_aug[:,[0,4,5,7]])))\n",
        "rf_75.feature_importances_"
      ],
      "metadata": {
        "colab": {
          "base_uri": "https://localhost:8080/"
        },
        "id": "TnS2aFMRPVZz",
        "outputId": "b3a1b218-2b7d-4551-fdb8-b84b91c41f7a"
      },
      "execution_count": 156,
      "outputs": [
        {
          "output_type": "stream",
          "name": "stdout",
          "text": [
            "(0.7446685225537832, 0.0)\n",
            "(0.7342401991221972, 8.205179537406e-312)\n",
            "(0.5989029462777395, 4.741331217748633e-125)\n",
            "(0.740568817709326, 7.448391199578234e-120)\n"
          ]
        },
        {
          "output_type": "execute_result",
          "data": {
            "text/plain": [
              "array([0.45997836, 0.24167998, 0.11239832, 0.18594334])"
            ]
          },
          "metadata": {},
          "execution_count": 156
        }
      ]
    },
    {
      "cell_type": "code",
      "source": [
        "rf_2 = RandomForestRegressor(min_samples_split=2,n_estimators=300,max_samples=0.2,max_features=\"sqrt\").fit(S_2648_X_aug[:,[0,4,5,7]],S_2648_y_aug)\n",
        "print(pearsonr(S_2648_y_aug,rf_2.predict(S_2648_X_aug[:,[0,4,5,7]])))\n",
        "print(pearsonr(S_921_y_aug,rf_2.predict(S_921_X_aug[:,[0,4,5,7]])))\n",
        "print(pearsonr(S_669_y_aug,rf_2.predict(S_669_X_aug[:,[0,4,5,7]])))\n",
        "print(pearsonr(Ssym_y_aug,rf_2.predict(Ssym_X_aug[:,[0,4,5,7]])))\n",
        "rf_2.feature_importances_"
      ],
      "metadata": {
        "colab": {
          "base_uri": "https://localhost:8080/"
        },
        "id": "Jp24owEDRa5u",
        "outputId": "6f7b9a11-32ab-4b5e-e68f-af676dffca35"
      },
      "execution_count": 146,
      "outputs": [
        {
          "output_type": "stream",
          "name": "stdout",
          "text": [
            "(0.8299175136446364, 0.0)\n",
            "(0.7415753495330848, 2.59e-321)\n",
            "(0.5986807216876371, 6.177875346408829e-125)\n",
            "(0.7586799408062275, 4.7579812210258565e-129)\n"
          ]
        },
        {
          "output_type": "execute_result",
          "data": {
            "text/plain": [
              "array([0.39748006, 0.26267886, 0.13978267, 0.20005841])"
            ]
          },
          "metadata": {},
          "execution_count": 146
        }
      ]
    },
    {
      "cell_type": "code",
      "source": [
        "# pairwise-correlation heatmaps for figuring out what is going on with the whole (no-effect-of-bias-variance-tradeoff on testing datasets) situation\n",
        "import pandas as pd\n",
        "import seaborn as sns\n",
        "\n",
        "df_S_2648 = pd.DataFrame(\n",
        "    {'RF_75-(0.74)': rf_75.predict(S_2648_X_aug[:,[0,4,5,7]]),\n",
        "     'RF_45-(0.76)': rf_45.predict(S_2648_X_aug[:,[0,4,5,7]]),\n",
        "     'RF_25-(0.77)': rf_25.predict(S_2648_X_aug[:,[0,4,5,7]]),\n",
        "     'RF_5-(0.81)': rf_5.predict(S_2648_X_aug[:,[0,4,5,7]]),\n",
        "     'RF_3-(0.82)': rf_3.predict(S_2648_X_aug[:,[0,4,5,7]]),\n",
        "     'RF_2-(0.83)': rf_2.predict(S_2648_X_aug[:,[0,4,5,7]])\n",
        "    })\n",
        "corr = df_S_2648.corr()\n",
        "\n",
        "sns.set(font_scale=1.4)\n",
        "sns.heatmap(corr, \n",
        "        xticklabels=corr.columns,\n",
        "        yticklabels=corr.columns)"
      ],
      "metadata": {
        "colab": {
          "base_uri": "https://localhost:8080/",
          "height": 379
        },
        "id": "KlAQbVybOn4h",
        "outputId": "dc82530b-c4c3-4e79-bd9b-d167605dcc6c"
      },
      "execution_count": 154,
      "outputs": [
        {
          "output_type": "execute_result",
          "data": {
            "text/plain": [
              "<matplotlib.axes._subplots.AxesSubplot at 0x7f7ca8b56d50>"
            ]
          },
          "metadata": {},
          "execution_count": 154
        },
        {
          "output_type": "display_data",
          "data": {
            "text/plain": [
              "<Figure size 432x288 with 2 Axes>"
            ],
            "image/png": "[encoded data removed]"
          },
          "metadata": {}
        }
      ]
    },
    {
      "cell_type": "code",
      "source": [
        "# pairwise-correlation heatmaps for figuring out what is going on with the whole (no-effect-of-bias-variance-tradeoff on testing datasets) situation\n",
        "import pandas as pd\n",
        "import seaborn as sns\n",
        "\n",
        "df_921 = pd.DataFrame(\n",
        "    {'RF_75': rf_75.predict(S_921_X_aug[:,[0,4,5,7]]),\n",
        "     'RF_45': rf_45.predict(S_921_X_aug[:,[0,4,5,7]]),\n",
        "     'RF_25': rf_25.predict(S_921_X_aug[:,[0,4,5,7]]),\n",
        "     'RF_5': rf_5.predict(S_921_X_aug[:,[0,4,5,7]]),\n",
        "     'RF_3': rf_3.predict(S_921_X_aug[:,[0,4,5,7]]),\n",
        "     'RF_2': rf_2.predict(S_921_X_aug[:,[0,4,5,7]])\n",
        "    })\n",
        "corr = df_921.corr()\n",
        "\n",
        "sns.set(font_scale=1.4)\n",
        "sns.heatmap(corr, \n",
        "        xticklabels=corr.columns,\n",
        "        yticklabels=corr.columns)"
      ],
      "metadata": {
        "colab": {
          "base_uri": "https://localhost:8080/",
          "height": 328
        },
        "id": "p6_AUu6ONcEg",
        "outputId": "eae8f8ee-6a34-44c3-d903-1b60b4092904"
      },
      "execution_count": null,
      "outputs": [
        {
          "output_type": "execute_result",
          "data": {
            "text/plain": [
              "<matplotlib.axes._subplots.AxesSubplot at 0x7f7cb4a4a710>"
            ]
          },
          "metadata": {},
          "execution_count": 21
        },
        {
          "output_type": "display_data",
          "data": {
            "text/plain": [
              "<Figure size 432x288 with 2 Axes>"
            ],
            "image/png": "[encoded data removed]"
          },
          "metadata": {}
        }
      ]
    },
    {
      "cell_type": "code",
      "source": [
        "# pairwise-correlation heatmaps for figuring out what is going on with the whole (no-effect-of-bias-variance-tradeoff on testing datasets) situation\n",
        "import pandas as pd\n",
        "import seaborn as sns\n",
        "\n",
        "df_Ssym = pd.DataFrame(\n",
        "    {'RF_75-(0.74)': rf_75.predict(Ssym_X_aug[:,[0,4,5,7]]),\n",
        "     'RF_45-(0.75)': rf_45.predict(Ssym_X_aug[:,[0,4,5,7]]),\n",
        "     'RF_25-(0.75)': rf_25.predict(Ssym_X_aug[:,[0,4,5,7]]),\n",
        "     'RF_5-(0.75)': rf_5.predict(Ssym_X_aug[:,[0,4,5,7]]),\n",
        "     'RF_3-(0.76)': rf_3.predict(Ssym_X_aug[:,[0,4,5,7]]),\n",
        "     'RF_2-(0.76)': rf_2.predict(Ssym_X_aug[:,[0,4,5,7]])\n",
        "    })\n",
        "corr = df_Ssym.corr()\n",
        "\n",
        "sns.set(font_scale=1.4)\n",
        "sns.heatmap(corr, \n",
        "        xticklabels=corr.columns,\n",
        "        yticklabels=corr.columns)"
      ],
      "metadata": {
        "colab": {
          "base_uri": "https://localhost:8080/",
          "height": 379
        },
        "id": "EAaR05ISM7ec",
        "outputId": "c61b45f1-2c09-49ec-8a21-7b69e00a0197"
      },
      "execution_count": 161,
      "outputs": [
        {
          "output_type": "execute_result",
          "data": {
            "text/plain": [
              "<matplotlib.axes._subplots.AxesSubplot at 0x7f7cb9442a90>"
            ]
          },
          "metadata": {},
          "execution_count": 161
        },
        {
          "output_type": "display_data",
          "data": {
            "text/plain": [
              "<Figure size 432x288 with 2 Axes>"
            ],
            "image/png": "[encoded data removed]"
          },
          "metadata": {}
        }
      ]
    },
    {
      "cell_type": "code",
      "source": [
        "# pairwise-correlation heatmaps for figuring out what is going on with the whole (no-effect-of-bias-variance-tradeoff on testing datasets) situation\n",
        "import pandas as pd\n",
        "import seaborn as sns\n",
        "\n",
        "df_S_669 = pd.DataFrame(\n",
        "    {'RF_75-(0.60)': rf_75.predict(S_669_X_aug[:,[0,4,5,7]]),\n",
        "     'RF_45-(0.60)': rf_45.predict(S_669_X_aug[:,[0,4,5,7]]),\n",
        "     'RF_25-(0.60)': rf_25.predict(S_669_X_aug[:,[0,4,5,7]]),\n",
        "     'RF_5-(0.60)': rf_5.predict(S_669_X_aug[:,[0,4,5,7]]),\n",
        "     'RF_3-(0.60)': rf_3.predict(S_669_X_aug[:,[0,4,5,7]]),\n",
        "     'RF_2-(0.60)': rf_2.predict(S_669_X_aug[:,[0,4,5,7]])\n",
        "    })\n",
        "corr = df_S_669.corr()\n",
        "\n",
        "sns.set(font_scale=1.4)\n",
        "sns.heatmap(corr, \n",
        "        xticklabels=corr.columns,\n",
        "        yticklabels=corr.columns)"
      ],
      "metadata": {
        "colab": {
          "base_uri": "https://localhost:8080/",
          "height": 379
        },
        "id": "pE5cBRs4Qs-D",
        "outputId": "94c47480-d994-4c9f-f5e7-4008423a6f62"
      },
      "execution_count": 155,
      "outputs": [
        {
          "output_type": "execute_result",
          "data": {
            "text/plain": [
              "<matplotlib.axes._subplots.AxesSubplot at 0x7f7ca93fc2d0>"
            ]
          },
          "metadata": {},
          "execution_count": 155
        },
        {
          "output_type": "display_data",
          "data": {
            "text/plain": [
              "<Figure size 432x288 with 2 Axes>"
            ],
            "image/png": "[encoded data removed]"
          },
          "metadata": {}
        }
      ]
    },
    {
      "cell_type": "code",
      "source": [
        "# trying to do a quick-dirty manual ensemble here among RF models with different depths\n",
        "# print(pearsonr(S_2648_y,rf_2.predict(S_2648_X[:,[0,4,5,7]])))\n",
        "print(pearsonr(S_921_y_aug,(rf_2.predict(S_921_X_aug[:,[0,4,5,7]])+rf_25.predict(S_921_X_aug[:,[0,4,5,7]])+rf_75.predict(S_921_X_aug[:,[0,4,5,7]]))/3))\n",
        "print(pearsonr(S_669_y_aug,(rf_2.predict(S_669_X_aug[:,[0,4,5,7]])+rf_25.predict(S_669_X_aug[:,[0,4,5,7]])+rf_75.predict(S_669_X_aug[:,[0,4,5,7]]))/3))\n",
        "print(pearsonr(Ssym_y_aug,(rf_2.predict(Ssym_X_aug[:,[0,4,5,7]])+rf_25.predict(Ssym_X_aug[:,[0,4,5,7]])+rf_75.predict(Ssym_X_aug[:,[0,4,5,7]]))/3))"
      ],
      "metadata": {
        "colab": {
          "base_uri": "https://localhost:8080/"
        },
        "id": "oHMxg8D1SvVN",
        "outputId": "d189b62d-3b69-4855-e7fb-9391d03cc440"
      },
      "execution_count": null,
      "outputs": [
        {
          "output_type": "stream",
          "name": "stdout",
          "text": [
            "(0.7406963927447158, 3.7045e-320)\n",
            "(0.6030922154593708, 3.1056086919365657e-127)\n",
            "(0.7498577903697052, 1.799356764094368e-124)\n"
          ]
        }
      ]
    },
    {
      "cell_type": "code",
      "source": [
        "# Now, add the four features one-by-one, and check how things change with respect to the different feature combinations\n",
        "# A - P_DP (0)\n",
        "# B - BACK_KL (4)\n",
        "# C - W/M (7)\n",
        "# D - Neighbor_Energy (2)\n",
        "# E - Neighbor_Entropy (6)\n",
        "# F - PSSM (5)\n",
        "\n",
        "# the \"feature_to_index_map\" below will be used for generating combinations with letters, \n",
        "# and then converting those letters to indices for accessing the features from X arrays   \n",
        "feature_to_index_map = {\"A\":0,\n",
        "                        \"B\":4,\n",
        "                        \"C\":7,\n",
        "                        \"D\":2,\n",
        "                        \"E\":6,\n",
        "                        \"F\":5}\n",
        "\n",
        "# In the \"results_tracking_dict\" below, outer-level keys will be dataset names, and values will be dictionaries\n",
        "results_tracking_dict = {}\n",
        "# In the inner dictionaries, keys will be feature-name alphabet representations separated by (+) between them, and values will be pearson correlations on both \"direct\" and \"reverse\" mutations \n",
        "results_tracking_dict[\"S_921\"] = {}\n",
        "results_tracking_dict[\"S_669\"] = {}\n",
        "results_tracking_dict[\"Ssym\"] = {}\n",
        "# In the \"model_tracking_dict\" below, keys will be feature-name alphabet representations separated by (+) between them, and values will be RF\n",
        "# trained with the corresponding feature combination on S_2648 dataset  \n",
        "model_tracking_dict = {}\n",
        "\n",
        "\n",
        "from itertools import combinations\n",
        "f_names = \"ABCDEF\"\n",
        "one_combinations = list(combinations(f_names,1))\n",
        "two_combinations = list(combinations(f_names,2))\n",
        "three_combinations = list(combinations(f_names,3))\n",
        "four_combinations = list(combinations(f_names,4))\n",
        "five_combinations = list(combinations(f_names,5))\n",
        "six_combinations = list(combinations(f_names,6))\n",
        "\n",
        "# the four combination-lists will be concatenated, and ran through the same inner-loop below\n",
        "feature_combinations = one_combinations + two_combinations + three_combinations + four_combinations + five_combinations + six_combinations\n",
        "# the outer-loop will be for different feature combinations, and inner loop or even manually predictions for the three test datasets can be generated\n",
        "\n",
        "for f_comb in feature_combinations:\n",
        "    f_index_comb = [feature_to_index_map[i] for i in f_comb] \n",
        "    inner_key = str([\"+\".join([i for i in f_comb])][0])\n",
        "    loc_rf = RandomForestRegressor(min_samples_split=5,n_estimators=300,max_samples=0.2,max_features=\"sqrt\").fit(S_2648_X_aug[:,f_index_comb],S_2648_y_aug)\n",
        "\n",
        "    results_tracking_dict[\"S_921\"][inner_key] = pearsonr(S_921_y_aug,loc_rf.predict(S_921_X_aug[:,f_index_comb]))[0] \n",
        "    results_tracking_dict[\"S_669\"][inner_key] = pearsonr(S_669_y_aug,loc_rf.predict(S_669_X_aug[:,f_index_comb]))[0]\n",
        "    results_tracking_dict[\"Ssym\"][inner_key] = pearsonr(Ssym_y_aug,loc_rf.predict(Ssym_X_aug[:,f_index_comb]))[0]\n",
        "\n",
        "    model_tracking_dict[inner_key] = loc_rf"
      ],
      "metadata": {
        "id": "CMoFGUSidA-l"
      },
      "execution_count": null,
      "outputs": []
    },
    {
      "cell_type": "code",
      "source": [
        "# import pickle\n",
        "# with open(\"feature_combo_result_dict.pickle\",\"wb\") as f:\n",
        "#     pickle.dump(results_tracking_dict,f)"
      ],
      "metadata": {
        "id": "ruQkqJEJ9DUD"
      },
      "execution_count": null,
      "outputs": []
    },
    {
      "cell_type": "code",
      "source": [
        "# import pickle\n",
        "# with open(\"feature_combo_model_dict.pickle\",\"wb\") as f:\n",
        "#     pickle.dump(model_tracking_dict,f)"
      ],
      "metadata": {
        "id": "mcpEvSOX-x1x"
      },
      "execution_count": null,
      "outputs": []
    },
    {
      "cell_type": "code",
      "source": [
        "# import pickle\n",
        "# with open(\"feature_combo_result_dict.pickle\",\"rb\") as f:\n",
        "#     results_tracking_dict = pickle.load(f)"
      ],
      "metadata": {
        "id": "9qvZC88lNawi"
      },
      "execution_count": null,
      "outputs": []
    },
    {
      "cell_type": "code",
      "source": [
        "S_921_dataframe = pd.DataFrame.from_dict(results_tracking_dict['S_921'],orient=\"index\",columns=[\"PCC\"])\n",
        "S_921_dataframe = S_921_dataframe.round(decimals=3)\n",
        "# now, create another dataframe from \"S_921_dataframe\" called \"S_921_dataframe_reduced\",\n",
        "# where the rows containing max vals among 1,2,3,4,5, and 6 combos will be saved\n",
        "# as a result, this reduced dataframe will contain only 6 rows\n",
        "# create a new column in the dataframe containing the length of the repsective index values\n",
        "# then we can group by this column, and then take the max from each group to get the desired reduced dataFrame  \n",
        "# for index, row in S_921_dataframe.iterrows():\n",
        "#     # print(row[\"PCC\"])\n",
        "#     print(len(index))\n",
        "# what the fuck is wrong with the index vals?\n",
        "# why the fuck have the feature names been swapped in some godforsaken weird way?\n",
        "S_921_dataframe[\"combo_length\"] = [len(i) for i in list(S_921_dataframe.index)]\n",
        "S_921_dataframe[\"combo_signature\"] = [i for i in list(S_921_dataframe.index)]\n",
        "# print(S_921_dataframe.loc(S_921_dataframe.groupby([\"combo_length\"]).idxmax()))\n",
        "max_idx = (S_921_dataframe.groupby([\"combo_length\"])[\"PCC\"].transform(max) == S_921_dataframe[\"PCC\"])\n",
        "S_921_max_results = S_921_dataframe[max_idx]\n",
        "S_921_max_results"
      ],
      "metadata": {
        "colab": {
          "base_uri": "https://localhost:8080/",
          "height": 235
        },
        "id": "30bF9BzK_BhK",
        "outputId": "1de3d829-ead0-400f-ccfa-ee31d4accc9b"
      },
      "execution_count": null,
      "outputs": [
        {
          "output_type": "execute_result",
          "data": {
            "text/plain": [
              "               PCC  combo_length combo_signature\n",
              "A            0.688             1               A\n",
              "A+D          0.732             3             A+D\n",
              "A+E+F        0.749             5           A+E+F\n",
              "A+D+E+F      0.763             7         A+D+E+F\n",
              "A+B+D+E+F    0.757             9       A+B+D+E+F\n",
              "A+B+C+D+E+F  0.749            11     A+B+C+D+E+F"
            ],
            "text/html": [
              "\n",
              "  <div id=\"df-58434e70-abd8-4c06-8470-a7ff46e2fda9\">\n",
              "    <div class=\"colab-df-container\">\n",
              "      <div>\n",
              "<style scoped>\n",
              "    .dataframe tbody tr th:only-of-type {\n",
              "        vertical-align: middle;\n",
              "    }\n",
              "\n",
              "    .dataframe tbody tr th {\n",
              "        vertical-align: top;\n",
              "    }\n",
              "\n",
              "    .dataframe thead th {\n",
              "        text-align: right;\n",
              "    }\n",
              "</style>\n",
              "<table border=\"1\" class=\"dataframe\">\n",
              "  <thead>\n",
              "    <tr style=\"text-align: right;\">\n",
              "      <th></th>\n",
              "      <th>PCC</th>\n",
              "      <th>combo_length</th>\n",
              "      <th>combo_signature</th>\n",
              "    </tr>\n",
              "  </thead>\n",
              "  <tbody>\n",
              "    <tr>\n",
              "      <th>A</th>\n",
              "      <td>0.688</td>\n",
              "      <td>1</td>\n",
              "      <td>A</td>\n",
              "    </tr>\n",
              "    <tr>\n",
              "      <th>A+D</th>\n",
              "      <td>0.732</td>\n",
              "      <td>3</td>\n",
              "      <td>A+D</td>\n",
              "    </tr>\n",
              "    <tr>\n",
              "      <th>A+E+F</th>\n",
              "      <td>0.749</td>\n",
              "      <td>5</td>\n",
              "      <td>A+E+F</td>\n",
              "    </tr>\n",
              "    <tr>\n",
              "      <th>A+D+E+F</th>\n",
              "      <td>0.763</td>\n",
              "      <td>7</td>\n",
              "      <td>A+D+E+F</td>\n",
              "    </tr>\n",
              "    <tr>\n",
              "      <th>A+B+D+E+F</th>\n",
              "      <td>0.757</td>\n",
              "      <td>9</td>\n",
              "      <td>A+B+D+E+F</td>\n",
              "    </tr>\n",
              "    <tr>\n",
              "      <th>A+B+C+D+E+F</th>\n",
              "      <td>0.749</td>\n",
              "      <td>11</td>\n",
              "      <td>A+B+C+D+E+F</td>\n",
              "    </tr>\n",
              "  </tbody>\n",
              "</table>\n",
              "</div>\n",
              "      <button class=\"colab-df-convert\" onclick=\"convertToInteractive('df-58434e70-abd8-4c06-8470-a7ff46e2fda9')\"\n",
              "              title=\"Convert this dataframe to an interactive table.\"\n",
              "              style=\"display:none;\">\n",
              "        \n",
              "  <svg xmlns=\"http://www.w3.org/2000/svg\" height=\"24px\"viewBox=\"0 0 24 24\"\n",
              "       width=\"24px\">\n",
              "    <path d=\"M0 0h24v24H0V0z\" fill=\"none\"/>\n",
              "    <path d=\"M18.56 5.44l.94 2.06.94-2.06 2.06-.94-2.06-.94-.94-2.06-.94 2.06-2.06.94zm-11 1L8.5 8.5l.94-2.06 2.06-.94-2.06-.94L8.5 2.5l-.94 2.06-2.06.94zm10 10l.94 2.06.94-2.06 2.06-.94-2.06-.94-.94-2.06-.94 2.06-2.06.94z\"/><path d=\"M17.41 7.96l-1.37-1.37c-.4-.4-.92-.59-1.43-.59-.52 0-1.04.2-1.43.59L10.3 9.45l-7.72 7.72c-.78.78-.78 2.05 0 2.83L4 21.41c.39.39.9.59 1.41.59.51 0 1.02-.2 1.41-.59l7.78-7.78 2.81-2.81c.8-.78.8-2.07 0-2.86zM5.41 20L4 18.59l7.72-7.72 1.47 1.35L5.41 20z\"/>\n",
              "  </svg>\n",
              "      </button>\n",
              "      \n",
              "  <style>\n",
              "    .colab-df-container {\n",
              "      display:flex;\n",
              "      flex-wrap:wrap;\n",
              "      gap: 12px;\n",
              "    }\n",
              "\n",
              "    .colab-df-convert {\n",
              "      background-color: #E8F0FE;\n",
              "      border: none;\n",
              "      border-radius: 50%;\n",
              "      cursor: pointer;\n",
              "      display: none;\n",
              "      fill: #1967D2;\n",
              "      height: 32px;\n",
              "      padding: 0 0 0 0;\n",
              "      width: 32px;\n",
              "    }\n",
              "\n",
              "    .colab-df-convert:hover {\n",
              "      background-color: #E2EBFA;\n",
              "      box-shadow: 0px 1px 2px rgba(60, 64, 67, 0.3), 0px 1px 3px 1px rgba(60, 64, 67, 0.15);\n",
              "      fill: #174EA6;\n",
              "    }\n",
              "\n",
              "    [theme=dark] .colab-df-convert {\n",
              "      background-color: #3B4455;\n",
              "      fill: #D2E3FC;\n",
              "    }\n",
              "\n",
              "    [theme=dark] .colab-df-convert:hover {\n",
              "      background-color: #434B5C;\n",
              "      box-shadow: 0px 1px 3px 1px rgba(0, 0, 0, 0.15);\n",
              "      filter: drop-shadow(0px 1px 2px rgba(0, 0, 0, 0.3));\n",
              "      fill: #FFFFFF;\n",
              "    }\n",
              "  </style>\n",
              "\n",
              "      <script>\n",
              "        const buttonEl =\n",
              "          document.querySelector('#df-58434e70-abd8-4c06-8470-a7ff46e2fda9 button.colab-df-convert');\n",
              "        buttonEl.style.display =\n",
              "          google.colab.kernel.accessAllowed ? 'block' : 'none';\n",
              "\n",
              "        async function convertToInteractive(key) {\n",
              "          const element = document.querySelector('#df-58434e70-abd8-4c06-8470-a7ff46e2fda9');\n",
              "          const dataTable =\n",
              "            await google.colab.kernel.invokeFunction('convertToInteractive',\n",
              "                                                     [key], {});\n",
              "          if (!dataTable) return;\n",
              "\n",
              "          const docLinkHtml = 'Like what you see? Visit the ' +\n",
              "            '<a target=\"_blank\" href=https://colab.research.google.com/notebooks/data_table.ipynb>data table notebook</a>'\n",
              "            + ' to learn more about interactive tables.';\n",
              "          element.innerHTML = '';\n",
              "          dataTable['output_type'] = 'display_data';\n",
              "          await google.colab.output.renderOutput(dataTable, element);\n",
              "          const docLink = document.createElement('div');\n",
              "          docLink.innerHTML = docLinkHtml;\n",
              "          element.appendChild(docLink);\n",
              "        }\n",
              "      </script>\n",
              "    </div>\n",
              "  </div>\n",
              "  "
            ]
          },
          "metadata": {},
          "execution_count": 137
        }
      ]
    },
    {
      "cell_type": "code",
      "source": [
        "S_669_dataframe = pd.DataFrame.from_dict(results_tracking_dict['S_669'],orient=\"index\",columns=[\"PCC\"])\n",
        "S_669_dataframe = S_669_dataframe.round(decimals=3)\n",
        "# now, create another dataframe from \"S_921_dataframe\" called \"S_921_dataframe_reduced\",\n",
        "# where the rows containing max vals among 1,2,3,4,5, and 6 combos will be saved\n",
        "# as a result, this reduced dataframe will contain only 6 rows\n",
        "# create a new column in the dataframe containing the length of the repsective index values\n",
        "# then we can group by this column, and then take the max from each group to get the desired reduced dataFrame  \n",
        "# for index, row in S_921_dataframe.iterrows():\n",
        "#     # print(row[\"PCC\"])\n",
        "#     print(len(index))\n",
        "# what the fuck is wrong with the index vals?\n",
        "# why the fuck have the feature names been swapped in some godforsaken weird way?\n",
        "S_669_dataframe[\"combo_length\"] = [len(i) for i in list(S_669_dataframe.index)]\n",
        "S_669_dataframe[\"combo_signature\"] = [i for i in list(S_669_dataframe.index)]\n",
        "# print(S_921_dataframe.loc(S_921_dataframe.groupby([\"combo_length\"]).idxmax()))\n",
        "max_idx = (S_669_dataframe.groupby([\"combo_length\"])[\"PCC\"].transform(max) == S_669_dataframe[\"PCC\"])\n",
        "S_669_max_results = S_669_dataframe[max_idx]\n",
        "S_669_max_results "
      ],
      "metadata": {
        "colab": {
          "base_uri": "https://localhost:8080/",
          "height": 266
        },
        "id": "Xl5qJGYVNFUZ",
        "outputId": "4157e0df-fdd0-423e-a2a7-aacf181e0d1f"
      },
      "execution_count": null,
      "outputs": [
        {
          "output_type": "execute_result",
          "data": {
            "text/plain": [
              "               PCC  combo_length combo_signature\n",
              "A            0.542             1               A\n",
              "A+B          0.582             3             A+B\n",
              "A+B+C        0.594             5           A+B+C\n",
              "A+B+F        0.594             5           A+B+F\n",
              "A+B+C+F      0.603             7         A+B+C+F\n",
              "A+B+C+E+F    0.601             9       A+B+C+E+F\n",
              "A+B+C+D+E+F  0.596            11     A+B+C+D+E+F"
            ],
            "text/html": [
              "\n",
              "  <div id=\"df-759f8d39-4b5e-482e-92f2-1e82267bd0f3\">\n",
              "    <div class=\"colab-df-container\">\n",
              "      <div>\n",
              "<style scoped>\n",
              "    .dataframe tbody tr th:only-of-type {\n",
              "        vertical-align: middle;\n",
              "    }\n",
              "\n",
              "    .dataframe tbody tr th {\n",
              "        vertical-align: top;\n",
              "    }\n",
              "\n",
              "    .dataframe thead th {\n",
              "        text-align: right;\n",
              "    }\n",
              "</style>\n",
              "<table border=\"1\" class=\"dataframe\">\n",
              "  <thead>\n",
              "    <tr style=\"text-align: right;\">\n",
              "      <th></th>\n",
              "      <th>PCC</th>\n",
              "      <th>combo_length</th>\n",
              "      <th>combo_signature</th>\n",
              "    </tr>\n",
              "  </thead>\n",
              "  <tbody>\n",
              "    <tr>\n",
              "      <th>A</th>\n",
              "      <td>0.542</td>\n",
              "      <td>1</td>\n",
              "      <td>A</td>\n",
              "    </tr>\n",
              "    <tr>\n",
              "      <th>A+B</th>\n",
              "      <td>0.582</td>\n",
              "      <td>3</td>\n",
              "      <td>A+B</td>\n",
              "    </tr>\n",
              "    <tr>\n",
              "      <th>A+B+C</th>\n",
              "      <td>0.594</td>\n",
              "      <td>5</td>\n",
              "      <td>A+B+C</td>\n",
              "    </tr>\n",
              "    <tr>\n",
              "      <th>A+B+F</th>\n",
              "      <td>0.594</td>\n",
              "      <td>5</td>\n",
              "      <td>A+B+F</td>\n",
              "    </tr>\n",
              "    <tr>\n",
              "      <th>A+B+C+F</th>\n",
              "      <td>0.603</td>\n",
              "      <td>7</td>\n",
              "      <td>A+B+C+F</td>\n",
              "    </tr>\n",
              "    <tr>\n",
              "      <th>A+B+C+E+F</th>\n",
              "      <td>0.601</td>\n",
              "      <td>9</td>\n",
              "      <td>A+B+C+E+F</td>\n",
              "    </tr>\n",
              "    <tr>\n",
              "      <th>A+B+C+D+E+F</th>\n",
              "      <td>0.596</td>\n",
              "      <td>11</td>\n",
              "      <td>A+B+C+D+E+F</td>\n",
              "    </tr>\n",
              "  </tbody>\n",
              "</table>\n",
              "</div>\n",
              "      <button class=\"colab-df-convert\" onclick=\"convertToInteractive('df-759f8d39-4b5e-482e-92f2-1e82267bd0f3')\"\n",
              "              title=\"Convert this dataframe to an interactive table.\"\n",
              "              style=\"display:none;\">\n",
              "        \n",
              "  <svg xmlns=\"http://www.w3.org/2000/svg\" height=\"24px\"viewBox=\"0 0 24 24\"\n",
              "       width=\"24px\">\n",
              "    <path d=\"M0 0h24v24H0V0z\" fill=\"none\"/>\n",
              "    <path d=\"M18.56 5.44l.94 2.06.94-2.06 2.06-.94-2.06-.94-.94-2.06-.94 2.06-2.06.94zm-11 1L8.5 8.5l.94-2.06 2.06-.94-2.06-.94L8.5 2.5l-.94 2.06-2.06.94zm10 10l.94 2.06.94-2.06 2.06-.94-2.06-.94-.94-2.06-.94 2.06-2.06.94z\"/><path d=\"M17.41 7.96l-1.37-1.37c-.4-.4-.92-.59-1.43-.59-.52 0-1.04.2-1.43.59L10.3 9.45l-7.72 7.72c-.78.78-.78 2.05 0 2.83L4 21.41c.39.39.9.59 1.41.59.51 0 1.02-.2 1.41-.59l7.78-7.78 2.81-2.81c.8-.78.8-2.07 0-2.86zM5.41 20L4 18.59l7.72-7.72 1.47 1.35L5.41 20z\"/>\n",
              "  </svg>\n",
              "      </button>\n",
              "      \n",
              "  <style>\n",
              "    .colab-df-container {\n",
              "      display:flex;\n",
              "      flex-wrap:wrap;\n",
              "      gap: 12px;\n",
              "    }\n",
              "\n",
              "    .colab-df-convert {\n",
              "      background-color: #E8F0FE;\n",
              "      border: none;\n",
              "      border-radius: 50%;\n",
              "      cursor: pointer;\n",
              "      display: none;\n",
              "      fill: #1967D2;\n",
              "      height: 32px;\n",
              "      padding: 0 0 0 0;\n",
              "      width: 32px;\n",
              "    }\n",
              "\n",
              "    .colab-df-convert:hover {\n",
              "      background-color: #E2EBFA;\n",
              "      box-shadow: 0px 1px 2px rgba(60, 64, 67, 0.3), 0px 1px 3px 1px rgba(60, 64, 67, 0.15);\n",
              "      fill: #174EA6;\n",
              "    }\n",
              "\n",
              "    [theme=dark] .colab-df-convert {\n",
              "      background-color: #3B4455;\n",
              "      fill: #D2E3FC;\n",
              "    }\n",
              "\n",
              "    [theme=dark] .colab-df-convert:hover {\n",
              "      background-color: #434B5C;\n",
              "      box-shadow: 0px 1px 3px 1px rgba(0, 0, 0, 0.15);\n",
              "      filter: drop-shadow(0px 1px 2px rgba(0, 0, 0, 0.3));\n",
              "      fill: #FFFFFF;\n",
              "    }\n",
              "  </style>\n",
              "\n",
              "      <script>\n",
              "        const buttonEl =\n",
              "          document.querySelector('#df-759f8d39-4b5e-482e-92f2-1e82267bd0f3 button.colab-df-convert');\n",
              "        buttonEl.style.display =\n",
              "          google.colab.kernel.accessAllowed ? 'block' : 'none';\n",
              "\n",
              "        async function convertToInteractive(key) {\n",
              "          const element = document.querySelector('#df-759f8d39-4b5e-482e-92f2-1e82267bd0f3');\n",
              "          const dataTable =\n",
              "            await google.colab.kernel.invokeFunction('convertToInteractive',\n",
              "                                                     [key], {});\n",
              "          if (!dataTable) return;\n",
              "\n",
              "          const docLinkHtml = 'Like what you see? Visit the ' +\n",
              "            '<a target=\"_blank\" href=https://colab.research.google.com/notebooks/data_table.ipynb>data table notebook</a>'\n",
              "            + ' to learn more about interactive tables.';\n",
              "          element.innerHTML = '';\n",
              "          dataTable['output_type'] = 'display_data';\n",
              "          await google.colab.output.renderOutput(dataTable, element);\n",
              "          const docLink = document.createElement('div');\n",
              "          docLink.innerHTML = docLinkHtml;\n",
              "          element.appendChild(docLink);\n",
              "        }\n",
              "      </script>\n",
              "    </div>\n",
              "  </div>\n",
              "  "
            ]
          },
          "metadata": {},
          "execution_count": 138
        }
      ]
    },
    {
      "cell_type": "code",
      "source": [
        "Ssym_dataframe = pd.DataFrame.from_dict(results_tracking_dict['Ssym'],orient=\"index\",columns=[\"PCC\"])\n",
        "Ssym_dataframe = Ssym_dataframe.round(decimals=3)\n",
        "# now, create another dataframe from \"S_921_dataframe\" called \"S_921_dataframe_reduced\",\n",
        "# where the rows containing max vals among 1,2,3,4,5, and 6 combos will be saved\n",
        "# as a result, this reduced dataframe will contain only 6 rows\n",
        "# create a new column in the dataframe containing the length of the repsective index values\n",
        "# then we can group by this column, and then take the max from each group to get the desired reduced dataFrame  \n",
        "# for index, row in S_921_dataframe.iterrows():\n",
        "#     # print(row[\"PCC\"])\n",
        "#     print(len(index))\n",
        "# what the fuck is wrong with the index vals?\n",
        "# why the fuck have the feature names been swapped in some godforsaken weird way?\n",
        "Ssym_dataframe[\"combo_length\"] = [len(i) for i in list(Ssym_dataframe.index)]\n",
        "Ssym_dataframe[\"combo_signature\"] = [i for i in list(Ssym_dataframe.index)]\n",
        "# print(S_921_dataframe.loc(S_921_dataframe.groupby([\"combo_length\"]).idxmax()))\n",
        "max_idx = (Ssym_dataframe.groupby([\"combo_length\"])[\"PCC\"].transform(max) == Ssym_dataframe[\"PCC\"])\n",
        "Ssym_max_results = Ssym_dataframe[max_idx]\n",
        "Ssym_max_results "
      ],
      "metadata": {
        "colab": {
          "base_uri": "https://localhost:8080/",
          "height": 266
        },
        "id": "hm9JWAiUNTAQ",
        "outputId": "b1290db6-3452-42d9-883a-981ae70ec445"
      },
      "execution_count": 140,
      "outputs": [
        {
          "output_type": "execute_result",
          "data": {
            "text/plain": [
              "               PCC  combo_length combo_signature\n",
              "A            0.704             1               A\n",
              "A+B          0.742             3             A+B\n",
              "A+B+F        0.750             5           A+B+F\n",
              "A+C+D        0.750             5           A+C+D\n",
              "A+B+E+F      0.759             7         A+B+E+F\n",
              "A+B+D+E+F    0.761             9       A+B+D+E+F\n",
              "A+B+C+D+E+F  0.763            11     A+B+C+D+E+F"
            ],
            "text/html": [
              "\n",
              "  <div id=\"df-2a63d77c-359f-49c8-838f-588cfdef08d2\">\n",
              "    <div class=\"colab-df-container\">\n",
              "      <div>\n",
              "<style scoped>\n",
              "    .dataframe tbody tr th:only-of-type {\n",
              "        vertical-align: middle;\n",
              "    }\n",
              "\n",
              "    .dataframe tbody tr th {\n",
              "        vertical-align: top;\n",
              "    }\n",
              "\n",
              "    .dataframe thead th {\n",
              "        text-align: right;\n",
              "    }\n",
              "</style>\n",
              "<table border=\"1\" class=\"dataframe\">\n",
              "  <thead>\n",
              "    <tr style=\"text-align: right;\">\n",
              "      <th></th>\n",
              "      <th>PCC</th>\n",
              "      <th>combo_length</th>\n",
              "      <th>combo_signature</th>\n",
              "    </tr>\n",
              "  </thead>\n",
              "  <tbody>\n",
              "    <tr>\n",
              "      <th>A</th>\n",
              "      <td>0.704</td>\n",
              "      <td>1</td>\n",
              "      <td>A</td>\n",
              "    </tr>\n",
              "    <tr>\n",
              "      <th>A+B</th>\n",
              "      <td>0.742</td>\n",
              "      <td>3</td>\n",
              "      <td>A+B</td>\n",
              "    </tr>\n",
              "    <tr>\n",
              "      <th>A+B+F</th>\n",
              "      <td>0.750</td>\n",
              "      <td>5</td>\n",
              "      <td>A+B+F</td>\n",
              "    </tr>\n",
              "    <tr>\n",
              "      <th>A+C+D</th>\n",
              "      <td>0.750</td>\n",
              "      <td>5</td>\n",
              "      <td>A+C+D</td>\n",
              "    </tr>\n",
              "    <tr>\n",
              "      <th>A+B+E+F</th>\n",
              "      <td>0.759</td>\n",
              "      <td>7</td>\n",
              "      <td>A+B+E+F</td>\n",
              "    </tr>\n",
              "    <tr>\n",
              "      <th>A+B+D+E+F</th>\n",
              "      <td>0.761</td>\n",
              "      <td>9</td>\n",
              "      <td>A+B+D+E+F</td>\n",
              "    </tr>\n",
              "    <tr>\n",
              "      <th>A+B+C+D+E+F</th>\n",
              "      <td>0.763</td>\n",
              "      <td>11</td>\n",
              "      <td>A+B+C+D+E+F</td>\n",
              "    </tr>\n",
              "  </tbody>\n",
              "</table>\n",
              "</div>\n",
              "      <button class=\"colab-df-convert\" onclick=\"convertToInteractive('df-2a63d77c-359f-49c8-838f-588cfdef08d2')\"\n",
              "              title=\"Convert this dataframe to an interactive table.\"\n",
              "              style=\"display:none;\">\n",
              "        \n",
              "  <svg xmlns=\"http://www.w3.org/2000/svg\" height=\"24px\"viewBox=\"0 0 24 24\"\n",
              "       width=\"24px\">\n",
              "    <path d=\"M0 0h24v24H0V0z\" fill=\"none\"/>\n",
              "    <path d=\"M18.56 5.44l.94 2.06.94-2.06 2.06-.94-2.06-.94-.94-2.06-.94 2.06-2.06.94zm-11 1L8.5 8.5l.94-2.06 2.06-.94-2.06-.94L8.5 2.5l-.94 2.06-2.06.94zm10 10l.94 2.06.94-2.06 2.06-.94-2.06-.94-.94-2.06-.94 2.06-2.06.94z\"/><path d=\"M17.41 7.96l-1.37-1.37c-.4-.4-.92-.59-1.43-.59-.52 0-1.04.2-1.43.59L10.3 9.45l-7.72 7.72c-.78.78-.78 2.05 0 2.83L4 21.41c.39.39.9.59 1.41.59.51 0 1.02-.2 1.41-.59l7.78-7.78 2.81-2.81c.8-.78.8-2.07 0-2.86zM5.41 20L4 18.59l7.72-7.72 1.47 1.35L5.41 20z\"/>\n",
              "  </svg>\n",
              "      </button>\n",
              "      \n",
              "  <style>\n",
              "    .colab-df-container {\n",
              "      display:flex;\n",
              "      flex-wrap:wrap;\n",
              "      gap: 12px;\n",
              "    }\n",
              "\n",
              "    .colab-df-convert {\n",
              "      background-color: #E8F0FE;\n",
              "      border: none;\n",
              "      border-radius: 50%;\n",
              "      cursor: pointer;\n",
              "      display: none;\n",
              "      fill: #1967D2;\n",
              "      height: 32px;\n",
              "      padding: 0 0 0 0;\n",
              "      width: 32px;\n",
              "    }\n",
              "\n",
              "    .colab-df-convert:hover {\n",
              "      background-color: #E2EBFA;\n",
              "      box-shadow: 0px 1px 2px rgba(60, 64, 67, 0.3), 0px 1px 3px 1px rgba(60, 64, 67, 0.15);\n",
              "      fill: #174EA6;\n",
              "    }\n",
              "\n",
              "    [theme=dark] .colab-df-convert {\n",
              "      background-color: #3B4455;\n",
              "      fill: #D2E3FC;\n",
              "    }\n",
              "\n",
              "    [theme=dark] .colab-df-convert:hover {\n",
              "      background-color: #434B5C;\n",
              "      box-shadow: 0px 1px 3px 1px rgba(0, 0, 0, 0.15);\n",
              "      filter: drop-shadow(0px 1px 2px rgba(0, 0, 0, 0.3));\n",
              "      fill: #FFFFFF;\n",
              "    }\n",
              "  </style>\n",
              "\n",
              "      <script>\n",
              "        const buttonEl =\n",
              "          document.querySelector('#df-2a63d77c-359f-49c8-838f-588cfdef08d2 button.colab-df-convert');\n",
              "        buttonEl.style.display =\n",
              "          google.colab.kernel.accessAllowed ? 'block' : 'none';\n",
              "\n",
              "        async function convertToInteractive(key) {\n",
              "          const element = document.querySelector('#df-2a63d77c-359f-49c8-838f-588cfdef08d2');\n",
              "          const dataTable =\n",
              "            await google.colab.kernel.invokeFunction('convertToInteractive',\n",
              "                                                     [key], {});\n",
              "          if (!dataTable) return;\n",
              "\n",
              "          const docLinkHtml = 'Like what you see? Visit the ' +\n",
              "            '<a target=\"_blank\" href=https://colab.research.google.com/notebooks/data_table.ipynb>data table notebook</a>'\n",
              "            + ' to learn more about interactive tables.';\n",
              "          element.innerHTML = '';\n",
              "          dataTable['output_type'] = 'display_data';\n",
              "          await google.colab.output.renderOutput(dataTable, element);\n",
              "          const docLink = document.createElement('div');\n",
              "          docLink.innerHTML = docLinkHtml;\n",
              "          element.appendChild(docLink);\n",
              "        }\n",
              "      </script>\n",
              "    </div>\n",
              "  </div>\n",
              "  "
            ]
          },
          "metadata": {},
          "execution_count": 140
        }
      ]
    },
    {
      "cell_type": "code",
      "source": [
        "# another level of de-correlation by holding out mutations from a specific number of proteins for each of the random forests, and take their ensemble prediction\n",
        "# as the final prediction?\n",
        "\n",
        "# for this, let us at first get the ids of all the S_2648 proteins from the corresponding two-level dict that are not in the corresponding proteins_to_skip_list\n",
        "pdbIds_avail = []\n",
        "n_muts = []\n",
        "list_feature_importances = []\n",
        "for prot,muts in list_two_level_dict[0].items():\n",
        "    if prot not in list_proteins_to_skip[0]:\n",
        "        for mut in muts:\n",
        "            pdbIds_avail.append(prot)\n",
        "            # adding second time for the reverse mutation, since we are trianing on a reverse-augmented version of S_2648\n",
        "            pdbIds_avail.append(prot)\n",
        "id_set = set(pdbIds_avail)\n",
        "pdbIds_avail = np.array(pdbIds_avail)\n",
        "number_of_proteins_in_the_validation_set = 100\n",
        "# \"n_ensemble\" is the number of random forests to be trained on different protein-level mutant subsets\n",
        "# the subsets will contain all the forward and reverse mutations from the same protein\n",
        "n_ensemble = 20\n",
        "# \"rf_models\" list will hold the models trained on different protein-level mutation subsets \n",
        "rf_models = []\n",
        "for i in range(n_ensemble):\n",
        "    cur_iteration_X = []\n",
        "    cur_iteration_y = []\n",
        "    val_proteins = random.sample(id_set, k=number_of_proteins_in_the_validation_set)\n",
        "    val_indices = (np.where(np.isin(pdbIds_avail, val_proteins) == True))[0]\n",
        "    for j,(X,y) in enumerate(zip(S_2648_X_aug,S_2648_y_aug)):\n",
        "        if j not in val_indices:\n",
        "            cur_iteration_X.append(X)\n",
        "            cur_iteration_y.append(y)\n",
        "    cur_iteration_X = np.array(cur_iteration_X)\n",
        "    cur_iteration_y = np.array(cur_iteration_y)\n",
        "    l_model = RandomForestRegressor(min_samples_split=5,n_estimators=300,max_samples=0.2).fit(cur_iteration_X[:,[0,4,5,7]],cur_iteration_y)\n",
        "    list_feature_importances.append(l_model.feature_importances_)\n",
        "    rf_models.append(l_model)\n",
        "    n_muts.append(len(cur_iteration_X))"
      ],
      "metadata": {
        "id": "ZlVYssZkrAer"
      },
      "execution_count": null,
      "outputs": []
    },
    {
      "cell_type": "code",
      "source": [
        "# Now, we just have to take ensemble predictions, and see how it goes.....TADAAAA\n",
        "\n",
        "# the elements of these lists are going to be numpy arrays full of predictions \n",
        "# for the corresponding datasets made by each of the trained and saved RF models in the above cell\n",
        "# S_2648_predictions = []\n",
        "S_921_predictions = []\n",
        "S_669_predictions = []\n",
        "Ssym_predictions = []\n",
        "\n",
        "for rf in rf_models:\n",
        "    # S_2648_predictions.append()\n",
        "    S_921_predictions.append(rf.predict(S_921_X_aug[:,[0,4,5,7]]))\n",
        "    S_669_predictions.append(rf.predict(S_669_X_aug[:,[0,4,5,7]]))\n",
        "    Ssym_predictions.append(rf.predict(Ssym_X_aug[:,[0,4,5,7]]))"
      ],
      "metadata": {
        "id": "Rbe55_gqFgqq"
      },
      "execution_count": null,
      "outputs": []
    },
    {
      "cell_type": "code",
      "source": [
        "S_921_ensemble_predictions = np.mean(np.array(S_921_predictions),axis=0)\n",
        "S_669_ensemble_predictions = np.mean(np.array(S_669_predictions),axis=0)\n",
        "Ssym_ensemble_predictions = np.mean(np.array(Ssym_predictions),axis=0)\n",
        "\n",
        "print(pearsonr(S_921_y_aug,S_921_ensemble_predictions))\n",
        "print(pearsonr(S_669_y_aug,S_669_ensemble_predictions))\n",
        "print(pearsonr(Ssym_y_aug,Ssym_ensemble_predictions))"
      ],
      "metadata": {
        "colab": {
          "base_uri": "https://localhost:8080/"
        },
        "id": "uaOVVuSXL3qS",
        "outputId": "89e7e4a1-a1ef-469f-f7bc-d7aa0d72c752"
      },
      "execution_count": null,
      "outputs": [
        {
          "output_type": "stream",
          "name": "stdout",
          "text": [
            "(0.7458490825113072, 0.0)\n",
            "(0.6050035542966613, 3.0548951027985216e-128)\n",
            "(0.7376511411219245, 1.9122765221972597e-118)\n"
          ]
        }
      ]
    },
    {
      "cell_type": "code",
      "source": [
        "for i in range(n_ensemble-1):\n",
        "    print(n_muts[i])\n",
        "    # print(pearsonr(S_921_predictions[i],S_921_predictions[i+1]))\n",
        "    print(pearsonr(S_921_predictions[i],S_921_y_aug))\n",
        "    # print(pearsonr(S_669_predictions[i],S_669_predictions[i+1]))\n",
        "    print(pearsonr(S_669_predictions[i],S_669_y_aug))\n",
        "    print(pearsonr(Ssym_predictions[i],Ssym_y_aug))\n",
        "    print(list_feature_importances[i])\n",
        "    print(\".........................................\")"
      ],
      "metadata": {
        "id": "zkyuBtKXNZIz",
        "colab": {
          "base_uri": "https://localhost:8080/"
        },
        "outputId": "3c5f7763-6176-4659-f45a-dc063f2d8687"
      },
      "execution_count": null,
      "outputs": [
        {
          "output_type": "stream",
          "name": "stdout",
          "text": [
            "1032\n",
            "(0.7284205350627649, 1.6963667647835685e-304)\n",
            "(0.5309072314059097, 1.0657068894737856e-93)\n",
            "(0.7466260649987378, 7.660932742431429e-123)\n",
            "[0.61863318 0.14843108 0.09932358 0.13361215]\n",
            ".........................................\n",
            "674\n",
            "(0.7289779579135394, 3.4442479896544355e-305)\n",
            "(0.5818240679463105, 1.7917623625221843e-116)\n",
            "(0.7051324506258294, 6.431279281957485e-104)\n",
            "[0.5297195  0.21342067 0.16242668 0.09443315]\n",
            ".........................................\n",
            "438\n",
            "(0.6442075728510805, 1.7425743455374946e-216)\n",
            "(0.5730142266189971, 3.037027201474527e-112)\n",
            "(0.6626416659347654, 1.082250444923534e-87)\n",
            "[0.23893246 0.19976294 0.27900052 0.28230409]\n",
            ".........................................\n",
            "1068\n",
            "(0.7324502328855831, 1.529705991600633e-309)\n",
            "(0.6027945781131337, 4.450084853193496e-127)\n",
            "(0.7148264266033609, 4.9138666632861474e-108)\n",
            "[0.49515206 0.20032195 0.16266951 0.14185648]\n",
            ".........................................\n",
            "962\n",
            "(0.7026156407022994, 3.1803543270180585e-274)\n",
            "(0.603316058287425, 2.368913313435255e-127)\n",
            "(0.6955952114022891, 4.985123725628203e-100)\n",
            "[0.40109785 0.28806057 0.16078745 0.15005413]\n",
            ".........................................\n",
            "854\n",
            "(0.7177471302809424, 1.4556906077299088e-291)\n",
            "(0.5664491466825873, 3.5610990435865465e-109)\n",
            "(0.7193963518575338, 4.9019240741062e-110)\n",
            "[0.56813293 0.17427217 0.10872808 0.14886682]\n",
            ".........................................\n",
            "1124\n",
            "(0.7306788730533799, 2.5912062339716557e-307)\n",
            "(0.5601409537117259, 2.7309474860519573e-106)\n",
            "(0.7324260097044313, 5.743774556396792e-116)\n",
            "[0.68090924 0.11142225 0.1099296  0.09773891]\n",
            ".........................................\n",
            "1358\n",
            "(0.7421805530220195, 4.15e-322)\n",
            "(0.5986938134330945, 6.082335004160076e-125)\n",
            "(0.7041351661994887, 1.6683927699904886e-103)\n",
            "[0.54302283 0.15488263 0.20027342 0.10182113]\n",
            ".........................................\n",
            "1282\n",
            "(0.7059161597469583, 6.531584568949777e-278)\n",
            "(0.5921171799962289, 1.3976094626125588e-121)\n",
            "(0.737145071014494, 3.3427863737036994e-118)\n",
            "[0.38555069 0.3094985  0.1426888  0.16226201]\n",
            ".........................................\n",
            "1370\n",
            "(0.7334190404617731, 9.07803846925e-311)\n",
            "(0.5934770828242102, 2.8621819546371263e-122)\n",
            "(0.7411744443097105, 3.776658657057034e-120)\n",
            "[0.5742076  0.14826498 0.13596549 0.14156192]\n",
            ".........................................\n",
            "976\n",
            "(0.7396114181203581, 9.7392e-319)\n",
            "(0.5598855791894725, 3.5628085200796644e-106)\n",
            "(0.7266738389912921, 2.63019905370113e-113)\n",
            "[0.54445309 0.13729738 0.19290037 0.12534916]\n",
            ".........................................\n",
            "1818\n",
            "(0.7410690507924854, 1.2006e-320)\n",
            "(0.593158159098544, 4.154350651392193e-122)\n",
            "(0.7194491271587894, 4.6454155511052623e-110)\n",
            "[0.62427544 0.18580959 0.07277425 0.11714072]\n",
            ".........................................\n",
            "862\n",
            "(0.7380433655900793, 1.06660315e-316)\n",
            "(0.5874037014294181, 3.215066721866968e-119)\n",
            "(0.7344202044957574, 6.615062705019132e-117)\n",
            "[0.51840492 0.23534336 0.1592256  0.08702612]\n",
            ".........................................\n",
            "854\n",
            "(0.7458617001051925, 0.0)\n",
            "(0.5959052832322255, 1.6549634799946582e-123)\n",
            "(0.7114382691547959, 1.4116433755198864e-106)\n",
            "[0.57531068 0.13119262 0.19870534 0.09479136]\n",
            ".........................................\n",
            "1058\n",
            "(0.7322287706222089, 2.9123854502622e-309)\n",
            "(0.5749012814011031, 3.8669213834149755e-113)\n",
            "(0.7221152625119298, 3.0253645630960555e-111)\n",
            "[0.4835423  0.16785612 0.21415039 0.13445119]\n",
            ".........................................\n",
            "2000\n",
            "(0.697500495300396, 1.310661328063607e-268)\n",
            "(0.609786174694162, 8.602964645225108e-131)\n",
            "(0.7155421201232323, 2.402426807757036e-108)\n",
            "[0.24840797 0.42707896 0.06971557 0.2547975 ]\n",
            ".........................................\n",
            "1804\n",
            "(0.7562144917884408, 0.0)\n",
            "(0.5839413491778832, 1.6500700086828026e-117)\n",
            "(0.746740636246309, 6.713493339296967e-123)\n",
            "[0.74580345 0.11779692 0.06464465 0.07175498]\n",
            ".........................................\n",
            "790\n",
            "(0.69502259201487, 6.236322005617566e-266)\n",
            "(0.6032723293441387, 2.49764003738934e-127)\n",
            "(0.65599038703059, 2.1698797309515062e-85)\n",
            "[0.19779084 0.35185959 0.30895935 0.14139022]\n",
            ".........................................\n",
            "980\n",
            "(0.7329780904026739, 3.2881396046363e-310)\n",
            "(0.5570755720168614, 6.544138702441128e-105)\n",
            "(0.7338484797360275, 1.2317191046129758e-116)\n",
            "[0.60403777 0.16726419 0.13384992 0.09484812]\n",
            ".........................................\n"
          ]
        }
      ]
    },
    {
      "cell_type": "code",
      "source": [
        "# pairwise-correlation heatmaps for manuscript\n",
        "import pandas as pd\n",
        "import seaborn as sns\n",
        "\n",
        "df_Ssym = pd.DataFrame(\n",
        "    {'P_DP-(A)': Ssym_X[:,0],\n",
        "     'Neighbor_Reverse_KL-(B)' : Ssym_X[:,4],\n",
        "     'Neighbor_Attention_Change_(W/M)-(C)' : Ssym_X[:,7],\n",
        "     'Neighbor_Energy_Change-(D)' : Ssym_X[:,2],\n",
        "     'Neighbor_Entropy_Change-(E)' : Ssym_X[:,6],\n",
        "     'P_DEC-(F)': Ssym_X[:,5], \n",
        "    })\n",
        "corr = df_Ssym.corr()\n",
        "\n",
        "sns.set(font_scale=1.4)\n",
        "sns.heatmap(corr, \n",
        "        xticklabels=corr.columns,\n",
        "        yticklabels=corr.columns)"
      ],
      "metadata": {
        "colab": {
          "base_uri": "https://localhost:8080/",
          "height": 578
        },
        "id": "-5miZHd00DO0",
        "outputId": "e07315ee-5862-4fad-dbbe-521ff7ff3d19"
      },
      "execution_count": 201,
      "outputs": [
        {
          "output_type": "execute_result",
          "data": {
            "text/plain": [
              "<matplotlib.axes._subplots.AxesSubplot at 0x7f7ca9c3b9d0>"
            ]
          },
          "metadata": {},
          "execution_count": 201
        },
        {
          "output_type": "display_data",
          "data": {
            "text/plain": [
              "<Figure size 432x288 with 2 Axes>"
            ],
            "image/png": "[encoded data removed]"
          },
          "metadata": {}
        }
      ]
    },
    {
      "cell_type": "code",
      "source": [
        "# pairwise-correlation heatmaps for manuscript\n",
        "import pandas as pd\n",
        "import seaborn as sns\n",
        "\n",
        "df_Ssym = pd.DataFrame(\n",
        "    {'A': S_2648_X[:,0],\n",
        "     'B' : S_2648_X[:,4],\n",
        "     'C' : S_2648_X[:,7],\n",
        "     'D' : S_2648_X[:,2],\n",
        "     'E' : S_2648_X[:,6],\n",
        "     'F': S_2648_X[:,5] \n",
        "    })\n",
        "corr = df_Ssym.corr()\n",
        "\n",
        "sns.set(font_scale=1.4)\n",
        "sns.heatmap(corr, \n",
        "        xticklabels=corr.columns,\n",
        "        yticklabels=corr.columns)"
      ],
      "metadata": {
        "colab": {
          "base_uri": "https://localhost:8080/",
          "height": 296
        },
        "id": "PX2EnMB3S3eB",
        "outputId": "da9e4725-eba8-421e-d92f-4822b034e1c5"
      },
      "execution_count": 205,
      "outputs": [
        {
          "output_type": "execute_result",
          "data": {
            "text/plain": [
              "<matplotlib.axes._subplots.AxesSubplot at 0x7f7ca95d4850>"
            ]
          },
          "metadata": {},
          "execution_count": 205
        },
        {
          "output_type": "display_data",
          "data": {
            "text/plain": [
              "<Figure size 432x288 with 2 Axes>"
            ],
            "image/png": "[encoded data removed]"
          },
          "metadata": {}
        }
      ]
    },
    {
      "cell_type": "code",
      "source": [
        "import pandas as pd\n",
        "import seaborn as sns\n",
        "\n",
        "df_Ssym = pd.DataFrame(\n",
        "    {'P_DP': S_2648_X[:,0],\n",
        "     'P_DEC': S_2648_X[:,5],\n",
        "     'Neighbor_Reverse_KL' : S_2648_X[:,4],\n",
        "     'Neighbor_Attention_Change_(W/M)' : S_2648_X[:,7],\n",
        "     'Neighbor_Energy_Change' : S_2648_X[:,2],\n",
        "     'Neighbor_Entropy_Change' : S_2648_X[:,6] \n",
        "    })\n",
        "corr = df_Ssym.corr()\n",
        "\n",
        "sns.set(font_scale=1.4)\n",
        "sns.heatmap(corr, \n",
        "        xticklabels=corr.columns,\n",
        "        yticklabels=corr.columns)"
      ],
      "metadata": {
        "id": "d-C6g9L-OZc2"
      },
      "execution_count": null,
      "outputs": []
    },
    {
      "cell_type": "code",
      "source": [
        "# pairwise-correlation heatmaps for manuscript\n",
        "import pandas as pd\n",
        "import seaborn as sns\n",
        "\n",
        "df_Ssym = pd.DataFrame(\n",
        "    {'P_DP': S_669_X[:,0],\n",
        "     'P_DEC': S_669_X[:,5],\n",
        "     'Neighbor_Reverse_KL' : S_669_X[:,4],\n",
        "     'Neighbor_Attention_Change_(W/M)' : S_669_X[:,7],\n",
        "     'Neighbor_Energy_Change' : S_669_X[:,2],\n",
        "     'Neighbor_Entropy_Change' : S_669_X[:,6] \n",
        "    })\n",
        "corr = df_Ssym.corr()\n",
        "\n",
        "sns.set(font_scale=1.4)\n",
        "sns.heatmap(corr, \n",
        "        xticklabels=corr.columns,\n",
        "        yticklabels=corr.columns)"
      ],
      "metadata": {
        "colab": {
          "base_uri": "https://localhost:8080/",
          "height": 550
        },
        "id": "IXrk1qvR1Yc_",
        "outputId": "fa7136ed-b16f-4a40-964e-64c5f4c962be"
      },
      "execution_count": null,
      "outputs": [
        {
          "output_type": "execute_result",
          "data": {
            "text/plain": [
              "<matplotlib.axes._subplots.AxesSubplot at 0x7fdc5c4076d0>"
            ]
          },
          "metadata": {},
          "execution_count": 142
        },
        {
          "output_type": "display_data",
          "data": {
            "text/plain": [
              "<Figure size 432x288 with 2 Axes>"
            ],
            "image/png": "[encoded data removed]"
          },
          "metadata": {}
        }
      ]
    },
    {
      "cell_type": "code",
      "source": [
        "# pairwise-correlation heatmaps for manuscript\n",
        "import pandas as pd\n",
        "import seaborn as sns\n",
        "\n",
        "df_Ssym = pd.DataFrame(\n",
        "    {'P_DP': Ssym_X[:,0],\n",
        "     'P_DEC': Ssym_X[:,5],\n",
        "     'Neighbor_Reverse_KL' : Ssym_X[:,4],\n",
        "     'Neighbor_Attention_Change_(W/M)' : Ssym_X[:,7],\n",
        "     'Neighbor_Energy_Change' : Ssym_X[:,2],\n",
        "     'Neighbor_Entropy_Change' : Ssym_X[:,6] \n",
        "    })\n",
        "corr = df_Ssym.corr()\n",
        "\n",
        "sns.set(font_scale=1.4)\n",
        "sns.heatmap(corr, \n",
        "        xticklabels=corr.columns,\n",
        "        yticklabels=corr.columns)"
      ],
      "metadata": {
        "colab": {
          "base_uri": "https://localhost:8080/",
          "height": 550
        },
        "id": "9VKcrudb1rm1",
        "outputId": "60a9731a-b2f9-43f0-d117-cb23627d26d1"
      },
      "execution_count": null,
      "outputs": [
        {
          "output_type": "execute_result",
          "data": {
            "text/plain": [
              "<matplotlib.axes._subplots.AxesSubplot at 0x7fdc5e609b10>"
            ]
          },
          "metadata": {},
          "execution_count": 144
        },
        {
          "output_type": "display_data",
          "data": {
            "text/plain": [
              "<Figure size 432x288 with 2 Axes>"
            ],
            "image/png": "[encoded data removed]"
          },
          "metadata": {}
        }
      ]
    },
    {
      "cell_type": "code",
      "source": [
        "# pairwise-correlation heatmaps for manuscript\n",
        "import pandas as pd\n",
        "import seaborn as sns\n",
        "\n",
        "df_Ssym = pd.DataFrame(\n",
        "    {'P_DP': S_921_X[:,0],\n",
        "     'P_DEC': S_921_X[:,5],\n",
        "     'Neighbor_Reverse_KL' : S_921_X[:,4],\n",
        "     'Neighbor_Attention_Change_(W/M)' : S_921_X[:,7],\n",
        "     'Neighbor_Energy_Change' : S_921_X[:,2],\n",
        "     'Neighbor_Entropy_Change' : S_921_X[:,6]\n",
        "    })\n",
        "corr = df_Ssym.corr()\n",
        "\n",
        "sns.set(font_scale=1.4)\n",
        "sns.heatmap(corr, \n",
        "        xticklabels=corr.columns,\n",
        "        yticklabels=corr.columns)"
      ],
      "metadata": {
        "colab": {
          "base_uri": "https://localhost:8080/",
          "height": 550
        },
        "id": "mQQCfsdN18pw",
        "outputId": "04e96564-a2c7-4561-a07b-ffc028c82304"
      },
      "execution_count": null,
      "outputs": [
        {
          "output_type": "execute_result",
          "data": {
            "text/plain": [
              "<matplotlib.axes._subplots.AxesSubplot at 0x7fdc5cc42cd0>"
            ]
          },
          "metadata": {},
          "execution_count": 146
        },
        {
          "output_type": "display_data",
          "data": {
            "text/plain": [
              "<Figure size 432x288 with 2 Axes>"
            ],
            "image/png": "[encoded data removed]"
          },
          "metadata": {}
        }
      ]
    },
    {
      "cell_type": "code",
      "source": [
        "# let us now do a final analysis to see if correlations of the four features on S_2648 are good coefficients\n",
        "# but the problem is that, correlation changes based on subset of data chosen\n",
        "\n",
        "# let us do a quick stochastic-hill-climbing with individual correlations constituting the initial solution \n",
        "# out target is to see how far the co-efficients move away from correlations\n",
        "# this can in someway also be used for checking the underlying co-variate shift\n",
        "\n",
        "# objective-function\n",
        "# we are expecting \"X\" to be a numpy array of shape (number_of_samples,n_features) \n",
        "# and \"coefficients\" to be another numpy array of shape (1,n_features)\n",
        "def objective(X, y, coefficients):\n",
        "    # generate predictions for dataset\n",
        "    yhat = (X*coefficients).sum(axis=-1)\n",
        "    # calculate accuracy\n",
        "    # taking negative of correlation because the \"hillclimbing\" function written below was intended to\n",
        "    # minimize the objective function, and I do not want to tinker around with it at that level right now\n",
        "    score = -1*(pearsonr(y,yhat)[0])\n",
        "    return score\n",
        "\n",
        "# hill climbing local search algorithm\n",
        "def hillclimbing(X, y, solution, n_iter, step_size):\n",
        "\t# evaluate the initial point\n",
        "\tsolution_eval = objective(X, y, solution)\n",
        "\t# run the hill climb\n",
        "\tfor i in range(n_iter):\n",
        "\t\t# take a step\n",
        "\t\tcandidate = solution + np.random.randn(len(solution)) * step_size\n",
        "\t\t# evaluate candidate point\n",
        "\t\tcandidte_eval = objective(X, y, candidate)\n",
        "\t\t# check if we should keep the new point\n",
        "\t\tif candidte_eval <= solution_eval:\n",
        "\t\t\t# store the new point\n",
        "\t\t\tsolution, solution_eval = candidate, candidte_eval\n",
        "\t\t\t# report progress\n",
        "\t\t\tprint('>%d %.5f' % (i, solution_eval))\n",
        "\treturn [solution, solution_eval]\n",
        "\n",
        "hillclimbing(X=S_669_X[:,[0,4,5,7]],y=S_669_y,solution=(np.array([0.50,0.20,0.20,0.10]).reshape(1,-1)),n_iter=40000,step_size=0.00001)"
      ],
      "metadata": {
        "id": "PEr9p16hq5af"
      },
      "execution_count": null,
      "outputs": []
    }
  ]
}